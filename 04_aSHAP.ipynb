{
 "cells": [
  {
   "cell_type": "markdown",
   "source": "# Calculating aSHAP values (aggregated SHAP values)",
   "metadata": {
    "cell_id": "ec7587145235425d86343dea710e0c8d",
    "tags": [],
    "deepnote_cell_type": "markdown",
    "deepnote_cell_height": 134
   }
  },
  {
   "cell_type": "markdown",
   "source": "SHAP values calculated in notebook ***03*** will be now transformed to be compatible with aSHAP implementation in *DALEX* package \n\n(in future, now codes from script will be used)",
   "metadata": {
    "cell_id": "438742b0d53f47b48b561a4decc614e7",
    "tags": [],
    "deepnote_cell_type": "markdown",
    "deepnote_cell_height": 88.80000305175781
   }
  },
  {
   "cell_type": "markdown",
   "source": "Theory:\n\nAs written on https://ema.drwhy.ai/breakDown.html#BDMethodGen Shapley values have the property called *local accuracy*:\n\n$f(x_{i}) = v_{0} + \\sum^{p}_{j=1} v(x_{i},j)$,\n\nwhere: \n\n* $f$ - model\n* $v_{0}$ - mean model prediction\n* $x_{i}$ - i-th observation from a subset to be explained (let it be $X$)\n* $v(x_{i},j)$ - SHAP value for i-th observation for j-th feature\n\nSumming over the whole subset to be explained we get:\n\n$\\sum_{i=1}^{N} f(x_{i}) = \\sum_{i=1}^{N} (v_{0} + \\sum^{p}_{j=1} v(x_{i},j))$\n\n$\\frac{\\sum_{i=1}^{N} f(x_{i})}{N} = \\frac{\\sum_{i=1}^{N} v_{0} + \\sum_{i=1}^{N} \\sum^{p}_{j=1} v(x_{i},j)}{N}$\n\n$\\overline{f(X)} = v_{0} + \\sum^{p}_{j=1} \\overline{v(X, j)}$\n\nSo, in plots below, *prediction* is an average of preditions over the set $X$, *intercept* is an average predictions over the training set and contributions are average contributions across set $X$.",
   "metadata": {
    "cell_id": "b2a8df8d891c408bbe9977042036a740",
    "tags": [],
    "deepnote_cell_type": "markdown",
    "deepnote_cell_height": 488.7166748046875
   }
  },
  {
   "cell_type": "markdown",
   "source": "## Calculating predictions for the whole dataset ( $\\overline{Y}$ )",
   "metadata": {
    "cell_id": "daa95610d87c48bb83d7b64558fcff8f",
    "tags": [],
    "deepnote_cell_type": "markdown",
    "deepnote_cell_height": 73.56666564941406
   }
  },
  {
   "cell_type": "code",
   "metadata": {
    "cell_id": "86a5da3697a943f19a87b897ecfc84a2",
    "tags": [],
    "deepnote_to_be_reexecuted": false,
    "source_hash": "f9e37e21",
    "execution_start": 1659703970107,
    "execution_millis": 0,
    "deepnote_cell_type": "code",
    "deepnote_cell_height": 112
   },
   "source": "library(ranger)\nlibrary(tidyr)\nlibrary(dplyr)",
   "execution_count": null,
   "outputs": []
  },
  {
   "cell_type": "code",
   "metadata": {
    "cell_id": "fd1ec79e69534adaab542f5d17806328",
    "tags": [],
    "deepnote_to_be_reexecuted": false,
    "source_hash": "8af75575",
    "execution_start": 1659702331730,
    "execution_millis": 16597,
    "deepnote_cell_type": "code",
    "deepnote_cell_height": 94
   },
   "source": "model <- readRDS('./model/model.rds')\ndf_preprocessed <- read.csv('./data/preprocessed_data.csv')",
   "execution_count": null,
   "outputs": []
  },
  {
   "cell_type": "code",
   "metadata": {
    "cell_id": "45c0f3a9e844479b8bb3fbc89f6543cf",
    "tags": [],
    "deepnote_to_be_reexecuted": false,
    "source_hash": "89b24ab9",
    "execution_start": 1659702528581,
    "execution_millis": 80284,
    "deepnote_cell_type": "code",
    "deepnote_cell_height": 106.19999694824219
   },
   "source": "y_hat <- predict(model, df_preprocessed)$predict",
   "execution_count": null,
   "outputs": [
    {
     "name": "stdout",
     "text": "Predicting.. Progress: 53%. Estimated remaining time: 27 seconds.\n",
     "output_type": "stream"
    }
   ]
  },
  {
   "cell_type": "code",
   "metadata": {
    "cell_id": "ad2787fbfc604eada7cee98c47d06673",
    "tags": [],
    "deepnote_to_be_reexecuted": false,
    "source_hash": "41efa167",
    "execution_start": 1659702629185,
    "execution_millis": 1,
    "deepnote_cell_type": "code",
    "deepnote_cell_height": 76
   },
   "source": "mean_prediction <- mean(y_hat)",
   "execution_count": null,
   "outputs": []
  },
  {
   "cell_type": "code",
   "metadata": {
    "cell_id": "1d32e4bdc487459e86204206bb5597ad",
    "tags": [],
    "deepnote_to_be_reexecuted": false,
    "source_hash": "3ad64ce2",
    "execution_start": 1659702710337,
    "execution_millis": 51,
    "deepnote_cell_type": "code",
    "deepnote_cell_height": 94
   },
   "source": "saveRDS(y_hat, './model/y_hat.RDS')\nsaveRDS(mean_prediction, './model/mean_prediction.RDS')",
   "execution_count": null,
   "outputs": []
  },
  {
   "cell_type": "code",
   "metadata": {
    "cell_id": "cd8a3112d75b45dcb9a3a4c3640582fb",
    "tags": [],
    "deepnote_to_be_reexecuted": false,
    "source_hash": "29e50562",
    "execution_start": 1659707464028,
    "execution_millis": 14,
    "deepnote_cell_type": "code",
    "deepnote_cell_height": 76
   },
   "source": "y_hat_shap_format <- data.frame(variable_name = 'intercept', contribution = y_hat)",
   "execution_count": null,
   "outputs": []
  },
  {
   "cell_type": "code",
   "metadata": {
    "cell_id": "ac55fd2d7c7d43888e9ac0764785ee29",
    "tags": [],
    "deepnote_to_be_reexecuted": false,
    "source_hash": "cb2f48cb",
    "execution_start": 1659707464994,
    "execution_millis": 188,
    "deepnote_cell_type": "code",
    "deepnote_cell_height": 76
   },
   "source": "saveRDS(y_hat_shap_format, './model/y_hat_shap_format.RDS')",
   "execution_count": null,
   "outputs": []
  },
  {
   "cell_type": "markdown",
   "source": "## Function to transform",
   "metadata": {
    "cell_id": "c98e2877650e4cb5a1486f69f1f60c7c",
    "tags": [],
    "deepnote_cell_type": "markdown",
    "deepnote_cell_height": 70
   }
  },
  {
   "cell_type": "markdown",
   "source": "It is available in `./scripts/transform_shap.R`.",
   "metadata": {
    "cell_id": "db9dc489ca324977804bb05735142185",
    "tags": [],
    "deepnote_cell_type": "markdown",
    "deepnote_cell_height": 52.399993896484375
   }
  },
  {
   "cell_type": "code",
   "metadata": {
    "cell_id": "bae217b7b01c4f00a9d15af95e3eaefe",
    "tags": [],
    "deepnote_to_be_reexecuted": false,
    "source_hash": "855f0e72",
    "execution_start": 1659704678662,
    "execution_millis": 7,
    "deepnote_cell_type": "code",
    "deepnote_cell_height": 76
   },
   "source": "source('./scripts/transform_shap.R')",
   "execution_count": null,
   "outputs": []
  },
  {
   "cell_type": "code",
   "metadata": {
    "cell_id": "67d3b7de41b949c48f143246d7fb8d0f",
    "tags": [],
    "deepnote_to_be_reexecuted": false,
    "source_hash": "282e4408",
    "execution_start": 1659704679425,
    "execution_millis": 1405,
    "deepnote_cell_type": "code",
    "deepnote_cell_height": 76
   },
   "source": "transform_all_tasks('./results', 'ranger', y_hat_shap_format, model)",
   "execution_count": null,
   "outputs": []
  },
  {
   "cell_type": "markdown",
   "source": "## Create `shap_aggregated` objects",
   "metadata": {
    "cell_id": "64d31653f68d4bfc8ef0750c6a003200",
    "tags": [],
    "deepnote_cell_type": "markdown",
    "deepnote_cell_height": 71
   }
  },
  {
   "cell_type": "code",
   "metadata": {
    "cell_id": "6a990a8bedb545e591ea6b3f15fc086a",
    "tags": [],
    "deepnote_to_be_reexecuted": false,
    "source_hash": "71653fab",
    "execution_start": 1659706851717,
    "execution_millis": 38,
    "deepnote_cell_type": "code",
    "deepnote_cell_height": 94
   },
   "source": "source('./scripts/aSHAP.R')\nsource('./scripts/create_shap_aggreated_object.R')",
   "execution_count": null,
   "outputs": []
  },
  {
   "cell_type": "code",
   "metadata": {
    "cell_id": "5656c73d188b4f3f82c0c9699744225d",
    "tags": [],
    "deepnote_to_be_reexecuted": false,
    "source_hash": "782d3e9e",
    "execution_start": 1659707790175,
    "execution_millis": 3678,
    "deepnote_cell_type": "code",
    "deepnote_cell_height": 76
   },
   "source": "create_shap_aggreated_objects_for_all_tasks('./results', 'ranger')",
   "execution_count": null,
   "outputs": []
  },
  {
   "cell_type": "code",
   "metadata": {
    "cell_id": "769e7cbbfd944464ad4281fb29f9b911",
    "tags": [],
    "deepnote_cell_type": "code",
    "deepnote_cell_height": 61
   },
   "source": "",
   "execution_count": null,
   "outputs": []
  },
  {
   "cell_type": "markdown",
   "source": "## Create plots",
   "metadata": {
    "cell_id": "600fc1d2e6274b9a93c5d4ca67bf1ea8",
    "tags": [],
    "deepnote_cell_type": "markdown",
    "deepnote_cell_height": 70
   }
  },
  {
   "cell_type": "code",
   "metadata": {
    "cell_id": "609b9328eeaa4243a909d4c4efa30569",
    "tags": [],
    "deepnote_to_be_reexecuted": false,
    "source_hash": "f011ee0e",
    "execution_start": 1659774424517,
    "execution_millis": 4,
    "deepnote_cell_type": "code",
    "deepnote_cell_height": 94
   },
   "source": "library(iBreakDown)\nlibrary(ggplot2)",
   "execution_count": null,
   "outputs": []
  },
  {
   "cell_type": "code",
   "metadata": {
    "cell_id": "188811378abc42999dedeb8636adf157",
    "tags": [],
    "deepnote_to_be_reexecuted": false,
    "source_hash": "df18de25",
    "execution_start": 1659775012513,
    "execution_millis": 0,
    "deepnote_cell_type": "code",
    "deepnote_cell_height": 94
   },
   "source": "source('./scripts/aSHAP.R')\nsource('./scripts/create_shap_aggreated_object.R')",
   "execution_count": null,
   "outputs": []
  },
  {
   "cell_type": "code",
   "metadata": {
    "cell_id": "a0f532f6ff2640d1a0e9bde052aee016",
    "tags": [],
    "deepnote_to_be_reexecuted": false,
    "source_hash": "4aee0ca",
    "execution_start": 1659774633627,
    "execution_millis": 11105,
    "deepnote_cell_type": "code",
    "deepnote_cell_height": 207.1999969482422
   },
   "source": "create_aSHAP_plots_for_all_tasks('./results', max_features = 55, height = 40, bg = 'white', plot_filename_addition = 'long')",
   "execution_count": null,
   "outputs": [
    {
     "name": "stderr",
     "text": "Saving 16.9 x 40 cm image\n\nSaving 16.9 x 40 cm image\n\nSaving 16.9 x 40 cm image\n\n",
     "output_type": "stream"
    }
   ]
  },
  {
   "cell_type": "code",
   "metadata": {
    "cell_id": "436cb318ab0141668df3667e1f24c8aa",
    "tags": [],
    "deepnote_to_be_reexecuted": false,
    "source_hash": "1231bfed",
    "execution_start": 1659775139933,
    "execution_millis": 9017,
    "deepnote_cell_type": "code",
    "deepnote_cell_height": 207.1999969482422
   },
   "source": "create_aSHAP_plots_for_all_tasks('./results', max_features = 6, height = 20, bg = 'white', plot_filename_addition = 'shorter')",
   "execution_count": null,
   "outputs": [
    {
     "name": "stderr",
     "text": "Saving 16.9 x 20 cm image\n\nSaving 16.9 x 20 cm image\n\nSaving 16.9 x 20 cm image\n\n",
     "output_type": "stream"
    }
   ]
  },
  {
   "cell_type": "code",
   "metadata": {
    "cell_id": "9dece6a56b7e4786987308026ec3d2d6",
    "tags": [],
    "deepnote_cell_type": "code",
    "deepnote_cell_height": 61
   },
   "source": "",
   "execution_count": null,
   "outputs": []
  },
  {
   "cell_type": "code",
   "metadata": {
    "cell_id": "df02d1bb713c4cfdb29b2922208398be",
    "tags": [],
    "deepnote_cell_type": "code",
    "deepnote_cell_height": 61
   },
   "source": "",
   "execution_count": null,
   "outputs": []
  },
  {
   "cell_type": "markdown",
   "source": "<a style='text-decoration:none;line-height:16px;display:flex;color:#5B5B62;padding:10px;justify-content:end;' href='https://deepnote.com?utm_source=created-in-deepnote-cell&projectId=638a36e2-efff-486f-858d-cbca546da2c6' target=\"_blank\">\n<img alt='Created in deepnote.com' style='display:inline;max-height:16px;margin:0px;margin-right:7.5px;' src='data:image/svg+xml;base64,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' > </img>\nCreated in <span style='font-weight:600;margin-left:4px;'>Deepnote</span></a>",
   "metadata": {
    "tags": [],
    "created_in_deepnote_cell": true,
    "deepnote_cell_type": "markdown"
   }
  }
 ],
 "nbformat": 4,
 "nbformat_minor": 2,
 "metadata": {
  "orig_nbformat": 2,
  "deepnote": {},
  "deepnote_notebook_id": "107fe4ee-80f1-4d91-add4-99d615bd1bb5",
  "deepnote_execution_queue": []
 }
}