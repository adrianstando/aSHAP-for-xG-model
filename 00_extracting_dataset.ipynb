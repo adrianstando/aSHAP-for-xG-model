{
 "cells": [
  {
   "cell_type": "markdown",
   "metadata": {
    "cell_id": "f83a98e5cfee47e0846acaea9edab5df",
    "deepnote_cell_height": 82,
    "deepnote_cell_type": "markdown",
    "tags": []
   },
   "source": [
    "# Exctracting dataset for xG model"
   ]
  },
  {
   "cell_type": "markdown",
   "metadata": {
    "cell_id": "04efe9f1fd294498a7fb1bfa18a48cf8",
    "deepnote_cell_height": 88.80000305175781,
    "deepnote_cell_type": "markdown",
    "tags": []
   },
   "source": [
    "**ATTENTION:**\n",
    "\n",
    "Notebook language: **R**"
   ]
  },
  {
   "cell_type": "code",
   "execution_count": null,
   "metadata": {
    "cell_id": "422baa4253dd4110bf58dd2e83ec874f",
    "deepnote_cell_height": 61,
    "deepnote_cell_type": "code",
    "tags": []
   },
   "outputs": [],
   "source": [
    "#install.packages(\"worldfootballR\")"
   ]
  },
  {
   "cell_type": "code",
   "execution_count": null,
   "metadata": {
    "cell_id": "428662fa-4a70-4ada-ac17-941f61c11443",
    "deepnote_cell_height": 61,
    "deepnote_cell_type": "code",
    "tags": []
   },
   "outputs": [],
   "source": [
    "library(worldfootballR)"
   ]
  },
  {
   "cell_type": "code",
   "execution_count": null,
   "metadata": {
    "cell_id": "d701ddd0da4e41f58e529f85192a4588",
    "deepnote_cell_height": 205,
    "deepnote_cell_type": "code",
    "tags": []
   },
   "outputs": [],
   "source": [
    "# Ligue 1\n",
    "ligue1_2021_shot_location <- understat_league_season_shots(league = \"Ligue 1\", season_start_year = 2021)\n",
    "ligue1_2020_shot_location <- understat_league_season_shots(league = \"Ligue 1\", season_start_year = 2020)\n",
    "ligue1_2019_shot_location <- understat_league_season_shots(league = \"Ligue 1\", season_start_year = 2019)\n",
    "ligue1_2018_shot_location <- understat_league_season_shots(league = \"Ligue 1\", season_start_year = 2018)\n",
    "ligue1_2017_shot_location <- understat_league_season_shots(league = \"Ligue 1\", season_start_year = 2017)\n",
    "ligue1_2016_shot_location <- understat_league_season_shots(league = \"Ligue 1\", season_start_year = 2016)\n",
    "ligue1_2015_shot_location <- understat_league_season_shots(league = \"Ligue 1\", season_start_year = 2015)\n",
    "ligue1_2014_shot_location <- understat_league_season_shots(league = \"Ligue 1\", season_start_year = 2014)"
   ]
  },
  {
   "cell_type": "code",
   "execution_count": null,
   "metadata": {
    "cell_id": "057fdda27ff84392980016a5f49892de",
    "deepnote_cell_height": 205,
    "deepnote_cell_type": "code",
    "tags": []
   },
   "outputs": [],
   "source": [
    "# Serie A\n",
    "seriea_2021_shot_location <- understat_league_season_shots(league = \"Serie A\", season_start_year = 2021)\n",
    "seriea_2020_shot_location <- understat_league_season_shots(league = \"Serie A\", season_start_year = 2020)\n",
    "seriea_2019_shot_location <- understat_league_season_shots(league = \"Serie A\", season_start_year = 2019)\n",
    "seriea_2018_shot_location <- understat_league_season_shots(league = \"Serie A\", season_start_year = 2018)\n",
    "seriea_2017_shot_location <- understat_league_season_shots(league = \"Serie A\", season_start_year = 2017)\n",
    "seriea_2016_shot_location <- understat_league_season_shots(league = \"Serie A\", season_start_year = 2016)\n",
    "seriea_2015_shot_location <- understat_league_season_shots(league = \"Serie A\", season_start_year = 2015)\n",
    "seriea_2014_shot_location <- understat_league_season_shots(league = \"Serie A\", season_start_year = 2014)"
   ]
  },
  {
   "cell_type": "code",
   "execution_count": null,
   "metadata": {
    "cell_id": "6903eaff008f4d0ba869ba9cd86c686a",
    "deepnote_cell_height": 210,
    "deepnote_cell_type": "code",
    "tags": []
   },
   "outputs": [],
   "source": [
    "# Bundesliga\n",
    "bundesliga_2021_shot_location <- understat_league_season_shots(league = \"Bundesliga\", season_start_year = 2021)\n",
    "bundesliga_2020_shot_location <- understat_league_season_shots(league = \"Bundesliga\", season_start_year = 2020)\n",
    "bundesliga_2019_shot_location <- understat_league_season_shots(league = \"Bundesliga\", season_start_year = 2019)\n",
    "bundesliga_2018_shot_location <- understat_league_season_shots(league = \"Bundesliga\", season_start_year = 2018)\n",
    "bundesliga_2017_shot_location <- understat_league_season_shots(league = \"Bundesliga\", season_start_year = 2017)\n",
    "bundesliga_2016_shot_location <- understat_league_season_shots(league = \"Bundesliga\", season_start_year = 2016)\n",
    "bundesliga_2015_shot_location <- understat_league_season_shots(league = \"Bundesliga\", season_start_year = 2015)\n",
    "bundesliga_2014_shot_location <- understat_league_season_shots(league = \"Bundesliga\", season_start_year = 2014)"
   ]
  },
  {
   "cell_type": "code",
   "execution_count": null,
   "metadata": {
    "cell_id": "33c547afe793423ead2ca7fc5fb28279",
    "deepnote_cell_height": 205,
    "deepnote_cell_type": "code",
    "tags": []
   },
   "outputs": [],
   "source": [
    "# La Liga\n",
    "laliga_2021_shot_location <- understat_league_season_shots(league = \"La liga\", season_start_year = 2021)\n",
    "laliga_2020_shot_location <- understat_league_season_shots(league = \"La liga\", season_start_year = 2020)\n",
    "laliga_2019_shot_location <- understat_league_season_shots(league = \"La liga\", season_start_year = 2019)\n",
    "laliga_2018_shot_location <- understat_league_season_shots(league = \"La liga\", season_start_year = 2018)\n",
    "laliga_2017_shot_location <- understat_league_season_shots(league = \"La liga\", season_start_year = 2017)\n",
    "laliga_2016_shot_location <- understat_league_season_shots(league = \"La liga\", season_start_year = 2016)\n",
    "laliga_2015_shot_location <- understat_league_season_shots(league = \"La liga\", season_start_year = 2015)\n",
    "laliga_2014_shot_location <- understat_league_season_shots(league = \"La liga\", season_start_year = 2014)"
   ]
  },
  {
   "cell_type": "code",
   "execution_count": null,
   "metadata": {
    "cell_id": "e4a2914647a5412e9ee5cd84b1cc313f",
    "deepnote_cell_height": 205,
    "deepnote_cell_type": "code",
    "tags": []
   },
   "outputs": [],
   "source": [
    "# EPL\n",
    "epl_2021_shot_location <- understat_league_season_shots(league = \"EPL\", season_start_year = 2021)\n",
    "epl_2020_shot_location <- understat_league_season_shots(league = \"EPL\", season_start_year = 2020)\n",
    "epl_2019_shot_location <- understat_league_season_shots(league = \"EPL\", season_start_year = 2019)\n",
    "epl_2018_shot_location <- understat_league_season_shots(league = \"EPL\", season_start_year = 2018)\n",
    "epl_2017_shot_location <- understat_league_season_shots(league = \"EPL\", season_start_year = 2017)\n",
    "epl_2016_shot_location <- understat_league_season_shots(league = \"EPL\", season_start_year = 2016)\n",
    "epl_2015_shot_location <- understat_league_season_shots(league = \"EPL\", season_start_year = 2015)\n",
    "epl_2014_shot_location <- understat_league_season_shots(league = \"EPL\", season_start_year = 2014)"
   ]
  },
  {
   "cell_type": "code",
   "execution_count": null,
   "metadata": {
    "cell_id": "45781c437d364ac0871114f679b3f9c9",
    "deepnote_cell_height": 835,
    "deepnote_cell_type": "code",
    "tags": []
   },
   "outputs": [],
   "source": [
    "# combining data\n",
    "raw_data <- rbind(ligue1_2021_shot_location\n",
    "                  ligue1_2020_shot_location,\n",
    "                  ligue1_2019_shot_location,\n",
    "                  ligue1_2018_shot_location,\n",
    "                  ligue1_2017_shot_location,\n",
    "                  ligue1_2016_shot_location,\n",
    "                  ligue1_2015_shot_location,\n",
    "                  ligue1_2014_shot_location,\n",
    "                  \n",
    "                  seriea_2021_shot_location,\n",
    "                  seriea_2020_shot_location,\n",
    "                  seriea_2019_shot_location,\n",
    "                  seriea_2018_shot_location,\n",
    "                  seriea_2017_shot_location,\n",
    "                  seriea_2016_shot_location,\n",
    "                  seriea_2015_shot_location,\n",
    "                  seriea_2014_shot_location,\n",
    "                  \n",
    "                  bundesliga_2021_shot_location\n",
    "                  bundesliga_2020_shot_location,\n",
    "                  bundesliga_2019_shot_location,\n",
    "                  bundesliga_2018_shot_location,\n",
    "                  bundesliga_2017_shot_location,\n",
    "                  bundesliga_2016_shot_location,\n",
    "                  bundesliga_2015_shot_location,\n",
    "                  bundesliga_2014_shot_location,\n",
    "                  \n",
    "                  laliga_2021_shot_location\n",
    "                  laliga_2020_shot_location,\n",
    "                  laliga_2019_shot_location,\n",
    "                  laliga_2018_shot_location,\n",
    "                  laliga_2017_shot_location,\n",
    "                  laliga_2016_shot_location,\n",
    "                  laliga_2015_shot_location,\n",
    "                  laliga_2014_shot_location,\n",
    "                  \n",
    "                  epl_2021_shot_location\n",
    "                  epl_2020_shot_location,\n",
    "                  epl_2019_shot_location,\n",
    "                  epl_2018_shot_location,\n",
    "                  epl_2017_shot_location,\n",
    "                  epl_2016_shot_location,\n",
    "                  epl_2015_shot_location,\n",
    "                  epl_2014_shot_location)"
   ]
  },
  {
   "cell_type": "code",
   "execution_count": null,
   "metadata": {
    "cell_id": "19161d93d2244698891fb531af1807f5",
    "deepnote_cell_height": 169,
    "deepnote_cell_type": "code",
    "tags": []
   },
   "outputs": [],
   "source": [
    "dir_name <- './data'\n",
    "\n",
    "if (file.exists(dir_name)) {\n",
    " cat(\"The folder already exists\")\n",
    "} else {\n",
    " dir.create(dir_name)\n",
    "}"
   ]
  },
  {
   "cell_type": "code",
   "execution_count": null,
   "metadata": {
    "cell_id": "e144435ae82947f4a63712f48144fbf8",
    "deepnote_cell_height": 61,
    "deepnote_cell_type": "code",
    "tags": []
   },
   "outputs": [],
   "source": [
    "write_csv(raw_data, './data/raw_data.csv')"
   ]
  },
  {
   "cell_type": "code",
   "execution_count": null,
   "metadata": {},
   "outputs": [],
   "source": []
  }
 ],
 "metadata": {
  "deepnote": {},
  "deepnote_execution_queue": [],
  "deepnote_notebook_id": "a5179d6b-12d2-4093-9002-b0f776fcd794",
  "kernelspec": {
   "display_name": "R",
   "language": "R",
   "name": "ir"
  },
  "language_info": {
   "codemirror_mode": "r",
   "file_extension": ".r",
   "mimetype": "text/x-r-source",
   "name": "R",
   "pygments_lexer": "r",
   "version": "3.6.3"
  }
 },
 "nbformat": 4,
 "nbformat_minor": 4
}
