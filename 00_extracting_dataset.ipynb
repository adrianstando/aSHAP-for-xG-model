{
 "cells": [
  {
   "cell_type": "markdown",
   "source": "# Exctracting dataset for xG model",
   "metadata": {
    "cell_id": "f83a98e5cfee47e0846acaea9edab5df",
    "tags": [],
    "deepnote_cell_type": "markdown",
    "deepnote_cell_height": 134
   }
  },
  {
   "cell_type": "markdown",
   "source": "**ATTENTION: **\n\nNotebook language: **R**",
   "metadata": {
    "cell_id": "04efe9f1fd294498a7fb1bfa18a48cf8",
    "tags": [],
    "deepnote_cell_type": "markdown",
    "deepnote_cell_height": 171.8000030517578
   }
  },
  {
   "cell_type": "code",
   "source": "#install.packages(\"worldfootballR\")",
   "metadata": {
    "cell_id": "422baa4253dd4110bf58dd2e83ec874f",
    "tags": [],
    "deepnote_cell_type": "code",
    "deepnote_cell_height": 61
   },
   "outputs": [],
   "execution_count": null
  },
  {
   "cell_type": "code",
   "source": "library(worldfootballR)",
   "metadata": {
    "tags": [],
    "cell_id": "428662fa-4a70-4ada-ac17-941f61c11443",
    "deepnote_cell_type": "code",
    "deepnote_cell_height": 61
   },
   "execution_count": null,
   "outputs": []
  },
  {
   "cell_type": "code",
   "source": "# Ligue 1\nligue1_2020_shot_location <- understat_league_season_shots(league = \"Ligue 1\", season_start_year = 2020)\nligue1_2019_shot_location <- understat_league_season_shots(league = \"Ligue 1\", season_start_year = 2019)\nligue1_2018_shot_location <- understat_league_season_shots(league = \"Ligue 1\", season_start_year = 2018)\nligue1_2017_shot_location <- understat_league_season_shots(league = \"Ligue 1\", season_start_year = 2017)\nligue1_2016_shot_location <- understat_league_season_shots(league = \"Ligue 1\", season_start_year = 2016)\nligue1_2015_shot_location <- understat_league_season_shots(league = \"Ligue 1\", season_start_year = 2015)\nligue1_2014_shot_location <- understat_league_season_shots(league = \"Ligue 1\", season_start_year = 2014)",
   "metadata": {
    "cell_id": "d701ddd0da4e41f58e529f85192a4588",
    "tags": [],
    "deepnote_cell_type": "code",
    "deepnote_cell_height": 192
   },
   "outputs": [],
   "execution_count": null
  },
  {
   "cell_type": "code",
   "source": "# Serie A\nseriea_2020_shot_location <- understat_league_season_shots(league = \"Serie A\", season_start_year = 2020)\nseriea_2019_shot_location <- understat_league_season_shots(league = \"Serie A\", season_start_year = 2019)\nseriea_2018_shot_location <- understat_league_season_shots(league = \"Serie A\", season_start_year = 2018)\nseriea_2017_shot_location <- understat_league_season_shots(league = \"Serie A\", season_start_year = 2017)\nseriea_2016_shot_location <- understat_league_season_shots(league = \"Serie A\", season_start_year = 2016)\nseriea_2015_shot_location <- understat_league_season_shots(league = \"Serie A\", season_start_year = 2015)\nseriea_2014_shot_location <- understat_league_season_shots(league = \"Serie A\", season_start_year = 2014)",
   "metadata": {
    "cell_id": "057fdda27ff84392980016a5f49892de",
    "tags": [],
    "deepnote_cell_type": "code",
    "deepnote_cell_height": 192
   },
   "outputs": [],
   "execution_count": null
  },
  {
   "cell_type": "code",
   "source": "# Bundesliga\nbundesliga_2020_shot_location <- understat_league_season_shots(league = \"Bundesliga\", season_start_year = 2020)\nbundesliga_2019_shot_location <- understat_league_season_shots(league = \"Bundesliga\", season_start_year = 2019)\nbundesliga_2018_shot_location <- understat_league_season_shots(league = \"Bundesliga\", season_start_year = 2018)\nbundesliga_2017_shot_location <- understat_league_season_shots(league = \"Bundesliga\", season_start_year = 2017)\nbundesliga_2016_shot_location <- understat_league_season_shots(league = \"Bundesliga\", season_start_year = 2016)\nbundesliga_2015_shot_location <- understat_league_season_shots(league = \"Bundesliga\", season_start_year = 2015)\nbundesliga_2014_shot_location <- understat_league_season_shots(league = \"Bundesliga\", season_start_year = 2014)",
   "metadata": {
    "cell_id": "6903eaff008f4d0ba869ba9cd86c686a",
    "tags": [],
    "deepnote_cell_type": "code",
    "deepnote_cell_height": 192
   },
   "outputs": [],
   "execution_count": null
  },
  {
   "cell_type": "code",
   "source": "# La Liga\nlaliga_2020_shot_location <- understat_league_season_shots(league = \"La liga\", season_start_year = 2020)\nlaliga_2019_shot_location <- understat_league_season_shots(league = \"La liga\", season_start_year = 2019)\nlaliga_2018_shot_location <- understat_league_season_shots(league = \"La liga\", season_start_year = 2018)\nlaliga_2017_shot_location <- understat_league_season_shots(league = \"La liga\", season_start_year = 2017)\nlaliga_2016_shot_location <- understat_league_season_shots(league = \"La liga\", season_start_year = 2016)\nlaliga_2015_shot_location <- understat_league_season_shots(league = \"La liga\", season_start_year = 2015)\nlaliga_2014_shot_location <- understat_league_season_shots(league = \"La liga\", season_start_year = 2014)",
   "metadata": {
    "cell_id": "33c547afe793423ead2ca7fc5fb28279",
    "tags": [],
    "deepnote_cell_type": "code",
    "deepnote_cell_height": 192
   },
   "outputs": [],
   "execution_count": null
  },
  {
   "cell_type": "code",
   "source": "# EPL\nepl_2020_shot_location <- understat_league_season_shots(league = \"EPL\", season_start_year = 2020)\nepl_2019_shot_location <- understat_league_season_shots(league = \"EPL\", season_start_year = 2019)\nepl_2018_shot_location <- understat_league_season_shots(league = \"EPL\", season_start_year = 2018)\nepl_2017_shot_location <- understat_league_season_shots(league = \"EPL\", season_start_year = 2017)\nepl_2016_shot_location <- understat_league_season_shots(league = \"EPL\", season_start_year = 2016)\nepl_2015_shot_location <- understat_league_season_shots(league = \"EPL\", season_start_year = 2015)\nepl_2014_shot_location <- understat_league_season_shots(league = \"EPL\", season_start_year = 2014)",
   "metadata": {
    "cell_id": "e4a2914647a5412e9ee5cd84b1cc313f",
    "tags": [],
    "deepnote_cell_type": "code",
    "deepnote_cell_height": 192
   },
   "outputs": [],
   "execution_count": null
  },
  {
   "cell_type": "code",
   "source": "# combining data\nraw_data <- rbind(ligue1_2020_shot_location,\n                  ligue1_2019_shot_location,\n                  ligue1_2018_shot_location,\n                  ligue1_2017_shot_location,\n                  ligue1_2016_shot_location,\n                  ligue1_2015_shot_location,\n                  ligue1_2014_shot_location,\n                  \n                  seriea_2020_shot_location,\n                  seriea_2019_shot_location,\n                  seriea_2018_shot_location,\n                  seriea_2017_shot_location,\n                  seriea_2016_shot_location,\n                  seriea_2015_shot_location,\n                  seriea_2014_shot_location,\n                  \n                  bundesliga_2020_shot_location,\n                  bundesliga_2019_shot_location,\n                  bundesliga_2018_shot_location,\n                  bundesliga_2017_shot_location,\n                  bundesliga_2016_shot_location,\n                  bundesliga_2015_shot_location,\n                  bundesliga_2014_shot_location,\n                  \n                  laliga_2020_shot_location,\n                  laliga_2019_shot_location,\n                  laliga_2018_shot_location,\n                  laliga_2017_shot_location,\n                  laliga_2016_shot_location,\n                  laliga_2015_shot_location,\n                  laliga_2014_shot_location,\n                  \n                  epl_2020_shot_location,\n                  epl_2019_shot_location,\n                  epl_2018_shot_location,\n                  epl_2017_shot_location,\n                  epl_2016_shot_location,\n                  epl_2015_shot_location,\n                  epl_2014_shot_location)",
   "metadata": {
    "cell_id": "45781c437d364ac0871114f679b3f9c9",
    "tags": [],
    "deepnote_cell_type": "code",
    "deepnote_cell_height": 763
   },
   "outputs": [],
   "execution_count": null
  },
  {
   "cell_type": "code",
   "source": "dir_name <- './data'\n\nif (file.exists(dir_name)) {\n cat(\"The folder already exists\")\n} else {\n dir.create(dir_name)\n}",
   "metadata": {
    "cell_id": "19161d93d2244698891fb531af1807f5",
    "tags": [],
    "deepnote_cell_type": "code",
    "deepnote_cell_height": 169
   },
   "outputs": [],
   "execution_count": null
  },
  {
   "cell_type": "code",
   "source": "write_csv(raw_data, './data/raw_data.csv')",
   "metadata": {
    "cell_id": "e144435ae82947f4a63712f48144fbf8",
    "tags": [],
    "deepnote_cell_type": "code",
    "deepnote_cell_height": 61
   },
   "outputs": [],
   "execution_count": null
  },
  {
   "cell_type": "markdown",
   "source": "<a style='text-decoration:none;line-height:16px;display:flex;color:#5B5B62;padding:10px;justify-content:end;' href='https://deepnote.com?utm_source=created-in-deepnote-cell&projectId=638a36e2-efff-486f-858d-cbca546da2c6' target=\"_blank\">\n<img alt='Created in deepnote.com' style='display:inline;max-height:16px;margin:0px;margin-right:7.5px;' src='data:image/svg+xml;base64,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' > </img>\nCreated in <span style='font-weight:600;margin-left:4px;'>Deepnote</span></a>",
   "metadata": {
    "tags": [],
    "created_in_deepnote_cell": true,
    "deepnote_cell_type": "markdown"
   }
  }
 ],
 "nbformat": 4,
 "nbformat_minor": 2,
 "metadata": {
  "orig_nbformat": 2,
  "deepnote": {},
  "deepnote_notebook_id": "a5179d6b-12d2-4093-9002-b0f776fcd794",
  "deepnote_execution_queue": []
 }
}