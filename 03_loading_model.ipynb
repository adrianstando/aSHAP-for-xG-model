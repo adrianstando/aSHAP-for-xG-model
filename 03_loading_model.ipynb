{
 "cells": [
  {
   "cell_type": "markdown",
   "id": "ba1efa3f-2482-4843-bffe-2a6b430c3de8",
   "metadata": {},
   "source": [
    "# Loading model"
   ]
  },
  {
   "cell_type": "markdown",
   "id": "279f39be-0117-4d4e-8857-43f409620911",
   "metadata": {},
   "source": [
    "**ATTENTION:**\n",
    "\n",
    "Notebook language: **Python**"
   ]
  },
  {
   "cell_type": "code",
   "execution_count": null,
   "id": "66583576-e0ec-4541-9877-d8b29db2185a",
   "metadata": {},
   "outputs": [],
   "source": [
    "#!pip install skranger\n",
    "#!pip3 install pickle5"
   ]
  },
  {
   "cell_type": "markdown",
   "id": "9bd02071-8494-49bf-85a2-6e5fedc6aa01",
   "metadata": {},
   "source": [
    "## Loading exctracted model data"
   ]
  },
  {
   "cell_type": "code",
   "execution_count": null,
   "id": "54ba67b9-0689-4a6a-a897-15748619a224",
   "metadata": {},
   "outputs": [],
   "source": [
    "import pickle5 as pickle"
   ]
  },
  {
   "cell_type": "code",
   "execution_count": null,
   "id": "26e49edf-ad37-4e44-9a13-ab11bc8850bc",
   "metadata": {},
   "outputs": [],
   "source": [
    "with open('./model/model-imported.pickle', 'rb') as fp:\n",
    "    model = pickle.load(fp) "
   ]
  },
  {
   "cell_type": "code",
   "execution_count": null,
   "id": "e197078d-d996-45e9-842f-fa670324d7ed",
   "metadata": {},
   "outputs": [],
   "source": [
    "model.keys()"
   ]
  },
  {
   "cell_type": "markdown",
   "id": "6e51ac45-c7b3-4a18-ae62-a2c5a1193b6a",
   "metadata": {},
   "source": [
    "## Converting attributes"
   ]
  },
  {
   "cell_type": "code",
   "execution_count": null,
   "id": "40974441-a273-442c-9a3e-e380102836c0",
   "metadata": {},
   "outputs": [],
   "source": [
    "model['num_trees'] = model.pop('num.trees')\n",
    "model['child_node_ids'] = model.pop('child.nodeIDs')\n",
    "model['split_var_ids'] = model.pop('split.varIDs')\n",
    "model['split_values'] = model.pop('split.values')\n",
    "model['is_ordered'] = model.pop('is.ordered')\n",
    "model['class_values'] = model.pop('class.values')\n",
    "model['terminal_class_counts'] = model.pop('terminal.class.counts')"
   ]
  },
  {
   "cell_type": "code",
   "execution_count": null,
   "id": "4bc1998d-ae92-47ea-8d3e-08ab9cd44708",
   "metadata": {},
   "outputs": [],
   "source": [
    "model['num_trees'] = int(model['num_trees'])"
   ]
  },
  {
   "cell_type": "code",
   "execution_count": null,
   "id": "00fccbf3-c6ac-470a-8394-5d94af9a8601",
   "metadata": {},
   "outputs": [],
   "source": [
    "def everything_as_int(x):\n",
    "    if isinstance(x, int): return x\n",
    "    elif isinstance(x, list): return [everything_as_int(y) for y in x]\n",
    "    else: return int(x)"
   ]
  },
  {
   "cell_type": "code",
   "execution_count": null,
   "id": "e1b1c926-e84a-48e6-822f-73bf1c47eea7",
   "metadata": {},
   "outputs": [],
   "source": [
    "model[\"child_node_ids\"] = everything_as_int(model[\"child_node_ids\"])"
   ]
  },
  {
   "cell_type": "markdown",
   "id": "c9cb5d2f-92ef-4604-9e06-19087abc3cab",
   "metadata": {},
   "source": [
    "## Loading data"
   ]
  },
  {
   "cell_type": "code",
   "execution_count": null,
   "id": "2093fb45-1ac1-4d55-9e1d-5c9372cbae8c",
   "metadata": {},
   "outputs": [],
   "source": [
    "import numpy as np\n",
    "import pandas as pd"
   ]
  },
  {
   "cell_type": "code",
   "execution_count": null,
   "id": "64ae8e7d-ea7c-4bd6-a977-d3dabda83f02",
   "metadata": {},
   "outputs": [],
   "source": [
    "df = pd.read_csv('./data/data_preprocessed.csv', index_col=0)\n",
    "df.head()"
   ]
  },
  {
   "cell_type": "code",
   "execution_count": null,
   "id": "3955e12f-3df6-4cca-943d-a6d7ce7eb5ea",
   "metadata": {},
   "outputs": [],
   "source": [
    "X = df.drop('status', axis = 1)\n",
    "y = df['status']"
   ]
  },
  {
   "cell_type": "markdown",
   "id": "10e4f12e-d726-498b-a0e9-173bc363a774",
   "metadata": {},
   "source": [
    "## Loading `skranger` - `Python` interface to `ranger`"
   ]
  },
  {
   "cell_type": "code",
   "execution_count": null,
   "id": "a9e182ca-4c9d-4301-bff7-c637318c5b7d",
   "metadata": {},
   "outputs": [],
   "source": [
    "from scripts.RandomForestModified import RandomForestModified"
   ]
  },
  {
   "cell_type": "code",
   "execution_count": null,
   "id": "69227d32-4bd2-4a1b-a065-656b9ef7a084",
   "metadata": {},
   "outputs": [],
   "source": [
    "rf = RangerForestClassifierModified(n_estimators = model['num_trees'])"
   ]
  },
  {
   "cell_type": "markdown",
   "id": "569ba44d-e88d-44ce-89f0-ce4b361ea3b7",
   "metadata": {},
   "source": [
    "Fiting just adds data from already trained model; model is not trained here"
   ]
  },
  {
   "cell_type": "code",
   "execution_count": null,
   "id": "a8903e0f-122c-4254-a27d-41f8c91309a0",
   "metadata": {},
   "outputs": [],
   "source": [
    "rf.fit(X, y, {'forest': model, 'num_trees': model['num_trees']})"
   ]
  },
  {
   "cell_type": "markdown",
   "id": "5ae554de-065f-43d5-9688-967ed9a9eee3",
   "metadata": {},
   "source": [
    "## Checking results"
   ]
  },
  {
   "cell_type": "code",
   "execution_count": null,
   "id": "e701f9ee-70f4-4af6-9653-0ddcad7e1e7d",
   "metadata": {},
   "outputs": [],
   "source": [
    "rf.predict(X.loc[1:10])"
   ]
  },
  {
   "cell_type": "code",
   "execution_count": null,
   "id": "3364eba0-88b9-4d2f-9ced-acb693468ca1",
   "metadata": {},
   "outputs": [],
   "source": [
    "rf.predict_proba(X.loc[1:10])"
   ]
  },
  {
   "cell_type": "markdown",
   "id": "7dd2f57d-02d9-4498-96de-16a920022f06",
   "metadata": {},
   "source": [
    "## Save model"
   ]
  },
  {
   "cell_type": "code",
   "execution_count": null,
   "id": "d9a782a6-2d98-4c8d-ae93-339652814407",
   "metadata": {},
   "outputs": [],
   "source": [
    "with open('./model/model.pickle', 'wb') as fp:\n",
    "    pickle.dump(rf, fp) "
   ]
  },
  {
   "cell_type": "code",
   "execution_count": null,
   "id": "53f3409b-5eb3-4abb-81cf-9a14a115c315",
   "metadata": {},
   "outputs": [],
   "source": []
  }
 ],
 "metadata": {
  "kernelspec": {
   "display_name": "Python 3 (ipykernel)",
   "language": "python",
   "name": "python3"
  },
  "language_info": {
   "codemirror_mode": {
    "name": "ipython",
    "version": 3
   },
   "file_extension": ".py",
   "mimetype": "text/x-python",
   "name": "python",
   "nbconvert_exporter": "python",
   "pygments_lexer": "ipython3",
   "version": "3.7.11"
  }
 },
 "nbformat": 4,
 "nbformat_minor": 5
}
