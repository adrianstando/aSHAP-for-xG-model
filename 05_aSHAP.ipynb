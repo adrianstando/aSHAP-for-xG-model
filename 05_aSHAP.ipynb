{
 "cells": [
  {
   "cell_type": "markdown",
   "source": "# Calculating aSHAP values (aggregated SHAP values)",
   "metadata": {
    "tags": [],
    "cell_id": "c7875fda-d0db-4520-be74-c346677c775b",
    "deepnote_cell_type": "markdown",
    "deepnote_cell_height": 186
   }
  },
  {
   "cell_type": "markdown",
   "source": "**ATTENTION:**\n\nNotebook language: **R**",
   "metadata": {
    "tags": [],
    "cell_id": "00001-53015018-0a3a-4d44-832a-0136a93208f4",
    "deepnote_cell_type": "markdown",
    "deepnote_cell_height": 88
   }
  },
  {
   "cell_type": "markdown",
   "source": "SHAP values which were calculated in notebook ***04*** will be now transformed to be compatible with aSHAP implementation in *DALEX* package \n\n(in future *DALEX* can be used, now functions from a script will be called)",
   "metadata": {
    "tags": [],
    "cell_id": "00002-b834f3d1-79da-492e-b445-f5f211d37c4f",
    "deepnote_cell_type": "markdown",
    "deepnote_cell_height": 154
   }
  },
  {
   "cell_type": "markdown",
   "source": "Theory:\n\nAs written on https://ema.drwhy.ai/breakDown.html#BDMethodGen Shapley values have the property called *local accuracy*:\n\n$f(x_{i}) = v_{0} + \\sum^{p}_{j=1} v(x_{i},j)$,\n\nwhere: \n\n* $f$ - model\n* $v_{0}$ - mean model prediction\n* $x_{i}$ - i-th observation from a subset to be explained (let it be $X$)\n* $v(x_{i},j)$ - SHAP value for i-th observation for j-th feature\n\nSumming over the whole subset to be explained we get:\n\n$\\sum_{i=1}^{N} f(x_{i}) = \\sum_{i=1}^{N} (v_{0} + \\sum^{p}_{j=1} v(x_{i},j))$\n\n$\\frac{\\sum_{i=1}^{N} f(x_{i})}{N} = \\frac{\\sum_{i=1}^{N} v_{0} + \\sum_{i=1}^{N} \\sum^{p}_{j=1} v(x_{i},j)}{N}$\n\n$\\overline{f(X)} = v_{0} + \\sum^{p}_{j=1} \\overline{v(X, j)}$\n\nSo, in plots below, *prediction* is an average of preditions over the set $X$, *intercept* is an average predictions over the training set and contributions are average contributions across set $X$.",
   "metadata": {
    "tags": [],
    "cell_id": "00003-a491e523-61c6-4a51-b6c5-2463fa3e3b07",
    "deepnote_cell_type": "markdown",
    "deepnote_cell_height": 597
   }
  },
  {
   "cell_type": "code",
   "metadata": {
    "deepnote_to_be_reexecuted": false,
    "execution_millis": 11,
    "execution_start": 1661844275092,
    "source_hash": "855f0e72",
    "tags": [],
    "cell_id": "00004-92cd4bf0-8c56-4835-a520-aa4bc9597312",
    "deepnote_cell_type": "code",
    "deepnote_cell_height": 76
   },
   "source": "source('./scripts/transform_shap.R')",
   "execution_count": 4,
   "outputs": []
  },
  {
   "cell_type": "code",
   "metadata": {
    "deepnote_to_be_reexecuted": false,
    "execution_millis": 16,
    "execution_start": 1661844277325,
    "source_hash": "71653fab",
    "tags": [],
    "cell_id": "00005-ad58c3a8-a877-43b6-b038-73c11c462cf5",
    "deepnote_cell_type": "code",
    "deepnote_cell_height": 76
   },
   "source": "source('./scripts/aSHAP.R')",
   "execution_count": 5,
   "outputs": []
  },
  {
   "cell_type": "markdown",
   "source": "## Function to transform and to create `shap_aggregated` objects",
   "metadata": {
    "tags": [],
    "cell_id": "00006-0d8743fe-f088-4e4d-befe-39b5586d946c",
    "deepnote_cell_type": "markdown",
    "deepnote_cell_height": 191
   }
  },
  {
   "cell_type": "markdown",
   "source": "It is available in `./scripts/transform_shap.R`.",
   "metadata": {
    "tags": [],
    "cell_id": "00007-786e8b64-378b-42e5-ac07-a7a78e449c1a",
    "deepnote_cell_type": "markdown",
    "deepnote_cell_height": 52
   }
  },
  {
   "cell_type": "code",
   "metadata": {
    "deepnote_to_be_reexecuted": false,
    "execution_millis": 5494,
    "execution_start": 1661844280097,
    "source_hash": "dfb4a2c1",
    "tags": [],
    "cell_id": "00008-cbb9d159-8b7a-4b10-9163-1b3b46b67cc9",
    "deepnote_cell_type": "code",
    "deepnote_cell_height": 117
   },
   "source": "transform_all_tasks(data_dir = './data', \n                    results_dir = './results', \n                    label = 'ranger')",
   "execution_count": 6,
   "outputs": []
  },
  {
   "cell_type": "markdown",
   "source": "## Create plots",
   "metadata": {
    "tags": [],
    "cell_id": "00009-29e8968d-6cec-4bcb-b52e-92d3ff6aa275",
    "deepnote_cell_type": "markdown",
    "deepnote_cell_height": 70
   }
  },
  {
   "cell_type": "code",
   "metadata": {
    "cell_id": "00010-406aeb02-7e68-4fbb-b4ba-dcee9244a034",
    "deepnote_cell_type": "code",
    "deepnote_cell_height": 66
   },
   "source": "# create_aSHAP_plots_for_all_tasks('./results', max_features = 10, bg = 'white')",
   "execution_count": null,
   "outputs": []
  },
  {
   "cell_type": "code",
   "metadata": {
    "cell_id": "00011-0e3cd7e4-34e1-4182-a8ae-60ab91407688",
    "deepnote_cell_type": "code",
    "deepnote_cell_height": 61
   },
   "source": "",
   "execution_count": null,
   "outputs": []
  },
  {
   "cell_type": "markdown",
   "source": "<a style='text-decoration:none;line-height:16px;display:flex;color:#5B5B62;padding:10px;justify-content:end;' href='https://deepnote.com?utm_source=created-in-deepnote-cell&projectId=638a36e2-efff-486f-858d-cbca546da2c6' target=\"_blank\">\n<img alt='Created in deepnote.com' style='display:inline;max-height:16px;margin:0px;margin-right:7.5px;' src='data:image/svg+xml;base64,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' > </img>\nCreated in <span style='font-weight:600;margin-left:4px;'>Deepnote</span></a>",
   "metadata": {
    "tags": [],
    "created_in_deepnote_cell": true,
    "deepnote_cell_type": "markdown"
   }
  }
 ],
 "nbformat": 4,
 "nbformat_minor": 4,
 "metadata": {
  "deepnote": {},
  "deepnote_execution_queue": [],
  "deepnote_notebook_id": "72921754-93dc-4165-b420-23a05adf12b9",
  "kernelspec": {
   "display_name": "R",
   "language": "R",
   "name": "ir"
  },
  "language_info": {
   "codemirror_mode": "r",
   "file_extension": ".r",
   "mimetype": "text/x-r-source",
   "name": "R",
   "pygments_lexer": "r",
   "version": "3.6.3"
  }
 }
}