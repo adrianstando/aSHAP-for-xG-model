{
 "cells": [
  {
   "cell_type": "markdown",
   "metadata": {
    "cell_id": "ec7587145235425d86343dea710e0c8d",
    "deepnote_cell_height": 186,
    "deepnote_cell_type": "markdown",
    "tags": []
   },
   "source": [
    "# Calculating aSHAP values (aggregated SHAP values)"
   ]
  },
  {
   "cell_type": "markdown",
   "metadata": {
    "cell_id": "e15bcb84afb44a04a5526fe42816ebea",
    "deepnote_cell_height": 88.80000305175781,
    "deepnote_cell_type": "markdown",
    "tags": []
   },
   "source": [
    "**ATTENTION:**\n",
    "\n",
    "Notebook language: **R**"
   ]
  },
  {
   "cell_type": "markdown",
   "metadata": {
    "cell_id": "438742b0d53f47b48b561a4decc614e7",
    "deepnote_cell_height": 111.19999694824219,
    "deepnote_cell_type": "markdown",
    "tags": []
   },
   "source": [
    "SHAP values which were calculated in notebook ***04*** will be now transformed to be compatible with aSHAP implementation in *DALEX* package \n",
    "\n",
    "(in future *DALEX* can be used, now functions from a script will be called)"
   ]
  },
  {
   "cell_type": "markdown",
   "metadata": {
    "cell_id": "b2a8df8d891c408bbe9977042036a740",
    "deepnote_cell_height": 533.5166625976562,
    "deepnote_cell_type": "markdown",
    "tags": []
   },
   "source": [
    "Theory:\n",
    "\n",
    "As written on https://ema.drwhy.ai/breakDown.html#BDMethodGen Shapley values have the property called *local accuracy*:\n",
    "\n",
    "$f(x_{i}) = v_{0} + \\sum^{p}_{j=1} v(x_{i},j)$,\n",
    "\n",
    "where: \n",
    "\n",
    "* $f$ - model\n",
    "* $v_{0}$ - mean model prediction\n",
    "* $x_{i}$ - i-th observation from a subset to be explained (let it be $X$)\n",
    "* $v(x_{i},j)$ - SHAP value for i-th observation for j-th feature\n",
    "\n",
    "Summing over the whole subset to be explained we get:\n",
    "\n",
    "$\\sum_{i=1}^{N} f(x_{i}) = \\sum_{i=1}^{N} (v_{0} + \\sum^{p}_{j=1} v(x_{i},j))$\n",
    "\n",
    "$\\frac{\\sum_{i=1}^{N} f(x_{i})}{N} = \\frac{\\sum_{i=1}^{N} v_{0} + \\sum_{i=1}^{N} \\sum^{p}_{j=1} v(x_{i},j)}{N}$\n",
    "\n",
    "$\\overline{f(X)} = v_{0} + \\sum^{p}_{j=1} \\overline{v(X, j)}$\n",
    "\n",
    "So, in plots below, *prediction* is an average of preditions over the set $X$, *intercept* is an average predictions over the training set and contributions are average contributions across set $X$."
   ]
  },
  {
   "cell_type": "code",
   "execution_count": 5,
   "metadata": {
    "cell_id": "bae217b7b01c4f00a9d15af95e3eaefe",
    "deepnote_cell_height": 76,
    "deepnote_cell_type": "code",
    "deepnote_to_be_reexecuted": false,
    "execution_millis": 7,
    "execution_start": 1659704678662,
    "source_hash": "855f0e72",
    "tags": []
   },
   "outputs": [],
   "source": [
    "source('./scripts/transform_shap.R')"
   ]
  },
  {
   "cell_type": "code",
   "execution_count": 6,
   "metadata": {
    "cell_id": "6a990a8bedb545e591ea6b3f15fc086a",
    "deepnote_cell_height": 94,
    "deepnote_cell_type": "code",
    "deepnote_to_be_reexecuted": false,
    "execution_millis": 38,
    "execution_start": 1659706851717,
    "source_hash": "71653fab",
    "tags": []
   },
   "outputs": [],
   "source": [
    "source('./scripts/aSHAP.R')"
   ]
  },
  {
   "cell_type": "markdown",
   "metadata": {
    "cell_id": "c98e2877650e4cb5a1486f69f1f60c7c",
    "deepnote_cell_height": 70,
    "deepnote_cell_type": "markdown",
    "tags": []
   },
   "source": [
    "## Function to transform and to create `shap_aggregated` objects"
   ]
  },
  {
   "cell_type": "markdown",
   "metadata": {
    "cell_id": "db9dc489ca324977804bb05735142185",
    "deepnote_cell_height": 52.399993896484375,
    "deepnote_cell_type": "markdown",
    "tags": []
   },
   "source": [
    "It is available in `./scripts/transform_shap.R`."
   ]
  },
  {
   "cell_type": "code",
   "execution_count": 7,
   "metadata": {
    "cell_id": "67d3b7de41b949c48f143246d7fb8d0f",
    "deepnote_cell_height": 81,
    "deepnote_cell_type": "code",
    "deepnote_to_be_reexecuted": false,
    "execution_millis": 1405,
    "execution_start": 1659704679425,
    "source_hash": "282e4408",
    "tags": []
   },
   "outputs": [],
   "source": [
    "transform_all_tasks(data_dir = './data', \n",
    "                    results_dir = './results', \n",
    "                    label = 'ranger')"
   ]
  },
  {
   "cell_type": "markdown",
   "metadata": {
    "cell_id": "600fc1d2e6274b9a93c5d4ca67bf1ea8",
    "deepnote_cell_height": 70,
    "deepnote_cell_type": "markdown",
    "tags": []
   },
   "source": [
    "## Create plots"
   ]
  },
  {
   "cell_type": "code",
   "execution_count": null,
   "metadata": {},
   "outputs": [],
   "source": [
    "# create_aSHAP_plots_for_all_tasks('./results', max_features = 10, bg = 'white')"
   ]
  },
  {
   "cell_type": "code",
   "execution_count": null,
   "metadata": {},
   "outputs": [],
   "source": []
  }
 ],
 "metadata": {
  "deepnote": {},
  "deepnote_execution_queue": [],
  "deepnote_notebook_id": "107fe4ee-80f1-4d91-add4-99d615bd1bb5",
  "kernelspec": {
   "display_name": "R",
   "language": "R",
   "name": "ir"
  },
  "language_info": {
   "codemirror_mode": "r",
   "file_extension": ".r",
   "mimetype": "text/x-r-source",
   "name": "R",
   "pygments_lexer": "r",
   "version": "3.6.3"
  }
 },
 "nbformat": 4,
 "nbformat_minor": 4
}
