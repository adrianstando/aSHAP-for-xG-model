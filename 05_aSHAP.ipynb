{
 "cells": [
  {
   "cell_type": "markdown",
   "metadata": {
    "cell_id": "c7875fda-d0db-4520-be74-c346677c775b",
    "deepnote_cell_height": 186,
    "deepnote_cell_type": "markdown",
    "tags": []
   },
   "source": [
    "# Calculating aSHAP values (aggregated SHAP values)"
   ]
  },
  {
   "cell_type": "markdown",
   "metadata": {
    "cell_id": "00001-53015018-0a3a-4d44-832a-0136a93208f4",
    "deepnote_cell_height": 88,
    "deepnote_cell_type": "markdown",
    "tags": []
   },
   "source": [
    "**ATTENTION:**\n",
    "\n",
    "Notebook language: **R**"
   ]
  },
  {
   "cell_type": "markdown",
   "metadata": {
    "cell_id": "00002-b834f3d1-79da-492e-b445-f5f211d37c4f",
    "deepnote_cell_height": 154,
    "deepnote_cell_type": "markdown",
    "tags": []
   },
   "source": [
    "SHAP values which were calculated in notebook ***04*** will be now transformed to be compatible with aSHAP implementation in *DALEX* package \n",
    "\n",
    "(in future *DALEX* can be used, now functions from a script will be called)"
   ]
  },
  {
   "cell_type": "markdown",
   "metadata": {
    "cell_id": "00003-a491e523-61c6-4a51-b6c5-2463fa3e3b07",
    "deepnote_cell_height": 597,
    "deepnote_cell_type": "markdown",
    "tags": []
   },
   "source": [
    "Theory:\n",
    "\n",
    "As written on https://ema.drwhy.ai/breakDown.html#BDMethodGen Shapley values have the property called *local accuracy*:\n",
    "\n",
    "$f(x_{i}) = v_{0} + \\sum^{p}_{j=1} v(x_{i},j)$,\n",
    "\n",
    "where: \n",
    "\n",
    "* $f$ - model\n",
    "* $v_{0}$ - mean model prediction\n",
    "* $x_{i}$ - i-th observation from a subset to be explained (let it be $X$)\n",
    "* $v(x_{i},j)$ - SHAP value for i-th observation for j-th feature\n",
    "\n",
    "Summing over the whole subset to be explained we get:\n",
    "\n",
    "$\\sum_{i=1}^{N} f(x_{i}) = \\sum_{i=1}^{N} (v_{0} + \\sum^{p}_{j=1} v(x_{i},j))$\n",
    "\n",
    "$\\frac{\\sum_{i=1}^{N} f(x_{i})}{N} = \\frac{\\sum_{i=1}^{N} v_{0} + \\sum_{i=1}^{N} \\sum^{p}_{j=1} v(x_{i},j)}{N}$\n",
    "\n",
    "$\\overline{f(X)} = v_{0} + \\sum^{p}_{j=1} \\overline{v(X, j)}$\n",
    "\n",
    "So, in plots below, *prediction* is an average of preditions over the set $X$, *intercept* is an average predictions over the training set and contributions are average contributions across set $X$."
   ]
  },
  {
   "cell_type": "code",
   "execution_count": null,
   "metadata": {
    "cell_id": "00004-92cd4bf0-8c56-4835-a520-aa4bc9597312",
    "deepnote_cell_height": 76,
    "deepnote_cell_type": "code",
    "deepnote_to_be_reexecuted": false,
    "execution_millis": 11,
    "execution_start": 1661844275092,
    "source_hash": "855f0e72",
    "tags": []
   },
   "outputs": [],
   "source": [
    "source('./scripts/transform_shap.R')"
   ]
  },
  {
   "cell_type": "code",
   "execution_count": null,
   "metadata": {
    "cell_id": "00005-ad58c3a8-a877-43b6-b038-73c11c462cf5",
    "deepnote_cell_height": 76,
    "deepnote_cell_type": "code",
    "deepnote_to_be_reexecuted": false,
    "execution_millis": 16,
    "execution_start": 1661844277325,
    "source_hash": "71653fab",
    "tags": []
   },
   "outputs": [],
   "source": [
    "source('./scripts/aSHAP.R')"
   ]
  },
  {
   "cell_type": "markdown",
   "metadata": {
    "cell_id": "00006-0d8743fe-f088-4e4d-befe-39b5586d946c",
    "deepnote_cell_height": 191,
    "deepnote_cell_type": "markdown",
    "tags": []
   },
   "source": [
    "## Function to transform and to create `shap_aggregated` objects"
   ]
  },
  {
   "cell_type": "markdown",
   "metadata": {
    "cell_id": "00007-786e8b64-378b-42e5-ac07-a7a78e449c1a",
    "deepnote_cell_height": 52,
    "deepnote_cell_type": "markdown",
    "tags": []
   },
   "source": [
    "It is available in `./scripts/transform_shap.R`."
   ]
  },
  {
   "cell_type": "code",
   "execution_count": null,
   "metadata": {
    "cell_id": "00008-cbb9d159-8b7a-4b10-9163-1b3b46b67cc9",
    "deepnote_cell_height": 117,
    "deepnote_cell_type": "code",
    "deepnote_to_be_reexecuted": false,
    "execution_millis": 5494,
    "execution_start": 1661844280097,
    "source_hash": "dfb4a2c1",
    "tags": []
   },
   "outputs": [],
   "source": [
    "transform_all_tasks(data_dir = './data', \n",
    "                    results_dir = './results', \n",
    "                    label = 'ranger')"
   ]
  },
  {
   "cell_type": "markdown",
   "metadata": {
    "cell_id": "00009-29e8968d-6cec-4bcb-b52e-92d3ff6aa275",
    "deepnote_cell_height": 70,
    "deepnote_cell_type": "markdown",
    "tags": []
   },
   "source": [
    "## Create plots"
   ]
  },
  {
   "cell_type": "code",
   "execution_count": null,
   "metadata": {
    "cell_id": "00010-406aeb02-7e68-4fbb-b4ba-dcee9244a034",
    "deepnote_cell_height": 66,
    "deepnote_cell_type": "code"
   },
   "outputs": [],
   "source": [
    "# create_aSHAP_plots_for_all_tasks('./results', max_features = 10, bg = 'white')"
   ]
  },
  {
   "cell_type": "code",
   "execution_count": null,
   "metadata": {
    "cell_id": "00011-0e3cd7e4-34e1-4182-a8ae-60ab91407688",
    "deepnote_cell_height": 61,
    "deepnote_cell_type": "code"
   },
   "outputs": [],
   "source": []
  }
 ],
 "metadata": {
  "deepnote": {},
  "deepnote_execution_queue": [],
  "deepnote_notebook_id": "72921754-93dc-4165-b420-23a05adf12b9",
  "kernelspec": {
   "display_name": "R",
   "language": "R",
   "name": "ir"
  },
  "language_info": {
   "codemirror_mode": "r",
   "file_extension": ".r",
   "mimetype": "text/x-r-source",
   "name": "R",
   "pygments_lexer": "r",
   "version": "3.6.3"
  }
 },
 "nbformat": 4,
 "nbformat_minor": 4
}
