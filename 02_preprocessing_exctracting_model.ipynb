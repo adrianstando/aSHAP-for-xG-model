{
 "cells": [
  {
   "cell_type": "markdown",
   "metadata": {
    "cell_id": "eb63ff91747848b9a4c1057c76f1cf5e",
    "deepnote_cell_height": 134,
    "deepnote_cell_type": "markdown",
    "tags": []
   },
   "source": [
    "# Exctracting model and dataset preprocessing"
   ]
  },
  {
   "cell_type": "markdown",
   "metadata": {
    "cell_id": "89de4e0a01104c47944aaf08fb04a82e",
    "deepnote_cell_height": 88.80000305175781,
    "deepnote_cell_type": "markdown",
    "tags": []
   },
   "source": [
    "**ATTENTION:**\n",
    "\n",
    "Notebook language: **R**"
   ]
  },
  {
   "cell_type": "markdown",
   "metadata": {
    "cell_id": "181cb9b2720447f19f0adada93f36064",
    "deepnote_cell_height": 74.80000305175781,
    "deepnote_cell_type": "markdown",
    "tags": []
   },
   "source": [
    "A model from a paper [EXPLAINABLE EXPECTED GOAL MODELS FOR PERFORMANCE\n",
    "ANALYSIS IN FOOTBALL ANALYTICS](https://arxiv.org/pdf/2206.07212.pdf) will be used for further research. It is a `ranger` model trained on oversampled dataset."
   ]
  },
  {
   "cell_type": "markdown",
   "metadata": {
    "cell_id": "c9bdc8fed0f746c6a290f23526e26e13",
    "deepnote_cell_height": 70,
    "deepnote_cell_type": "markdown",
    "tags": []
   },
   "source": [
    "## Preparing preprocessed dataset"
   ]
  },
  {
   "cell_type": "code",
   "execution_count": 1,
   "metadata": {
    "cell_id": "59d5fdc9-7c64-4e09-b149-d772164fdf66",
    "deepnote_cell_height": 405,
    "deepnote_cell_type": "code",
    "deepnote_output_heights": [
     277
    ],
    "deepnote_to_be_reexecuted": false,
    "execution_millis": 4153,
    "execution_start": 1660055278052,
    "source_hash": "b51a43f9",
    "tags": []
   },
   "outputs": [
    {
     "data": {
      "text/html": [
       "<table class=\"dataframe\">\n",
       "<caption>A data.frame: 6 × 20</caption>\n",
       "<thead>\n",
       "\t<tr><th></th><th scope=col>league</th><th scope=col>id</th><th scope=col>minute</th><th scope=col>result</th><th scope=col>X</th><th scope=col>Y</th><th scope=col>player</th><th scope=col>h_a</th><th scope=col>player_id</th><th scope=col>situation</th><th scope=col>season</th><th scope=col>shotType</th><th scope=col>match_id</th><th scope=col>home_team</th><th scope=col>away_team</th><th scope=col>home_goals</th><th scope=col>away_goals</th><th scope=col>date</th><th scope=col>player_assisted</th><th scope=col>lastAction</th></tr>\n",
       "\t<tr><th></th><th scope=col>&lt;fct&gt;</th><th scope=col>&lt;int&gt;</th><th scope=col>&lt;int&gt;</th><th scope=col>&lt;fct&gt;</th><th scope=col>&lt;dbl&gt;</th><th scope=col>&lt;dbl&gt;</th><th scope=col>&lt;fct&gt;</th><th scope=col>&lt;fct&gt;</th><th scope=col>&lt;int&gt;</th><th scope=col>&lt;fct&gt;</th><th scope=col>&lt;int&gt;</th><th scope=col>&lt;fct&gt;</th><th scope=col>&lt;int&gt;</th><th scope=col>&lt;fct&gt;</th><th scope=col>&lt;fct&gt;</th><th scope=col>&lt;int&gt;</th><th scope=col>&lt;int&gt;</th><th scope=col>&lt;fct&gt;</th><th scope=col>&lt;fct&gt;</th><th scope=col>&lt;fct&gt;</th></tr>\n",
       "</thead>\n",
       "<tbody>\n",
       "\t<tr><th scope=row>1</th><td>Ligue_1</td><td>425095</td><td> 7</td><td>MissedShots</td><td>0.964</td><td>0.654</td><td>Myron Boadu        </td><td>h</td><td>9612</td><td>OpenPlay  </td><td>2021</td><td>LeftFoot </td><td>17822</td><td>Monaco</td><td>Nantes</td><td>1</td><td>1</td><td>2021-08-06 19:00:00</td><td>NA           </td><td>BallRecovery</td></tr>\n",
       "\t<tr><th scope=row>2</th><td>Ligue_1</td><td>425098</td><td>13</td><td>Goal       </td><td>0.925</td><td>0.431</td><td>Gelson Martins     </td><td>h</td><td>7012</td><td>OpenPlay  </td><td>2021</td><td>RightFoot</td><td>17822</td><td>Monaco</td><td>Nantes</td><td>1</td><td>1</td><td>2021-08-06 19:00:00</td><td>Caio Henrique</td><td>Throughball </td></tr>\n",
       "\t<tr><th scope=row>3</th><td>Ligue_1</td><td>425100</td><td>24</td><td>BlockedShot</td><td>0.785</td><td>0.388</td><td>Kevin Volland      </td><td>h</td><td>  83</td><td>OpenPlay  </td><td>2021</td><td>LeftFoot </td><td>17822</td><td>Monaco</td><td>Nantes</td><td>1</td><td>1</td><td>2021-08-06 19:00:00</td><td>NA           </td><td>None        </td></tr>\n",
       "\t<tr><th scope=row>4</th><td>Ligue_1</td><td>425101</td><td>24</td><td>MissedShots</td><td>0.761</td><td>0.525</td><td>Jean Lucas         </td><td>h</td><td>7687</td><td>OpenPlay  </td><td>2021</td><td>RightFoot</td><td>17822</td><td>Monaco</td><td>Nantes</td><td>1</td><td>1</td><td>2021-08-06 19:00:00</td><td>NA           </td><td>Rebound     </td></tr>\n",
       "\t<tr><th scope=row>5</th><td>Ligue_1</td><td>425102</td><td>30</td><td>MissedShots</td><td>0.936</td><td>0.415</td><td>Kevin Volland      </td><td>h</td><td>  83</td><td>FromCorner</td><td>2021</td><td>Head     </td><td>17822</td><td>Monaco</td><td>Nantes</td><td>1</td><td>1</td><td>2021-08-06 19:00:00</td><td>Jean Lucas   </td><td>Aerial      </td></tr>\n",
       "\t<tr><th scope=row>6</th><td>Ligue_1</td><td>425104</td><td>42</td><td>MissedShots</td><td>0.751</td><td>0.511</td><td>Aurelien Tchouameni</td><td>h</td><td>6560</td><td>OpenPlay  </td><td>2021</td><td>RightFoot</td><td>17822</td><td>Monaco</td><td>Nantes</td><td>1</td><td>1</td><td>2021-08-06 19:00:00</td><td>Caio Henrique</td><td>Pass        </td></tr>\n",
       "</tbody>\n",
       "</table>\n"
      ],
      "text/latex": [
       "A data.frame: 6 × 20\n",
       "\\begin{tabular}{r|llllllllllllllllllll}\n",
       "  & league & id & minute & result & X & Y & player & h\\_a & player\\_id & situation & season & shotType & match\\_id & home\\_team & away\\_team & home\\_goals & away\\_goals & date & player\\_assisted & lastAction\\\\\n",
       "  & <fct> & <int> & <int> & <fct> & <dbl> & <dbl> & <fct> & <fct> & <int> & <fct> & <int> & <fct> & <int> & <fct> & <fct> & <int> & <int> & <fct> & <fct> & <fct>\\\\\n",
       "\\hline\n",
       "\t1 & Ligue\\_1 & 425095 &  7 & MissedShots & 0.964 & 0.654 & Myron Boadu         & h & 9612 & OpenPlay   & 2021 & LeftFoot  & 17822 & Monaco & Nantes & 1 & 1 & 2021-08-06 19:00:00 & NA            & BallRecovery\\\\\n",
       "\t2 & Ligue\\_1 & 425098 & 13 & Goal        & 0.925 & 0.431 & Gelson Martins      & h & 7012 & OpenPlay   & 2021 & RightFoot & 17822 & Monaco & Nantes & 1 & 1 & 2021-08-06 19:00:00 & Caio Henrique & Throughball \\\\\n",
       "\t3 & Ligue\\_1 & 425100 & 24 & BlockedShot & 0.785 & 0.388 & Kevin Volland       & h &   83 & OpenPlay   & 2021 & LeftFoot  & 17822 & Monaco & Nantes & 1 & 1 & 2021-08-06 19:00:00 & NA            & None        \\\\\n",
       "\t4 & Ligue\\_1 & 425101 & 24 & MissedShots & 0.761 & 0.525 & Jean Lucas          & h & 7687 & OpenPlay   & 2021 & RightFoot & 17822 & Monaco & Nantes & 1 & 1 & 2021-08-06 19:00:00 & NA            & Rebound     \\\\\n",
       "\t5 & Ligue\\_1 & 425102 & 30 & MissedShots & 0.936 & 0.415 & Kevin Volland       & h &   83 & FromCorner & 2021 & Head      & 17822 & Monaco & Nantes & 1 & 1 & 2021-08-06 19:00:00 & Jean Lucas    & Aerial      \\\\\n",
       "\t6 & Ligue\\_1 & 425104 & 42 & MissedShots & 0.751 & 0.511 & Aurelien Tchouameni & h & 6560 & OpenPlay   & 2021 & RightFoot & 17822 & Monaco & Nantes & 1 & 1 & 2021-08-06 19:00:00 & Caio Henrique & Pass        \\\\\n",
       "\\end{tabular}\n"
      ],
      "text/markdown": [
       "\n",
       "A data.frame: 6 × 20\n",
       "\n",
       "| <!--/--> | league &lt;fct&gt; | id &lt;int&gt; | minute &lt;int&gt; | result &lt;fct&gt; | X &lt;dbl&gt; | Y &lt;dbl&gt; | player &lt;fct&gt; | h_a &lt;fct&gt; | player_id &lt;int&gt; | situation &lt;fct&gt; | season &lt;int&gt; | shotType &lt;fct&gt; | match_id &lt;int&gt; | home_team &lt;fct&gt; | away_team &lt;fct&gt; | home_goals &lt;int&gt; | away_goals &lt;int&gt; | date &lt;fct&gt; | player_assisted &lt;fct&gt; | lastAction &lt;fct&gt; |\n",
       "|---|---|---|---|---|---|---|---|---|---|---|---|---|---|---|---|---|---|---|---|---|\n",
       "| 1 | Ligue_1 | 425095 |  7 | MissedShots | 0.964 | 0.654 | Myron Boadu         | h | 9612 | OpenPlay   | 2021 | LeftFoot  | 17822 | Monaco | Nantes | 1 | 1 | 2021-08-06 19:00:00 | NA            | BallRecovery |\n",
       "| 2 | Ligue_1 | 425098 | 13 | Goal        | 0.925 | 0.431 | Gelson Martins      | h | 7012 | OpenPlay   | 2021 | RightFoot | 17822 | Monaco | Nantes | 1 | 1 | 2021-08-06 19:00:00 | Caio Henrique | Throughball  |\n",
       "| 3 | Ligue_1 | 425100 | 24 | BlockedShot | 0.785 | 0.388 | Kevin Volland       | h |   83 | OpenPlay   | 2021 | LeftFoot  | 17822 | Monaco | Nantes | 1 | 1 | 2021-08-06 19:00:00 | NA            | None         |\n",
       "| 4 | Ligue_1 | 425101 | 24 | MissedShots | 0.761 | 0.525 | Jean Lucas          | h | 7687 | OpenPlay   | 2021 | RightFoot | 17822 | Monaco | Nantes | 1 | 1 | 2021-08-06 19:00:00 | NA            | Rebound      |\n",
       "| 5 | Ligue_1 | 425102 | 30 | MissedShots | 0.936 | 0.415 | Kevin Volland       | h |   83 | FromCorner | 2021 | Head      | 17822 | Monaco | Nantes | 1 | 1 | 2021-08-06 19:00:00 | Jean Lucas    | Aerial       |\n",
       "| 6 | Ligue_1 | 425104 | 42 | MissedShots | 0.751 | 0.511 | Aurelien Tchouameni | h | 6560 | OpenPlay   | 2021 | RightFoot | 17822 | Monaco | Nantes | 1 | 1 | 2021-08-06 19:00:00 | Caio Henrique | Pass         |\n",
       "\n"
      ],
      "text/plain": [
       "  league  id     minute result      X     Y     player              h_a\n",
       "1 Ligue_1 425095  7     MissedShots 0.964 0.654 Myron Boadu         h  \n",
       "2 Ligue_1 425098 13     Goal        0.925 0.431 Gelson Martins      h  \n",
       "3 Ligue_1 425100 24     BlockedShot 0.785 0.388 Kevin Volland       h  \n",
       "4 Ligue_1 425101 24     MissedShots 0.761 0.525 Jean Lucas          h  \n",
       "5 Ligue_1 425102 30     MissedShots 0.936 0.415 Kevin Volland       h  \n",
       "6 Ligue_1 425104 42     MissedShots 0.751 0.511 Aurelien Tchouameni h  \n",
       "  player_id situation  season shotType  match_id home_team away_team home_goals\n",
       "1 9612      OpenPlay   2021   LeftFoot  17822    Monaco    Nantes    1         \n",
       "2 7012      OpenPlay   2021   RightFoot 17822    Monaco    Nantes    1         \n",
       "3   83      OpenPlay   2021   LeftFoot  17822    Monaco    Nantes    1         \n",
       "4 7687      OpenPlay   2021   RightFoot 17822    Monaco    Nantes    1         \n",
       "5   83      FromCorner 2021   Head      17822    Monaco    Nantes    1         \n",
       "6 6560      OpenPlay   2021   RightFoot 17822    Monaco    Nantes    1         \n",
       "  away_goals date                player_assisted lastAction  \n",
       "1 1          2021-08-06 19:00:00 NA              BallRecovery\n",
       "2 1          2021-08-06 19:00:00 Caio Henrique   Throughball \n",
       "3 1          2021-08-06 19:00:00 NA              None        \n",
       "4 1          2021-08-06 19:00:00 NA              Rebound     \n",
       "5 1          2021-08-06 19:00:00 Jean Lucas      Aerial      \n",
       "6 1          2021-08-06 19:00:00 Caio Henrique   Pass        "
      ]
     },
     "metadata": {},
     "output_type": "display_data"
    }
   ],
   "source": [
    "df <- read.csv('./data/raw_data.csv')\n",
    "df <- df[,-1]\n",
    "head(df)"
   ]
  },
  {
   "cell_type": "markdown",
   "metadata": {
    "cell_id": "9f98194e6d4b4863a11ea204290fcb0f",
    "deepnote_cell_height": 52.399993896484375,
    "deepnote_cell_type": "markdown",
    "tags": []
   },
   "source": [
    "Remove `OwnGoal` - it is also a first preprocessing step "
   ]
  },
  {
   "cell_type": "code",
   "execution_count": 3,
   "metadata": {
    "cell_id": "d0bdcf03353940dcad91eb98634bfb24",
    "deepnote_cell_height": 61,
    "deepnote_cell_type": "code",
    "tags": []
   },
   "outputs": [],
   "source": [
    "library(dplyr)"
   ]
  },
  {
   "cell_type": "code",
   "execution_count": 4,
   "metadata": {
    "cell_id": "a132eb416edd4481b0e551e83ec7ade2",
    "deepnote_cell_height": 387,
    "deepnote_cell_type": "code",
    "deepnote_output_heights": [
     277
    ],
    "deepnote_to_be_reexecuted": false,
    "execution_millis": 312,
    "execution_start": 1660055489476,
    "source_hash": "7f343480",
    "tags": []
   },
   "outputs": [
    {
     "data": {
      "text/html": [
       "<table class=\"dataframe\">\n",
       "<caption>A data.frame: 6 × 20</caption>\n",
       "<thead>\n",
       "\t<tr><th></th><th scope=col>league</th><th scope=col>id</th><th scope=col>minute</th><th scope=col>result</th><th scope=col>X</th><th scope=col>Y</th><th scope=col>player</th><th scope=col>h_a</th><th scope=col>player_id</th><th scope=col>situation</th><th scope=col>season</th><th scope=col>shotType</th><th scope=col>match_id</th><th scope=col>home_team</th><th scope=col>away_team</th><th scope=col>home_goals</th><th scope=col>away_goals</th><th scope=col>date</th><th scope=col>player_assisted</th><th scope=col>lastAction</th></tr>\n",
       "\t<tr><th></th><th scope=col>&lt;fct&gt;</th><th scope=col>&lt;int&gt;</th><th scope=col>&lt;int&gt;</th><th scope=col>&lt;fct&gt;</th><th scope=col>&lt;dbl&gt;</th><th scope=col>&lt;dbl&gt;</th><th scope=col>&lt;fct&gt;</th><th scope=col>&lt;fct&gt;</th><th scope=col>&lt;int&gt;</th><th scope=col>&lt;fct&gt;</th><th scope=col>&lt;int&gt;</th><th scope=col>&lt;fct&gt;</th><th scope=col>&lt;int&gt;</th><th scope=col>&lt;fct&gt;</th><th scope=col>&lt;fct&gt;</th><th scope=col>&lt;int&gt;</th><th scope=col>&lt;int&gt;</th><th scope=col>&lt;fct&gt;</th><th scope=col>&lt;fct&gt;</th><th scope=col>&lt;fct&gt;</th></tr>\n",
       "</thead>\n",
       "<tbody>\n",
       "\t<tr><th scope=row>1</th><td>Ligue_1</td><td>425095</td><td> 7</td><td>MissedShots</td><td>0.964</td><td>0.654</td><td>Myron Boadu        </td><td>h</td><td>9612</td><td>OpenPlay  </td><td>2021</td><td>LeftFoot </td><td>17822</td><td>Monaco</td><td>Nantes</td><td>1</td><td>1</td><td>2021-08-06 19:00:00</td><td>NA           </td><td>BallRecovery</td></tr>\n",
       "\t<tr><th scope=row>2</th><td>Ligue_1</td><td>425098</td><td>13</td><td>Goal       </td><td>0.925</td><td>0.431</td><td>Gelson Martins     </td><td>h</td><td>7012</td><td>OpenPlay  </td><td>2021</td><td>RightFoot</td><td>17822</td><td>Monaco</td><td>Nantes</td><td>1</td><td>1</td><td>2021-08-06 19:00:00</td><td>Caio Henrique</td><td>Throughball </td></tr>\n",
       "\t<tr><th scope=row>3</th><td>Ligue_1</td><td>425100</td><td>24</td><td>BlockedShot</td><td>0.785</td><td>0.388</td><td>Kevin Volland      </td><td>h</td><td>  83</td><td>OpenPlay  </td><td>2021</td><td>LeftFoot </td><td>17822</td><td>Monaco</td><td>Nantes</td><td>1</td><td>1</td><td>2021-08-06 19:00:00</td><td>NA           </td><td>None        </td></tr>\n",
       "\t<tr><th scope=row>4</th><td>Ligue_1</td><td>425101</td><td>24</td><td>MissedShots</td><td>0.761</td><td>0.525</td><td>Jean Lucas         </td><td>h</td><td>7687</td><td>OpenPlay  </td><td>2021</td><td>RightFoot</td><td>17822</td><td>Monaco</td><td>Nantes</td><td>1</td><td>1</td><td>2021-08-06 19:00:00</td><td>NA           </td><td>Rebound     </td></tr>\n",
       "\t<tr><th scope=row>5</th><td>Ligue_1</td><td>425102</td><td>30</td><td>MissedShots</td><td>0.936</td><td>0.415</td><td>Kevin Volland      </td><td>h</td><td>  83</td><td>FromCorner</td><td>2021</td><td>Head     </td><td>17822</td><td>Monaco</td><td>Nantes</td><td>1</td><td>1</td><td>2021-08-06 19:00:00</td><td>Jean Lucas   </td><td>Aerial      </td></tr>\n",
       "\t<tr><th scope=row>6</th><td>Ligue_1</td><td>425104</td><td>42</td><td>MissedShots</td><td>0.751</td><td>0.511</td><td>Aurelien Tchouameni</td><td>h</td><td>6560</td><td>OpenPlay  </td><td>2021</td><td>RightFoot</td><td>17822</td><td>Monaco</td><td>Nantes</td><td>1</td><td>1</td><td>2021-08-06 19:00:00</td><td>Caio Henrique</td><td>Pass        </td></tr>\n",
       "</tbody>\n",
       "</table>\n"
      ],
      "text/latex": [
       "A data.frame: 6 × 20\n",
       "\\begin{tabular}{r|llllllllllllllllllll}\n",
       "  & league & id & minute & result & X & Y & player & h\\_a & player\\_id & situation & season & shotType & match\\_id & home\\_team & away\\_team & home\\_goals & away\\_goals & date & player\\_assisted & lastAction\\\\\n",
       "  & <fct> & <int> & <int> & <fct> & <dbl> & <dbl> & <fct> & <fct> & <int> & <fct> & <int> & <fct> & <int> & <fct> & <fct> & <int> & <int> & <fct> & <fct> & <fct>\\\\\n",
       "\\hline\n",
       "\t1 & Ligue\\_1 & 425095 &  7 & MissedShots & 0.964 & 0.654 & Myron Boadu         & h & 9612 & OpenPlay   & 2021 & LeftFoot  & 17822 & Monaco & Nantes & 1 & 1 & 2021-08-06 19:00:00 & NA            & BallRecovery\\\\\n",
       "\t2 & Ligue\\_1 & 425098 & 13 & Goal        & 0.925 & 0.431 & Gelson Martins      & h & 7012 & OpenPlay   & 2021 & RightFoot & 17822 & Monaco & Nantes & 1 & 1 & 2021-08-06 19:00:00 & Caio Henrique & Throughball \\\\\n",
       "\t3 & Ligue\\_1 & 425100 & 24 & BlockedShot & 0.785 & 0.388 & Kevin Volland       & h &   83 & OpenPlay   & 2021 & LeftFoot  & 17822 & Monaco & Nantes & 1 & 1 & 2021-08-06 19:00:00 & NA            & None        \\\\\n",
       "\t4 & Ligue\\_1 & 425101 & 24 & MissedShots & 0.761 & 0.525 & Jean Lucas          & h & 7687 & OpenPlay   & 2021 & RightFoot & 17822 & Monaco & Nantes & 1 & 1 & 2021-08-06 19:00:00 & NA            & Rebound     \\\\\n",
       "\t5 & Ligue\\_1 & 425102 & 30 & MissedShots & 0.936 & 0.415 & Kevin Volland       & h &   83 & FromCorner & 2021 & Head      & 17822 & Monaco & Nantes & 1 & 1 & 2021-08-06 19:00:00 & Jean Lucas    & Aerial      \\\\\n",
       "\t6 & Ligue\\_1 & 425104 & 42 & MissedShots & 0.751 & 0.511 & Aurelien Tchouameni & h & 6560 & OpenPlay   & 2021 & RightFoot & 17822 & Monaco & Nantes & 1 & 1 & 2021-08-06 19:00:00 & Caio Henrique & Pass        \\\\\n",
       "\\end{tabular}\n"
      ],
      "text/markdown": [
       "\n",
       "A data.frame: 6 × 20\n",
       "\n",
       "| <!--/--> | league &lt;fct&gt; | id &lt;int&gt; | minute &lt;int&gt; | result &lt;fct&gt; | X &lt;dbl&gt; | Y &lt;dbl&gt; | player &lt;fct&gt; | h_a &lt;fct&gt; | player_id &lt;int&gt; | situation &lt;fct&gt; | season &lt;int&gt; | shotType &lt;fct&gt; | match_id &lt;int&gt; | home_team &lt;fct&gt; | away_team &lt;fct&gt; | home_goals &lt;int&gt; | away_goals &lt;int&gt; | date &lt;fct&gt; | player_assisted &lt;fct&gt; | lastAction &lt;fct&gt; |\n",
       "|---|---|---|---|---|---|---|---|---|---|---|---|---|---|---|---|---|---|---|---|---|\n",
       "| 1 | Ligue_1 | 425095 |  7 | MissedShots | 0.964 | 0.654 | Myron Boadu         | h | 9612 | OpenPlay   | 2021 | LeftFoot  | 17822 | Monaco | Nantes | 1 | 1 | 2021-08-06 19:00:00 | NA            | BallRecovery |\n",
       "| 2 | Ligue_1 | 425098 | 13 | Goal        | 0.925 | 0.431 | Gelson Martins      | h | 7012 | OpenPlay   | 2021 | RightFoot | 17822 | Monaco | Nantes | 1 | 1 | 2021-08-06 19:00:00 | Caio Henrique | Throughball  |\n",
       "| 3 | Ligue_1 | 425100 | 24 | BlockedShot | 0.785 | 0.388 | Kevin Volland       | h |   83 | OpenPlay   | 2021 | LeftFoot  | 17822 | Monaco | Nantes | 1 | 1 | 2021-08-06 19:00:00 | NA            | None         |\n",
       "| 4 | Ligue_1 | 425101 | 24 | MissedShots | 0.761 | 0.525 | Jean Lucas          | h | 7687 | OpenPlay   | 2021 | RightFoot | 17822 | Monaco | Nantes | 1 | 1 | 2021-08-06 19:00:00 | NA            | Rebound      |\n",
       "| 5 | Ligue_1 | 425102 | 30 | MissedShots | 0.936 | 0.415 | Kevin Volland       | h |   83 | FromCorner | 2021 | Head      | 17822 | Monaco | Nantes | 1 | 1 | 2021-08-06 19:00:00 | Jean Lucas    | Aerial       |\n",
       "| 6 | Ligue_1 | 425104 | 42 | MissedShots | 0.751 | 0.511 | Aurelien Tchouameni | h | 6560 | OpenPlay   | 2021 | RightFoot | 17822 | Monaco | Nantes | 1 | 1 | 2021-08-06 19:00:00 | Caio Henrique | Pass         |\n",
       "\n"
      ],
      "text/plain": [
       "  league  id     minute result      X     Y     player              h_a\n",
       "1 Ligue_1 425095  7     MissedShots 0.964 0.654 Myron Boadu         h  \n",
       "2 Ligue_1 425098 13     Goal        0.925 0.431 Gelson Martins      h  \n",
       "3 Ligue_1 425100 24     BlockedShot 0.785 0.388 Kevin Volland       h  \n",
       "4 Ligue_1 425101 24     MissedShots 0.761 0.525 Jean Lucas          h  \n",
       "5 Ligue_1 425102 30     MissedShots 0.936 0.415 Kevin Volland       h  \n",
       "6 Ligue_1 425104 42     MissedShots 0.751 0.511 Aurelien Tchouameni h  \n",
       "  player_id situation  season shotType  match_id home_team away_team home_goals\n",
       "1 9612      OpenPlay   2021   LeftFoot  17822    Monaco    Nantes    1         \n",
       "2 7012      OpenPlay   2021   RightFoot 17822    Monaco    Nantes    1         \n",
       "3   83      OpenPlay   2021   LeftFoot  17822    Monaco    Nantes    1         \n",
       "4 7687      OpenPlay   2021   RightFoot 17822    Monaco    Nantes    1         \n",
       "5   83      FromCorner 2021   Head      17822    Monaco    Nantes    1         \n",
       "6 6560      OpenPlay   2021   RightFoot 17822    Monaco    Nantes    1         \n",
       "  away_goals date                player_assisted lastAction  \n",
       "1 1          2021-08-06 19:00:00 NA              BallRecovery\n",
       "2 1          2021-08-06 19:00:00 Caio Henrique   Throughball \n",
       "3 1          2021-08-06 19:00:00 NA              None        \n",
       "4 1          2021-08-06 19:00:00 NA              Rebound     \n",
       "5 1          2021-08-06 19:00:00 Jean Lucas      Aerial      \n",
       "6 1          2021-08-06 19:00:00 Caio Henrique   Pass        "
      ]
     },
     "metadata": {},
     "output_type": "display_data"
    }
   ],
   "source": [
    "df <- df %>% filter(result != \"OwnGoal\")\n",
    "head(df)"
   ]
  },
  {
   "cell_type": "markdown",
   "metadata": {
    "cell_id": "32c6771873a245038a912f5749689c70",
    "deepnote_cell_height": 52.399993896484375,
    "deepnote_cell_type": "markdown",
    "tags": []
   },
   "source": [
    "Update `raw_data.csv` to avoid conflicts in future"
   ]
  },
  {
   "cell_type": "code",
   "execution_count": 5,
   "metadata": {
    "cell_id": "2602a42d3d4146fc8c15a12067577b92",
    "deepnote_cell_height": 76,
    "deepnote_cell_type": "code",
    "deepnote_to_be_reexecuted": false,
    "execution_millis": 3757,
    "execution_start": 1660055567289,
    "source_hash": "9ce59142",
    "tags": []
   },
   "outputs": [],
   "source": [
    "write.csv(df, './data/raw_data.csv')"
   ]
  },
  {
   "cell_type": "markdown",
   "metadata": {
    "cell_id": "26c2e9b36a7246019c5edb10305592fa",
    "deepnote_cell_height": 62,
    "deepnote_cell_type": "markdown",
    "tags": []
   },
   "source": [
    "### Preprocessing"
   ]
  },
  {
   "cell_type": "code",
   "execution_count": 6,
   "metadata": {
    "cell_id": "fc2905a69d4a45e79e51c309e884bf46",
    "deepnote_cell_height": 76,
    "deepnote_cell_type": "code",
    "deepnote_to_be_reexecuted": false,
    "execution_millis": 12,
    "execution_start": 1660055382978,
    "source_hash": "fd3f1f31",
    "tags": []
   },
   "outputs": [],
   "source": [
    "source('./scripts/preprocess.R') # preprocessing steps from the paper"
   ]
  },
  {
   "cell_type": "code",
   "execution_count": 7,
   "metadata": {
    "cell_id": "bbfb3647fc794b7088f3c45bde26219e",
    "deepnote_cell_height": 387,
    "deepnote_cell_type": "code",
    "deepnote_output_heights": [
     277
    ],
    "deepnote_to_be_reexecuted": false,
    "execution_millis": 1024,
    "execution_start": 1660055383273,
    "source_hash": "ac414a71",
    "tags": []
   },
   "outputs": [
    {
     "data": {
      "text/html": [
       "<table class=\"dataframe\">\n",
       "<caption>A data.frame: 6 × 8</caption>\n",
       "<thead>\n",
       "\t<tr><th></th><th scope=col>status</th><th scope=col>minute</th><th scope=col>h_a</th><th scope=col>situation</th><th scope=col>shotType</th><th scope=col>lastAction</th><th scope=col>distanceToGoal</th><th scope=col>angleToGoal</th></tr>\n",
       "\t<tr><th></th><th scope=col>&lt;dbl&gt;</th><th scope=col>&lt;dbl&gt;</th><th scope=col>&lt;fct&gt;</th><th scope=col>&lt;fct&gt;</th><th scope=col>&lt;fct&gt;</th><th scope=col>&lt;fct&gt;</th><th scope=col>&lt;dbl&gt;</th><th scope=col>&lt;dbl&gt;</th></tr>\n",
       "</thead>\n",
       "<tbody>\n",
       "\t<tr><th scope=row>1</th><td>0</td><td> 7</td><td>h</td><td>OpenPlay  </td><td>LeftFoot </td><td>BallRecovery</td><td>12.554569</td><td>10.86049</td></tr>\n",
       "\t<tr><th scope=row>2</th><td>1</td><td>13</td><td>h</td><td>OpenPlay  </td><td>RightFoot</td><td>Throughball </td><td> 8.497323</td><td>44.42738</td></tr>\n",
       "\t<tr><th scope=row>3</th><td>0</td><td>24</td><td>h</td><td>OpenPlay  </td><td>LeftFoot </td><td>None        </td><td>23.388803</td><td>17.20585</td></tr>\n",
       "\t<tr><th scope=row>4</th><td>0</td><td>24</td><td>h</td><td>OpenPlay  </td><td>RightFoot</td><td>Rebound     </td><td>25.298204</td><td>16.33905</td></tr>\n",
       "\t<tr><th scope=row>5</th><td>0</td><td>30</td><td>h</td><td>FromCorner</td><td>Head     </td><td>Aerial      </td><td> 7.967234</td><td>44.48587</td></tr>\n",
       "\t<tr><th scope=row>6</th><td>0</td><td>42</td><td>h</td><td>OpenPlay  </td><td>RightFoot</td><td>Pass        </td><td>26.241467</td><td>15.82464</td></tr>\n",
       "</tbody>\n",
       "</table>\n"
      ],
      "text/latex": [
       "A data.frame: 6 × 8\n",
       "\\begin{tabular}{r|llllllll}\n",
       "  & status & minute & h\\_a & situation & shotType & lastAction & distanceToGoal & angleToGoal\\\\\n",
       "  & <dbl> & <dbl> & <fct> & <fct> & <fct> & <fct> & <dbl> & <dbl>\\\\\n",
       "\\hline\n",
       "\t1 & 0 &  7 & h & OpenPlay   & LeftFoot  & BallRecovery & 12.554569 & 10.86049\\\\\n",
       "\t2 & 1 & 13 & h & OpenPlay   & RightFoot & Throughball  &  8.497323 & 44.42738\\\\\n",
       "\t3 & 0 & 24 & h & OpenPlay   & LeftFoot  & None         & 23.388803 & 17.20585\\\\\n",
       "\t4 & 0 & 24 & h & OpenPlay   & RightFoot & Rebound      & 25.298204 & 16.33905\\\\\n",
       "\t5 & 0 & 30 & h & FromCorner & Head      & Aerial       &  7.967234 & 44.48587\\\\\n",
       "\t6 & 0 & 42 & h & OpenPlay   & RightFoot & Pass         & 26.241467 & 15.82464\\\\\n",
       "\\end{tabular}\n"
      ],
      "text/markdown": [
       "\n",
       "A data.frame: 6 × 8\n",
       "\n",
       "| <!--/--> | status &lt;dbl&gt; | minute &lt;dbl&gt; | h_a &lt;fct&gt; | situation &lt;fct&gt; | shotType &lt;fct&gt; | lastAction &lt;fct&gt; | distanceToGoal &lt;dbl&gt; | angleToGoal &lt;dbl&gt; |\n",
       "|---|---|---|---|---|---|---|---|---|\n",
       "| 1 | 0 |  7 | h | OpenPlay   | LeftFoot  | BallRecovery | 12.554569 | 10.86049 |\n",
       "| 2 | 1 | 13 | h | OpenPlay   | RightFoot | Throughball  |  8.497323 | 44.42738 |\n",
       "| 3 | 0 | 24 | h | OpenPlay   | LeftFoot  | None         | 23.388803 | 17.20585 |\n",
       "| 4 | 0 | 24 | h | OpenPlay   | RightFoot | Rebound      | 25.298204 | 16.33905 |\n",
       "| 5 | 0 | 30 | h | FromCorner | Head      | Aerial       |  7.967234 | 44.48587 |\n",
       "| 6 | 0 | 42 | h | OpenPlay   | RightFoot | Pass         | 26.241467 | 15.82464 |\n",
       "\n"
      ],
      "text/plain": [
       "  status minute h_a situation  shotType  lastAction   distanceToGoal\n",
       "1 0       7     h   OpenPlay   LeftFoot  BallRecovery 12.554569     \n",
       "2 1      13     h   OpenPlay   RightFoot Throughball   8.497323     \n",
       "3 0      24     h   OpenPlay   LeftFoot  None         23.388803     \n",
       "4 0      24     h   OpenPlay   RightFoot Rebound      25.298204     \n",
       "5 0      30     h   FromCorner Head      Aerial        7.967234     \n",
       "6 0      42     h   OpenPlay   RightFoot Pass         26.241467     \n",
       "  angleToGoal\n",
       "1 10.86049   \n",
       "2 44.42738   \n",
       "3 17.20585   \n",
       "4 16.33905   \n",
       "5 44.48587   \n",
       "6 15.82464   "
      ]
     },
     "metadata": {},
     "output_type": "display_data"
    }
   ],
   "source": [
    "df_preprocessed <- preprocess(df)\n",
    "head(df_preprocessed)"
   ]
  },
  {
   "cell_type": "code",
   "execution_count": 8,
   "metadata": {},
   "outputs": [],
   "source": [
    "factor_cols <- unlist(lapply(df_preprocessed, is.factor))\n",
    "factor_cols <- names(factor_cols[factor_cols == TRUE])\n",
    "\n",
    "for (col in factor_cols){\n",
    "    df_preprocessed[,col] <- as.integer(df_preprocessed[,col])\n",
    "}"
   ]
  },
  {
   "cell_type": "code",
   "execution_count": 9,
   "metadata": {},
   "outputs": [
    {
     "data": {
      "text/html": [
       "<table class=\"dataframe\">\n",
       "<caption>A data.frame: 6 × 8</caption>\n",
       "<thead>\n",
       "\t<tr><th></th><th scope=col>status</th><th scope=col>minute</th><th scope=col>h_a</th><th scope=col>situation</th><th scope=col>shotType</th><th scope=col>lastAction</th><th scope=col>distanceToGoal</th><th scope=col>angleToGoal</th></tr>\n",
       "\t<tr><th></th><th scope=col>&lt;dbl&gt;</th><th scope=col>&lt;dbl&gt;</th><th scope=col>&lt;int&gt;</th><th scope=col>&lt;int&gt;</th><th scope=col>&lt;int&gt;</th><th scope=col>&lt;int&gt;</th><th scope=col>&lt;dbl&gt;</th><th scope=col>&lt;dbl&gt;</th></tr>\n",
       "</thead>\n",
       "<tbody>\n",
       "\t<tr><th scope=row>1</th><td>0</td><td> 7</td><td>2</td><td>3</td><td>2</td><td> 2</td><td>12.554569</td><td>10.86049</td></tr>\n",
       "\t<tr><th scope=row>2</th><td>1</td><td>13</td><td>2</td><td>3</td><td>4</td><td>39</td><td> 8.497323</td><td>44.42738</td></tr>\n",
       "\t<tr><th scope=row>3</th><td>0</td><td>24</td><td>2</td><td>3</td><td>2</td><td>24</td><td>23.388803</td><td>17.20585</td></tr>\n",
       "\t<tr><th scope=row>4</th><td>0</td><td>24</td><td>2</td><td>3</td><td>4</td><td>29</td><td>25.298204</td><td>16.33905</td></tr>\n",
       "\t<tr><th scope=row>5</th><td>0</td><td>30</td><td>2</td><td>2</td><td>1</td><td> 1</td><td> 7.967234</td><td>44.48587</td></tr>\n",
       "\t<tr><th scope=row>6</th><td>0</td><td>42</td><td>2</td><td>3</td><td>4</td><td>27</td><td>26.241467</td><td>15.82464</td></tr>\n",
       "</tbody>\n",
       "</table>\n"
      ],
      "text/latex": [
       "A data.frame: 6 × 8\n",
       "\\begin{tabular}{r|llllllll}\n",
       "  & status & minute & h\\_a & situation & shotType & lastAction & distanceToGoal & angleToGoal\\\\\n",
       "  & <dbl> & <dbl> & <int> & <int> & <int> & <int> & <dbl> & <dbl>\\\\\n",
       "\\hline\n",
       "\t1 & 0 &  7 & 2 & 3 & 2 &  2 & 12.554569 & 10.86049\\\\\n",
       "\t2 & 1 & 13 & 2 & 3 & 4 & 39 &  8.497323 & 44.42738\\\\\n",
       "\t3 & 0 & 24 & 2 & 3 & 2 & 24 & 23.388803 & 17.20585\\\\\n",
       "\t4 & 0 & 24 & 2 & 3 & 4 & 29 & 25.298204 & 16.33905\\\\\n",
       "\t5 & 0 & 30 & 2 & 2 & 1 &  1 &  7.967234 & 44.48587\\\\\n",
       "\t6 & 0 & 42 & 2 & 3 & 4 & 27 & 26.241467 & 15.82464\\\\\n",
       "\\end{tabular}\n"
      ],
      "text/markdown": [
       "\n",
       "A data.frame: 6 × 8\n",
       "\n",
       "| <!--/--> | status &lt;dbl&gt; | minute &lt;dbl&gt; | h_a &lt;int&gt; | situation &lt;int&gt; | shotType &lt;int&gt; | lastAction &lt;int&gt; | distanceToGoal &lt;dbl&gt; | angleToGoal &lt;dbl&gt; |\n",
       "|---|---|---|---|---|---|---|---|---|\n",
       "| 1 | 0 |  7 | 2 | 3 | 2 |  2 | 12.554569 | 10.86049 |\n",
       "| 2 | 1 | 13 | 2 | 3 | 4 | 39 |  8.497323 | 44.42738 |\n",
       "| 3 | 0 | 24 | 2 | 3 | 2 | 24 | 23.388803 | 17.20585 |\n",
       "| 4 | 0 | 24 | 2 | 3 | 4 | 29 | 25.298204 | 16.33905 |\n",
       "| 5 | 0 | 30 | 2 | 2 | 1 |  1 |  7.967234 | 44.48587 |\n",
       "| 6 | 0 | 42 | 2 | 3 | 4 | 27 | 26.241467 | 15.82464 |\n",
       "\n"
      ],
      "text/plain": [
       "  status minute h_a situation shotType lastAction distanceToGoal angleToGoal\n",
       "1 0       7     2   3         2         2         12.554569      10.86049   \n",
       "2 1      13     2   3         4        39          8.497323      44.42738   \n",
       "3 0      24     2   3         2        24         23.388803      17.20585   \n",
       "4 0      24     2   3         4        29         25.298204      16.33905   \n",
       "5 0      30     2   2         1         1          7.967234      44.48587   \n",
       "6 0      42     2   3         4        27         26.241467      15.82464   "
      ]
     },
     "metadata": {},
     "output_type": "display_data"
    }
   ],
   "source": [
    "head(df_preprocessed)"
   ]
  },
  {
   "cell_type": "code",
   "execution_count": 10,
   "metadata": {
    "cell_id": "af4ba3236e574e939d0f24170af45496",
    "deepnote_cell_height": 76,
    "deepnote_cell_type": "code",
    "deepnote_to_be_reexecuted": false,
    "execution_millis": 2688,
    "execution_start": 1660055599277,
    "source_hash": "a7dbb1c9",
    "tags": []
   },
   "outputs": [],
   "source": [
    "write.csv(df_preprocessed, './data/data_preprocessed.csv')"
   ]
  },
  {
   "cell_type": "markdown",
   "metadata": {
    "cell_id": "460499236f6c4389aacda011205f13d8",
    "deepnote_cell_height": 71,
    "deepnote_cell_type": "markdown",
    "tags": []
   },
   "source": [
    "## Extracting model to `Python` format"
   ]
  },
  {
   "cell_type": "code",
   "execution_count": null,
   "metadata": {
    "cell_id": "5b7ad2aeb32a477ab8239d988a42cb21",
    "deepnote_cell_height": 61,
    "deepnote_cell_type": "code",
    "tags": []
   },
   "outputs": [],
   "source": [
    "model <- readRDS('./model/model.RDS')"
   ]
  },
  {
   "cell_type": "code",
   "execution_count": null,
   "metadata": {
    "cell_id": "8dd91821e9e44d36b15bc0db2fbdb708",
    "deepnote_cell_height": 61,
    "deepnote_cell_type": "code",
    "tags": []
   },
   "outputs": [],
   "source": [
    "# install.packages(\"reticulate\")"
   ]
  },
  {
   "cell_type": "code",
   "execution_count": null,
   "metadata": {
    "cell_id": "022c9a6f4f484fd39eaa31a2ec753bd1",
    "deepnote_cell_height": 61,
    "deepnote_cell_type": "code",
    "tags": []
   },
   "outputs": [],
   "source": [
    "library(reticulate)"
   ]
  },
  {
   "cell_type": "code",
   "execution_count": null,
   "metadata": {
    "cell_id": "c5854d058c5d4bd28378df09c43795c5",
    "deepnote_cell_height": 61,
    "deepnote_cell_type": "code",
    "tags": []
   },
   "outputs": [],
   "source": [
    "py_save_object(model$forest, './model/model-imported.pickle')"
   ]
  },
  {
   "cell_type": "code",
   "execution_count": null,
   "metadata": {
    "cell_id": "ad74f5a38e95463bb341526ce79f9c80",
    "deepnote_cell_height": 61,
    "deepnote_cell_type": "code",
    "tags": []
   },
   "outputs": [],
   "source": []
  }
 ],
 "metadata": {
  "deepnote": {},
  "deepnote_execution_queue": [],
  "deepnote_notebook_id": "ea0e18f1-f455-4ff8-9b27-22c0ebe19dc1",
  "kernelspec": {
   "display_name": "R",
   "language": "R",
   "name": "ir"
  },
  "language_info": {
   "codemirror_mode": "r",
   "file_extension": ".r",
   "mimetype": "text/x-r-source",
   "name": "R",
   "pygments_lexer": "r",
   "version": "3.6.3"
  }
 },
 "nbformat": 4,
 "nbformat_minor": 4
}
