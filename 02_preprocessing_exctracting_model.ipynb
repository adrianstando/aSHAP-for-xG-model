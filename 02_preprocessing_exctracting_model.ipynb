{
 "cells": [
  {
   "cell_type": "markdown",
   "source": "# Exctracting model and dataset preprocessing",
   "metadata": {
    "cell_id": "eb63ff91747848b9a4c1057c76f1cf5e",
    "tags": [],
    "deepnote_cell_type": "markdown",
    "deepnote_cell_height": 134
   }
  },
  {
   "cell_type": "markdown",
   "source": "**ATTENTION:**\n\nNotebook language: **R**",
   "metadata": {
    "cell_id": "89de4e0a01104c47944aaf08fb04a82e",
    "tags": [],
    "deepnote_cell_type": "markdown",
    "deepnote_cell_height": 88.80000305175781
   }
  },
  {
   "cell_type": "markdown",
   "source": "A model from a paper [EXPLAINABLE EXPECTED GOAL MODELS FOR PERFORMANCE\nANALYSIS IN FOOTBALL ANALYTICS](https://arxiv.org/pdf/2206.07212.pdf) will be used for further research. It is a `ranger` model trained on oversampled dataset.",
   "metadata": {
    "cell_id": "181cb9b2720447f19f0adada93f36064",
    "tags": [],
    "deepnote_cell_type": "markdown",
    "deepnote_cell_height": 74.80000305175781
   }
  },
  {
   "cell_type": "markdown",
   "source": "## Preparing preprocessed dataset",
   "metadata": {
    "cell_id": "c9bdc8fed0f746c6a290f23526e26e13",
    "tags": [],
    "deepnote_cell_type": "markdown",
    "deepnote_cell_height": 70
   }
  },
  {
   "cell_type": "code",
   "metadata": {
    "tags": [],
    "cell_id": "59d5fdc9-7c64-4e09-b149-d772164fdf66",
    "deepnote_to_be_reexecuted": false,
    "source_hash": "b51a43f9",
    "execution_start": 1660055278052,
    "execution_millis": 4153,
    "deepnote_cell_type": "code",
    "deepnote_cell_height": 405,
    "deepnote_output_heights": [
     277
    ]
   },
   "source": "df <- read.csv('./data/raw_data.csv')\ndf <- df[,-1]\nhead(df)",
   "execution_count": 2,
   "outputs": [
    {
     "data": {
      "text/html": "<table class=\"dataframe\">\n<caption>A data.frame: 6 × 20</caption>\n<thead>\n\t<tr><th></th><th scope=col>league</th><th scope=col>id</th><th scope=col>minute</th><th scope=col>result</th><th scope=col>X</th><th scope=col>Y</th><th scope=col>player</th><th scope=col>h_a</th><th scope=col>player_id</th><th scope=col>situation</th><th scope=col>season</th><th scope=col>shotType</th><th scope=col>match_id</th><th scope=col>home_team</th><th scope=col>away_team</th><th scope=col>home_goals</th><th scope=col>away_goals</th><th scope=col>date</th><th scope=col>player_assisted</th><th scope=col>lastAction</th></tr>\n\t<tr><th></th><th scope=col>&lt;chr&gt;</th><th scope=col>&lt;int&gt;</th><th scope=col>&lt;int&gt;</th><th scope=col>&lt;chr&gt;</th><th scope=col>&lt;dbl&gt;</th><th scope=col>&lt;dbl&gt;</th><th scope=col>&lt;chr&gt;</th><th scope=col>&lt;chr&gt;</th><th scope=col>&lt;int&gt;</th><th scope=col>&lt;chr&gt;</th><th scope=col>&lt;int&gt;</th><th scope=col>&lt;chr&gt;</th><th scope=col>&lt;int&gt;</th><th scope=col>&lt;chr&gt;</th><th scope=col>&lt;chr&gt;</th><th scope=col>&lt;int&gt;</th><th scope=col>&lt;int&gt;</th><th scope=col>&lt;chr&gt;</th><th scope=col>&lt;chr&gt;</th><th scope=col>&lt;chr&gt;</th></tr>\n</thead>\n<tbody>\n\t<tr><th scope=row>1</th><td>Ligue_1</td><td>425095</td><td> 7</td><td>MissedShots</td><td>0.964</td><td>0.654</td><td>Myron Boadu        </td><td>h</td><td>9612</td><td>OpenPlay  </td><td>2021</td><td>LeftFoot </td><td>17822</td><td>Monaco</td><td>Nantes</td><td>1</td><td>1</td><td>2021-08-06 19:00:00</td><td>NA           </td><td>BallRecovery</td></tr>\n\t<tr><th scope=row>2</th><td>Ligue_1</td><td>425098</td><td>13</td><td>Goal       </td><td>0.925</td><td>0.431</td><td>Gelson Martins     </td><td>h</td><td>7012</td><td>OpenPlay  </td><td>2021</td><td>RightFoot</td><td>17822</td><td>Monaco</td><td>Nantes</td><td>1</td><td>1</td><td>2021-08-06 19:00:00</td><td>Caio Henrique</td><td>Throughball </td></tr>\n\t<tr><th scope=row>3</th><td>Ligue_1</td><td>425100</td><td>24</td><td>BlockedShot</td><td>0.785</td><td>0.388</td><td>Kevin Volland      </td><td>h</td><td>  83</td><td>OpenPlay  </td><td>2021</td><td>LeftFoot </td><td>17822</td><td>Monaco</td><td>Nantes</td><td>1</td><td>1</td><td>2021-08-06 19:00:00</td><td>NA           </td><td>None        </td></tr>\n\t<tr><th scope=row>4</th><td>Ligue_1</td><td>425101</td><td>24</td><td>MissedShots</td><td>0.761</td><td>0.525</td><td>Jean Lucas         </td><td>h</td><td>7687</td><td>OpenPlay  </td><td>2021</td><td>RightFoot</td><td>17822</td><td>Monaco</td><td>Nantes</td><td>1</td><td>1</td><td>2021-08-06 19:00:00</td><td>NA           </td><td>Rebound     </td></tr>\n\t<tr><th scope=row>5</th><td>Ligue_1</td><td>425102</td><td>30</td><td>MissedShots</td><td>0.936</td><td>0.415</td><td>Kevin Volland      </td><td>h</td><td>  83</td><td>FromCorner</td><td>2021</td><td>Head     </td><td>17822</td><td>Monaco</td><td>Nantes</td><td>1</td><td>1</td><td>2021-08-06 19:00:00</td><td>Jean Lucas   </td><td>Aerial      </td></tr>\n\t<tr><th scope=row>6</th><td>Ligue_1</td><td>425104</td><td>42</td><td>MissedShots</td><td>0.751</td><td>0.511</td><td>Aurelien Tchouameni</td><td>h</td><td>6560</td><td>OpenPlay  </td><td>2021</td><td>RightFoot</td><td>17822</td><td>Monaco</td><td>Nantes</td><td>1</td><td>1</td><td>2021-08-06 19:00:00</td><td>Caio Henrique</td><td>Pass        </td></tr>\n</tbody>\n</table>\n",
      "text/markdown": "\nA data.frame: 6 × 20\n\n| <!--/--> | league &lt;chr&gt; | id &lt;int&gt; | minute &lt;int&gt; | result &lt;chr&gt; | X &lt;dbl&gt; | Y &lt;dbl&gt; | player &lt;chr&gt; | h_a &lt;chr&gt; | player_id &lt;int&gt; | situation &lt;chr&gt; | season &lt;int&gt; | shotType &lt;chr&gt; | match_id &lt;int&gt; | home_team &lt;chr&gt; | away_team &lt;chr&gt; | home_goals &lt;int&gt; | away_goals &lt;int&gt; | date &lt;chr&gt; | player_assisted &lt;chr&gt; | lastAction &lt;chr&gt; |\n|---|---|---|---|---|---|---|---|---|---|---|---|---|---|---|---|---|---|---|---|---|\n| 1 | Ligue_1 | 425095 |  7 | MissedShots | 0.964 | 0.654 | Myron Boadu         | h | 9612 | OpenPlay   | 2021 | LeftFoot  | 17822 | Monaco | Nantes | 1 | 1 | 2021-08-06 19:00:00 | NA            | BallRecovery |\n| 2 | Ligue_1 | 425098 | 13 | Goal        | 0.925 | 0.431 | Gelson Martins      | h | 7012 | OpenPlay   | 2021 | RightFoot | 17822 | Monaco | Nantes | 1 | 1 | 2021-08-06 19:00:00 | Caio Henrique | Throughball  |\n| 3 | Ligue_1 | 425100 | 24 | BlockedShot | 0.785 | 0.388 | Kevin Volland       | h |   83 | OpenPlay   | 2021 | LeftFoot  | 17822 | Monaco | Nantes | 1 | 1 | 2021-08-06 19:00:00 | NA            | None         |\n| 4 | Ligue_1 | 425101 | 24 | MissedShots | 0.761 | 0.525 | Jean Lucas          | h | 7687 | OpenPlay   | 2021 | RightFoot | 17822 | Monaco | Nantes | 1 | 1 | 2021-08-06 19:00:00 | NA            | Rebound      |\n| 5 | Ligue_1 | 425102 | 30 | MissedShots | 0.936 | 0.415 | Kevin Volland       | h |   83 | FromCorner | 2021 | Head      | 17822 | Monaco | Nantes | 1 | 1 | 2021-08-06 19:00:00 | Jean Lucas    | Aerial       |\n| 6 | Ligue_1 | 425104 | 42 | MissedShots | 0.751 | 0.511 | Aurelien Tchouameni | h | 6560 | OpenPlay   | 2021 | RightFoot | 17822 | Monaco | Nantes | 1 | 1 | 2021-08-06 19:00:00 | Caio Henrique | Pass         |\n\n",
      "text/latex": "A data.frame: 6 × 20\n\\begin{tabular}{r|llllllllllllllllllll}\n  & league & id & minute & result & X & Y & player & h\\_a & player\\_id & situation & season & shotType & match\\_id & home\\_team & away\\_team & home\\_goals & away\\_goals & date & player\\_assisted & lastAction\\\\\n  & <chr> & <int> & <int> & <chr> & <dbl> & <dbl> & <chr> & <chr> & <int> & <chr> & <int> & <chr> & <int> & <chr> & <chr> & <int> & <int> & <chr> & <chr> & <chr>\\\\\n\\hline\n\t1 & Ligue\\_1 & 425095 &  7 & MissedShots & 0.964 & 0.654 & Myron Boadu         & h & 9612 & OpenPlay   & 2021 & LeftFoot  & 17822 & Monaco & Nantes & 1 & 1 & 2021-08-06 19:00:00 & NA            & BallRecovery\\\\\n\t2 & Ligue\\_1 & 425098 & 13 & Goal        & 0.925 & 0.431 & Gelson Martins      & h & 7012 & OpenPlay   & 2021 & RightFoot & 17822 & Monaco & Nantes & 1 & 1 & 2021-08-06 19:00:00 & Caio Henrique & Throughball \\\\\n\t3 & Ligue\\_1 & 425100 & 24 & BlockedShot & 0.785 & 0.388 & Kevin Volland       & h &   83 & OpenPlay   & 2021 & LeftFoot  & 17822 & Monaco & Nantes & 1 & 1 & 2021-08-06 19:00:00 & NA            & None        \\\\\n\t4 & Ligue\\_1 & 425101 & 24 & MissedShots & 0.761 & 0.525 & Jean Lucas          & h & 7687 & OpenPlay   & 2021 & RightFoot & 17822 & Monaco & Nantes & 1 & 1 & 2021-08-06 19:00:00 & NA            & Rebound     \\\\\n\t5 & Ligue\\_1 & 425102 & 30 & MissedShots & 0.936 & 0.415 & Kevin Volland       & h &   83 & FromCorner & 2021 & Head      & 17822 & Monaco & Nantes & 1 & 1 & 2021-08-06 19:00:00 & Jean Lucas    & Aerial      \\\\\n\t6 & Ligue\\_1 & 425104 & 42 & MissedShots & 0.751 & 0.511 & Aurelien Tchouameni & h & 6560 & OpenPlay   & 2021 & RightFoot & 17822 & Monaco & Nantes & 1 & 1 & 2021-08-06 19:00:00 & Caio Henrique & Pass        \\\\\n\\end{tabular}\n",
      "text/plain": "  league  id     minute result      X     Y     player              h_a\n1 Ligue_1 425095  7     MissedShots 0.964 0.654 Myron Boadu         h  \n2 Ligue_1 425098 13     Goal        0.925 0.431 Gelson Martins      h  \n3 Ligue_1 425100 24     BlockedShot 0.785 0.388 Kevin Volland       h  \n4 Ligue_1 425101 24     MissedShots 0.761 0.525 Jean Lucas          h  \n5 Ligue_1 425102 30     MissedShots 0.936 0.415 Kevin Volland       h  \n6 Ligue_1 425104 42     MissedShots 0.751 0.511 Aurelien Tchouameni h  \n  player_id situation  season shotType  match_id home_team away_team home_goals\n1 9612      OpenPlay   2021   LeftFoot  17822    Monaco    Nantes    1         \n2 7012      OpenPlay   2021   RightFoot 17822    Monaco    Nantes    1         \n3   83      OpenPlay   2021   LeftFoot  17822    Monaco    Nantes    1         \n4 7687      OpenPlay   2021   RightFoot 17822    Monaco    Nantes    1         \n5   83      FromCorner 2021   Head      17822    Monaco    Nantes    1         \n6 6560      OpenPlay   2021   RightFoot 17822    Monaco    Nantes    1         \n  away_goals date                player_assisted lastAction  \n1 1          2021-08-06 19:00:00 NA              BallRecovery\n2 1          2021-08-06 19:00:00 Caio Henrique   Throughball \n3 1          2021-08-06 19:00:00 NA              None        \n4 1          2021-08-06 19:00:00 NA              Rebound     \n5 1          2021-08-06 19:00:00 Jean Lucas      Aerial      \n6 1          2021-08-06 19:00:00 Caio Henrique   Pass        "
     },
     "metadata": {},
     "output_type": "display_data"
    }
   ]
  },
  {
   "cell_type": "markdown",
   "source": "Remove `OwnGoal` - it is also a first preprocessing step ",
   "metadata": {
    "cell_id": "9f98194e6d4b4863a11ea204290fcb0f",
    "tags": [],
    "deepnote_cell_type": "markdown",
    "deepnote_cell_height": 52.399993896484375
   }
  },
  {
   "cell_type": "code",
   "metadata": {
    "cell_id": "d0bdcf03353940dcad91eb98634bfb24",
    "tags": [],
    "deepnote_cell_type": "code",
    "deepnote_cell_height": 61
   },
   "source": "library(dplyr)",
   "execution_count": null,
   "outputs": []
  },
  {
   "cell_type": "code",
   "metadata": {
    "cell_id": "a132eb416edd4481b0e551e83ec7ade2",
    "tags": [],
    "deepnote_to_be_reexecuted": false,
    "source_hash": "7f343480",
    "execution_start": 1660055489476,
    "execution_millis": 312,
    "deepnote_cell_type": "code",
    "deepnote_cell_height": 387,
    "deepnote_output_heights": [
     277
    ]
   },
   "source": "df <- df %>% filter(result != \"OwnGoal\")\nhead(df)",
   "execution_count": 11,
   "outputs": [
    {
     "data": {
      "text/html": "<table class=\"dataframe\">\n<caption>A data.frame: 6 × 20</caption>\n<thead>\n\t<tr><th></th><th scope=col>league</th><th scope=col>id</th><th scope=col>minute</th><th scope=col>result</th><th scope=col>X</th><th scope=col>Y</th><th scope=col>player</th><th scope=col>h_a</th><th scope=col>player_id</th><th scope=col>situation</th><th scope=col>season</th><th scope=col>shotType</th><th scope=col>match_id</th><th scope=col>home_team</th><th scope=col>away_team</th><th scope=col>home_goals</th><th scope=col>away_goals</th><th scope=col>date</th><th scope=col>player_assisted</th><th scope=col>lastAction</th></tr>\n\t<tr><th></th><th scope=col>&lt;chr&gt;</th><th scope=col>&lt;int&gt;</th><th scope=col>&lt;int&gt;</th><th scope=col>&lt;chr&gt;</th><th scope=col>&lt;dbl&gt;</th><th scope=col>&lt;dbl&gt;</th><th scope=col>&lt;chr&gt;</th><th scope=col>&lt;chr&gt;</th><th scope=col>&lt;int&gt;</th><th scope=col>&lt;chr&gt;</th><th scope=col>&lt;int&gt;</th><th scope=col>&lt;chr&gt;</th><th scope=col>&lt;int&gt;</th><th scope=col>&lt;chr&gt;</th><th scope=col>&lt;chr&gt;</th><th scope=col>&lt;int&gt;</th><th scope=col>&lt;int&gt;</th><th scope=col>&lt;chr&gt;</th><th scope=col>&lt;chr&gt;</th><th scope=col>&lt;chr&gt;</th></tr>\n</thead>\n<tbody>\n\t<tr><th scope=row>1</th><td>Ligue_1</td><td>425095</td><td> 7</td><td>MissedShots</td><td>0.964</td><td>0.654</td><td>Myron Boadu        </td><td>h</td><td>9612</td><td>OpenPlay  </td><td>2021</td><td>LeftFoot </td><td>17822</td><td>Monaco</td><td>Nantes</td><td>1</td><td>1</td><td>2021-08-06 19:00:00</td><td>NA           </td><td>BallRecovery</td></tr>\n\t<tr><th scope=row>2</th><td>Ligue_1</td><td>425098</td><td>13</td><td>Goal       </td><td>0.925</td><td>0.431</td><td>Gelson Martins     </td><td>h</td><td>7012</td><td>OpenPlay  </td><td>2021</td><td>RightFoot</td><td>17822</td><td>Monaco</td><td>Nantes</td><td>1</td><td>1</td><td>2021-08-06 19:00:00</td><td>Caio Henrique</td><td>Throughball </td></tr>\n\t<tr><th scope=row>3</th><td>Ligue_1</td><td>425100</td><td>24</td><td>BlockedShot</td><td>0.785</td><td>0.388</td><td>Kevin Volland      </td><td>h</td><td>  83</td><td>OpenPlay  </td><td>2021</td><td>LeftFoot </td><td>17822</td><td>Monaco</td><td>Nantes</td><td>1</td><td>1</td><td>2021-08-06 19:00:00</td><td>NA           </td><td>None        </td></tr>\n\t<tr><th scope=row>4</th><td>Ligue_1</td><td>425101</td><td>24</td><td>MissedShots</td><td>0.761</td><td>0.525</td><td>Jean Lucas         </td><td>h</td><td>7687</td><td>OpenPlay  </td><td>2021</td><td>RightFoot</td><td>17822</td><td>Monaco</td><td>Nantes</td><td>1</td><td>1</td><td>2021-08-06 19:00:00</td><td>NA           </td><td>Rebound     </td></tr>\n\t<tr><th scope=row>5</th><td>Ligue_1</td><td>425102</td><td>30</td><td>MissedShots</td><td>0.936</td><td>0.415</td><td>Kevin Volland      </td><td>h</td><td>  83</td><td>FromCorner</td><td>2021</td><td>Head     </td><td>17822</td><td>Monaco</td><td>Nantes</td><td>1</td><td>1</td><td>2021-08-06 19:00:00</td><td>Jean Lucas   </td><td>Aerial      </td></tr>\n\t<tr><th scope=row>6</th><td>Ligue_1</td><td>425104</td><td>42</td><td>MissedShots</td><td>0.751</td><td>0.511</td><td>Aurelien Tchouameni</td><td>h</td><td>6560</td><td>OpenPlay  </td><td>2021</td><td>RightFoot</td><td>17822</td><td>Monaco</td><td>Nantes</td><td>1</td><td>1</td><td>2021-08-06 19:00:00</td><td>Caio Henrique</td><td>Pass        </td></tr>\n</tbody>\n</table>\n",
      "text/markdown": "\nA data.frame: 6 × 20\n\n| <!--/--> | league &lt;chr&gt; | id &lt;int&gt; | minute &lt;int&gt; | result &lt;chr&gt; | X &lt;dbl&gt; | Y &lt;dbl&gt; | player &lt;chr&gt; | h_a &lt;chr&gt; | player_id &lt;int&gt; | situation &lt;chr&gt; | season &lt;int&gt; | shotType &lt;chr&gt; | match_id &lt;int&gt; | home_team &lt;chr&gt; | away_team &lt;chr&gt; | home_goals &lt;int&gt; | away_goals &lt;int&gt; | date &lt;chr&gt; | player_assisted &lt;chr&gt; | lastAction &lt;chr&gt; |\n|---|---|---|---|---|---|---|---|---|---|---|---|---|---|---|---|---|---|---|---|---|\n| 1 | Ligue_1 | 425095 |  7 | MissedShots | 0.964 | 0.654 | Myron Boadu         | h | 9612 | OpenPlay   | 2021 | LeftFoot  | 17822 | Monaco | Nantes | 1 | 1 | 2021-08-06 19:00:00 | NA            | BallRecovery |\n| 2 | Ligue_1 | 425098 | 13 | Goal        | 0.925 | 0.431 | Gelson Martins      | h | 7012 | OpenPlay   | 2021 | RightFoot | 17822 | Monaco | Nantes | 1 | 1 | 2021-08-06 19:00:00 | Caio Henrique | Throughball  |\n| 3 | Ligue_1 | 425100 | 24 | BlockedShot | 0.785 | 0.388 | Kevin Volland       | h |   83 | OpenPlay   | 2021 | LeftFoot  | 17822 | Monaco | Nantes | 1 | 1 | 2021-08-06 19:00:00 | NA            | None         |\n| 4 | Ligue_1 | 425101 | 24 | MissedShots | 0.761 | 0.525 | Jean Lucas          | h | 7687 | OpenPlay   | 2021 | RightFoot | 17822 | Monaco | Nantes | 1 | 1 | 2021-08-06 19:00:00 | NA            | Rebound      |\n| 5 | Ligue_1 | 425102 | 30 | MissedShots | 0.936 | 0.415 | Kevin Volland       | h |   83 | FromCorner | 2021 | Head      | 17822 | Monaco | Nantes | 1 | 1 | 2021-08-06 19:00:00 | Jean Lucas    | Aerial       |\n| 6 | Ligue_1 | 425104 | 42 | MissedShots | 0.751 | 0.511 | Aurelien Tchouameni | h | 6560 | OpenPlay   | 2021 | RightFoot | 17822 | Monaco | Nantes | 1 | 1 | 2021-08-06 19:00:00 | Caio Henrique | Pass         |\n\n",
      "text/latex": "A data.frame: 6 × 20\n\\begin{tabular}{r|llllllllllllllllllll}\n  & league & id & minute & result & X & Y & player & h\\_a & player\\_id & situation & season & shotType & match\\_id & home\\_team & away\\_team & home\\_goals & away\\_goals & date & player\\_assisted & lastAction\\\\\n  & <chr> & <int> & <int> & <chr> & <dbl> & <dbl> & <chr> & <chr> & <int> & <chr> & <int> & <chr> & <int> & <chr> & <chr> & <int> & <int> & <chr> & <chr> & <chr>\\\\\n\\hline\n\t1 & Ligue\\_1 & 425095 &  7 & MissedShots & 0.964 & 0.654 & Myron Boadu         & h & 9612 & OpenPlay   & 2021 & LeftFoot  & 17822 & Monaco & Nantes & 1 & 1 & 2021-08-06 19:00:00 & NA            & BallRecovery\\\\\n\t2 & Ligue\\_1 & 425098 & 13 & Goal        & 0.925 & 0.431 & Gelson Martins      & h & 7012 & OpenPlay   & 2021 & RightFoot & 17822 & Monaco & Nantes & 1 & 1 & 2021-08-06 19:00:00 & Caio Henrique & Throughball \\\\\n\t3 & Ligue\\_1 & 425100 & 24 & BlockedShot & 0.785 & 0.388 & Kevin Volland       & h &   83 & OpenPlay   & 2021 & LeftFoot  & 17822 & Monaco & Nantes & 1 & 1 & 2021-08-06 19:00:00 & NA            & None        \\\\\n\t4 & Ligue\\_1 & 425101 & 24 & MissedShots & 0.761 & 0.525 & Jean Lucas          & h & 7687 & OpenPlay   & 2021 & RightFoot & 17822 & Monaco & Nantes & 1 & 1 & 2021-08-06 19:00:00 & NA            & Rebound     \\\\\n\t5 & Ligue\\_1 & 425102 & 30 & MissedShots & 0.936 & 0.415 & Kevin Volland       & h &   83 & FromCorner & 2021 & Head      & 17822 & Monaco & Nantes & 1 & 1 & 2021-08-06 19:00:00 & Jean Lucas    & Aerial      \\\\\n\t6 & Ligue\\_1 & 425104 & 42 & MissedShots & 0.751 & 0.511 & Aurelien Tchouameni & h & 6560 & OpenPlay   & 2021 & RightFoot & 17822 & Monaco & Nantes & 1 & 1 & 2021-08-06 19:00:00 & Caio Henrique & Pass        \\\\\n\\end{tabular}\n",
      "text/plain": "  league  id     minute result      X     Y     player              h_a\n1 Ligue_1 425095  7     MissedShots 0.964 0.654 Myron Boadu         h  \n2 Ligue_1 425098 13     Goal        0.925 0.431 Gelson Martins      h  \n3 Ligue_1 425100 24     BlockedShot 0.785 0.388 Kevin Volland       h  \n4 Ligue_1 425101 24     MissedShots 0.761 0.525 Jean Lucas          h  \n5 Ligue_1 425102 30     MissedShots 0.936 0.415 Kevin Volland       h  \n6 Ligue_1 425104 42     MissedShots 0.751 0.511 Aurelien Tchouameni h  \n  player_id situation  season shotType  match_id home_team away_team home_goals\n1 9612      OpenPlay   2021   LeftFoot  17822    Monaco    Nantes    1         \n2 7012      OpenPlay   2021   RightFoot 17822    Monaco    Nantes    1         \n3   83      OpenPlay   2021   LeftFoot  17822    Monaco    Nantes    1         \n4 7687      OpenPlay   2021   RightFoot 17822    Monaco    Nantes    1         \n5   83      FromCorner 2021   Head      17822    Monaco    Nantes    1         \n6 6560      OpenPlay   2021   RightFoot 17822    Monaco    Nantes    1         \n  away_goals date                player_assisted lastAction  \n1 1          2021-08-06 19:00:00 NA              BallRecovery\n2 1          2021-08-06 19:00:00 Caio Henrique   Throughball \n3 1          2021-08-06 19:00:00 NA              None        \n4 1          2021-08-06 19:00:00 NA              Rebound     \n5 1          2021-08-06 19:00:00 Jean Lucas      Aerial      \n6 1          2021-08-06 19:00:00 Caio Henrique   Pass        "
     },
     "metadata": {},
     "output_type": "display_data"
    }
   ]
  },
  {
   "cell_type": "markdown",
   "source": "Update `raw_data.csv` to avoid conflicts in future",
   "metadata": {
    "cell_id": "32c6771873a245038a912f5749689c70",
    "tags": [],
    "deepnote_cell_type": "markdown",
    "deepnote_cell_height": 52.399993896484375
   }
  },
  {
   "cell_type": "code",
   "metadata": {
    "cell_id": "2602a42d3d4146fc8c15a12067577b92",
    "tags": [],
    "deepnote_to_be_reexecuted": false,
    "source_hash": "9ce59142",
    "execution_start": 1660055567289,
    "execution_millis": 3757,
    "deepnote_cell_type": "code",
    "deepnote_cell_height": 76
   },
   "source": "write.csv(df, './data/raw_data.csv')",
   "execution_count": 12,
   "outputs": []
  },
  {
   "cell_type": "markdown",
   "source": "### Preprocessing",
   "metadata": {
    "cell_id": "26c2e9b36a7246019c5edb10305592fa",
    "tags": [],
    "deepnote_cell_type": "markdown",
    "deepnote_cell_height": 62
   }
  },
  {
   "cell_type": "code",
   "metadata": {
    "cell_id": "fc2905a69d4a45e79e51c309e884bf46",
    "tags": [],
    "deepnote_to_be_reexecuted": false,
    "source_hash": "fd3f1f31",
    "execution_start": 1660055382978,
    "execution_millis": 12,
    "deepnote_cell_type": "code",
    "deepnote_cell_height": 76
   },
   "source": "source('./scripts/preprocess.R') #preprocessing steps from the paper",
   "execution_count": 9,
   "outputs": []
  },
  {
   "cell_type": "code",
   "metadata": {
    "cell_id": "bbfb3647fc794b7088f3c45bde26219e",
    "tags": [],
    "deepnote_to_be_reexecuted": false,
    "source_hash": "ac414a71",
    "execution_start": 1660055383273,
    "execution_millis": 1024,
    "deepnote_cell_type": "code",
    "deepnote_cell_height": 387,
    "deepnote_output_heights": [
     277
    ]
   },
   "source": "df_preprocessed <- preprocess(df)\nhead(df_preprocessed)",
   "execution_count": 10,
   "outputs": [
    {
     "data": {
      "text/html": "<table class=\"dataframe\">\n<caption>A data.frame: 6 × 8</caption>\n<thead>\n\t<tr><th></th><th scope=col>status</th><th scope=col>minute</th><th scope=col>h_a</th><th scope=col>situation</th><th scope=col>shotType</th><th scope=col>lastAction</th><th scope=col>distanceToGoal</th><th scope=col>angleToGoal</th></tr>\n\t<tr><th></th><th scope=col>&lt;dbl&gt;</th><th scope=col>&lt;dbl&gt;</th><th scope=col>&lt;fct&gt;</th><th scope=col>&lt;fct&gt;</th><th scope=col>&lt;fct&gt;</th><th scope=col>&lt;fct&gt;</th><th scope=col>&lt;dbl&gt;</th><th scope=col>&lt;dbl&gt;</th></tr>\n</thead>\n<tbody>\n\t<tr><th scope=row>1</th><td>0</td><td> 7</td><td>h</td><td>OpenPlay  </td><td>LeftFoot </td><td>BallRecovery</td><td>12.554569</td><td>10.86049</td></tr>\n\t<tr><th scope=row>2</th><td>1</td><td>13</td><td>h</td><td>OpenPlay  </td><td>RightFoot</td><td>Throughball </td><td> 8.497323</td><td>44.42738</td></tr>\n\t<tr><th scope=row>3</th><td>0</td><td>24</td><td>h</td><td>OpenPlay  </td><td>LeftFoot </td><td>None        </td><td>23.388803</td><td>17.20585</td></tr>\n\t<tr><th scope=row>4</th><td>0</td><td>24</td><td>h</td><td>OpenPlay  </td><td>RightFoot</td><td>Rebound     </td><td>25.298204</td><td>16.33905</td></tr>\n\t<tr><th scope=row>5</th><td>0</td><td>30</td><td>h</td><td>FromCorner</td><td>Head     </td><td>Aerial      </td><td> 7.967234</td><td>44.48587</td></tr>\n\t<tr><th scope=row>6</th><td>0</td><td>42</td><td>h</td><td>OpenPlay  </td><td>RightFoot</td><td>Pass        </td><td>26.241467</td><td>15.82464</td></tr>\n</tbody>\n</table>\n",
      "text/markdown": "\nA data.frame: 6 × 8\n\n| <!--/--> | status &lt;dbl&gt; | minute &lt;dbl&gt; | h_a &lt;fct&gt; | situation &lt;fct&gt; | shotType &lt;fct&gt; | lastAction &lt;fct&gt; | distanceToGoal &lt;dbl&gt; | angleToGoal &lt;dbl&gt; |\n|---|---|---|---|---|---|---|---|---|\n| 1 | 0 |  7 | h | OpenPlay   | LeftFoot  | BallRecovery | 12.554569 | 10.86049 |\n| 2 | 1 | 13 | h | OpenPlay   | RightFoot | Throughball  |  8.497323 | 44.42738 |\n| 3 | 0 | 24 | h | OpenPlay   | LeftFoot  | None         | 23.388803 | 17.20585 |\n| 4 | 0 | 24 | h | OpenPlay   | RightFoot | Rebound      | 25.298204 | 16.33905 |\n| 5 | 0 | 30 | h | FromCorner | Head      | Aerial       |  7.967234 | 44.48587 |\n| 6 | 0 | 42 | h | OpenPlay   | RightFoot | Pass         | 26.241467 | 15.82464 |\n\n",
      "text/latex": "A data.frame: 6 × 8\n\\begin{tabular}{r|llllllll}\n  & status & minute & h\\_a & situation & shotType & lastAction & distanceToGoal & angleToGoal\\\\\n  & <dbl> & <dbl> & <fct> & <fct> & <fct> & <fct> & <dbl> & <dbl>\\\\\n\\hline\n\t1 & 0 &  7 & h & OpenPlay   & LeftFoot  & BallRecovery & 12.554569 & 10.86049\\\\\n\t2 & 1 & 13 & h & OpenPlay   & RightFoot & Throughball  &  8.497323 & 44.42738\\\\\n\t3 & 0 & 24 & h & OpenPlay   & LeftFoot  & None         & 23.388803 & 17.20585\\\\\n\t4 & 0 & 24 & h & OpenPlay   & RightFoot & Rebound      & 25.298204 & 16.33905\\\\\n\t5 & 0 & 30 & h & FromCorner & Head      & Aerial       &  7.967234 & 44.48587\\\\\n\t6 & 0 & 42 & h & OpenPlay   & RightFoot & Pass         & 26.241467 & 15.82464\\\\\n\\end{tabular}\n",
      "text/plain": "  status minute h_a situation  shotType  lastAction   distanceToGoal\n1 0       7     h   OpenPlay   LeftFoot  BallRecovery 12.554569     \n2 1      13     h   OpenPlay   RightFoot Throughball   8.497323     \n3 0      24     h   OpenPlay   LeftFoot  None         23.388803     \n4 0      24     h   OpenPlay   RightFoot Rebound      25.298204     \n5 0      30     h   FromCorner Head      Aerial        7.967234     \n6 0      42     h   OpenPlay   RightFoot Pass         26.241467     \n  angleToGoal\n1 10.86049   \n2 44.42738   \n3 17.20585   \n4 16.33905   \n5 44.48587   \n6 15.82464   "
     },
     "metadata": {},
     "output_type": "display_data"
    }
   ]
  },
  {
   "cell_type": "code",
   "metadata": {
    "cell_id": "af4ba3236e574e939d0f24170af45496",
    "tags": [],
    "deepnote_to_be_reexecuted": false,
    "source_hash": "a7dbb1c9",
    "execution_start": 1660055599277,
    "execution_millis": 2688,
    "deepnote_cell_type": "code",
    "deepnote_cell_height": 76
   },
   "source": "write.csv(df_preprocessed, './data/data_preprocessed.csv')",
   "execution_count": 13,
   "outputs": []
  },
  {
   "cell_type": "markdown",
   "source": "## Extracting model to `Python` format",
   "metadata": {
    "cell_id": "460499236f6c4389aacda011205f13d8",
    "tags": [],
    "deepnote_cell_type": "markdown",
    "deepnote_cell_height": 117
   }
  },
  {
   "cell_type": "code",
   "source": "model <- readRDS('./model.model.RDS')",
   "metadata": {
    "cell_id": "5b7ad2aeb32a477ab8239d988a42cb21",
    "tags": [],
    "deepnote_cell_type": "code",
    "deepnote_cell_height": 61
   },
   "execution_count": null,
   "outputs": []
  },
  {
   "cell_type": "code",
   "source": "# install.packages(\"reticulate\")",
   "metadata": {
    "cell_id": "8dd91821e9e44d36b15bc0db2fbdb708",
    "tags": [],
    "deepnote_cell_type": "code",
    "deepnote_cell_height": 61
   },
   "outputs": [],
   "execution_count": null
  },
  {
   "cell_type": "code",
   "source": "library(reticulate)",
   "metadata": {
    "cell_id": "022c9a6f4f484fd39eaa31a2ec753bd1",
    "tags": [],
    "deepnote_cell_type": "code",
    "deepnote_cell_height": 61
   },
   "outputs": [],
   "execution_count": null
  },
  {
   "cell_type": "code",
   "source": "py_save_object(model$forest, './model.pickle')",
   "metadata": {
    "cell_id": "c5854d058c5d4bd28378df09c43795c5",
    "tags": [],
    "deepnote_cell_type": "code",
    "deepnote_cell_height": 61
   },
   "outputs": [],
   "execution_count": null
  },
  {
   "cell_type": "code",
   "source": "",
   "metadata": {
    "cell_id": "ad74f5a38e95463bb341526ce79f9c80",
    "tags": [],
    "deepnote_cell_type": "code"
   },
   "outputs": [],
   "execution_count": null
  },
  {
   "cell_type": "markdown",
   "source": "<a style='text-decoration:none;line-height:16px;display:flex;color:#5B5B62;padding:10px;justify-content:end;' href='https://deepnote.com?utm_source=created-in-deepnote-cell&projectId=638a36e2-efff-486f-858d-cbca546da2c6' target=\"_blank\">\n<img alt='Created in deepnote.com' style='display:inline;max-height:16px;margin:0px;margin-right:7.5px;' src='data:image/svg+xml;base64,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' > </img>\nCreated in <span style='font-weight:600;margin-left:4px;'>Deepnote</span></a>",
   "metadata": {
    "tags": [],
    "created_in_deepnote_cell": true,
    "deepnote_cell_type": "markdown"
   }
  }
 ],
 "nbformat": 4,
 "nbformat_minor": 2,
 "metadata": {
  "orig_nbformat": 2,
  "deepnote": {},
  "deepnote_notebook_id": "ea0e18f1-f455-4ff8-9b27-22c0ebe19dc1",
  "deepnote_execution_queue": []
 }
}