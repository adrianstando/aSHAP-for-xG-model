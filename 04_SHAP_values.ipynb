{
 "cells": [
  {
   "cell_type": "markdown",
   "source": "# Calculating SHAP values",
   "metadata": {
    "cell_id": "289602a02e1344c0a9df0de381338a16",
    "tags": [],
    "deepnote_cell_type": "markdown",
    "deepnote_cell_height": 82
   }
  },
  {
   "cell_type": "markdown",
   "source": "## Importing objects and libraries",
   "metadata": {
    "cell_id": "c1f30f8d19c04c629e53006f674e7f05",
    "tags": [],
    "deepnote_cell_type": "markdown",
    "deepnote_cell_height": 70
   }
  },
  {
   "cell_type": "code",
   "metadata": {
    "cell_id": "08a2766e27f54192b9687544b85ec3b6",
    "tags": [],
    "deepnote_to_be_reexecuted": false,
    "source_hash": "dc8c77d4",
    "execution_start": 1659969092241,
    "execution_millis": 1,
    "deepnote_cell_type": "code",
    "deepnote_cell_height": 76
   },
   "source": "#!pip install numba --upgrade",
   "execution_count": null,
   "outputs": []
  },
  {
   "cell_type": "code",
   "metadata": {
    "cell_id": "9827a97e4cb54e9db28f31060c4d8a0e",
    "tags": [],
    "deepnote_to_be_reexecuted": false,
    "source_hash": "95b3c99e",
    "execution_start": 1659969097025,
    "execution_millis": 0,
    "deepnote_cell_type": "code",
    "deepnote_cell_height": 76
   },
   "source": "#!pip install shap",
   "execution_count": null,
   "outputs": []
  },
  {
   "cell_type": "code",
   "metadata": {
    "cell_id": "496f3ae41aec41218d488314cbe3e6c4",
    "tags": [],
    "deepnote_to_be_reexecuted": false,
    "source_hash": "c76c7c51",
    "execution_start": 1659969408168,
    "execution_millis": 107573,
    "deepnote_cell_type": "code",
    "deepnote_cell_height": 94
   },
   "source": "import pandas as pd\nimport numpy as np",
   "execution_count": null,
   "outputs": []
  },
  {
   "cell_type": "code",
   "metadata": {
    "cell_id": "d2dc496d998e4a96b8a864fd5dcff715",
    "tags": [],
    "deepnote_to_be_reexecuted": false,
    "source_hash": "f9e3f852",
    "execution_start": 1659969408180,
    "execution_millis": 1060,
    "deepnote_cell_type": "code",
    "deepnote_cell_height": 76
   },
   "source": "from scripts.preprocess import Transformer",
   "execution_count": null,
   "outputs": []
  },
  {
   "cell_type": "code",
   "metadata": {
    "cell_id": "67fb95934b3f4f59ae83123027e72a0b",
    "tags": [],
    "deepnote_to_be_reexecuted": false,
    "source_hash": "69c57358",
    "execution_start": 1659969409249,
    "execution_millis": 1344,
    "deepnote_cell_type": "code",
    "deepnote_cell_height": 408
   },
   "source": "df = pd.read_csv('./data/data.csv', index_col = 0)\ndf.head()",
   "execution_count": null,
   "outputs": [
    {
     "output_type": "execute_result",
     "execution_count": 3,
     "data": {
      "application/vnd.deepnote.dataframe.v3+json": {
       "column_count": 20,
       "row_count": 5,
       "columns": [
        {
         "name": "league",
         "dtype": "object",
         "stats": {
          "unique_count": 1,
          "nan_count": 0,
          "categories": [
           {
            "name": "Ligue_1",
            "count": 5
           }
          ]
         }
        },
        {
         "name": "id",
         "dtype": "int64",
         "stats": {
          "unique_count": 5,
          "nan_count": 0,
          "min": "425095",
          "max": "425102",
          "histogram": [
           {
            "bin_start": 425095,
            "bin_end": 425095.7,
            "count": 1
           },
           {
            "bin_start": 425095.7,
            "bin_end": 425096.4,
            "count": 0
           },
           {
            "bin_start": 425096.4,
            "bin_end": 425097.1,
            "count": 0
           },
           {
            "bin_start": 425097.1,
            "bin_end": 425097.8,
            "count": 0
           },
           {
            "bin_start": 425097.8,
            "bin_end": 425098.5,
            "count": 1
           },
           {
            "bin_start": 425098.5,
            "bin_end": 425099.2,
            "count": 0
           },
           {
            "bin_start": 425099.2,
            "bin_end": 425099.9,
            "count": 0
           },
           {
            "bin_start": 425099.9,
            "bin_end": 425100.6,
            "count": 1
           },
           {
            "bin_start": 425100.6,
            "bin_end": 425101.3,
            "count": 1
           },
           {
            "bin_start": 425101.3,
            "bin_end": 425102,
            "count": 1
           }
          ]
         }
        },
        {
         "name": "minute",
         "dtype": "int64",
         "stats": {
          "unique_count": 4,
          "nan_count": 0,
          "min": "7",
          "max": "30",
          "histogram": [
           {
            "bin_start": 7,
            "bin_end": 9.3,
            "count": 1
           },
           {
            "bin_start": 9.3,
            "bin_end": 11.6,
            "count": 0
           },
           {
            "bin_start": 11.6,
            "bin_end": 13.899999999999999,
            "count": 1
           },
           {
            "bin_start": 13.899999999999999,
            "bin_end": 16.2,
            "count": 0
           },
           {
            "bin_start": 16.2,
            "bin_end": 18.5,
            "count": 0
           },
           {
            "bin_start": 18.5,
            "bin_end": 20.799999999999997,
            "count": 0
           },
           {
            "bin_start": 20.799999999999997,
            "bin_end": 23.099999999999998,
            "count": 0
           },
           {
            "bin_start": 23.099999999999998,
            "bin_end": 25.4,
            "count": 2
           },
           {
            "bin_start": 25.4,
            "bin_end": 27.7,
            "count": 0
           },
           {
            "bin_start": 27.7,
            "bin_end": 30,
            "count": 1
           }
          ]
         }
        },
        {
         "name": "X",
         "dtype": "float64",
         "stats": {
          "unique_count": 5,
          "nan_count": 0,
          "min": "0.760999984741211",
          "max": "0.964000015258789",
          "histogram": [
           {
            "bin_start": 0.760999984741211,
            "bin_end": 0.7812999877929688,
            "count": 1
           },
           {
            "bin_start": 0.7812999877929688,
            "bin_end": 0.8015999908447266,
            "count": 1
           },
           {
            "bin_start": 0.8015999908447266,
            "bin_end": 0.8218999938964844,
            "count": 0
           },
           {
            "bin_start": 0.8218999938964844,
            "bin_end": 0.8421999969482422,
            "count": 0
           },
           {
            "bin_start": 0.8421999969482422,
            "bin_end": 0.8625,
            "count": 0
           },
           {
            "bin_start": 0.8625,
            "bin_end": 0.8828000030517578,
            "count": 0
           },
           {
            "bin_start": 0.8828000030517578,
            "bin_end": 0.9031000061035156,
            "count": 0
           },
           {
            "bin_start": 0.9031000061035156,
            "bin_end": 0.9234000091552734,
            "count": 0
           },
           {
            "bin_start": 0.9234000091552734,
            "bin_end": 0.9437000122070311,
            "count": 2
           },
           {
            "bin_start": 0.9437000122070311,
            "bin_end": 0.964000015258789,
            "count": 1
           }
          ]
         }
        },
        {
         "name": "Y",
         "dtype": "float64",
         "stats": {
          "unique_count": 5,
          "nan_count": 0,
          "min": "0.387999992370605",
          "max": "0.654000015258789",
          "histogram": [
           {
            "bin_start": 0.387999992370605,
            "bin_end": 0.41459999465942343,
            "count": 1
           },
           {
            "bin_start": 0.41459999465942343,
            "bin_end": 0.4411999969482418,
            "count": 2
           },
           {
            "bin_start": 0.4411999969482418,
            "bin_end": 0.4677999992370602,
            "count": 0
           },
           {
            "bin_start": 0.4677999992370602,
            "bin_end": 0.4944000015258786,
            "count": 0
           },
           {
            "bin_start": 0.4944000015258786,
            "bin_end": 0.521000003814697,
            "count": 0
           },
           {
            "bin_start": 0.521000003814697,
            "bin_end": 0.5476000061035154,
            "count": 1
           },
           {
            "bin_start": 0.5476000061035154,
            "bin_end": 0.5742000083923339,
            "count": 0
           },
           {
            "bin_start": 0.5742000083923339,
            "bin_end": 0.6008000106811522,
            "count": 0
           },
           {
            "bin_start": 0.6008000106811522,
            "bin_end": 0.6274000129699706,
            "count": 0
           },
           {
            "bin_start": 0.6274000129699706,
            "bin_end": 0.654000015258789,
            "count": 1
           }
          ]
         }
        },
        {
         "name": "player",
         "dtype": "object",
         "stats": {
          "unique_count": 4,
          "nan_count": 0,
          "categories": [
           {
            "name": "Kevin Volland",
            "count": 2
           },
           {
            "name": "Myron Boadu",
            "count": 1
           },
           {
            "name": "2 others",
            "count": 2
           }
          ]
         }
        },
        {
         "name": "h_a",
         "dtype": "object",
         "stats": {
          "unique_count": 1,
          "nan_count": 0,
          "categories": [
           {
            "name": "h",
            "count": 5
           }
          ]
         }
        },
        {
         "name": "player_id",
         "dtype": "int64",
         "stats": {
          "unique_count": 4,
          "nan_count": 0,
          "min": "83",
          "max": "9612",
          "histogram": [
           {
            "bin_start": 83,
            "bin_end": 1035.9,
            "count": 2
           },
           {
            "bin_start": 1035.9,
            "bin_end": 1988.8,
            "count": 0
           },
           {
            "bin_start": 1988.8,
            "bin_end": 2941.7,
            "count": 0
           },
           {
            "bin_start": 2941.7,
            "bin_end": 3894.6,
            "count": 0
           },
           {
            "bin_start": 3894.6,
            "bin_end": 4847.5,
            "count": 0
           },
           {
            "bin_start": 4847.5,
            "bin_end": 5800.4,
            "count": 0
           },
           {
            "bin_start": 5800.4,
            "bin_end": 6753.3,
            "count": 0
           },
           {
            "bin_start": 6753.3,
            "bin_end": 7706.2,
            "count": 2
           },
           {
            "bin_start": 7706.2,
            "bin_end": 8659.1,
            "count": 0
           },
           {
            "bin_start": 8659.1,
            "bin_end": 9612,
            "count": 1
           }
          ]
         }
        },
        {
         "name": "situation",
         "dtype": "object",
         "stats": {
          "unique_count": 2,
          "nan_count": 0,
          "categories": [
           {
            "name": "OpenPlay",
            "count": 4
           },
           {
            "name": "FromCorner",
            "count": 1
           }
          ]
         }
        },
        {
         "name": "season",
         "dtype": "int64",
         "stats": {
          "unique_count": 1,
          "nan_count": 0,
          "min": "2021",
          "max": "2021",
          "histogram": [
           {
            "bin_start": 2020.5,
            "bin_end": 2020.6,
            "count": 0
           },
           {
            "bin_start": 2020.6,
            "bin_end": 2020.7,
            "count": 0
           },
           {
            "bin_start": 2020.7,
            "bin_end": 2020.8,
            "count": 0
           },
           {
            "bin_start": 2020.8,
            "bin_end": 2020.9,
            "count": 0
           },
           {
            "bin_start": 2020.9,
            "bin_end": 2021,
            "count": 0
           },
           {
            "bin_start": 2021,
            "bin_end": 2021.1,
            "count": 5
           },
           {
            "bin_start": 2021.1,
            "bin_end": 2021.2,
            "count": 0
           },
           {
            "bin_start": 2021.2,
            "bin_end": 2021.3,
            "count": 0
           },
           {
            "bin_start": 2021.3,
            "bin_end": 2021.4,
            "count": 0
           },
           {
            "bin_start": 2021.4,
            "bin_end": 2021.5,
            "count": 0
           }
          ]
         }
        },
        {
         "name": "shotType",
         "dtype": "object",
         "stats": {
          "unique_count": 3,
          "nan_count": 0,
          "categories": [
           {
            "name": "LeftFoot",
            "count": 2
           },
           {
            "name": "RightFoot",
            "count": 2
           },
           {
            "name": "Head",
            "count": 1
           }
          ]
         }
        },
        {
         "name": "match_id",
         "dtype": "int64",
         "stats": {
          "unique_count": 1,
          "nan_count": 0,
          "min": "17822",
          "max": "17822",
          "histogram": [
           {
            "bin_start": 17821.5,
            "bin_end": 17821.6,
            "count": 0
           },
           {
            "bin_start": 17821.6,
            "bin_end": 17821.7,
            "count": 0
           },
           {
            "bin_start": 17821.7,
            "bin_end": 17821.8,
            "count": 0
           },
           {
            "bin_start": 17821.8,
            "bin_end": 17821.9,
            "count": 0
           },
           {
            "bin_start": 17821.9,
            "bin_end": 17822,
            "count": 0
           },
           {
            "bin_start": 17822,
            "bin_end": 17822.1,
            "count": 5
           },
           {
            "bin_start": 17822.1,
            "bin_end": 17822.2,
            "count": 0
           },
           {
            "bin_start": 17822.2,
            "bin_end": 17822.3,
            "count": 0
           },
           {
            "bin_start": 17822.3,
            "bin_end": 17822.4,
            "count": 0
           },
           {
            "bin_start": 17822.4,
            "bin_end": 17822.5,
            "count": 0
           }
          ]
         }
        },
        {
         "name": "home_team",
         "dtype": "object",
         "stats": {
          "unique_count": 1,
          "nan_count": 0,
          "categories": [
           {
            "name": "Monaco",
            "count": 5
           }
          ]
         }
        },
        {
         "name": "away_team",
         "dtype": "object",
         "stats": {
          "unique_count": 1,
          "nan_count": 0,
          "categories": [
           {
            "name": "Nantes",
            "count": 5
           }
          ]
         }
        },
        {
         "name": "home_goals",
         "dtype": "int64",
         "stats": {
          "unique_count": 1,
          "nan_count": 0,
          "min": "1",
          "max": "1",
          "histogram": [
           {
            "bin_start": 0.5,
            "bin_end": 0.6,
            "count": 0
           },
           {
            "bin_start": 0.6,
            "bin_end": 0.7,
            "count": 0
           },
           {
            "bin_start": 0.7,
            "bin_end": 0.8,
            "count": 0
           },
           {
            "bin_start": 0.8,
            "bin_end": 0.9,
            "count": 0
           },
           {
            "bin_start": 0.9,
            "bin_end": 1,
            "count": 0
           },
           {
            "bin_start": 1,
            "bin_end": 1.1,
            "count": 5
           },
           {
            "bin_start": 1.1,
            "bin_end": 1.2000000000000002,
            "count": 0
           },
           {
            "bin_start": 1.2000000000000002,
            "bin_end": 1.3,
            "count": 0
           },
           {
            "bin_start": 1.3,
            "bin_end": 1.4,
            "count": 0
           },
           {
            "bin_start": 1.4,
            "bin_end": 1.5,
            "count": 0
           }
          ]
         }
        },
        {
         "name": "away_goals",
         "dtype": "int64",
         "stats": {
          "unique_count": 1,
          "nan_count": 0,
          "min": "1",
          "max": "1",
          "histogram": [
           {
            "bin_start": 0.5,
            "bin_end": 0.6,
            "count": 0
           },
           {
            "bin_start": 0.6,
            "bin_end": 0.7,
            "count": 0
           },
           {
            "bin_start": 0.7,
            "bin_end": 0.8,
            "count": 0
           },
           {
            "bin_start": 0.8,
            "bin_end": 0.9,
            "count": 0
           },
           {
            "bin_start": 0.9,
            "bin_end": 1,
            "count": 0
           },
           {
            "bin_start": 1,
            "bin_end": 1.1,
            "count": 5
           },
           {
            "bin_start": 1.1,
            "bin_end": 1.2000000000000002,
            "count": 0
           },
           {
            "bin_start": 1.2000000000000002,
            "bin_end": 1.3,
            "count": 0
           },
           {
            "bin_start": 1.3,
            "bin_end": 1.4,
            "count": 0
           },
           {
            "bin_start": 1.4,
            "bin_end": 1.5,
            "count": 0
           }
          ]
         }
        },
        {
         "name": "date",
         "dtype": "object",
         "stats": {
          "unique_count": 1,
          "nan_count": 0,
          "categories": [
           {
            "name": "2021-08-06 19:00:00",
            "count": 5
           }
          ]
         }
        },
        {
         "name": "player_assisted",
         "dtype": "object",
         "stats": {
          "unique_count": 2,
          "nan_count": 3,
          "categories": [
           {
            "name": "Caio Henrique",
            "count": 1
           },
           {
            "name": "Jean Lucas",
            "count": 1
           },
           {
            "name": "Missing",
            "count": 3
           }
          ]
         }
        },
        {
         "name": "lastAction",
         "dtype": "object",
         "stats": {
          "unique_count": 5,
          "nan_count": 0,
          "categories": [
           {
            "name": "BallRecovery",
            "count": 1
           },
           {
            "name": "Throughball",
            "count": 1
           },
           {
            "name": "3 others",
            "count": 3
           }
          ]
         }
        },
        {
         "name": "status",
         "dtype": "int64",
         "stats": {
          "unique_count": 2,
          "nan_count": 0,
          "min": "0",
          "max": "1",
          "histogram": [
           {
            "bin_start": 0,
            "bin_end": 0.1,
            "count": 4
           },
           {
            "bin_start": 0.1,
            "bin_end": 0.2,
            "count": 0
           },
           {
            "bin_start": 0.2,
            "bin_end": 0.30000000000000004,
            "count": 0
           },
           {
            "bin_start": 0.30000000000000004,
            "bin_end": 0.4,
            "count": 0
           },
           {
            "bin_start": 0.4,
            "bin_end": 0.5,
            "count": 0
           },
           {
            "bin_start": 0.5,
            "bin_end": 0.6000000000000001,
            "count": 0
           },
           {
            "bin_start": 0.6000000000000001,
            "bin_end": 0.7000000000000001,
            "count": 0
           },
           {
            "bin_start": 0.7000000000000001,
            "bin_end": 0.8,
            "count": 0
           },
           {
            "bin_start": 0.8,
            "bin_end": 0.9,
            "count": 0
           },
           {
            "bin_start": 0.9,
            "bin_end": 1,
            "count": 1
           }
          ]
         }
        },
        {
         "name": "_deepnote_index_column",
         "dtype": "int64"
        }
       ],
       "rows": [
        {
         "league": "Ligue_1",
         "id": 425095,
         "minute": 7,
         "X": 0.964000015258789,
         "Y": 0.654000015258789,
         "player": "Myron Boadu",
         "h_a": "h",
         "player_id": 9612,
         "situation": "OpenPlay",
         "season": 2021,
         "shotType": "LeftFoot",
         "match_id": 17822,
         "home_team": "Monaco",
         "away_team": "Nantes",
         "home_goals": 1,
         "away_goals": 1,
         "date": "2021-08-06 19:00:00",
         "player_assisted": "nan",
         "lastAction": "BallRecovery",
         "status": 0,
         "_deepnote_index_column": 1
        },
        {
         "league": "Ligue_1",
         "id": 425098,
         "minute": 13,
         "X": 0.925,
         "Y": 0.430999984741211,
         "player": "Gelson Martins",
         "h_a": "h",
         "player_id": 7012,
         "situation": "OpenPlay",
         "season": 2021,
         "shotType": "RightFoot",
         "match_id": 17822,
         "home_team": "Monaco",
         "away_team": "Nantes",
         "home_goals": 1,
         "away_goals": 1,
         "date": "2021-08-06 19:00:00",
         "player_assisted": "Caio Henrique",
         "lastAction": "Throughball",
         "status": 1,
         "_deepnote_index_column": 2
        },
        {
         "league": "Ligue_1",
         "id": 425100,
         "minute": 24,
         "X": 0.785,
         "Y": 0.387999992370605,
         "player": "Kevin Volland",
         "h_a": "h",
         "player_id": 83,
         "situation": "OpenPlay",
         "season": 2021,
         "shotType": "LeftFoot",
         "match_id": 17822,
         "home_team": "Monaco",
         "away_team": "Nantes",
         "home_goals": 1,
         "away_goals": 1,
         "date": "2021-08-06 19:00:00",
         "player_assisted": "nan",
         "lastAction": "None",
         "status": 0,
         "_deepnote_index_column": 3
        },
        {
         "league": "Ligue_1",
         "id": 425101,
         "minute": 24,
         "X": 0.760999984741211,
         "Y": 0.525,
         "player": "Jean Lucas",
         "h_a": "h",
         "player_id": 7687,
         "situation": "OpenPlay",
         "season": 2021,
         "shotType": "RightFoot",
         "match_id": 17822,
         "home_team": "Monaco",
         "away_team": "Nantes",
         "home_goals": 1,
         "away_goals": 1,
         "date": "2021-08-06 19:00:00",
         "player_assisted": "nan",
         "lastAction": "Rebound",
         "status": 0,
         "_deepnote_index_column": 4
        },
        {
         "league": "Ligue_1",
         "id": 425102,
         "minute": 30,
         "X": 0.935999984741211,
         "Y": 0.415,
         "player": "Kevin Volland",
         "h_a": "h",
         "player_id": 83,
         "situation": "FromCorner",
         "season": 2021,
         "shotType": "Head",
         "match_id": 17822,
         "home_team": "Monaco",
         "away_team": "Nantes",
         "home_goals": 1,
         "away_goals": 1,
         "date": "2021-08-06 19:00:00",
         "player_assisted": "Jean Lucas",
         "lastAction": "Aerial",
         "status": 0,
         "_deepnote_index_column": 5
        }
       ]
      },
      "text/plain": "    league      id  minute      X      Y          player h_a  player_id  \\\n1  Ligue_1  425095       7  0.964  0.654     Myron Boadu   h       9612   \n2  Ligue_1  425098      13  0.925  0.431  Gelson Martins   h       7012   \n3  Ligue_1  425100      24  0.785  0.388   Kevin Volland   h         83   \n4  Ligue_1  425101      24  0.761  0.525      Jean Lucas   h       7687   \n5  Ligue_1  425102      30  0.936  0.415   Kevin Volland   h         83   \n\n    situation  season   shotType  match_id home_team away_team  home_goals  \\\n1    OpenPlay    2021   LeftFoot     17822    Monaco    Nantes           1   \n2    OpenPlay    2021  RightFoot     17822    Monaco    Nantes           1   \n3    OpenPlay    2021   LeftFoot     17822    Monaco    Nantes           1   \n4    OpenPlay    2021  RightFoot     17822    Monaco    Nantes           1   \n5  FromCorner    2021       Head     17822    Monaco    Nantes           1   \n\n   away_goals                 date player_assisted    lastAction  status  \n1           1  2021-08-06 19:00:00             NaN  BallRecovery       0  \n2           1  2021-08-06 19:00:00   Caio Henrique   Throughball       1  \n3           1  2021-08-06 19:00:00             NaN          None       0  \n4           1  2021-08-06 19:00:00             NaN       Rebound       0  \n5           1  2021-08-06 19:00:00      Jean Lucas        Aerial       0  ",
      "text/html": "<div>\n<style scoped>\n    .dataframe tbody tr th:only-of-type {\n        vertical-align: middle;\n    }\n\n    .dataframe tbody tr th {\n        vertical-align: top;\n    }\n\n    .dataframe thead th {\n        text-align: right;\n    }\n</style>\n<table border=\"1\" class=\"dataframe\">\n  <thead>\n    <tr style=\"text-align: right;\">\n      <th></th>\n      <th>league</th>\n      <th>id</th>\n      <th>minute</th>\n      <th>X</th>\n      <th>Y</th>\n      <th>player</th>\n      <th>h_a</th>\n      <th>player_id</th>\n      <th>situation</th>\n      <th>season</th>\n      <th>shotType</th>\n      <th>match_id</th>\n      <th>home_team</th>\n      <th>away_team</th>\n      <th>home_goals</th>\n      <th>away_goals</th>\n      <th>date</th>\n      <th>player_assisted</th>\n      <th>lastAction</th>\n      <th>status</th>\n    </tr>\n  </thead>\n  <tbody>\n    <tr>\n      <th>1</th>\n      <td>Ligue_1</td>\n      <td>425095</td>\n      <td>7</td>\n      <td>0.964</td>\n      <td>0.654</td>\n      <td>Myron Boadu</td>\n      <td>h</td>\n      <td>9612</td>\n      <td>OpenPlay</td>\n      <td>2021</td>\n      <td>LeftFoot</td>\n      <td>17822</td>\n      <td>Monaco</td>\n      <td>Nantes</td>\n      <td>1</td>\n      <td>1</td>\n      <td>2021-08-06 19:00:00</td>\n      <td>NaN</td>\n      <td>BallRecovery</td>\n      <td>0</td>\n    </tr>\n    <tr>\n      <th>2</th>\n      <td>Ligue_1</td>\n      <td>425098</td>\n      <td>13</td>\n      <td>0.925</td>\n      <td>0.431</td>\n      <td>Gelson Martins</td>\n      <td>h</td>\n      <td>7012</td>\n      <td>OpenPlay</td>\n      <td>2021</td>\n      <td>RightFoot</td>\n      <td>17822</td>\n      <td>Monaco</td>\n      <td>Nantes</td>\n      <td>1</td>\n      <td>1</td>\n      <td>2021-08-06 19:00:00</td>\n      <td>Caio Henrique</td>\n      <td>Throughball</td>\n      <td>1</td>\n    </tr>\n    <tr>\n      <th>3</th>\n      <td>Ligue_1</td>\n      <td>425100</td>\n      <td>24</td>\n      <td>0.785</td>\n      <td>0.388</td>\n      <td>Kevin Volland</td>\n      <td>h</td>\n      <td>83</td>\n      <td>OpenPlay</td>\n      <td>2021</td>\n      <td>LeftFoot</td>\n      <td>17822</td>\n      <td>Monaco</td>\n      <td>Nantes</td>\n      <td>1</td>\n      <td>1</td>\n      <td>2021-08-06 19:00:00</td>\n      <td>NaN</td>\n      <td>None</td>\n      <td>0</td>\n    </tr>\n    <tr>\n      <th>4</th>\n      <td>Ligue_1</td>\n      <td>425101</td>\n      <td>24</td>\n      <td>0.761</td>\n      <td>0.525</td>\n      <td>Jean Lucas</td>\n      <td>h</td>\n      <td>7687</td>\n      <td>OpenPlay</td>\n      <td>2021</td>\n      <td>RightFoot</td>\n      <td>17822</td>\n      <td>Monaco</td>\n      <td>Nantes</td>\n      <td>1</td>\n      <td>1</td>\n      <td>2021-08-06 19:00:00</td>\n      <td>NaN</td>\n      <td>Rebound</td>\n      <td>0</td>\n    </tr>\n    <tr>\n      <th>5</th>\n      <td>Ligue_1</td>\n      <td>425102</td>\n      <td>30</td>\n      <td>0.936</td>\n      <td>0.415</td>\n      <td>Kevin Volland</td>\n      <td>h</td>\n      <td>83</td>\n      <td>FromCorner</td>\n      <td>2021</td>\n      <td>Head</td>\n      <td>17822</td>\n      <td>Monaco</td>\n      <td>Nantes</td>\n      <td>1</td>\n      <td>1</td>\n      <td>2021-08-06 19:00:00</td>\n      <td>Jean Lucas</td>\n      <td>Aerial</td>\n      <td>0</td>\n    </tr>\n  </tbody>\n</table>\n</div>"
     },
     "metadata": {}
    }
   ]
  },
  {
   "cell_type": "code",
   "metadata": {
    "cell_id": "18af94ed857c4e04a7378a4e1a5fbcd5",
    "tags": [],
    "deepnote_to_be_reexecuted": false,
    "source_hash": "c3c900d3",
    "execution_start": 1659969410644,
    "execution_millis": 73,
    "deepnote_cell_type": "code",
    "deepnote_cell_height": 170,
    "deepnote_output_heights": [
     60
    ]
   },
   "source": "tr = Transformer()\ntr.fit(df.drop('status', axis = 1))",
   "execution_count": null,
   "outputs": [
    {
     "output_type": "execute_result",
     "execution_count": 4,
     "data": {
      "text/plain": "Transformer()",
      "text/html": "<style>#sk-container-id-1 {color: black;background-color: white;}#sk-container-id-1 pre{padding: 0;}#sk-container-id-1 div.sk-toggleable {background-color: white;}#sk-container-id-1 label.sk-toggleable__label {cursor: pointer;display: block;width: 100%;margin-bottom: 0;padding: 0.3em;box-sizing: border-box;text-align: center;}#sk-container-id-1 label.sk-toggleable__label-arrow:before {content: \"▸\";float: left;margin-right: 0.25em;color: #696969;}#sk-container-id-1 label.sk-toggleable__label-arrow:hover:before {color: black;}#sk-container-id-1 div.sk-estimator:hover label.sk-toggleable__label-arrow:before {color: black;}#sk-container-id-1 div.sk-toggleable__content {max-height: 0;max-width: 0;overflow: hidden;text-align: left;background-color: #f0f8ff;}#sk-container-id-1 div.sk-toggleable__content pre {margin: 0.2em;color: black;border-radius: 0.25em;background-color: #f0f8ff;}#sk-container-id-1 input.sk-toggleable__control:checked~div.sk-toggleable__content {max-height: 200px;max-width: 100%;overflow: auto;}#sk-container-id-1 input.sk-toggleable__control:checked~label.sk-toggleable__label-arrow:before {content: \"▾\";}#sk-container-id-1 div.sk-estimator input.sk-toggleable__control:checked~label.sk-toggleable__label {background-color: #d4ebff;}#sk-container-id-1 div.sk-label input.sk-toggleable__control:checked~label.sk-toggleable__label {background-color: #d4ebff;}#sk-container-id-1 input.sk-hidden--visually {border: 0;clip: rect(1px 1px 1px 1px);clip: rect(1px, 1px, 1px, 1px);height: 1px;margin: -1px;overflow: hidden;padding: 0;position: absolute;width: 1px;}#sk-container-id-1 div.sk-estimator {font-family: monospace;background-color: #f0f8ff;border: 1px dotted black;border-radius: 0.25em;box-sizing: border-box;margin-bottom: 0.5em;}#sk-container-id-1 div.sk-estimator:hover {background-color: #d4ebff;}#sk-container-id-1 div.sk-parallel-item::after {content: \"\";width: 100%;border-bottom: 1px solid gray;flex-grow: 1;}#sk-container-id-1 div.sk-label:hover label.sk-toggleable__label {background-color: #d4ebff;}#sk-container-id-1 div.sk-serial::before {content: \"\";position: absolute;border-left: 1px solid gray;box-sizing: border-box;top: 0;bottom: 0;left: 50%;z-index: 0;}#sk-container-id-1 div.sk-serial {display: flex;flex-direction: column;align-items: center;background-color: white;padding-right: 0.2em;padding-left: 0.2em;position: relative;}#sk-container-id-1 div.sk-item {position: relative;z-index: 1;}#sk-container-id-1 div.sk-parallel {display: flex;align-items: stretch;justify-content: center;background-color: white;position: relative;}#sk-container-id-1 div.sk-item::before, #sk-container-id-1 div.sk-parallel-item::before {content: \"\";position: absolute;border-left: 1px solid gray;box-sizing: border-box;top: 0;bottom: 0;left: 50%;z-index: -1;}#sk-container-id-1 div.sk-parallel-item {display: flex;flex-direction: column;z-index: 1;position: relative;background-color: white;}#sk-container-id-1 div.sk-parallel-item:first-child::after {align-self: flex-end;width: 50%;}#sk-container-id-1 div.sk-parallel-item:last-child::after {align-self: flex-start;width: 50%;}#sk-container-id-1 div.sk-parallel-item:only-child::after {width: 0;}#sk-container-id-1 div.sk-dashed-wrapped {border: 1px dashed gray;margin: 0 0.4em 0.5em 0.4em;box-sizing: border-box;padding-bottom: 0.4em;background-color: white;}#sk-container-id-1 div.sk-label label {font-family: monospace;font-weight: bold;display: inline-block;line-height: 1.2em;}#sk-container-id-1 div.sk-label-container {text-align: center;}#sk-container-id-1 div.sk-container {/* jupyter's `normalize.less` sets `[hidden] { display: none; }` but bootstrap.min.css set `[hidden] { display: none !important; }` so we also need the `!important` here to be able to override the default hidden behavior on the sphinx rendered scikit-learn.org. See: https://github.com/scikit-learn/scikit-learn/issues/21755 */display: inline-block !important;position: relative;}#sk-container-id-1 div.sk-text-repr-fallback {display: none;}</style><div id=\"sk-container-id-1\" class=\"sk-top-container\"><div class=\"sk-text-repr-fallback\"><pre>Transformer()</pre><b>In a Jupyter environment, please rerun this cell to show the HTML representation or trust the notebook. <br />On GitHub, the HTML representation is unable to render, please try loading this page with nbviewer.org.</b></div><div class=\"sk-container\" hidden><div class=\"sk-item\"><div class=\"sk-estimator sk-toggleable\"><input class=\"sk-toggleable__control sk-hidden--visually\" id=\"sk-estimator-id-1\" type=\"checkbox\" checked><label for=\"sk-estimator-id-1\" class=\"sk-toggleable__label sk-toggleable__label-arrow\">Transformer</label><div class=\"sk-toggleable__content\"><pre>Transformer()</pre></div></div></div></div></div>"
     },
     "metadata": {}
    }
   ]
  },
  {
   "cell_type": "code",
   "metadata": {
    "tags": [],
    "cell_id": "7a7b7072-a536-4fe9-9a54-a739964ced17",
    "deepnote_to_be_reexecuted": false,
    "source_hash": "27810d35",
    "execution_start": 1659969410771,
    "execution_millis": 1507,
    "deepnote_cell_type": "code",
    "deepnote_cell_height": 130
   },
   "source": "import pickle\n\nwith open(r\"./model/model.pickle\", \"rb\") as output_file:\n    model = pickle.load(output_file)",
   "execution_count": null,
   "outputs": []
  },
  {
   "cell_type": "code",
   "metadata": {
    "cell_id": "7341a98665c4447ead0f41273b6c5022",
    "tags": [],
    "deepnote_to_be_reexecuted": false,
    "source_hash": "17c513e1",
    "execution_start": 1659969412289,
    "execution_millis": 3468,
    "deepnote_cell_type": "code",
    "deepnote_cell_height": 125.39999389648438
   },
   "source": "import shap",
   "execution_count": null,
   "outputs": [
    {
     "name": "stderr",
     "text": "/shared-libs/python3.9/py/lib/python3.9/site-packages/tqdm/auto.py:22: TqdmWarning: IProgress not found. Please update jupyter and ipywidgets. See https://ipywidgets.readthedocs.io/en/stable/user_install.html\n  from .autonotebook import tqdm as notebook_tqdm\n",
     "output_type": "stream"
    }
   ]
  },
  {
   "cell_type": "markdown",
   "source": "## Save background predictions ",
   "metadata": {
    "cell_id": "6414934a01b14c3985df19e8a9590077",
    "tags": [],
    "deepnote_cell_type": "markdown",
    "deepnote_cell_height": 70
   }
  },
  {
   "cell_type": "code",
   "metadata": {
    "cell_id": "39abd4195387475fb8f2658eb4bf9fa1",
    "tags": [],
    "deepnote_to_be_reexecuted": false,
    "source_hash": "2041fc12",
    "execution_start": 1659971113065,
    "execution_millis": 18843,
    "deepnote_cell_type": "code",
    "deepnote_cell_height": 148
   },
   "source": "X_oversampled = pd.read_csv('./data/dataset_train_oversampled.csv', index_col = 0)\ny_hat_full = model.predict_proba(X_oversampled.drop('status', axis = 1))\npd.DataFrame({\n    'y_hat' : y_hat_full[:,1]\n}).to_csv('./model/y_hat.csv')",
   "execution_count": null,
   "outputs": []
  },
  {
   "cell_type": "markdown",
   "source": "## SHAP explain object",
   "metadata": {
    "cell_id": "7e4ec6d0f3f44821a82300bf108a9099",
    "tags": [],
    "deepnote_cell_type": "markdown",
    "deepnote_cell_height": 70
   }
  },
  {
   "cell_type": "code",
   "metadata": {
    "cell_id": "bf3308543fee4331bbb00cece9767873",
    "tags": [],
    "deepnote_to_be_reexecuted": false,
    "source_hash": "ec9b40cc",
    "execution_start": 1659969415767,
    "execution_millis": 967,
    "deepnote_cell_type": "code",
    "deepnote_cell_height": 76
   },
   "source": "explainer = shap.TreeExplainer(model)",
   "execution_count": null,
   "outputs": []
  },
  {
   "cell_type": "markdown",
   "source": "## Calculate SHAP values for Lewandowski's shots in 2021",
   "metadata": {
    "cell_id": "f0c0041950224938860fa4a50accafc9",
    "tags": [],
    "deepnote_cell_type": "markdown",
    "deepnote_cell_height": 70
   }
  },
  {
   "cell_type": "code",
   "metadata": {
    "cell_id": "ae944e0908bd4cb39a7733e93e27d2d1",
    "tags": [],
    "deepnote_to_be_reexecuted": false,
    "source_hash": "eb40b588",
    "execution_start": 1659969416763,
    "execution_millis": 7,
    "deepnote_cell_type": "code",
    "deepnote_cell_height": 76
   },
   "source": "subset = df[np.logical_and(df.player == 'Robert Lewandowski', df.season == 2021)]",
   "execution_count": null,
   "outputs": []
  },
  {
   "cell_type": "code",
   "metadata": {
    "cell_id": "29d8ee1d4c7443e09c8471abbb3ef1e4",
    "tags": [],
    "deepnote_to_be_reexecuted": false,
    "source_hash": "a42e3bcb",
    "execution_start": 1659969416777,
    "execution_millis": 4,
    "deepnote_cell_type": "code",
    "deepnote_cell_height": 94
   },
   "source": "y_subset = subset['status']\nX_subset = subset.drop('status', axis = 1)",
   "execution_count": null,
   "outputs": []
  },
  {
   "cell_type": "code",
   "metadata": {
    "cell_id": "f0b46997a563444f9928aad7f2b7a5fe",
    "tags": [],
    "deepnote_to_be_reexecuted": false,
    "source_hash": "916ae95d",
    "execution_start": 1659969416785,
    "execution_millis": 16,
    "deepnote_cell_type": "code",
    "deepnote_cell_height": 76
   },
   "source": "X_subset = tr.transform(X_subset)",
   "execution_count": null,
   "outputs": []
  },
  {
   "cell_type": "code",
   "metadata": {
    "cell_id": "9a0c3a88f19e4dc199028b2393ef7fb3",
    "tags": [],
    "deepnote_to_be_reexecuted": false,
    "source_hash": "de75f441",
    "execution_start": 1659969450593,
    "execution_millis": 221210,
    "deepnote_cell_type": "code",
    "deepnote_cell_height": 76
   },
   "source": "shap_values = explainer.shap_values(X_subset)",
   "execution_count": null,
   "outputs": []
  },
  {
   "cell_type": "code",
   "metadata": {
    "cell_id": "cf7aac31f3b84d5497ff1a7d484d5a3a",
    "tags": [],
    "deepnote_to_be_reexecuted": false,
    "source_hash": "82b5d874",
    "execution_start": 1659969692018,
    "execution_millis": 4,
    "deepnote_cell_type": "code",
    "deepnote_cell_height": 344,
    "deepnote_output_heights": [
     252
    ]
   },
   "source": "shap_values[1]",
   "execution_count": null,
   "outputs": [
    {
     "output_type": "execute_result",
     "execution_count": 13,
     "data": {
      "text/plain": "array([[-0.05886255, -0.00031832,  0.00575221, ..., -0.15994073,\n        -0.08962472, -0.07927488],\n       [-0.05906326, -0.01107966,  0.00266595, ..., -0.09795103,\n        -0.10274493, -0.10511664],\n       [-0.09893595, -0.04463718, -0.00074158, ..., -0.02931539,\n        -0.00184785,  0.00797201],\n       ...,\n       [-0.07339138, -0.00738581, -0.00432754, ..., -0.01319115,\n        -0.14489788, -0.26159488],\n       [-0.08870353, -0.01701022, -0.00206603, ..., -0.02475384,\n        -0.1800611 , -0.17425298],\n       [-0.09420842, -0.0315397 ,  0.00204967, ..., -0.05303037,\n        -0.1696245 , -0.12457114]])"
     },
     "metadata": {}
    }
   ]
  },
  {
   "cell_type": "code",
   "metadata": {
    "cell_id": "3b50506f181248df8efa126f2dbc2608",
    "tags": [],
    "deepnote_to_be_reexecuted": false,
    "source_hash": "be6c2c3b",
    "execution_start": 1659969733818,
    "execution_millis": 314,
    "deepnote_cell_type": "code",
    "deepnote_cell_height": 130
   },
   "source": "import pickle\n\nwith open(r\"./shap_vals_example.pickle\", \"wb\") as output_file:\n    pickle.dump(shap_values, output_file)",
   "execution_count": null,
   "outputs": []
  },
  {
   "cell_type": "code",
   "metadata": {
    "cell_id": "75295556e7ca4883a0d37771f4ef76c5",
    "tags": [],
    "deepnote_to_be_reexecuted": false,
    "source_hash": "a4e6e37d",
    "execution_start": 1659970351880,
    "execution_millis": 53,
    "deepnote_cell_type": "code",
    "deepnote_cell_height": 631
   },
   "source": "shaps = pd.DataFrame(shap_values[1])\nshaps.columns =  X_subset.columns\nshaps",
   "execution_count": null,
   "outputs": [
    {
     "output_type": "execute_result",
     "execution_count": 26,
     "data": {
      "application/vnd.deepnote.dataframe.v3+json": {
       "column_count": 7,
       "row_count": 160,
       "columns": [
        {
         "name": "minute",
         "dtype": "float64",
         "stats": {
          "unique_count": 160,
          "nan_count": 0,
          "min": "-0.19982089882497892",
          "max": "0.1068078278967205",
          "histogram": [
           {
            "bin_start": -0.19982089882497892,
            "bin_end": -0.16915802615280898,
            "count": 4
           },
           {
            "bin_start": -0.16915802615280898,
            "bin_end": -0.13849515348063904,
            "count": 3
           },
           {
            "bin_start": -0.13849515348063904,
            "bin_end": -0.1078322808084691,
            "count": 28
           },
           {
            "bin_start": -0.1078322808084691,
            "bin_end": -0.07716940813629916,
            "count": 45
           },
           {
            "bin_start": -0.07716940813629916,
            "bin_end": -0.04650653546412922,
            "count": 48
           },
           {
            "bin_start": -0.04650653546412922,
            "bin_end": -0.015843662791959284,
            "count": 12
           },
           {
            "bin_start": -0.015843662791959284,
            "bin_end": 0.014819209880210654,
            "count": 10
           },
           {
            "bin_start": 0.014819209880210654,
            "bin_end": 0.04548208255238059,
            "count": 3
           },
           {
            "bin_start": 0.04548208255238059,
            "bin_end": 0.07614495522455053,
            "count": 5
           },
           {
            "bin_start": 0.07614495522455053,
            "bin_end": 0.1068078278967205,
            "count": 2
           }
          ]
         }
        },
        {
         "name": "h_a",
         "dtype": "float64",
         "stats": {
          "unique_count": 160,
          "nan_count": 0,
          "min": "-0.07997038115894349",
          "max": "0.08595720189044243",
          "histogram": [
           {
            "bin_start": -0.07997038115894349,
            "bin_end": -0.06337762285400489,
            "count": 3
           },
           {
            "bin_start": -0.06337762285400489,
            "bin_end": -0.0467848645490663,
            "count": 4
           },
           {
            "bin_start": -0.0467848645490663,
            "bin_end": -0.030192106244127707,
            "count": 15
           },
           {
            "bin_start": -0.030192106244127707,
            "bin_end": -0.013599347939189113,
            "count": 38
           },
           {
            "bin_start": -0.013599347939189113,
            "bin_end": 0.0029934103657494743,
            "count": 56
           },
           {
            "bin_start": 0.0029934103657494743,
            "bin_end": 0.019586168670688076,
            "count": 22
           },
           {
            "bin_start": 0.019586168670688076,
            "bin_end": 0.03617892697562668,
            "count": 8
           },
           {
            "bin_start": 0.03617892697562668,
            "bin_end": 0.052771685280565264,
            "count": 6
           },
           {
            "bin_start": 0.052771685280565264,
            "bin_end": 0.06936444358550385,
            "count": 5
           },
           {
            "bin_start": 0.06936444358550385,
            "bin_end": 0.08595720189044243,
            "count": 3
           }
          ]
         }
        },
        {
         "name": "situation",
         "dtype": "float64",
         "stats": {
          "unique_count": 160,
          "nan_count": 0,
          "min": "-0.13423899738103579",
          "max": "0.16323919495707195",
          "histogram": [
           {
            "bin_start": -0.13423899738103579,
            "bin_end": -0.10449117814722501,
            "count": 7
           },
           {
            "bin_start": -0.10449117814722501,
            "bin_end": -0.07474335891341424,
            "count": 4
           },
           {
            "bin_start": -0.07474335891341424,
            "bin_end": -0.04499553967960346,
            "count": 7
           },
           {
            "bin_start": -0.04499553967960346,
            "bin_end": -0.015247720445792687,
            "count": 11
           },
           {
            "bin_start": -0.015247720445792687,
            "bin_end": 0.014500098788018084,
            "count": 101
           },
           {
            "bin_start": 0.014500098788018084,
            "bin_end": 0.04424791802182887,
            "count": 20
           },
           {
            "bin_start": 0.04424791802182887,
            "bin_end": 0.07399573725563963,
            "count": 2
           },
           {
            "bin_start": 0.07399573725563963,
            "bin_end": 0.10374355648945041,
            "count": 1
           },
           {
            "bin_start": 0.10374355648945041,
            "bin_end": 0.1334913757232612,
            "count": 2
           },
           {
            "bin_start": 0.1334913757232612,
            "bin_end": 0.16323919495707195,
            "count": 5
           }
          ]
         }
        },
        {
         "name": "shotType",
         "dtype": "float64",
         "stats": {
          "unique_count": 160,
          "nan_count": 0,
          "min": "-0.10964647195105408",
          "max": "0.14322421762780388",
          "histogram": [
           {
            "bin_start": -0.10964647195105408,
            "bin_end": -0.08435940299316828,
            "count": 8
           },
           {
            "bin_start": -0.08435940299316828,
            "bin_end": -0.05907233403528249,
            "count": 12
           },
           {
            "bin_start": -0.05907233403528249,
            "bin_end": -0.033785265077396695,
            "count": 19
           },
           {
            "bin_start": -0.033785265077396695,
            "bin_end": -0.0084981961195109,
            "count": 14
           },
           {
            "bin_start": -0.0084981961195109,
            "bin_end": 0.016788872838374894,
            "count": 64
           },
           {
            "bin_start": 0.016788872838374894,
            "bin_end": 0.04207594179626069,
            "count": 26
           },
           {
            "bin_start": 0.04207594179626069,
            "bin_end": 0.06736301075414648,
            "count": 4
           },
           {
            "bin_start": 0.06736301075414648,
            "bin_end": 0.09265007971203228,
            "count": 6
           },
           {
            "bin_start": 0.09265007971203228,
            "bin_end": 0.11793714866991807,
            "count": 5
           },
           {
            "bin_start": 0.11793714866991807,
            "bin_end": 0.14322421762780388,
            "count": 2
           }
          ]
         }
        },
        {
         "name": "lastAction",
         "dtype": "float64",
         "stats": {
          "unique_count": 160,
          "nan_count": 0,
          "min": "-0.270204109213384",
          "max": "0.30487876803438",
          "histogram": [
           {
            "bin_start": -0.270204109213384,
            "bin_end": -0.2126958214886076,
            "count": 2
           },
           {
            "bin_start": -0.2126958214886076,
            "bin_end": -0.15518753376383118,
            "count": 4
           },
           {
            "bin_start": -0.15518753376383118,
            "bin_end": -0.09767924603905476,
            "count": 21
           },
           {
            "bin_start": -0.09767924603905476,
            "bin_end": -0.04017095831427836,
            "count": 44
           },
           {
            "bin_start": -0.04017095831427836,
            "bin_end": 0.017337329410498037,
            "count": 57
           },
           {
            "bin_start": 0.017337329410498037,
            "bin_end": 0.07484561713527449,
            "count": 12
           },
           {
            "bin_start": 0.07484561713527449,
            "bin_end": 0.13235390486005089,
            "count": 8
           },
           {
            "bin_start": 0.13235390486005089,
            "bin_end": 0.18986219258482728,
            "count": 9
           },
           {
            "bin_start": 0.18986219258482728,
            "bin_end": 0.24737048030960374,
            "count": 2
           },
           {
            "bin_start": 0.24737048030960374,
            "bin_end": 0.30487876803438,
            "count": 1
           }
          ]
         }
        },
        {
         "name": "distanceToGoal",
         "dtype": "float64",
         "stats": {
          "unique_count": 160,
          "nan_count": 0,
          "min": "-0.21137534628069646",
          "max": "0.3069061048819313",
          "histogram": [
           {
            "bin_start": -0.21137534628069646,
            "bin_end": -0.15954720116443366,
            "count": 29
           },
           {
            "bin_start": -0.15954720116443366,
            "bin_end": -0.10771905604817089,
            "count": 36
           },
           {
            "bin_start": -0.10771905604817089,
            "bin_end": -0.055890910931908094,
            "count": 43
           },
           {
            "bin_start": -0.055890910931908094,
            "bin_end": -0.004062765815645325,
            "count": 9
           },
           {
            "bin_start": -0.004062765815645325,
            "bin_end": 0.047765379300617444,
            "count": 10
           },
           {
            "bin_start": 0.047765379300617444,
            "bin_end": 0.09959352441688027,
            "count": 18
           },
           {
            "bin_start": 0.09959352441688027,
            "bin_end": 0.15142166953314304,
            "count": 6
           },
           {
            "bin_start": 0.15142166953314304,
            "bin_end": 0.2032498146494058,
            "count": 3
           },
           {
            "bin_start": 0.2032498146494058,
            "bin_end": 0.2550779597656686,
            "count": 2
           },
           {
            "bin_start": 0.2550779597656686,
            "bin_end": 0.3069061048819313,
            "count": 4
           }
          ]
         }
        },
        {
         "name": "angleToGoal",
         "dtype": "float64",
         "stats": {
          "unique_count": 160,
          "nan_count": 0,
          "min": "-0.39217694340557246",
          "max": "0.17494947262062607",
          "histogram": [
           {
            "bin_start": -0.39217694340557246,
            "bin_end": -0.3354643018029526,
            "count": 1
           },
           {
            "bin_start": -0.3354643018029526,
            "bin_end": -0.27875166020033276,
            "count": 1
           },
           {
            "bin_start": -0.27875166020033276,
            "bin_end": -0.2220390185977129,
            "count": 9
           },
           {
            "bin_start": -0.2220390185977129,
            "bin_end": -0.16532637699509306,
            "count": 24
           },
           {
            "bin_start": -0.16532637699509306,
            "bin_end": -0.10861373539247321,
            "count": 27
           },
           {
            "bin_start": -0.10861373539247321,
            "bin_end": -0.05190109378985336,
            "count": 38
           },
           {
            "bin_start": -0.05190109378985336,
            "bin_end": 0.004811547812766492,
            "count": 23
           },
           {
            "bin_start": 0.004811547812766492,
            "bin_end": 0.06152418941538634,
            "count": 13
           },
           {
            "bin_start": 0.06152418941538634,
            "bin_end": 0.11823683101800614,
            "count": 15
           },
           {
            "bin_start": 0.11823683101800614,
            "bin_end": 0.17494947262062607,
            "count": 9
           }
          ]
         }
        },
        {
         "name": "_deepnote_index_column",
         "dtype": "int64"
        }
       ],
       "rows": [
        {
         "minute": -0.05886254617080329,
         "h_a": -0.00031832034683402025,
         "situation": 0.005752208397761522,
         "shotType": -0.08772637392119477,
         "lastAction": -0.15994073145371998,
         "distanceToGoal": -0.0896247234416948,
         "angleToGoal": -0.07927487991567964,
         "_deepnote_index_column": 0
        },
        {
         "minute": -0.059063255585541825,
         "h_a": -0.011079659229380534,
         "situation": 0.002665947917214177,
         "shotType": 0.023294195776912927,
         "lastAction": -0.09795102612958434,
         "distanceToGoal": -0.10274493068366267,
         "angleToGoal": -0.10511663891817548,
         "_deepnote_index_column": 1
        },
        {
         "minute": -0.09893594692836666,
         "h_a": -0.04463717534915689,
         "situation": -0.0007415783103736672,
         "shotType": 0.017510558555259955,
         "lastAction": -0.029315390385982073,
         "distanceToGoal": -0.001847845045633398,
         "angleToGoal": 0.007972010612017726,
         "_deepnote_index_column": 2
        },
        {
         "minute": -0.10114137195285205,
         "h_a": -0.0026647041212227184,
         "situation": -0.12932108674798914,
         "shotType": -0.004385152532274514,
         "lastAction": -0.0986722687982401,
         "distanceToGoal": -0.07972384877857044,
         "angleToGoal": -0.044086933921064664,
         "_deepnote_index_column": 3
        },
        {
         "minute": -0.13190879205760841,
         "h_a": -0.027483496814355787,
         "situation": -0.021398812887232766,
         "shotType": -0.09340745056633708,
         "lastAction": -0.0616911176540805,
         "distanceToGoal": -0.0627774527989881,
         "angleToGoal": -0.06132824407357127,
         "_deepnote_index_column": 4
        },
        {
         "minute": -0.08583683344756055,
         "h_a": -0.022672930713284196,
         "situation": 0.0010696505976520276,
         "shotType": 0.027905671261971274,
         "lastAction": -0.08319989669371479,
         "distanceToGoal": -0.11322986299123108,
         "angleToGoal": -0.07403116486604576,
         "_deepnote_index_column": 5
        },
        {
         "minute": -0.07354046821971429,
         "h_a": -0.006156900247147417,
         "situation": -0.06543449331598468,
         "shotType": -0.05799022325888347,
         "lastAction": -0.12517245326788232,
         "distanceToGoal": -0.0824949360346962,
         "angleToGoal": -0.04920589250783602,
         "_deepnote_index_column": 6
        },
        {
         "minute": -0.07956957248903576,
         "h_a": -0.007713370882098522,
         "situation": 0.004388724173322274,
         "shotType": 0.04018077081124928,
         "lastAction": -0.03690224644148658,
         "distanceToGoal": -0.10219306056340988,
         "angleToGoal": -0.11818661146073517,
         "_deepnote_index_column": 7
        },
        {
         "minute": -0.0011567769451377521,
         "h_a": 0.06655548212329186,
         "situation": 0.019602507949983396,
         "shotType": 0.05478566895354126,
         "lastAction": 0.08666275928768034,
         "distanceToGoal": 0.1318719704372822,
         "angleToGoal": 0.14168302134116326,
         "_deepnote_index_column": 8
        },
        {
         "minute": -0.07470735319621309,
         "h_a": -0.008701387140482335,
         "situation": -0.003266414558519223,
         "shotType": -0.04682499424717925,
         "lastAction": -0.027716972718358924,
         "distanceToGoal": -0.1297541602620329,
         "angleToGoal": -0.17902408472942458,
         "_deepnote_index_column": 9
        }
       ]
      },
      "text/plain": "       minute       h_a  situation  shotType  lastAction  distanceToGoal  \\\n0   -0.058863 -0.000318   0.005752 -0.087726   -0.159941       -0.089625   \n1   -0.059063 -0.011080   0.002666  0.023294   -0.097951       -0.102745   \n2   -0.098936 -0.044637  -0.000742  0.017511   -0.029315       -0.001848   \n3   -0.101141 -0.002665  -0.129321 -0.004385   -0.098672       -0.079724   \n4   -0.131909 -0.027483  -0.021399 -0.093407   -0.061691       -0.062777   \n..        ...       ...        ...       ...         ...             ...   \n155 -0.107138 -0.035834   0.001149  0.004059   -0.055519       -0.146461   \n156 -0.098747 -0.014584  -0.002025 -0.089257   -0.161179       -0.065593   \n157 -0.073391 -0.007386  -0.004328  0.004793   -0.013191       -0.144898   \n158 -0.088704 -0.017010  -0.002066 -0.003148   -0.024754       -0.180061   \n159 -0.094208 -0.031540   0.002050  0.010929   -0.053030       -0.169624   \n\n     angleToGoal  \n0      -0.079275  \n1      -0.105117  \n2       0.007972  \n3      -0.044087  \n4      -0.061328  \n..           ...  \n155    -0.140252  \n156    -0.038611  \n157    -0.261595  \n158    -0.174253  \n159    -0.124571  \n\n[160 rows x 7 columns]",
      "text/html": "<div>\n<style scoped>\n    .dataframe tbody tr th:only-of-type {\n        vertical-align: middle;\n    }\n\n    .dataframe tbody tr th {\n        vertical-align: top;\n    }\n\n    .dataframe thead th {\n        text-align: right;\n    }\n</style>\n<table border=\"1\" class=\"dataframe\">\n  <thead>\n    <tr style=\"text-align: right;\">\n      <th></th>\n      <th>minute</th>\n      <th>h_a</th>\n      <th>situation</th>\n      <th>shotType</th>\n      <th>lastAction</th>\n      <th>distanceToGoal</th>\n      <th>angleToGoal</th>\n    </tr>\n  </thead>\n  <tbody>\n    <tr>\n      <th>0</th>\n      <td>-0.058863</td>\n      <td>-0.000318</td>\n      <td>0.005752</td>\n      <td>-0.087726</td>\n      <td>-0.159941</td>\n      <td>-0.089625</td>\n      <td>-0.079275</td>\n    </tr>\n    <tr>\n      <th>1</th>\n      <td>-0.059063</td>\n      <td>-0.011080</td>\n      <td>0.002666</td>\n      <td>0.023294</td>\n      <td>-0.097951</td>\n      <td>-0.102745</td>\n      <td>-0.105117</td>\n    </tr>\n    <tr>\n      <th>2</th>\n      <td>-0.098936</td>\n      <td>-0.044637</td>\n      <td>-0.000742</td>\n      <td>0.017511</td>\n      <td>-0.029315</td>\n      <td>-0.001848</td>\n      <td>0.007972</td>\n    </tr>\n    <tr>\n      <th>3</th>\n      <td>-0.101141</td>\n      <td>-0.002665</td>\n      <td>-0.129321</td>\n      <td>-0.004385</td>\n      <td>-0.098672</td>\n      <td>-0.079724</td>\n      <td>-0.044087</td>\n    </tr>\n    <tr>\n      <th>4</th>\n      <td>-0.131909</td>\n      <td>-0.027483</td>\n      <td>-0.021399</td>\n      <td>-0.093407</td>\n      <td>-0.061691</td>\n      <td>-0.062777</td>\n      <td>-0.061328</td>\n    </tr>\n    <tr>\n      <th>...</th>\n      <td>...</td>\n      <td>...</td>\n      <td>...</td>\n      <td>...</td>\n      <td>...</td>\n      <td>...</td>\n      <td>...</td>\n    </tr>\n    <tr>\n      <th>155</th>\n      <td>-0.107138</td>\n      <td>-0.035834</td>\n      <td>0.001149</td>\n      <td>0.004059</td>\n      <td>-0.055519</td>\n      <td>-0.146461</td>\n      <td>-0.140252</td>\n    </tr>\n    <tr>\n      <th>156</th>\n      <td>-0.098747</td>\n      <td>-0.014584</td>\n      <td>-0.002025</td>\n      <td>-0.089257</td>\n      <td>-0.161179</td>\n      <td>-0.065593</td>\n      <td>-0.038611</td>\n    </tr>\n    <tr>\n      <th>157</th>\n      <td>-0.073391</td>\n      <td>-0.007386</td>\n      <td>-0.004328</td>\n      <td>0.004793</td>\n      <td>-0.013191</td>\n      <td>-0.144898</td>\n      <td>-0.261595</td>\n    </tr>\n    <tr>\n      <th>158</th>\n      <td>-0.088704</td>\n      <td>-0.017010</td>\n      <td>-0.002066</td>\n      <td>-0.003148</td>\n      <td>-0.024754</td>\n      <td>-0.180061</td>\n      <td>-0.174253</td>\n    </tr>\n    <tr>\n      <th>159</th>\n      <td>-0.094208</td>\n      <td>-0.031540</td>\n      <td>0.002050</td>\n      <td>0.010929</td>\n      <td>-0.053030</td>\n      <td>-0.169624</td>\n      <td>-0.124571</td>\n    </tr>\n  </tbody>\n</table>\n<p>160 rows × 7 columns</p>\n</div>"
     },
     "metadata": {}
    }
   ]
  },
  {
   "cell_type": "code",
   "metadata": {
    "cell_id": "840a4603400445119148263b1da30421",
    "tags": [],
    "deepnote_to_be_reexecuted": false,
    "source_hash": "4f5f558",
    "execution_start": 1659970391994,
    "execution_millis": 194,
    "deepnote_cell_type": "code",
    "deepnote_cell_height": 76
   },
   "source": "shaps.to_csv('./treeshap_shaps.csv')",
   "execution_count": null,
   "outputs": []
  },
  {
   "cell_type": "code",
   "metadata": {
    "cell_id": "8486378c69bd4cbb92ed77dba1cbdd24",
    "tags": [],
    "deepnote_to_be_reexecuted": false,
    "source_hash": "993506a",
    "execution_start": 1659971131919,
    "execution_millis": 40,
    "deepnote_cell_type": "code",
    "deepnote_cell_height": 130
   },
   "source": "y_hat = model.predict_proba(X_subset)\npd.DataFrame({\n    'y_hat' : y_hat[:,1]\n}).to_csv('./y_hat_subset.csv')",
   "execution_count": null,
   "outputs": []
  },
  {
   "cell_type": "code",
   "metadata": {
    "cell_id": "a7258ef9738a4398b4df54f6af2235b7",
    "tags": [],
    "deepnote_cell_type": "code",
    "deepnote_cell_height": 61
   },
   "source": "",
   "execution_count": null,
   "outputs": []
  },
  {
   "cell_type": "markdown",
   "source": "<a style='text-decoration:none;line-height:16px;display:flex;color:#5B5B62;padding:10px;justify-content:end;' href='https://deepnote.com?utm_source=created-in-deepnote-cell&projectId=3965177e-3b24-40f1-9445-2feb56564f30' target=\"_blank\">\n<img alt='Created in deepnote.com' style='display:inline;max-height:16px;margin:0px;margin-right:7.5px;' src='data:image/svg+xml;base64,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' > </img>\nCreated in <span style='font-weight:600;margin-left:4px;'>Deepnote</span></a>",
   "metadata": {
    "tags": [],
    "created_in_deepnote_cell": true,
    "deepnote_cell_type": "markdown"
   }
  }
 ],
 "nbformat": 4,
 "nbformat_minor": 2,
 "metadata": {
  "orig_nbformat": 2,
  "deepnote": {},
  "deepnote_notebook_id": "33c4911a-35f6-4038-9bab-da3cd597e940",
  "deepnote_execution_queue": []
 }
}