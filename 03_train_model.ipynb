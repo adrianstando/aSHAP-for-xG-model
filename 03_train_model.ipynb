{
 "cells": [
  {
   "cell_type": "markdown",
   "source": "# Training xG model with Python",
   "metadata": {
    "cell_id": "2bbd4cf6b3a74eda9ee5d16985a3f9f2",
    "tags": [],
    "deepnote_cell_type": "markdown",
    "deepnote_cell_height": 82
   }
  },
  {
   "cell_type": "markdown",
   "source": "## Loading data",
   "metadata": {
    "cell_id": "27185ed8a3794a128fa73ed3efcc90d2",
    "tags": [],
    "deepnote_cell_type": "markdown",
    "deepnote_cell_height": 70
   }
  },
  {
   "cell_type": "code",
   "source": "import pandas as pd\nimport numpy as np",
   "metadata": {
    "tags": [],
    "cell_id": "25186d4c-1770-493c-9484-7ac16d974cd6",
    "deepnote_to_be_reexecuted": false,
    "source_hash": "c76c7c51",
    "execution_start": 1659966994243,
    "execution_millis": 133354,
    "deepnote_cell_type": "code",
    "deepnote_cell_height": 94
   },
   "outputs": [],
   "execution_count": null
  },
  {
   "cell_type": "code",
   "source": "df = pd.read_csv('./data/raw_data.csv', index_col = 0)\ndf.head()",
   "metadata": {
    "cell_id": "cf59bbe488184bae9451ce924f5351d8",
    "tags": [],
    "deepnote_to_be_reexecuted": false,
    "source_hash": "95f57c79",
    "execution_start": 1659968842545,
    "execution_millis": 1015,
    "deepnote_cell_type": "code",
    "deepnote_cell_height": 408
   },
   "outputs": [
    {
     "output_type": "execute_result",
     "execution_count": 65,
     "data": {
      "application/vnd.deepnote.dataframe.v3+json": {
       "column_count": 20,
       "row_count": 5,
       "columns": [
        {
         "name": "league",
         "dtype": "object",
         "stats": {
          "unique_count": 1,
          "nan_count": 0,
          "categories": [
           {
            "name": "Ligue_1",
            "count": 5
           }
          ]
         }
        },
        {
         "name": "id",
         "dtype": "int64",
         "stats": {
          "unique_count": 5,
          "nan_count": 0,
          "min": "425095",
          "max": "425102",
          "histogram": [
           {
            "bin_start": 425095,
            "bin_end": 425095.7,
            "count": 1
           },
           {
            "bin_start": 425095.7,
            "bin_end": 425096.4,
            "count": 0
           },
           {
            "bin_start": 425096.4,
            "bin_end": 425097.1,
            "count": 0
           },
           {
            "bin_start": 425097.1,
            "bin_end": 425097.8,
            "count": 0
           },
           {
            "bin_start": 425097.8,
            "bin_end": 425098.5,
            "count": 1
           },
           {
            "bin_start": 425098.5,
            "bin_end": 425099.2,
            "count": 0
           },
           {
            "bin_start": 425099.2,
            "bin_end": 425099.9,
            "count": 0
           },
           {
            "bin_start": 425099.9,
            "bin_end": 425100.6,
            "count": 1
           },
           {
            "bin_start": 425100.6,
            "bin_end": 425101.3,
            "count": 1
           },
           {
            "bin_start": 425101.3,
            "bin_end": 425102,
            "count": 1
           }
          ]
         }
        },
        {
         "name": "minute",
         "dtype": "int64",
         "stats": {
          "unique_count": 4,
          "nan_count": 0,
          "min": "7",
          "max": "30",
          "histogram": [
           {
            "bin_start": 7,
            "bin_end": 9.3,
            "count": 1
           },
           {
            "bin_start": 9.3,
            "bin_end": 11.6,
            "count": 0
           },
           {
            "bin_start": 11.6,
            "bin_end": 13.899999999999999,
            "count": 1
           },
           {
            "bin_start": 13.899999999999999,
            "bin_end": 16.2,
            "count": 0
           },
           {
            "bin_start": 16.2,
            "bin_end": 18.5,
            "count": 0
           },
           {
            "bin_start": 18.5,
            "bin_end": 20.799999999999997,
            "count": 0
           },
           {
            "bin_start": 20.799999999999997,
            "bin_end": 23.099999999999998,
            "count": 0
           },
           {
            "bin_start": 23.099999999999998,
            "bin_end": 25.4,
            "count": 2
           },
           {
            "bin_start": 25.4,
            "bin_end": 27.7,
            "count": 0
           },
           {
            "bin_start": 27.7,
            "bin_end": 30,
            "count": 1
           }
          ]
         }
        },
        {
         "name": "result",
         "dtype": "object",
         "stats": {
          "unique_count": 3,
          "nan_count": 0,
          "categories": [
           {
            "name": "MissedShots",
            "count": 3
           },
           {
            "name": "Goal",
            "count": 1
           },
           {
            "name": "BlockedShot",
            "count": 1
           }
          ]
         }
        },
        {
         "name": "X",
         "dtype": "float64",
         "stats": {
          "unique_count": 5,
          "nan_count": 0,
          "min": "0.760999984741211",
          "max": "0.964000015258789",
          "histogram": [
           {
            "bin_start": 0.760999984741211,
            "bin_end": 0.7812999877929688,
            "count": 1
           },
           {
            "bin_start": 0.7812999877929688,
            "bin_end": 0.8015999908447266,
            "count": 1
           },
           {
            "bin_start": 0.8015999908447266,
            "bin_end": 0.8218999938964844,
            "count": 0
           },
           {
            "bin_start": 0.8218999938964844,
            "bin_end": 0.8421999969482422,
            "count": 0
           },
           {
            "bin_start": 0.8421999969482422,
            "bin_end": 0.8625,
            "count": 0
           },
           {
            "bin_start": 0.8625,
            "bin_end": 0.8828000030517578,
            "count": 0
           },
           {
            "bin_start": 0.8828000030517578,
            "bin_end": 0.9031000061035156,
            "count": 0
           },
           {
            "bin_start": 0.9031000061035156,
            "bin_end": 0.9234000091552734,
            "count": 0
           },
           {
            "bin_start": 0.9234000091552734,
            "bin_end": 0.9437000122070311,
            "count": 2
           },
           {
            "bin_start": 0.9437000122070311,
            "bin_end": 0.964000015258789,
            "count": 1
           }
          ]
         }
        },
        {
         "name": "Y",
         "dtype": "float64",
         "stats": {
          "unique_count": 5,
          "nan_count": 0,
          "min": "0.387999992370605",
          "max": "0.654000015258789",
          "histogram": [
           {
            "bin_start": 0.387999992370605,
            "bin_end": 0.41459999465942343,
            "count": 1
           },
           {
            "bin_start": 0.41459999465942343,
            "bin_end": 0.4411999969482418,
            "count": 2
           },
           {
            "bin_start": 0.4411999969482418,
            "bin_end": 0.4677999992370602,
            "count": 0
           },
           {
            "bin_start": 0.4677999992370602,
            "bin_end": 0.4944000015258786,
            "count": 0
           },
           {
            "bin_start": 0.4944000015258786,
            "bin_end": 0.521000003814697,
            "count": 0
           },
           {
            "bin_start": 0.521000003814697,
            "bin_end": 0.5476000061035154,
            "count": 1
           },
           {
            "bin_start": 0.5476000061035154,
            "bin_end": 0.5742000083923339,
            "count": 0
           },
           {
            "bin_start": 0.5742000083923339,
            "bin_end": 0.6008000106811522,
            "count": 0
           },
           {
            "bin_start": 0.6008000106811522,
            "bin_end": 0.6274000129699706,
            "count": 0
           },
           {
            "bin_start": 0.6274000129699706,
            "bin_end": 0.654000015258789,
            "count": 1
           }
          ]
         }
        },
        {
         "name": "player",
         "dtype": "object",
         "stats": {
          "unique_count": 4,
          "nan_count": 0,
          "categories": [
           {
            "name": "Kevin Volland",
            "count": 2
           },
           {
            "name": "Myron Boadu",
            "count": 1
           },
           {
            "name": "2 others",
            "count": 2
           }
          ]
         }
        },
        {
         "name": "h_a",
         "dtype": "object",
         "stats": {
          "unique_count": 1,
          "nan_count": 0,
          "categories": [
           {
            "name": "h",
            "count": 5
           }
          ]
         }
        },
        {
         "name": "player_id",
         "dtype": "int64",
         "stats": {
          "unique_count": 4,
          "nan_count": 0,
          "min": "83",
          "max": "9612",
          "histogram": [
           {
            "bin_start": 83,
            "bin_end": 1035.9,
            "count": 2
           },
           {
            "bin_start": 1035.9,
            "bin_end": 1988.8,
            "count": 0
           },
           {
            "bin_start": 1988.8,
            "bin_end": 2941.7,
            "count": 0
           },
           {
            "bin_start": 2941.7,
            "bin_end": 3894.6,
            "count": 0
           },
           {
            "bin_start": 3894.6,
            "bin_end": 4847.5,
            "count": 0
           },
           {
            "bin_start": 4847.5,
            "bin_end": 5800.4,
            "count": 0
           },
           {
            "bin_start": 5800.4,
            "bin_end": 6753.3,
            "count": 0
           },
           {
            "bin_start": 6753.3,
            "bin_end": 7706.2,
            "count": 2
           },
           {
            "bin_start": 7706.2,
            "bin_end": 8659.1,
            "count": 0
           },
           {
            "bin_start": 8659.1,
            "bin_end": 9612,
            "count": 1
           }
          ]
         }
        },
        {
         "name": "situation",
         "dtype": "object",
         "stats": {
          "unique_count": 2,
          "nan_count": 0,
          "categories": [
           {
            "name": "OpenPlay",
            "count": 4
           },
           {
            "name": "FromCorner",
            "count": 1
           }
          ]
         }
        },
        {
         "name": "season",
         "dtype": "int64",
         "stats": {
          "unique_count": 1,
          "nan_count": 0,
          "min": "2021",
          "max": "2021",
          "histogram": [
           {
            "bin_start": 2020.5,
            "bin_end": 2020.6,
            "count": 0
           },
           {
            "bin_start": 2020.6,
            "bin_end": 2020.7,
            "count": 0
           },
           {
            "bin_start": 2020.7,
            "bin_end": 2020.8,
            "count": 0
           },
           {
            "bin_start": 2020.8,
            "bin_end": 2020.9,
            "count": 0
           },
           {
            "bin_start": 2020.9,
            "bin_end": 2021,
            "count": 0
           },
           {
            "bin_start": 2021,
            "bin_end": 2021.1,
            "count": 5
           },
           {
            "bin_start": 2021.1,
            "bin_end": 2021.2,
            "count": 0
           },
           {
            "bin_start": 2021.2,
            "bin_end": 2021.3,
            "count": 0
           },
           {
            "bin_start": 2021.3,
            "bin_end": 2021.4,
            "count": 0
           },
           {
            "bin_start": 2021.4,
            "bin_end": 2021.5,
            "count": 0
           }
          ]
         }
        },
        {
         "name": "shotType",
         "dtype": "object",
         "stats": {
          "unique_count": 3,
          "nan_count": 0,
          "categories": [
           {
            "name": "LeftFoot",
            "count": 2
           },
           {
            "name": "RightFoot",
            "count": 2
           },
           {
            "name": "Head",
            "count": 1
           }
          ]
         }
        },
        {
         "name": "match_id",
         "dtype": "int64",
         "stats": {
          "unique_count": 1,
          "nan_count": 0,
          "min": "17822",
          "max": "17822",
          "histogram": [
           {
            "bin_start": 17821.5,
            "bin_end": 17821.6,
            "count": 0
           },
           {
            "bin_start": 17821.6,
            "bin_end": 17821.7,
            "count": 0
           },
           {
            "bin_start": 17821.7,
            "bin_end": 17821.8,
            "count": 0
           },
           {
            "bin_start": 17821.8,
            "bin_end": 17821.9,
            "count": 0
           },
           {
            "bin_start": 17821.9,
            "bin_end": 17822,
            "count": 0
           },
           {
            "bin_start": 17822,
            "bin_end": 17822.1,
            "count": 5
           },
           {
            "bin_start": 17822.1,
            "bin_end": 17822.2,
            "count": 0
           },
           {
            "bin_start": 17822.2,
            "bin_end": 17822.3,
            "count": 0
           },
           {
            "bin_start": 17822.3,
            "bin_end": 17822.4,
            "count": 0
           },
           {
            "bin_start": 17822.4,
            "bin_end": 17822.5,
            "count": 0
           }
          ]
         }
        },
        {
         "name": "home_team",
         "dtype": "object",
         "stats": {
          "unique_count": 1,
          "nan_count": 0,
          "categories": [
           {
            "name": "Monaco",
            "count": 5
           }
          ]
         }
        },
        {
         "name": "away_team",
         "dtype": "object",
         "stats": {
          "unique_count": 1,
          "nan_count": 0,
          "categories": [
           {
            "name": "Nantes",
            "count": 5
           }
          ]
         }
        },
        {
         "name": "home_goals",
         "dtype": "int64",
         "stats": {
          "unique_count": 1,
          "nan_count": 0,
          "min": "1",
          "max": "1",
          "histogram": [
           {
            "bin_start": 0.5,
            "bin_end": 0.6,
            "count": 0
           },
           {
            "bin_start": 0.6,
            "bin_end": 0.7,
            "count": 0
           },
           {
            "bin_start": 0.7,
            "bin_end": 0.8,
            "count": 0
           },
           {
            "bin_start": 0.8,
            "bin_end": 0.9,
            "count": 0
           },
           {
            "bin_start": 0.9,
            "bin_end": 1,
            "count": 0
           },
           {
            "bin_start": 1,
            "bin_end": 1.1,
            "count": 5
           },
           {
            "bin_start": 1.1,
            "bin_end": 1.2000000000000002,
            "count": 0
           },
           {
            "bin_start": 1.2000000000000002,
            "bin_end": 1.3,
            "count": 0
           },
           {
            "bin_start": 1.3,
            "bin_end": 1.4,
            "count": 0
           },
           {
            "bin_start": 1.4,
            "bin_end": 1.5,
            "count": 0
           }
          ]
         }
        },
        {
         "name": "away_goals",
         "dtype": "int64",
         "stats": {
          "unique_count": 1,
          "nan_count": 0,
          "min": "1",
          "max": "1",
          "histogram": [
           {
            "bin_start": 0.5,
            "bin_end": 0.6,
            "count": 0
           },
           {
            "bin_start": 0.6,
            "bin_end": 0.7,
            "count": 0
           },
           {
            "bin_start": 0.7,
            "bin_end": 0.8,
            "count": 0
           },
           {
            "bin_start": 0.8,
            "bin_end": 0.9,
            "count": 0
           },
           {
            "bin_start": 0.9,
            "bin_end": 1,
            "count": 0
           },
           {
            "bin_start": 1,
            "bin_end": 1.1,
            "count": 5
           },
           {
            "bin_start": 1.1,
            "bin_end": 1.2000000000000002,
            "count": 0
           },
           {
            "bin_start": 1.2000000000000002,
            "bin_end": 1.3,
            "count": 0
           },
           {
            "bin_start": 1.3,
            "bin_end": 1.4,
            "count": 0
           },
           {
            "bin_start": 1.4,
            "bin_end": 1.5,
            "count": 0
           }
          ]
         }
        },
        {
         "name": "date",
         "dtype": "object",
         "stats": {
          "unique_count": 1,
          "nan_count": 0,
          "categories": [
           {
            "name": "2021-08-06 19:00:00",
            "count": 5
           }
          ]
         }
        },
        {
         "name": "player_assisted",
         "dtype": "object",
         "stats": {
          "unique_count": 2,
          "nan_count": 3,
          "categories": [
           {
            "name": "Caio Henrique",
            "count": 1
           },
           {
            "name": "Jean Lucas",
            "count": 1
           },
           {
            "name": "Missing",
            "count": 3
           }
          ]
         }
        },
        {
         "name": "lastAction",
         "dtype": "object",
         "stats": {
          "unique_count": 5,
          "nan_count": 0,
          "categories": [
           {
            "name": "BallRecovery",
            "count": 1
           },
           {
            "name": "Throughball",
            "count": 1
           },
           {
            "name": "3 others",
            "count": 3
           }
          ]
         }
        },
        {
         "name": "_deepnote_index_column",
         "dtype": "int64"
        }
       ],
       "rows": [
        {
         "league": "Ligue_1",
         "id": 425095,
         "minute": 7,
         "result": "MissedShots",
         "X": 0.964000015258789,
         "Y": 0.654000015258789,
         "player": "Myron Boadu",
         "h_a": "h",
         "player_id": 9612,
         "situation": "OpenPlay",
         "season": 2021,
         "shotType": "LeftFoot",
         "match_id": 17822,
         "home_team": "Monaco",
         "away_team": "Nantes",
         "home_goals": 1,
         "away_goals": 1,
         "date": "2021-08-06 19:00:00",
         "player_assisted": "nan",
         "lastAction": "BallRecovery",
         "_deepnote_index_column": 1
        },
        {
         "league": "Ligue_1",
         "id": 425098,
         "minute": 13,
         "result": "Goal",
         "X": 0.925,
         "Y": 0.430999984741211,
         "player": "Gelson Martins",
         "h_a": "h",
         "player_id": 7012,
         "situation": "OpenPlay",
         "season": 2021,
         "shotType": "RightFoot",
         "match_id": 17822,
         "home_team": "Monaco",
         "away_team": "Nantes",
         "home_goals": 1,
         "away_goals": 1,
         "date": "2021-08-06 19:00:00",
         "player_assisted": "Caio Henrique",
         "lastAction": "Throughball",
         "_deepnote_index_column": 2
        },
        {
         "league": "Ligue_1",
         "id": 425100,
         "minute": 24,
         "result": "BlockedShot",
         "X": 0.785,
         "Y": 0.387999992370605,
         "player": "Kevin Volland",
         "h_a": "h",
         "player_id": 83,
         "situation": "OpenPlay",
         "season": 2021,
         "shotType": "LeftFoot",
         "match_id": 17822,
         "home_team": "Monaco",
         "away_team": "Nantes",
         "home_goals": 1,
         "away_goals": 1,
         "date": "2021-08-06 19:00:00",
         "player_assisted": "nan",
         "lastAction": "None",
         "_deepnote_index_column": 3
        },
        {
         "league": "Ligue_1",
         "id": 425101,
         "minute": 24,
         "result": "MissedShots",
         "X": 0.760999984741211,
         "Y": 0.525,
         "player": "Jean Lucas",
         "h_a": "h",
         "player_id": 7687,
         "situation": "OpenPlay",
         "season": 2021,
         "shotType": "RightFoot",
         "match_id": 17822,
         "home_team": "Monaco",
         "away_team": "Nantes",
         "home_goals": 1,
         "away_goals": 1,
         "date": "2021-08-06 19:00:00",
         "player_assisted": "nan",
         "lastAction": "Rebound",
         "_deepnote_index_column": 4
        },
        {
         "league": "Ligue_1",
         "id": 425102,
         "minute": 30,
         "result": "MissedShots",
         "X": 0.935999984741211,
         "Y": 0.415,
         "player": "Kevin Volland",
         "h_a": "h",
         "player_id": 83,
         "situation": "FromCorner",
         "season": 2021,
         "shotType": "Head",
         "match_id": 17822,
         "home_team": "Monaco",
         "away_team": "Nantes",
         "home_goals": 1,
         "away_goals": 1,
         "date": "2021-08-06 19:00:00",
         "player_assisted": "Jean Lucas",
         "lastAction": "Aerial",
         "_deepnote_index_column": 5
        }
       ]
      },
      "text/plain": "    league      id  minute       result      X      Y          player h_a  \\\n1  Ligue_1  425095       7  MissedShots  0.964  0.654     Myron Boadu   h   \n2  Ligue_1  425098      13         Goal  0.925  0.431  Gelson Martins   h   \n3  Ligue_1  425100      24  BlockedShot  0.785  0.388   Kevin Volland   h   \n4  Ligue_1  425101      24  MissedShots  0.761  0.525      Jean Lucas   h   \n5  Ligue_1  425102      30  MissedShots  0.936  0.415   Kevin Volland   h   \n\n   player_id   situation  season   shotType  match_id home_team away_team  \\\n1       9612    OpenPlay    2021   LeftFoot     17822    Monaco    Nantes   \n2       7012    OpenPlay    2021  RightFoot     17822    Monaco    Nantes   \n3         83    OpenPlay    2021   LeftFoot     17822    Monaco    Nantes   \n4       7687    OpenPlay    2021  RightFoot     17822    Monaco    Nantes   \n5         83  FromCorner    2021       Head     17822    Monaco    Nantes   \n\n   home_goals  away_goals                 date player_assisted    lastAction  \n1           1           1  2021-08-06 19:00:00             NaN  BallRecovery  \n2           1           1  2021-08-06 19:00:00   Caio Henrique   Throughball  \n3           1           1  2021-08-06 19:00:00             NaN          None  \n4           1           1  2021-08-06 19:00:00             NaN       Rebound  \n5           1           1  2021-08-06 19:00:00      Jean Lucas        Aerial  ",
      "text/html": "<div>\n<style scoped>\n    .dataframe tbody tr th:only-of-type {\n        vertical-align: middle;\n    }\n\n    .dataframe tbody tr th {\n        vertical-align: top;\n    }\n\n    .dataframe thead th {\n        text-align: right;\n    }\n</style>\n<table border=\"1\" class=\"dataframe\">\n  <thead>\n    <tr style=\"text-align: right;\">\n      <th></th>\n      <th>league</th>\n      <th>id</th>\n      <th>minute</th>\n      <th>result</th>\n      <th>X</th>\n      <th>Y</th>\n      <th>player</th>\n      <th>h_a</th>\n      <th>player_id</th>\n      <th>situation</th>\n      <th>season</th>\n      <th>shotType</th>\n      <th>match_id</th>\n      <th>home_team</th>\n      <th>away_team</th>\n      <th>home_goals</th>\n      <th>away_goals</th>\n      <th>date</th>\n      <th>player_assisted</th>\n      <th>lastAction</th>\n    </tr>\n  </thead>\n  <tbody>\n    <tr>\n      <th>1</th>\n      <td>Ligue_1</td>\n      <td>425095</td>\n      <td>7</td>\n      <td>MissedShots</td>\n      <td>0.964</td>\n      <td>0.654</td>\n      <td>Myron Boadu</td>\n      <td>h</td>\n      <td>9612</td>\n      <td>OpenPlay</td>\n      <td>2021</td>\n      <td>LeftFoot</td>\n      <td>17822</td>\n      <td>Monaco</td>\n      <td>Nantes</td>\n      <td>1</td>\n      <td>1</td>\n      <td>2021-08-06 19:00:00</td>\n      <td>NaN</td>\n      <td>BallRecovery</td>\n    </tr>\n    <tr>\n      <th>2</th>\n      <td>Ligue_1</td>\n      <td>425098</td>\n      <td>13</td>\n      <td>Goal</td>\n      <td>0.925</td>\n      <td>0.431</td>\n      <td>Gelson Martins</td>\n      <td>h</td>\n      <td>7012</td>\n      <td>OpenPlay</td>\n      <td>2021</td>\n      <td>RightFoot</td>\n      <td>17822</td>\n      <td>Monaco</td>\n      <td>Nantes</td>\n      <td>1</td>\n      <td>1</td>\n      <td>2021-08-06 19:00:00</td>\n      <td>Caio Henrique</td>\n      <td>Throughball</td>\n    </tr>\n    <tr>\n      <th>3</th>\n      <td>Ligue_1</td>\n      <td>425100</td>\n      <td>24</td>\n      <td>BlockedShot</td>\n      <td>0.785</td>\n      <td>0.388</td>\n      <td>Kevin Volland</td>\n      <td>h</td>\n      <td>83</td>\n      <td>OpenPlay</td>\n      <td>2021</td>\n      <td>LeftFoot</td>\n      <td>17822</td>\n      <td>Monaco</td>\n      <td>Nantes</td>\n      <td>1</td>\n      <td>1</td>\n      <td>2021-08-06 19:00:00</td>\n      <td>NaN</td>\n      <td>None</td>\n    </tr>\n    <tr>\n      <th>4</th>\n      <td>Ligue_1</td>\n      <td>425101</td>\n      <td>24</td>\n      <td>MissedShots</td>\n      <td>0.761</td>\n      <td>0.525</td>\n      <td>Jean Lucas</td>\n      <td>h</td>\n      <td>7687</td>\n      <td>OpenPlay</td>\n      <td>2021</td>\n      <td>RightFoot</td>\n      <td>17822</td>\n      <td>Monaco</td>\n      <td>Nantes</td>\n      <td>1</td>\n      <td>1</td>\n      <td>2021-08-06 19:00:00</td>\n      <td>NaN</td>\n      <td>Rebound</td>\n    </tr>\n    <tr>\n      <th>5</th>\n      <td>Ligue_1</td>\n      <td>425102</td>\n      <td>30</td>\n      <td>MissedShots</td>\n      <td>0.936</td>\n      <td>0.415</td>\n      <td>Kevin Volland</td>\n      <td>h</td>\n      <td>83</td>\n      <td>FromCorner</td>\n      <td>2021</td>\n      <td>Head</td>\n      <td>17822</td>\n      <td>Monaco</td>\n      <td>Nantes</td>\n      <td>1</td>\n      <td>1</td>\n      <td>2021-08-06 19:00:00</td>\n      <td>Jean Lucas</td>\n      <td>Aerial</td>\n    </tr>\n  </tbody>\n</table>\n</div>"
     },
     "metadata": {}
    }
   ],
   "execution_count": null
  },
  {
   "cell_type": "markdown",
   "source": "## First step preprocessing",
   "metadata": {
    "cell_id": "73f3dfa3c92a4cce8312c48e4b614416",
    "tags": [],
    "deepnote_cell_type": "markdown",
    "deepnote_cell_height": 70
   }
  },
  {
   "cell_type": "code",
   "source": "df = df[df.result != \"OwnGoal\"]",
   "metadata": {
    "cell_id": "6e060a2d17224ff3bbde07fb23a62357",
    "tags": [],
    "deepnote_to_be_reexecuted": false,
    "source_hash": "b58cb3c5",
    "execution_start": 1659968843588,
    "execution_millis": 29,
    "deepnote_cell_type": "code",
    "deepnote_cell_height": 76
   },
   "outputs": [],
   "execution_count": null
  },
  {
   "cell_type": "code",
   "source": "df['status'] = np.where(df.result == \"Goal\", 1, 0)",
   "metadata": {
    "cell_id": "559cce3fa8324962ab68b9980bc99b18",
    "tags": [],
    "deepnote_to_be_reexecuted": false,
    "source_hash": "a3234bb3",
    "execution_start": 1659968845134,
    "execution_millis": 0,
    "deepnote_cell_type": "code",
    "deepnote_cell_height": 76
   },
   "outputs": [],
   "execution_count": null
  },
  {
   "cell_type": "code",
   "source": "df = df.drop('result', axis = 1)",
   "metadata": {
    "cell_id": "e4f9ca06ac09408db5ed79a55abd1957",
    "tags": [],
    "deepnote_to_be_reexecuted": false,
    "source_hash": "6d813e07",
    "execution_start": 1659968845136,
    "execution_millis": 68,
    "deepnote_cell_type": "code",
    "deepnote_cell_height": 76
   },
   "outputs": [],
   "execution_count": null
  },
  {
   "cell_type": "markdown",
   "source": "Column `lastAction` has value `KeeperSweeper` only for two observations - it causes some problems next in train-test-split and label encoding, so I'll delete these observations.",
   "metadata": {
    "cell_id": "38d409066e5f4803a10cd61d511a7cea",
    "tags": [],
    "deepnote_cell_type": "markdown",
    "deepnote_cell_height": 74.80000305175781
   }
  },
  {
   "cell_type": "code",
   "source": "df[df.lastAction == 'KeeperSweeper']",
   "metadata": {
    "cell_id": "02b6b6524f004e1fb55902689968130d",
    "tags": [],
    "deepnote_to_be_reexecuted": false,
    "source_hash": "9e8dd4a4",
    "execution_start": 1659968846356,
    "execution_millis": 76,
    "deepnote_cell_type": "code",
    "deepnote_cell_height": 267
   },
   "outputs": [
    {
     "output_type": "execute_result",
     "execution_count": 69,
     "data": {
      "application/vnd.deepnote.dataframe.v3+json": {
       "column_count": 20,
       "row_count": 2,
       "columns": [
        {
         "name": "league",
         "dtype": "object",
         "stats": {
          "unique_count": 2,
          "nan_count": 0,
          "categories": [
           {
            "name": "EPL",
            "count": 1
           },
           {
            "name": "La_liga",
            "count": 1
           }
          ]
         }
        },
        {
         "name": "id",
         "dtype": "int64",
         "stats": {
          "unique_count": 2,
          "nan_count": 0,
          "min": "54081",
          "max": "84192",
          "histogram": [
           {
            "bin_start": 54081,
            "bin_end": 57092.1,
            "count": 1
           },
           {
            "bin_start": 57092.1,
            "bin_end": 60103.2,
            "count": 0
           },
           {
            "bin_start": 60103.2,
            "bin_end": 63114.3,
            "count": 0
           },
           {
            "bin_start": 63114.3,
            "bin_end": 66125.4,
            "count": 0
           },
           {
            "bin_start": 66125.4,
            "bin_end": 69136.5,
            "count": 0
           },
           {
            "bin_start": 69136.5,
            "bin_end": 72147.6,
            "count": 0
           },
           {
            "bin_start": 72147.6,
            "bin_end": 75158.7,
            "count": 0
           },
           {
            "bin_start": 75158.7,
            "bin_end": 78169.8,
            "count": 0
           },
           {
            "bin_start": 78169.8,
            "bin_end": 81180.9,
            "count": 0
           },
           {
            "bin_start": 81180.9,
            "bin_end": 84192,
            "count": 1
           }
          ]
         }
        },
        {
         "name": "minute",
         "dtype": "int64",
         "stats": {
          "unique_count": 2,
          "nan_count": 0,
          "min": "33",
          "max": "61",
          "histogram": [
           {
            "bin_start": 33,
            "bin_end": 35.8,
            "count": 1
           },
           {
            "bin_start": 35.8,
            "bin_end": 38.6,
            "count": 0
           },
           {
            "bin_start": 38.6,
            "bin_end": 41.4,
            "count": 0
           },
           {
            "bin_start": 41.4,
            "bin_end": 44.2,
            "count": 0
           },
           {
            "bin_start": 44.2,
            "bin_end": 47,
            "count": 0
           },
           {
            "bin_start": 47,
            "bin_end": 49.8,
            "count": 0
           },
           {
            "bin_start": 49.8,
            "bin_end": 52.599999999999994,
            "count": 0
           },
           {
            "bin_start": 52.599999999999994,
            "bin_end": 55.4,
            "count": 0
           },
           {
            "bin_start": 55.4,
            "bin_end": 58.2,
            "count": 0
           },
           {
            "bin_start": 58.2,
            "bin_end": 61,
            "count": 1
           }
          ]
         }
        },
        {
         "name": "X",
         "dtype": "float64",
         "stats": {
          "unique_count": 2,
          "nan_count": 0,
          "min": "0.735999984741211",
          "max": "0.816999969482422",
          "histogram": [
           {
            "bin_start": 0.735999984741211,
            "bin_end": 0.7440999832153321,
            "count": 1
           },
           {
            "bin_start": 0.7440999832153321,
            "bin_end": 0.7521999816894532,
            "count": 0
           },
           {
            "bin_start": 0.7521999816894532,
            "bin_end": 0.7602999801635743,
            "count": 0
           },
           {
            "bin_start": 0.7602999801635743,
            "bin_end": 0.7683999786376954,
            "count": 0
           },
           {
            "bin_start": 0.7683999786376954,
            "bin_end": 0.7764999771118165,
            "count": 0
           },
           {
            "bin_start": 0.7764999771118165,
            "bin_end": 0.7845999755859376,
            "count": 0
           },
           {
            "bin_start": 0.7845999755859376,
            "bin_end": 0.7926999740600588,
            "count": 0
           },
           {
            "bin_start": 0.7926999740600588,
            "bin_end": 0.8007999725341798,
            "count": 0
           },
           {
            "bin_start": 0.8007999725341798,
            "bin_end": 0.8088999710083009,
            "count": 0
           },
           {
            "bin_start": 0.8088999710083009,
            "bin_end": 0.816999969482422,
            "count": 1
           }
          ]
         }
        },
        {
         "name": "Y",
         "dtype": "float64",
         "stats": {
          "unique_count": 2,
          "nan_count": 0,
          "min": "0.532999992370605",
          "max": "0.565",
          "histogram": [
           {
            "bin_start": 0.532999992370605,
            "bin_end": 0.5361999931335445,
            "count": 1
           },
           {
            "bin_start": 0.5361999931335445,
            "bin_end": 0.539399993896484,
            "count": 0
           },
           {
            "bin_start": 0.539399993896484,
            "bin_end": 0.5425999946594235,
            "count": 0
           },
           {
            "bin_start": 0.5425999946594235,
            "bin_end": 0.545799995422363,
            "count": 0
           },
           {
            "bin_start": 0.545799995422363,
            "bin_end": 0.5489999961853025,
            "count": 0
           },
           {
            "bin_start": 0.5489999961853025,
            "bin_end": 0.552199996948242,
            "count": 0
           },
           {
            "bin_start": 0.552199996948242,
            "bin_end": 0.5553999977111814,
            "count": 0
           },
           {
            "bin_start": 0.5553999977111814,
            "bin_end": 0.558599998474121,
            "count": 0
           },
           {
            "bin_start": 0.558599998474121,
            "bin_end": 0.5617999992370605,
            "count": 0
           },
           {
            "bin_start": 0.5617999992370605,
            "bin_end": 0.565,
            "count": 1
           }
          ]
         }
        },
        {
         "name": "player",
         "dtype": "object",
         "stats": {
          "unique_count": 2,
          "nan_count": 0,
          "categories": [
           {
            "name": "Philippe Coutinho",
            "count": 1
           },
           {
            "name": "Pedro Mosquera",
            "count": 1
           }
          ]
         }
        },
        {
         "name": "h_a",
         "dtype": "object",
         "stats": {
          "unique_count": 1,
          "nan_count": 0,
          "categories": [
           {
            "name": "h",
            "count": 2
           }
          ]
         }
        },
        {
         "name": "player_id",
         "dtype": "int64",
         "stats": {
          "unique_count": 2,
          "nan_count": 0,
          "min": "488",
          "max": "2320",
          "histogram": [
           {
            "bin_start": 488,
            "bin_end": 671.2,
            "count": 1
           },
           {
            "bin_start": 671.2,
            "bin_end": 854.4,
            "count": 0
           },
           {
            "bin_start": 854.4,
            "bin_end": 1037.6,
            "count": 0
           },
           {
            "bin_start": 1037.6,
            "bin_end": 1220.8,
            "count": 0
           },
           {
            "bin_start": 1220.8,
            "bin_end": 1404,
            "count": 0
           },
           {
            "bin_start": 1404,
            "bin_end": 1587.1999999999998,
            "count": 0
           },
           {
            "bin_start": 1587.1999999999998,
            "bin_end": 1770.3999999999999,
            "count": 0
           },
           {
            "bin_start": 1770.3999999999999,
            "bin_end": 1953.6,
            "count": 0
           },
           {
            "bin_start": 1953.6,
            "bin_end": 2136.8,
            "count": 0
           },
           {
            "bin_start": 2136.8,
            "bin_end": 2320,
            "count": 1
           }
          ]
         }
        },
        {
         "name": "situation",
         "dtype": "object",
         "stats": {
          "unique_count": 2,
          "nan_count": 0,
          "categories": [
           {
            "name": "OpenPlay",
            "count": 1
           },
           {
            "name": "FromCorner",
            "count": 1
           }
          ]
         }
        },
        {
         "name": "season",
         "dtype": "int64",
         "stats": {
          "unique_count": 1,
          "nan_count": 0,
          "min": "2015",
          "max": "2015",
          "histogram": [
           {
            "bin_start": 2014.5,
            "bin_end": 2014.6,
            "count": 0
           },
           {
            "bin_start": 2014.6,
            "bin_end": 2014.7,
            "count": 0
           },
           {
            "bin_start": 2014.7,
            "bin_end": 2014.8,
            "count": 0
           },
           {
            "bin_start": 2014.8,
            "bin_end": 2014.9,
            "count": 0
           },
           {
            "bin_start": 2014.9,
            "bin_end": 2015,
            "count": 0
           },
           {
            "bin_start": 2015,
            "bin_end": 2015.1,
            "count": 2
           },
           {
            "bin_start": 2015.1,
            "bin_end": 2015.2,
            "count": 0
           },
           {
            "bin_start": 2015.2,
            "bin_end": 2015.3,
            "count": 0
           },
           {
            "bin_start": 2015.3,
            "bin_end": 2015.4,
            "count": 0
           },
           {
            "bin_start": 2015.4,
            "bin_end": 2015.5,
            "count": 0
           }
          ]
         }
        },
        {
         "name": "shotType",
         "dtype": "object",
         "stats": {
          "unique_count": 1,
          "nan_count": 0,
          "categories": [
           {
            "name": "RightFoot",
            "count": 2
           }
          ]
         }
        },
        {
         "name": "match_id",
         "dtype": "int64",
         "stats": {
          "unique_count": 2,
          "nan_count": 0,
          "min": "238",
          "max": "1400",
          "histogram": [
           {
            "bin_start": 238,
            "bin_end": 354.2,
            "count": 1
           },
           {
            "bin_start": 354.2,
            "bin_end": 470.4,
            "count": 0
           },
           {
            "bin_start": 470.4,
            "bin_end": 586.6,
            "count": 0
           },
           {
            "bin_start": 586.6,
            "bin_end": 702.8,
            "count": 0
           },
           {
            "bin_start": 702.8,
            "bin_end": 819,
            "count": 0
           },
           {
            "bin_start": 819,
            "bin_end": 935.2,
            "count": 0
           },
           {
            "bin_start": 935.2,
            "bin_end": 1051.4,
            "count": 0
           },
           {
            "bin_start": 1051.4,
            "bin_end": 1167.6,
            "count": 0
           },
           {
            "bin_start": 1167.6,
            "bin_end": 1283.8,
            "count": 0
           },
           {
            "bin_start": 1283.8,
            "bin_end": 1400,
            "count": 1
           }
          ]
         }
        },
        {
         "name": "home_team",
         "dtype": "object",
         "stats": {
          "unique_count": 2,
          "nan_count": 0,
          "categories": [
           {
            "name": "Liverpool",
            "count": 1
           },
           {
            "name": "Deportivo La Coruna",
            "count": 1
           }
          ]
         }
        },
        {
         "name": "away_team",
         "dtype": "object",
         "stats": {
          "unique_count": 2,
          "nan_count": 0,
          "categories": [
           {
            "name": "West Bromwich Albion",
            "count": 1
           },
           {
            "name": "Real Sociedad",
            "count": 1
           }
          ]
         }
        },
        {
         "name": "home_goals",
         "dtype": "int64",
         "stats": {
          "unique_count": 2,
          "nan_count": 0,
          "min": "0",
          "max": "2",
          "histogram": [
           {
            "bin_start": 0,
            "bin_end": 0.2,
            "count": 1
           },
           {
            "bin_start": 0.2,
            "bin_end": 0.4,
            "count": 0
           },
           {
            "bin_start": 0.4,
            "bin_end": 0.6000000000000001,
            "count": 0
           },
           {
            "bin_start": 0.6000000000000001,
            "bin_end": 0.8,
            "count": 0
           },
           {
            "bin_start": 0.8,
            "bin_end": 1,
            "count": 0
           },
           {
            "bin_start": 1,
            "bin_end": 1.2000000000000002,
            "count": 0
           },
           {
            "bin_start": 1.2000000000000002,
            "bin_end": 1.4000000000000001,
            "count": 0
           },
           {
            "bin_start": 1.4000000000000001,
            "bin_end": 1.6,
            "count": 0
           },
           {
            "bin_start": 1.6,
            "bin_end": 1.8,
            "count": 0
           },
           {
            "bin_start": 1.8,
            "bin_end": 2,
            "count": 1
           }
          ]
         }
        },
        {
         "name": "away_goals",
         "dtype": "int64",
         "stats": {
          "unique_count": 2,
          "nan_count": 0,
          "min": "0",
          "max": "2",
          "histogram": [
           {
            "bin_start": 0,
            "bin_end": 0.2,
            "count": 1
           },
           {
            "bin_start": 0.2,
            "bin_end": 0.4,
            "count": 0
           },
           {
            "bin_start": 0.4,
            "bin_end": 0.6000000000000001,
            "count": 0
           },
           {
            "bin_start": 0.6000000000000001,
            "bin_end": 0.8,
            "count": 0
           },
           {
            "bin_start": 0.8,
            "bin_end": 1,
            "count": 0
           },
           {
            "bin_start": 1,
            "bin_end": 1.2000000000000002,
            "count": 0
           },
           {
            "bin_start": 1.2000000000000002,
            "bin_end": 1.4000000000000001,
            "count": 0
           },
           {
            "bin_start": 1.4000000000000001,
            "bin_end": 1.6,
            "count": 0
           },
           {
            "bin_start": 1.6,
            "bin_end": 1.8,
            "count": 0
           },
           {
            "bin_start": 1.8,
            "bin_end": 2,
            "count": 1
           }
          ]
         }
        },
        {
         "name": "date",
         "dtype": "object",
         "stats": {
          "unique_count": 2,
          "nan_count": 0,
          "categories": [
           {
            "name": "2015-12-13 20:00:00",
            "count": 1
           },
           {
            "name": "2015-08-22 20:30:00",
            "count": 1
           }
          ]
         }
        },
        {
         "name": "player_assisted",
         "dtype": "object",
         "stats": {
          "unique_count": 2,
          "nan_count": 0,
          "categories": [
           {
            "name": "Emre Can",
            "count": 1
           },
           {
            "name": "Celso Borges",
            "count": 1
           }
          ]
         }
        },
        {
         "name": "lastAction",
         "dtype": "object",
         "stats": {
          "unique_count": 1,
          "nan_count": 0,
          "categories": [
           {
            "name": "KeeperSweeper",
            "count": 2
           }
          ]
         }
        },
        {
         "name": "status",
         "dtype": "int64",
         "stats": {
          "unique_count": 1,
          "nan_count": 0,
          "min": "0",
          "max": "0",
          "histogram": [
           {
            "bin_start": -0.5,
            "bin_end": -0.4,
            "count": 0
           },
           {
            "bin_start": -0.4,
            "bin_end": -0.3,
            "count": 0
           },
           {
            "bin_start": -0.3,
            "bin_end": -0.19999999999999996,
            "count": 0
           },
           {
            "bin_start": -0.19999999999999996,
            "bin_end": -0.09999999999999998,
            "count": 0
           },
           {
            "bin_start": -0.09999999999999998,
            "bin_end": 0,
            "count": 0
           },
           {
            "bin_start": 0,
            "bin_end": 0.10000000000000009,
            "count": 2
           },
           {
            "bin_start": 0.10000000000000009,
            "bin_end": 0.20000000000000007,
            "count": 0
           },
           {
            "bin_start": 0.20000000000000007,
            "bin_end": 0.30000000000000004,
            "count": 0
           },
           {
            "bin_start": 0.30000000000000004,
            "bin_end": 0.4,
            "count": 0
           },
           {
            "bin_start": 0.4,
            "bin_end": 0.5,
            "count": 0
           }
          ]
         }
        },
        {
         "name": "_deepnote_index_column",
         "dtype": "int64"
        }
       ],
       "rows": [
        {
         "league": "EPL",
         "id": 54081,
         "minute": 33,
         "X": 0.735999984741211,
         "Y": 0.565,
         "player": "Philippe Coutinho",
         "h_a": "h",
         "player_id": 488,
         "situation": "OpenPlay",
         "season": 2015,
         "shotType": "RightFoot",
         "match_id": 238,
         "home_team": "Liverpool",
         "away_team": "West Bromwich Albion",
         "home_goals": 2,
         "away_goals": 2,
         "date": "2015-12-13 20:00:00",
         "player_assisted": "Emre Can",
         "lastAction": "KeeperSweeper",
         "status": 0,
         "_deepnote_index_column": 131445
        },
        {
         "league": "La_liga",
         "id": 84192,
         "minute": 61,
         "X": 0.816999969482422,
         "Y": 0.532999992370605,
         "player": "Pedro Mosquera",
         "h_a": "h",
         "player_id": 2320,
         "situation": "FromCorner",
         "season": 2015,
         "shotType": "RightFoot",
         "match_id": 1400,
         "home_team": "Deportivo La Coruna",
         "away_team": "Real Sociedad",
         "home_goals": 0,
         "away_goals": 0,
         "date": "2015-08-22 20:30:00",
         "player_assisted": "Celso Borges",
         "lastAction": "KeeperSweeper",
         "status": 0,
         "_deepnote_index_column": 200119
        }
       ]
      },
      "text/plain": "         league     id  minute      X      Y             player h_a  \\\n131445      EPL  54081      33  0.736  0.565  Philippe Coutinho   h   \n200119  La_liga  84192      61  0.817  0.533     Pedro Mosquera   h   \n\n        player_id   situation  season   shotType  match_id  \\\n131445        488    OpenPlay    2015  RightFoot       238   \n200119       2320  FromCorner    2015  RightFoot      1400   \n\n                  home_team             away_team  home_goals  away_goals  \\\n131445            Liverpool  West Bromwich Albion           2           2   \n200119  Deportivo La Coruna         Real Sociedad           0           0   \n\n                       date player_assisted     lastAction  status  \n131445  2015-12-13 20:00:00        Emre Can  KeeperSweeper       0  \n200119  2015-08-22 20:30:00    Celso Borges  KeeperSweeper       0  ",
      "text/html": "<div>\n<style scoped>\n    .dataframe tbody tr th:only-of-type {\n        vertical-align: middle;\n    }\n\n    .dataframe tbody tr th {\n        vertical-align: top;\n    }\n\n    .dataframe thead th {\n        text-align: right;\n    }\n</style>\n<table border=\"1\" class=\"dataframe\">\n  <thead>\n    <tr style=\"text-align: right;\">\n      <th></th>\n      <th>league</th>\n      <th>id</th>\n      <th>minute</th>\n      <th>X</th>\n      <th>Y</th>\n      <th>player</th>\n      <th>h_a</th>\n      <th>player_id</th>\n      <th>situation</th>\n      <th>season</th>\n      <th>shotType</th>\n      <th>match_id</th>\n      <th>home_team</th>\n      <th>away_team</th>\n      <th>home_goals</th>\n      <th>away_goals</th>\n      <th>date</th>\n      <th>player_assisted</th>\n      <th>lastAction</th>\n      <th>status</th>\n    </tr>\n  </thead>\n  <tbody>\n    <tr>\n      <th>131445</th>\n      <td>EPL</td>\n      <td>54081</td>\n      <td>33</td>\n      <td>0.736</td>\n      <td>0.565</td>\n      <td>Philippe Coutinho</td>\n      <td>h</td>\n      <td>488</td>\n      <td>OpenPlay</td>\n      <td>2015</td>\n      <td>RightFoot</td>\n      <td>238</td>\n      <td>Liverpool</td>\n      <td>West Bromwich Albion</td>\n      <td>2</td>\n      <td>2</td>\n      <td>2015-12-13 20:00:00</td>\n      <td>Emre Can</td>\n      <td>KeeperSweeper</td>\n      <td>0</td>\n    </tr>\n    <tr>\n      <th>200119</th>\n      <td>La_liga</td>\n      <td>84192</td>\n      <td>61</td>\n      <td>0.817</td>\n      <td>0.533</td>\n      <td>Pedro Mosquera</td>\n      <td>h</td>\n      <td>2320</td>\n      <td>FromCorner</td>\n      <td>2015</td>\n      <td>RightFoot</td>\n      <td>1400</td>\n      <td>Deportivo La Coruna</td>\n      <td>Real Sociedad</td>\n      <td>0</td>\n      <td>0</td>\n      <td>2015-08-22 20:30:00</td>\n      <td>Celso Borges</td>\n      <td>KeeperSweeper</td>\n      <td>0</td>\n    </tr>\n  </tbody>\n</table>\n</div>"
     },
     "metadata": {}
    }
   ],
   "execution_count": null
  },
  {
   "cell_type": "code",
   "source": "df = df[df.lastAction != 'KeeperSweeper']",
   "metadata": {
    "cell_id": "9171a15df774408982ba88f2dba699dd",
    "tags": [],
    "deepnote_to_be_reexecuted": false,
    "source_hash": "4fa121b",
    "execution_start": 1659968847021,
    "execution_millis": 149,
    "deepnote_cell_type": "code",
    "deepnote_cell_height": 76
   },
   "outputs": [],
   "execution_count": null
  },
  {
   "cell_type": "code",
   "source": "X = df.drop('status', axis=1)\nY = df['status']",
   "metadata": {
    "cell_id": "0302e049570043b1b95574835090b996",
    "tags": [],
    "deepnote_to_be_reexecuted": false,
    "source_hash": "7819dfde",
    "execution_start": 1659968848852,
    "execution_millis": 40,
    "deepnote_cell_type": "code",
    "deepnote_cell_height": 94
   },
   "outputs": [],
   "execution_count": null
  },
  {
   "cell_type": "code",
   "source": "df.to_csv('./data/data.csv')",
   "metadata": {
    "cell_id": "7522ac27c21240dc95c90e55c16bbe7e",
    "tags": [],
    "deepnote_to_be_reexecuted": false,
    "source_hash": "90899c90",
    "execution_start": 1659968860982,
    "execution_millis": 3649,
    "deepnote_cell_type": "code",
    "deepnote_cell_height": 76
   },
   "outputs": [],
   "execution_count": null
  },
  {
   "cell_type": "code",
   "source": "del df",
   "metadata": {
    "cell_id": "0b3b54c66c4f424fab3b94c0d0aa9f0c",
    "tags": [],
    "deepnote_to_be_reexecuted": false,
    "source_hash": "f349904a",
    "execution_start": 1659968221511,
    "execution_millis": 6,
    "deepnote_cell_type": "code",
    "deepnote_cell_height": 76
   },
   "outputs": [],
   "execution_count": null
  },
  {
   "cell_type": "markdown",
   "source": "## Split data into training and test set",
   "metadata": {
    "cell_id": "8d93d6569d354046a3291dba4d17d596",
    "tags": [],
    "deepnote_cell_type": "markdown",
    "deepnote_cell_height": 70
   }
  },
  {
   "cell_type": "code",
   "source": "from sklearn.model_selection import train_test_split",
   "metadata": {
    "cell_id": "541a17db6f88459eb6b49bcfca7faf8d",
    "tags": [],
    "deepnote_to_be_reexecuted": false,
    "source_hash": "746a4dbc",
    "execution_start": 1659968222300,
    "execution_millis": 1,
    "deepnote_cell_type": "code",
    "deepnote_cell_height": 76
   },
   "outputs": [],
   "execution_count": null
  },
  {
   "cell_type": "code",
   "source": "X_train, X_test, y_train, y_test = train_test_split(X, Y, test_size = 0.2, random_state = 123, stratify = Y)",
   "metadata": {
    "cell_id": "cd1c10516ad947dbb94153364a535c6c",
    "tags": [],
    "deepnote_to_be_reexecuted": false,
    "source_hash": "6dd376fe",
    "execution_start": 1659968222624,
    "execution_millis": 234,
    "deepnote_cell_type": "code",
    "deepnote_cell_height": 81
   },
   "outputs": [],
   "execution_count": null
  },
  {
   "cell_type": "markdown",
   "source": "## Oversampling minority class",
   "metadata": {
    "cell_id": "e17ab85f27204358941a7a4d6c388833",
    "tags": [],
    "deepnote_cell_type": "markdown",
    "deepnote_cell_height": 70
   }
  },
  {
   "cell_type": "code",
   "source": "import seaborn as sns\nimport matplotlib.pyplot as plt",
   "metadata": {
    "cell_id": "42b69307c1f5432fa1142e2cebf603bd",
    "tags": [],
    "deepnote_to_be_reexecuted": false,
    "source_hash": "cf9bbfa5",
    "execution_start": 1659967147608,
    "execution_millis": 2651,
    "deepnote_cell_type": "code",
    "deepnote_cell_height": 94
   },
   "outputs": [],
   "execution_count": null
  },
  {
   "cell_type": "code",
   "source": "sns.countplot(x = y_train)\nplt.show()",
   "metadata": {
    "cell_id": "d3824c88ad924fe3add8ab636aa13879",
    "tags": [],
    "deepnote_to_be_reexecuted": false,
    "source_hash": "868be24c",
    "execution_start": 1659967150272,
    "execution_millis": 498,
    "deepnote_cell_type": "code",
    "deepnote_cell_height": 374,
    "deepnote_output_heights": [
     264,
     264
    ]
   },
   "outputs": [
    {
     "data": {
      "text/plain": "<Figure size 432x288 with 1 Axes>",
      "image/png": "[encoded data removed]"
     },
     "metadata": {
      "needs_background": "light",
      "image/png": {
       "width": 407,
       "height": 262
      }
     },
     "output_type": "display_data"
    }
   ],
   "execution_count": null
  },
  {
   "cell_type": "code",
   "source": "# !pip install imblearn",
   "metadata": {
    "cell_id": "403becbaa8744599a3a3f8feb7056db7",
    "tags": [],
    "deepnote_to_be_reexecuted": false,
    "source_hash": "58532988",
    "execution_start": 1659967150816,
    "execution_millis": 279886,
    "deepnote_cell_type": "code",
    "deepnote_cell_height": 76
   },
   "outputs": [],
   "execution_count": null
  },
  {
   "cell_type": "code",
   "source": "from imblearn.over_sampling import RandomOverSampler",
   "metadata": {
    "cell_id": "8a094b845edc44b282ebb5f6519a23b1",
    "tags": [],
    "deepnote_to_be_reexecuted": false,
    "source_hash": "d9863740",
    "execution_start": 1659967152911,
    "execution_millis": 425,
    "deepnote_cell_type": "code",
    "deepnote_cell_height": 76
   },
   "outputs": [],
   "execution_count": null
  },
  {
   "cell_type": "code",
   "source": "sampler = RandomOverSampler(random_state = 123)\nX_train_oversampled, y_train_oversampled = sampler.fit_resample(X_train, y_train)",
   "metadata": {
    "cell_id": "901af5a06d4e462798e08efcee80770e",
    "tags": [],
    "deepnote_to_be_reexecuted": false,
    "source_hash": "45ef1bfa",
    "execution_start": 1659967153637,
    "execution_millis": 5187,
    "deepnote_cell_type": "code",
    "deepnote_cell_height": 94
   },
   "outputs": [],
   "execution_count": null
  },
  {
   "cell_type": "code",
   "source": "sns.countplot(x = y_train_oversampled)\nplt.show()",
   "metadata": {
    "cell_id": "81f4a82d77b049ac9b72b99dbeb8b817",
    "tags": [],
    "deepnote_to_be_reexecuted": false,
    "source_hash": "e98efe4d",
    "execution_start": 1659967158845,
    "execution_millis": 520,
    "deepnote_cell_type": "code",
    "deepnote_cell_height": 374,
    "deepnote_output_heights": [
     264
    ]
   },
   "outputs": [
    {
     "data": {
      "text/plain": "<Figure size 432x288 with 1 Axes>",
      "image/png": "[encoded data removed]"
     },
     "metadata": {
      "needs_background": "light",
      "image/png": {
       "width": 407,
       "height": 262
      }
     },
     "output_type": "display_data"
    }
   ],
   "execution_count": null
  },
  {
   "cell_type": "markdown",
   "source": "## Preprocessing",
   "metadata": {
    "cell_id": "b50930a636064582951a53acd7a05655",
    "tags": [],
    "deepnote_cell_type": "markdown",
    "deepnote_cell_height": 70
   }
  },
  {
   "cell_type": "code",
   "source": "from sklearn.base import TransformerMixin, BaseEstimator\nfrom sklearn.preprocessing import LabelEncoder",
   "metadata": {
    "cell_id": "c4e80e361dd348a1b1261fe4de06e02c",
    "tags": [],
    "deepnote_to_be_reexecuted": false,
    "source_hash": "b8508fdd",
    "execution_start": 1659967162484,
    "execution_millis": 7,
    "deepnote_cell_type": "code",
    "deepnote_cell_height": 94
   },
   "outputs": [],
   "execution_count": null
  },
  {
   "cell_type": "code",
   "source": "from scripts.preprocess import Transformer",
   "metadata": {
    "cell_id": "73e23139aaf24580a4664df0859bc679",
    "tags": [],
    "deepnote_to_be_reexecuted": false,
    "source_hash": "f9e3f852",
    "execution_start": 1659968675221,
    "execution_millis": 10,
    "deepnote_cell_type": "code",
    "deepnote_cell_height": 76
   },
   "outputs": [],
   "execution_count": null
  },
  {
   "cell_type": "code",
   "source": "tr = Transformer()\ntr.fit(X_train_oversampled, y_train_oversampled)",
   "metadata": {
    "cell_id": "8d13bd0746f74957a7aa04c71a9d6b26",
    "tags": [],
    "deepnote_to_be_reexecuted": false,
    "source_hash": "f881f729",
    "execution_start": 1659967165708,
    "execution_millis": 77,
    "deepnote_cell_type": "code",
    "deepnote_cell_height": 170,
    "deepnote_output_heights": [
     60
    ]
   },
   "outputs": [
    {
     "output_type": "execute_result",
     "execution_count": 22,
     "data": {
      "text/plain": "Transformer()",
      "text/html": "<style>#sk-container-id-1 {color: black;background-color: white;}#sk-container-id-1 pre{padding: 0;}#sk-container-id-1 div.sk-toggleable {background-color: white;}#sk-container-id-1 label.sk-toggleable__label {cursor: pointer;display: block;width: 100%;margin-bottom: 0;padding: 0.3em;box-sizing: border-box;text-align: center;}#sk-container-id-1 label.sk-toggleable__label-arrow:before {content: \"▸\";float: left;margin-right: 0.25em;color: #696969;}#sk-container-id-1 label.sk-toggleable__label-arrow:hover:before {color: black;}#sk-container-id-1 div.sk-estimator:hover label.sk-toggleable__label-arrow:before {color: black;}#sk-container-id-1 div.sk-toggleable__content {max-height: 0;max-width: 0;overflow: hidden;text-align: left;background-color: #f0f8ff;}#sk-container-id-1 div.sk-toggleable__content pre {margin: 0.2em;color: black;border-radius: 0.25em;background-color: #f0f8ff;}#sk-container-id-1 input.sk-toggleable__control:checked~div.sk-toggleable__content {max-height: 200px;max-width: 100%;overflow: auto;}#sk-container-id-1 input.sk-toggleable__control:checked~label.sk-toggleable__label-arrow:before {content: \"▾\";}#sk-container-id-1 div.sk-estimator input.sk-toggleable__control:checked~label.sk-toggleable__label {background-color: #d4ebff;}#sk-container-id-1 div.sk-label input.sk-toggleable__control:checked~label.sk-toggleable__label {background-color: #d4ebff;}#sk-container-id-1 input.sk-hidden--visually {border: 0;clip: rect(1px 1px 1px 1px);clip: rect(1px, 1px, 1px, 1px);height: 1px;margin: -1px;overflow: hidden;padding: 0;position: absolute;width: 1px;}#sk-container-id-1 div.sk-estimator {font-family: monospace;background-color: #f0f8ff;border: 1px dotted black;border-radius: 0.25em;box-sizing: border-box;margin-bottom: 0.5em;}#sk-container-id-1 div.sk-estimator:hover {background-color: #d4ebff;}#sk-container-id-1 div.sk-parallel-item::after {content: \"\";width: 100%;border-bottom: 1px solid gray;flex-grow: 1;}#sk-container-id-1 div.sk-label:hover label.sk-toggleable__label {background-color: #d4ebff;}#sk-container-id-1 div.sk-serial::before {content: \"\";position: absolute;border-left: 1px solid gray;box-sizing: border-box;top: 0;bottom: 0;left: 50%;z-index: 0;}#sk-container-id-1 div.sk-serial {display: flex;flex-direction: column;align-items: center;background-color: white;padding-right: 0.2em;padding-left: 0.2em;position: relative;}#sk-container-id-1 div.sk-item {position: relative;z-index: 1;}#sk-container-id-1 div.sk-parallel {display: flex;align-items: stretch;justify-content: center;background-color: white;position: relative;}#sk-container-id-1 div.sk-item::before, #sk-container-id-1 div.sk-parallel-item::before {content: \"\";position: absolute;border-left: 1px solid gray;box-sizing: border-box;top: 0;bottom: 0;left: 50%;z-index: -1;}#sk-container-id-1 div.sk-parallel-item {display: flex;flex-direction: column;z-index: 1;position: relative;background-color: white;}#sk-container-id-1 div.sk-parallel-item:first-child::after {align-self: flex-end;width: 50%;}#sk-container-id-1 div.sk-parallel-item:last-child::after {align-self: flex-start;width: 50%;}#sk-container-id-1 div.sk-parallel-item:only-child::after {width: 0;}#sk-container-id-1 div.sk-dashed-wrapped {border: 1px dashed gray;margin: 0 0.4em 0.5em 0.4em;box-sizing: border-box;padding-bottom: 0.4em;background-color: white;}#sk-container-id-1 div.sk-label label {font-family: monospace;font-weight: bold;display: inline-block;line-height: 1.2em;}#sk-container-id-1 div.sk-label-container {text-align: center;}#sk-container-id-1 div.sk-container {/* jupyter's `normalize.less` sets `[hidden] { display: none; }` but bootstrap.min.css set `[hidden] { display: none !important; }` so we also need the `!important` here to be able to override the default hidden behavior on the sphinx rendered scikit-learn.org. See: https://github.com/scikit-learn/scikit-learn/issues/21755 */display: inline-block !important;position: relative;}#sk-container-id-1 div.sk-text-repr-fallback {display: none;}</style><div id=\"sk-container-id-1\" class=\"sk-top-container\"><div class=\"sk-text-repr-fallback\"><pre>Transformer()</pre><b>In a Jupyter environment, please rerun this cell to show the HTML representation or trust the notebook. <br />On GitHub, the HTML representation is unable to render, please try loading this page with nbviewer.org.</b></div><div class=\"sk-container\" hidden><div class=\"sk-item\"><div class=\"sk-estimator sk-toggleable\"><input class=\"sk-toggleable__control sk-hidden--visually\" id=\"sk-estimator-id-1\" type=\"checkbox\" checked><label for=\"sk-estimator-id-1\" class=\"sk-toggleable__label sk-toggleable__label-arrow\">Transformer</label><div class=\"sk-toggleable__content\"><pre>Transformer()</pre></div></div></div></div></div>"
     },
     "metadata": {}
    }
   ],
   "execution_count": null
  },
  {
   "cell_type": "code",
   "source": "X_train_oversampled = tr.transform(X_train_oversampled)",
   "metadata": {
    "cell_id": "13339f214fca482db03f4d50e3455f1a",
    "tags": [],
    "deepnote_to_be_reexecuted": false,
    "source_hash": "4519c5fd",
    "execution_start": 1659967168057,
    "execution_millis": 1326,
    "deepnote_cell_type": "code",
    "deepnote_cell_height": 76,
    "deepnote_output_heights": [
     611
    ]
   },
   "outputs": [],
   "execution_count": null
  },
  {
   "cell_type": "code",
   "source": "X_test = tr.transform(X_test)",
   "metadata": {
    "cell_id": "21abaabe552047a68ef78fd68d00f15e",
    "tags": [],
    "deepnote_to_be_reexecuted": false,
    "source_hash": "c581e53a",
    "execution_start": 1659967171942,
    "execution_millis": 192,
    "deepnote_cell_type": "code",
    "deepnote_cell_height": 76
   },
   "outputs": [],
   "execution_count": null
  },
  {
   "cell_type": "code",
   "source": "X_train_oversampled.head()",
   "metadata": {
    "cell_id": "85f8476a769a4ee79963c9ac37acdb55",
    "tags": [],
    "deepnote_to_be_reexecuted": false,
    "source_hash": "6a8e0a5c",
    "execution_start": 1659967175561,
    "execution_millis": 333,
    "deepnote_cell_type": "code",
    "deepnote_cell_height": 390
   },
   "outputs": [
    {
     "output_type": "execute_result",
     "execution_count": 25,
     "data": {
      "application/vnd.deepnote.dataframe.v3+json": {
       "column_count": 7,
       "row_count": 5,
       "columns": [
        {
         "name": "minute",
         "dtype": "int64",
         "stats": {
          "unique_count": 5,
          "nan_count": 0,
          "min": "5",
          "max": "82",
          "histogram": [
           {
            "bin_start": 5,
            "bin_end": 12.7,
            "count": 1
           },
           {
            "bin_start": 12.7,
            "bin_end": 20.4,
            "count": 0
           },
           {
            "bin_start": 20.4,
            "bin_end": 28.1,
            "count": 0
           },
           {
            "bin_start": 28.1,
            "bin_end": 35.8,
            "count": 0
           },
           {
            "bin_start": 35.8,
            "bin_end": 43.5,
            "count": 1
           },
           {
            "bin_start": 43.5,
            "bin_end": 51.2,
            "count": 1
           },
           {
            "bin_start": 51.2,
            "bin_end": 58.9,
            "count": 0
           },
           {
            "bin_start": 58.9,
            "bin_end": 66.6,
            "count": 0
           },
           {
            "bin_start": 66.6,
            "bin_end": 74.3,
            "count": 1
           },
           {
            "bin_start": 74.3,
            "bin_end": 82,
            "count": 1
           }
          ]
         }
        },
        {
         "name": "h_a",
         "dtype": "int64",
         "stats": {
          "unique_count": 1,
          "nan_count": 0,
          "min": "1",
          "max": "1",
          "histogram": [
           {
            "bin_start": 0.5,
            "bin_end": 0.6,
            "count": 0
           },
           {
            "bin_start": 0.6,
            "bin_end": 0.7,
            "count": 0
           },
           {
            "bin_start": 0.7,
            "bin_end": 0.8,
            "count": 0
           },
           {
            "bin_start": 0.8,
            "bin_end": 0.9,
            "count": 0
           },
           {
            "bin_start": 0.9,
            "bin_end": 1,
            "count": 0
           },
           {
            "bin_start": 1,
            "bin_end": 1.1,
            "count": 5
           },
           {
            "bin_start": 1.1,
            "bin_end": 1.2000000000000002,
            "count": 0
           },
           {
            "bin_start": 1.2000000000000002,
            "bin_end": 1.3,
            "count": 0
           },
           {
            "bin_start": 1.3,
            "bin_end": 1.4,
            "count": 0
           },
           {
            "bin_start": 1.4,
            "bin_end": 1.5,
            "count": 0
           }
          ]
         }
        },
        {
         "name": "situation",
         "dtype": "int64",
         "stats": {
          "unique_count": 3,
          "nan_count": 0,
          "min": "1",
          "max": "4",
          "histogram": [
           {
            "bin_start": 1,
            "bin_end": 1.3,
            "count": 1
           },
           {
            "bin_start": 1.3,
            "bin_end": 1.6,
            "count": 0
           },
           {
            "bin_start": 1.6,
            "bin_end": 1.9,
            "count": 0
           },
           {
            "bin_start": 1.9,
            "bin_end": 2.2,
            "count": 3
           },
           {
            "bin_start": 2.2,
            "bin_end": 2.5,
            "count": 0
           },
           {
            "bin_start": 2.5,
            "bin_end": 2.8,
            "count": 0
           },
           {
            "bin_start": 2.8,
            "bin_end": 3.1,
            "count": 0
           },
           {
            "bin_start": 3.1,
            "bin_end": 3.4,
            "count": 0
           },
           {
            "bin_start": 3.4,
            "bin_end": 3.6999999999999997,
            "count": 0
           },
           {
            "bin_start": 3.6999999999999997,
            "bin_end": 4,
            "count": 1
           }
          ]
         }
        },
        {
         "name": "shotType",
         "dtype": "int64",
         "stats": {
          "unique_count": 3,
          "nan_count": 0,
          "min": "0",
          "max": "3",
          "histogram": [
           {
            "bin_start": 0,
            "bin_end": 0.3,
            "count": 1
           },
           {
            "bin_start": 0.3,
            "bin_end": 0.6,
            "count": 0
           },
           {
            "bin_start": 0.6,
            "bin_end": 0.8999999999999999,
            "count": 0
           },
           {
            "bin_start": 0.8999999999999999,
            "bin_end": 1.2,
            "count": 1
           },
           {
            "bin_start": 1.2,
            "bin_end": 1.5,
            "count": 0
           },
           {
            "bin_start": 1.5,
            "bin_end": 1.7999999999999998,
            "count": 0
           },
           {
            "bin_start": 1.7999999999999998,
            "bin_end": 2.1,
            "count": 0
           },
           {
            "bin_start": 2.1,
            "bin_end": 2.4,
            "count": 0
           },
           {
            "bin_start": 2.4,
            "bin_end": 2.6999999999999997,
            "count": 0
           },
           {
            "bin_start": 2.6999999999999997,
            "bin_end": 3,
            "count": 3
           }
          ]
         }
        },
        {
         "name": "lastAction",
         "dtype": "int64",
         "stats": {
          "unique_count": 4,
          "nan_count": 0,
          "min": "10",
          "max": "36",
          "histogram": [
           {
            "bin_start": 10,
            "bin_end": 12.6,
            "count": 1
           },
           {
            "bin_start": 12.6,
            "bin_end": 15.2,
            "count": 0
           },
           {
            "bin_start": 15.2,
            "bin_end": 17.8,
            "count": 0
           },
           {
            "bin_start": 17.8,
            "bin_end": 20.4,
            "count": 0
           },
           {
            "bin_start": 20.4,
            "bin_end": 23,
            "count": 1
           },
           {
            "bin_start": 23,
            "bin_end": 25.6,
            "count": 2
           },
           {
            "bin_start": 25.6,
            "bin_end": 28.2,
            "count": 0
           },
           {
            "bin_start": 28.2,
            "bin_end": 30.8,
            "count": 0
           },
           {
            "bin_start": 30.8,
            "bin_end": 33.400000000000006,
            "count": 0
           },
           {
            "bin_start": 33.400000000000006,
            "bin_end": 36,
            "count": 1
           }
          ]
         }
        },
        {
         "name": "distanceToGoal",
         "dtype": "float64",
         "stats": {
          "unique_count": 5,
          "nan_count": 0,
          "min": "5.632020237826929",
          "max": "23.00109430811881",
          "histogram": [
           {
            "bin_start": 5.632020237826929,
            "bin_end": 7.368927644856116,
            "count": 1
           },
           {
            "bin_start": 7.368927644856116,
            "bin_end": 9.105835051885304,
            "count": 1
           },
           {
            "bin_start": 9.105835051885304,
            "bin_end": 10.842742458914493,
            "count": 0
           },
           {
            "bin_start": 10.842742458914493,
            "bin_end": 12.579649865943681,
            "count": 0
           },
           {
            "bin_start": 12.579649865943681,
            "bin_end": 14.316557272972869,
            "count": 0
           },
           {
            "bin_start": 14.316557272972869,
            "bin_end": 16.053464680002058,
            "count": 0
           },
           {
            "bin_start": 16.053464680002058,
            "bin_end": 17.790372087031244,
            "count": 1
           },
           {
            "bin_start": 17.790372087031244,
            "bin_end": 19.527279494060434,
            "count": 0
           },
           {
            "bin_start": 19.527279494060434,
            "bin_end": 21.264186901089623,
            "count": 0
           },
           {
            "bin_start": 21.264186901089623,
            "bin_end": 23.00109430811881,
            "count": 2
           }
          ]
         }
        },
        {
         "name": "angleToGoal",
         "dtype": "float64",
         "stats": {
          "unique_count": 5,
          "nan_count": 0,
          "min": "16.285421848224644",
          "max": "54.96185442196615",
          "histogram": [
           {
            "bin_start": 16.285421848224644,
            "bin_end": 20.153065105598795,
            "count": 3
           },
           {
            "bin_start": 20.153065105598795,
            "bin_end": 24.020708362972947,
            "count": 0
           },
           {
            "bin_start": 24.020708362972947,
            "bin_end": 27.888351620347095,
            "count": 0
           },
           {
            "bin_start": 27.888351620347095,
            "bin_end": 31.755994877721246,
            "count": 0
           },
           {
            "bin_start": 31.755994877721246,
            "bin_end": 35.6236381350954,
            "count": 0
           },
           {
            "bin_start": 35.6236381350954,
            "bin_end": 39.491281392469546,
            "count": 1
           },
           {
            "bin_start": 39.491281392469546,
            "bin_end": 43.3589246498437,
            "count": 0
           },
           {
            "bin_start": 43.3589246498437,
            "bin_end": 47.22656790721785,
            "count": 0
           },
           {
            "bin_start": 47.22656790721785,
            "bin_end": 51.094211164592,
            "count": 0
           },
           {
            "bin_start": 51.094211164592,
            "bin_end": 54.96185442196615,
            "count": 1
           }
          ]
         }
        },
        {
         "name": "_deepnote_index_column",
         "dtype": "int64"
        }
       ],
       "rows": [
        {
         "minute": 69,
         "h_a": 1,
         "situation": 4,
         "shotType": 3,
         "lastAction": 25,
         "distanceToGoal": 5.632020237826929,
         "angleToGoal": 54.96185442196615,
         "_deepnote_index_column": 0
        },
        {
         "minute": 49,
         "h_a": 1,
         "situation": 2,
         "shotType": 0,
         "lastAction": 10,
         "distanceToGoal": 7.983890602295668,
         "angleToGoal": 36.23293095774298,
         "_deepnote_index_column": 1
        },
        {
         "minute": 5,
         "h_a": 1,
         "situation": 1,
         "shotType": 3,
         "lastAction": 22,
         "distanceToGoal": 21.912965611891995,
         "angleToGoal": 16.85538363723015,
         "_deepnote_index_column": 2
        },
        {
         "minute": 82,
         "h_a": 1,
         "situation": 2,
         "shotType": 3,
         "lastAction": 36,
         "distanceToGoal": 23.00109430811881,
         "angleToGoal": 16.285421848224644,
         "_deepnote_index_column": 3
        },
        {
         "minute": 43,
         "h_a": 1,
         "situation": 2,
         "shotType": 1,
         "lastAction": 25,
         "distanceToGoal": 17.58630872291728,
         "angleToGoal": 16.905345305607227,
         "_deepnote_index_column": 4
        }
       ]
      },
      "text/plain": "   minute  h_a  situation  shotType  lastAction  distanceToGoal  angleToGoal\n0      69    1          4         3          25        5.632020    54.961854\n1      49    1          2         0          10        7.983891    36.232931\n2       5    1          1         3          22       21.912966    16.855384\n3      82    1          2         3          36       23.001094    16.285422\n4      43    1          2         1          25       17.586309    16.905345",
      "text/html": "<div>\n<style scoped>\n    .dataframe tbody tr th:only-of-type {\n        vertical-align: middle;\n    }\n\n    .dataframe tbody tr th {\n        vertical-align: top;\n    }\n\n    .dataframe thead th {\n        text-align: right;\n    }\n</style>\n<table border=\"1\" class=\"dataframe\">\n  <thead>\n    <tr style=\"text-align: right;\">\n      <th></th>\n      <th>minute</th>\n      <th>h_a</th>\n      <th>situation</th>\n      <th>shotType</th>\n      <th>lastAction</th>\n      <th>distanceToGoal</th>\n      <th>angleToGoal</th>\n    </tr>\n  </thead>\n  <tbody>\n    <tr>\n      <th>0</th>\n      <td>69</td>\n      <td>1</td>\n      <td>4</td>\n      <td>3</td>\n      <td>25</td>\n      <td>5.632020</td>\n      <td>54.961854</td>\n    </tr>\n    <tr>\n      <th>1</th>\n      <td>49</td>\n      <td>1</td>\n      <td>2</td>\n      <td>0</td>\n      <td>10</td>\n      <td>7.983891</td>\n      <td>36.232931</td>\n    </tr>\n    <tr>\n      <th>2</th>\n      <td>5</td>\n      <td>1</td>\n      <td>1</td>\n      <td>3</td>\n      <td>22</td>\n      <td>21.912966</td>\n      <td>16.855384</td>\n    </tr>\n    <tr>\n      <th>3</th>\n      <td>82</td>\n      <td>1</td>\n      <td>2</td>\n      <td>3</td>\n      <td>36</td>\n      <td>23.001094</td>\n      <td>16.285422</td>\n    </tr>\n    <tr>\n      <th>4</th>\n      <td>43</td>\n      <td>1</td>\n      <td>2</td>\n      <td>1</td>\n      <td>25</td>\n      <td>17.586309</td>\n      <td>16.905345</td>\n    </tr>\n  </tbody>\n</table>\n</div>"
     },
     "metadata": {}
    }
   ],
   "execution_count": null
  },
  {
   "cell_type": "markdown",
   "source": "Saving preprocessed datasets",
   "metadata": {
    "cell_id": "9227785f36b34cdca6c319d7776f3feb",
    "tags": [],
    "deepnote_cell_type": "markdown",
    "deepnote_cell_height": 52.399993896484375
   }
  },
  {
   "cell_type": "code",
   "source": "pd.concat([X_train_oversampled, y_train_oversampled], axis=1).to_csv('./data/dataset_train_oversampled.csv')",
   "metadata": {
    "cell_id": "b0666b4168d246cab6e65af5bb13eb72",
    "tags": [],
    "deepnote_to_be_reexecuted": false,
    "source_hash": "2247d9c9",
    "execution_start": 1659967528465,
    "execution_millis": 2909,
    "deepnote_cell_type": "code",
    "deepnote_cell_height": 81
   },
   "outputs": [],
   "execution_count": null
  },
  {
   "cell_type": "code",
   "source": "pd.concat([X_test, y_test], axis=1).to_csv('./data/dataset_test.csv')",
   "metadata": {
    "cell_id": "d253786933f844c89bd1c861a0c31f52",
    "tags": [],
    "deepnote_to_be_reexecuted": false,
    "source_hash": "c65b5907",
    "execution_start": 1659967560034,
    "execution_millis": 417,
    "deepnote_cell_type": "code",
    "deepnote_cell_height": 76
   },
   "outputs": [],
   "execution_count": null
  },
  {
   "cell_type": "markdown",
   "source": "## Training a model",
   "metadata": {
    "cell_id": "b36a72d9cc864dfd8f6fa2724c690de0",
    "tags": [],
    "deepnote_cell_type": "markdown",
    "deepnote_cell_height": 70
   }
  },
  {
   "cell_type": "code",
   "source": "from sklearn.ensemble import RandomForestClassifier",
   "metadata": {
    "cell_id": "5801a0e395cf47e8a9f61dcf83c13f4a",
    "tags": [],
    "deepnote_to_be_reexecuted": false,
    "source_hash": "39ef4b5b",
    "execution_start": 1659967236153,
    "execution_millis": 12,
    "deepnote_cell_type": "code",
    "deepnote_cell_height": 76
   },
   "outputs": [],
   "execution_count": null
  },
  {
   "cell_type": "code",
   "source": "rf = RandomForestClassifier()\nrf.fit(X_train_oversampled, y_train_oversampled)",
   "metadata": {
    "cell_id": "bf120d262b9e461a88d82e713642fa1e",
    "tags": [],
    "deepnote_to_be_reexecuted": false,
    "source_hash": "70100e3f",
    "execution_start": 1659967315801,
    "execution_millis": 179682,
    "deepnote_cell_type": "code",
    "deepnote_cell_height": 170,
    "deepnote_output_heights": [
     60
    ]
   },
   "outputs": [
    {
     "output_type": "execute_result",
     "execution_count": 31,
     "data": {
      "text/plain": "RandomForestClassifier()",
      "text/html": "<style>#sk-container-id-2 {color: black;background-color: white;}#sk-container-id-2 pre{padding: 0;}#sk-container-id-2 div.sk-toggleable {background-color: white;}#sk-container-id-2 label.sk-toggleable__label {cursor: pointer;display: block;width: 100%;margin-bottom: 0;padding: 0.3em;box-sizing: border-box;text-align: center;}#sk-container-id-2 label.sk-toggleable__label-arrow:before {content: \"▸\";float: left;margin-right: 0.25em;color: #696969;}#sk-container-id-2 label.sk-toggleable__label-arrow:hover:before {color: black;}#sk-container-id-2 div.sk-estimator:hover label.sk-toggleable__label-arrow:before {color: black;}#sk-container-id-2 div.sk-toggleable__content {max-height: 0;max-width: 0;overflow: hidden;text-align: left;background-color: #f0f8ff;}#sk-container-id-2 div.sk-toggleable__content pre {margin: 0.2em;color: black;border-radius: 0.25em;background-color: #f0f8ff;}#sk-container-id-2 input.sk-toggleable__control:checked~div.sk-toggleable__content {max-height: 200px;max-width: 100%;overflow: auto;}#sk-container-id-2 input.sk-toggleable__control:checked~label.sk-toggleable__label-arrow:before {content: \"▾\";}#sk-container-id-2 div.sk-estimator input.sk-toggleable__control:checked~label.sk-toggleable__label {background-color: #d4ebff;}#sk-container-id-2 div.sk-label input.sk-toggleable__control:checked~label.sk-toggleable__label {background-color: #d4ebff;}#sk-container-id-2 input.sk-hidden--visually {border: 0;clip: rect(1px 1px 1px 1px);clip: rect(1px, 1px, 1px, 1px);height: 1px;margin: -1px;overflow: hidden;padding: 0;position: absolute;width: 1px;}#sk-container-id-2 div.sk-estimator {font-family: monospace;background-color: #f0f8ff;border: 1px dotted black;border-radius: 0.25em;box-sizing: border-box;margin-bottom: 0.5em;}#sk-container-id-2 div.sk-estimator:hover {background-color: #d4ebff;}#sk-container-id-2 div.sk-parallel-item::after {content: \"\";width: 100%;border-bottom: 1px solid gray;flex-grow: 1;}#sk-container-id-2 div.sk-label:hover label.sk-toggleable__label {background-color: #d4ebff;}#sk-container-id-2 div.sk-serial::before {content: \"\";position: absolute;border-left: 1px solid gray;box-sizing: border-box;top: 0;bottom: 0;left: 50%;z-index: 0;}#sk-container-id-2 div.sk-serial {display: flex;flex-direction: column;align-items: center;background-color: white;padding-right: 0.2em;padding-left: 0.2em;position: relative;}#sk-container-id-2 div.sk-item {position: relative;z-index: 1;}#sk-container-id-2 div.sk-parallel {display: flex;align-items: stretch;justify-content: center;background-color: white;position: relative;}#sk-container-id-2 div.sk-item::before, #sk-container-id-2 div.sk-parallel-item::before {content: \"\";position: absolute;border-left: 1px solid gray;box-sizing: border-box;top: 0;bottom: 0;left: 50%;z-index: -1;}#sk-container-id-2 div.sk-parallel-item {display: flex;flex-direction: column;z-index: 1;position: relative;background-color: white;}#sk-container-id-2 div.sk-parallel-item:first-child::after {align-self: flex-end;width: 50%;}#sk-container-id-2 div.sk-parallel-item:last-child::after {align-self: flex-start;width: 50%;}#sk-container-id-2 div.sk-parallel-item:only-child::after {width: 0;}#sk-container-id-2 div.sk-dashed-wrapped {border: 1px dashed gray;margin: 0 0.4em 0.5em 0.4em;box-sizing: border-box;padding-bottom: 0.4em;background-color: white;}#sk-container-id-2 div.sk-label label {font-family: monospace;font-weight: bold;display: inline-block;line-height: 1.2em;}#sk-container-id-2 div.sk-label-container {text-align: center;}#sk-container-id-2 div.sk-container {/* jupyter's `normalize.less` sets `[hidden] { display: none; }` but bootstrap.min.css set `[hidden] { display: none !important; }` so we also need the `!important` here to be able to override the default hidden behavior on the sphinx rendered scikit-learn.org. See: https://github.com/scikit-learn/scikit-learn/issues/21755 */display: inline-block !important;position: relative;}#sk-container-id-2 div.sk-text-repr-fallback {display: none;}</style><div id=\"sk-container-id-2\" class=\"sk-top-container\"><div class=\"sk-text-repr-fallback\"><pre>RandomForestClassifier()</pre><b>In a Jupyter environment, please rerun this cell to show the HTML representation or trust the notebook. <br />On GitHub, the HTML representation is unable to render, please try loading this page with nbviewer.org.</b></div><div class=\"sk-container\" hidden><div class=\"sk-item\"><div class=\"sk-estimator sk-toggleable\"><input class=\"sk-toggleable__control sk-hidden--visually\" id=\"sk-estimator-id-2\" type=\"checkbox\" checked><label for=\"sk-estimator-id-2\" class=\"sk-toggleable__label sk-toggleable__label-arrow\">RandomForestClassifier</label><div class=\"sk-toggleable__content\"><pre>RandomForestClassifier()</pre></div></div></div></div></div>"
     },
     "metadata": {}
    }
   ],
   "execution_count": null
  },
  {
   "cell_type": "code",
   "source": "import pickle\n\nwith open(r\"./model/model.pickle\", \"wb\") as output_file:\n    pickle.dump(rf, output_file)",
   "metadata": {
    "cell_id": "f436cb8be11f4a9fad0aeb7f6b88c626",
    "tags": [],
    "deepnote_to_be_reexecuted": false,
    "source_hash": "676ffc3e",
    "execution_start": 1659968495980,
    "execution_millis": 2691,
    "deepnote_cell_type": "code",
    "deepnote_cell_height": 130
   },
   "outputs": [],
   "execution_count": null
  },
  {
   "cell_type": "markdown",
   "source": "## Evaluating the model",
   "metadata": {
    "cell_id": "99ee20b137d5415bb9b32a83f885dc7f",
    "tags": [],
    "deepnote_cell_type": "markdown",
    "deepnote_cell_height": 70
   }
  },
  {
   "cell_type": "code",
   "source": "X_train_transformed_not_oversampled = tr.transform(X_train)",
   "metadata": {
    "cell_id": "28ea6d60c88c4f73b5f976aaf502db16",
    "tags": [],
    "deepnote_to_be_reexecuted": false,
    "source_hash": "28f8392e",
    "execution_start": 1659968321448,
    "execution_millis": 267,
    "deepnote_cell_type": "code",
    "deepnote_cell_height": 76
   },
   "outputs": [],
   "execution_count": null
  },
  {
   "cell_type": "code",
   "source": "from sklearn.metrics import accuracy_score, balanced_accuracy_score, f1_score, precision_score, recall_score, roc_auc_score",
   "metadata": {
    "cell_id": "d8056bb9ee0143ec9e62c5fcc3de3ba4",
    "tags": [],
    "deepnote_to_be_reexecuted": false,
    "source_hash": "b035a7f9",
    "execution_start": 1659967916231,
    "execution_millis": 0,
    "deepnote_cell_type": "code",
    "deepnote_cell_height": 81
   },
   "outputs": [],
   "execution_count": null
  },
  {
   "cell_type": "code",
   "source": "def calculate_metrics(model, X, y):\n    y_hat = model.predict(X)\n    y_hat_proba = model.predict_proba(X)[:, 1]\n\n    accuracy = accuracy_score(y, y_hat)\n    balanced_accuracy = balanced_accuracy_score(y, y_hat)\n    f1 = f1_score(y, y_hat)\n    precision = precision_score(y, y_hat)\n    recall = recall_score(y, y_hat)\n    roc_auc = roc_auc_score(y, y_hat_proba)\n\n    return pd.DataFrame({\n        'accuracy' : accuracy,\n        'balanced_accuracy' : balanced_accuracy,\n        'f1' : f1,\n        'precision' : precision,\n        'recall' : recall,\n        'roc_auc' : roc_auc\n    }, index=[0])",
   "metadata": {
    "cell_id": "a686c2382c314d3c88782e79e37f5df8",
    "tags": [],
    "deepnote_to_be_reexecuted": false,
    "source_hash": "4b209395",
    "execution_start": 1659968110322,
    "execution_millis": 3,
    "deepnote_cell_type": "code",
    "deepnote_cell_height": 400
   },
   "outputs": [],
   "execution_count": null
  },
  {
   "cell_type": "code",
   "source": "calculate_metrics(rf, X_train_transformed_not_oversampled, y_train)",
   "metadata": {
    "cell_id": "ab4d0a85755f4889bafd164439d64e74",
    "tags": [],
    "deepnote_to_be_reexecuted": false,
    "source_hash": "901c4695",
    "execution_start": 1659968330127,
    "execution_millis": 20064,
    "deepnote_cell_type": "code",
    "deepnote_cell_height": 226
   },
   "outputs": [
    {
     "output_type": "execute_result",
     "execution_count": 61,
     "data": {
      "application/vnd.deepnote.dataframe.v3+json": {
       "column_count": 6,
       "row_count": 1,
       "columns": [
        {
         "name": "accuracy",
         "dtype": "float64",
         "stats": {
          "unique_count": 1,
          "nan_count": 0,
          "min": "0.9971159106174652",
          "max": "0.9971159106174652",
          "histogram": [
           {
            "bin_start": 0.4971159106174652,
            "bin_end": 0.5971159106174652,
            "count": 0
           },
           {
            "bin_start": 0.5971159106174652,
            "bin_end": 0.6971159106174651,
            "count": 0
           },
           {
            "bin_start": 0.6971159106174651,
            "bin_end": 0.7971159106174652,
            "count": 0
           },
           {
            "bin_start": 0.7971159106174652,
            "bin_end": 0.8971159106174652,
            "count": 0
           },
           {
            "bin_start": 0.8971159106174652,
            "bin_end": 0.9971159106174652,
            "count": 0
           },
           {
            "bin_start": 0.9971159106174652,
            "bin_end": 1.0971159106174653,
            "count": 1
           },
           {
            "bin_start": 1.0971159106174653,
            "bin_end": 1.1971159106174651,
            "count": 0
           },
           {
            "bin_start": 1.1971159106174651,
            "bin_end": 1.2971159106174652,
            "count": 0
           },
           {
            "bin_start": 1.2971159106174652,
            "bin_end": 1.3971159106174653,
            "count": 0
           },
           {
            "bin_start": 1.3971159106174653,
            "bin_end": 1.4971159106174652,
            "count": 0
           }
          ]
         }
        },
        {
         "name": "balanced_accuracy",
         "dtype": "float64",
         "stats": {
          "unique_count": 1,
          "nan_count": 0,
          "min": "0.99838518323227",
          "max": "0.99838518323227",
          "histogram": [
           {
            "bin_start": 0.49838518323227,
            "bin_end": 0.59838518323227,
            "count": 0
           },
           {
            "bin_start": 0.59838518323227,
            "bin_end": 0.6983851832322701,
            "count": 0
           },
           {
            "bin_start": 0.6983851832322701,
            "bin_end": 0.79838518323227,
            "count": 0
           },
           {
            "bin_start": 0.79838518323227,
            "bin_end": 0.89838518323227,
            "count": 0
           },
           {
            "bin_start": 0.89838518323227,
            "bin_end": 0.99838518323227,
            "count": 0
           },
           {
            "bin_start": 0.99838518323227,
            "bin_end": 1.0983851832322702,
            "count": 1
           },
           {
            "bin_start": 1.0983851832322702,
            "bin_end": 1.19838518323227,
            "count": 0
           },
           {
            "bin_start": 1.19838518323227,
            "bin_end": 1.29838518323227,
            "count": 0
           },
           {
            "bin_start": 1.29838518323227,
            "bin_end": 1.39838518323227,
            "count": 0
           },
           {
            "bin_start": 1.39838518323227,
            "bin_end": 1.49838518323227,
            "count": 0
           }
          ]
         }
        },
        {
         "name": "f1",
         "dtype": "float64",
         "stats": {
          "unique_count": 1,
          "nan_count": 0,
          "min": "0.9867011510768395",
          "max": "0.9867011510768395",
          "histogram": [
           {
            "bin_start": 0.48670115107683953,
            "bin_end": 0.5867011510768395,
            "count": 0
           },
           {
            "bin_start": 0.5867011510768395,
            "bin_end": 0.6867011510768395,
            "count": 0
           },
           {
            "bin_start": 0.6867011510768395,
            "bin_end": 0.7867011510768396,
            "count": 0
           },
           {
            "bin_start": 0.7867011510768396,
            "bin_end": 0.8867011510768396,
            "count": 0
           },
           {
            "bin_start": 0.8867011510768396,
            "bin_end": 0.9867011510768395,
            "count": 0
           },
           {
            "bin_start": 0.9867011510768395,
            "bin_end": 1.0867011510768396,
            "count": 1
           },
           {
            "bin_start": 1.0867011510768396,
            "bin_end": 1.1867011510768397,
            "count": 0
           },
           {
            "bin_start": 1.1867011510768397,
            "bin_end": 1.2867011510768396,
            "count": 0
           },
           {
            "bin_start": 1.2867011510768396,
            "bin_end": 1.3867011510768394,
            "count": 0
           },
           {
            "bin_start": 1.3867011510768394,
            "bin_end": 1.4867011510768395,
            "count": 0
           }
          ]
         }
        },
        {
         "name": "precision",
         "dtype": "float64",
         "stats": {
          "unique_count": 1,
          "nan_count": 0,
          "min": "0.9737513786040649",
          "max": "0.9737513786040649",
          "histogram": [
           {
            "bin_start": 0.4737513786040649,
            "bin_end": 0.5737513786040649,
            "count": 0
           },
           {
            "bin_start": 0.5737513786040649,
            "bin_end": 0.673751378604065,
            "count": 0
           },
           {
            "bin_start": 0.673751378604065,
            "bin_end": 0.773751378604065,
            "count": 0
           },
           {
            "bin_start": 0.773751378604065,
            "bin_end": 0.8737513786040649,
            "count": 0
           },
           {
            "bin_start": 0.8737513786040649,
            "bin_end": 0.9737513786040649,
            "count": 0
           },
           {
            "bin_start": 0.9737513786040649,
            "bin_end": 1.073751378604065,
            "count": 1
           },
           {
            "bin_start": 1.073751378604065,
            "bin_end": 1.173751378604065,
            "count": 0
           },
           {
            "bin_start": 1.173751378604065,
            "bin_end": 1.2737513786040648,
            "count": 0
           },
           {
            "bin_start": 1.2737513786040648,
            "bin_end": 1.373751378604065,
            "count": 0
           },
           {
            "bin_start": 1.373751378604065,
            "bin_end": 1.473751378604065,
            "count": 0
           }
          ]
         }
        },
        {
         "name": "recall",
         "dtype": "float64",
         "stats": {
          "unique_count": 1,
          "nan_count": 0,
          "min": "1.0",
          "max": "1.0",
          "histogram": [
           {
            "bin_start": 0.5,
            "bin_end": 0.6,
            "count": 0
           },
           {
            "bin_start": 0.6,
            "bin_end": 0.7,
            "count": 0
           },
           {
            "bin_start": 0.7,
            "bin_end": 0.8,
            "count": 0
           },
           {
            "bin_start": 0.8,
            "bin_end": 0.9,
            "count": 0
           },
           {
            "bin_start": 0.9,
            "bin_end": 1,
            "count": 0
           },
           {
            "bin_start": 1,
            "bin_end": 1.1,
            "count": 1
           },
           {
            "bin_start": 1.1,
            "bin_end": 1.2000000000000002,
            "count": 0
           },
           {
            "bin_start": 1.2000000000000002,
            "bin_end": 1.3,
            "count": 0
           },
           {
            "bin_start": 1.3,
            "bin_end": 1.4,
            "count": 0
           },
           {
            "bin_start": 1.4,
            "bin_end": 1.5,
            "count": 0
           }
          ]
         }
        },
        {
         "name": "roc_auc",
         "dtype": "float64",
         "stats": {
          "unique_count": 1,
          "nan_count": 0,
          "min": "0.9998653494952394",
          "max": "0.9998653494952394",
          "histogram": [
           {
            "bin_start": 0.4998653494952394,
            "bin_end": 0.5998653494952394,
            "count": 0
           },
           {
            "bin_start": 0.5998653494952394,
            "bin_end": 0.6998653494952394,
            "count": 0
           },
           {
            "bin_start": 0.6998653494952394,
            "bin_end": 0.7998653494952395,
            "count": 0
           },
           {
            "bin_start": 0.7998653494952395,
            "bin_end": 0.8998653494952394,
            "count": 0
           },
           {
            "bin_start": 0.8998653494952394,
            "bin_end": 0.9998653494952394,
            "count": 0
           },
           {
            "bin_start": 0.9998653494952394,
            "bin_end": 1.0998653494952395,
            "count": 1
           },
           {
            "bin_start": 1.0998653494952395,
            "bin_end": 1.1998653494952394,
            "count": 0
           },
           {
            "bin_start": 1.1998653494952394,
            "bin_end": 1.2998653494952395,
            "count": 0
           },
           {
            "bin_start": 1.2998653494952395,
            "bin_end": 1.3998653494952396,
            "count": 0
           },
           {
            "bin_start": 1.3998653494952396,
            "bin_end": 1.4998653494952394,
            "count": 0
           }
          ]
         }
        },
        {
         "name": "_deepnote_index_column",
         "dtype": "int64"
        }
       ],
       "rows": [
        {
         "accuracy": 0.9971159106174652,
         "balanced_accuracy": 0.99838518323227,
         "f1": 0.9867011510768395,
         "precision": 0.9737513786040649,
         "recall": 1,
         "roc_auc": 0.9998653494952394,
         "_deepnote_index_column": 0
        }
       ]
      },
      "text/plain": "   accuracy  balanced_accuracy        f1  precision  recall   roc_auc\n0  0.997116           0.998385  0.986701   0.973751     1.0  0.999865",
      "text/html": "<div>\n<style scoped>\n    .dataframe tbody tr th:only-of-type {\n        vertical-align: middle;\n    }\n\n    .dataframe tbody tr th {\n        vertical-align: top;\n    }\n\n    .dataframe thead th {\n        text-align: right;\n    }\n</style>\n<table border=\"1\" class=\"dataframe\">\n  <thead>\n    <tr style=\"text-align: right;\">\n      <th></th>\n      <th>accuracy</th>\n      <th>balanced_accuracy</th>\n      <th>f1</th>\n      <th>precision</th>\n      <th>recall</th>\n      <th>roc_auc</th>\n    </tr>\n  </thead>\n  <tbody>\n    <tr>\n      <th>0</th>\n      <td>0.997116</td>\n      <td>0.998385</td>\n      <td>0.986701</td>\n      <td>0.973751</td>\n      <td>1.0</td>\n      <td>0.999865</td>\n    </tr>\n  </tbody>\n</table>\n</div>"
     },
     "metadata": {}
    }
   ],
   "execution_count": null
  },
  {
   "cell_type": "code",
   "source": "calculate_metrics(rf, X_test, y_test)",
   "metadata": {
    "cell_id": "ce1de179c71c4ca9a52dc52a72e8da3a",
    "tags": [],
    "deepnote_to_be_reexecuted": false,
    "source_hash": "27491138",
    "execution_start": 1659968110766,
    "execution_millis": 5513,
    "deepnote_cell_type": "code",
    "deepnote_cell_height": 226,
    "deepnote_output_heights": [
     611
    ]
   },
   "outputs": [
    {
     "output_type": "execute_result",
     "execution_count": 46,
     "data": {
      "application/vnd.deepnote.dataframe.v3+json": {
       "column_count": 6,
       "row_count": 1,
       "columns": [
        {
         "name": "accuracy",
         "dtype": "float64",
         "stats": {
          "unique_count": 1,
          "nan_count": 0,
          "min": "0.8845402800282521",
          "max": "0.8845402800282521",
          "histogram": [
           {
            "bin_start": 0.38454028002825213,
            "bin_end": 0.4845402800282521,
            "count": 0
           },
           {
            "bin_start": 0.4845402800282521,
            "bin_end": 0.5845402800282521,
            "count": 0
           },
           {
            "bin_start": 0.5845402800282521,
            "bin_end": 0.6845402800282521,
            "count": 0
           },
           {
            "bin_start": 0.6845402800282521,
            "bin_end": 0.7845402800282522,
            "count": 0
           },
           {
            "bin_start": 0.7845402800282522,
            "bin_end": 0.884540280028252,
            "count": 0
           },
           {
            "bin_start": 0.884540280028252,
            "bin_end": 0.9845402800282521,
            "count": 1
           },
           {
            "bin_start": 0.9845402800282521,
            "bin_end": 1.0845402800282522,
            "count": 0
           },
           {
            "bin_start": 1.0845402800282522,
            "bin_end": 1.184540280028252,
            "count": 0
           },
           {
            "bin_start": 1.184540280028252,
            "bin_end": 1.284540280028252,
            "count": 0
           },
           {
            "bin_start": 1.284540280028252,
            "bin_end": 1.384540280028252,
            "count": 0
           }
          ]
         }
        },
        {
         "name": "balanced_accuracy",
         "dtype": "float64",
         "stats": {
          "unique_count": 1,
          "nan_count": 0,
          "min": "0.6177311569059007",
          "max": "0.6177311569059007",
          "histogram": [
           {
            "bin_start": 0.11773115690590075,
            "bin_end": 0.21773115690590075,
            "count": 0
           },
           {
            "bin_start": 0.21773115690590075,
            "bin_end": 0.31773115690590076,
            "count": 0
           },
           {
            "bin_start": 0.31773115690590076,
            "bin_end": 0.4177311569059008,
            "count": 0
           },
           {
            "bin_start": 0.4177311569059008,
            "bin_end": 0.5177311569059008,
            "count": 0
           },
           {
            "bin_start": 0.5177311569059008,
            "bin_end": 0.6177311569059007,
            "count": 0
           },
           {
            "bin_start": 0.6177311569059007,
            "bin_end": 0.7177311569059008,
            "count": 1
           },
           {
            "bin_start": 0.7177311569059008,
            "bin_end": 0.8177311569059008,
            "count": 0
           },
           {
            "bin_start": 0.8177311569059008,
            "bin_end": 0.9177311569059008,
            "count": 0
           },
           {
            "bin_start": 0.9177311569059008,
            "bin_end": 1.0177311569059007,
            "count": 0
           },
           {
            "bin_start": 1.0177311569059007,
            "bin_end": 1.1177311569059007,
            "count": 0
           }
          ]
         }
        },
        {
         "name": "f1",
         "dtype": "float64",
         "stats": {
          "unique_count": 1,
          "nan_count": 0,
          "min": "0.34027063385297146",
          "max": "0.34027063385297146",
          "histogram": [
           {
            "bin_start": -0.15972936614702854,
            "bin_end": -0.059729366147028534,
            "count": 0
           },
           {
            "bin_start": -0.059729366147028534,
            "bin_end": 0.04027063385297147,
            "count": 0
           },
           {
            "bin_start": 0.04027063385297147,
            "bin_end": 0.1402706338529715,
            "count": 0
           },
           {
            "bin_start": 0.1402706338529715,
            "bin_end": 0.24027063385297148,
            "count": 0
           },
           {
            "bin_start": 0.24027063385297148,
            "bin_end": 0.34027063385297146,
            "count": 0
           },
           {
            "bin_start": 0.34027063385297146,
            "bin_end": 0.44027063385297155,
            "count": 1
           },
           {
            "bin_start": 0.44027063385297155,
            "bin_end": 0.5402706338529715,
            "count": 0
           },
           {
            "bin_start": 0.5402706338529715,
            "bin_end": 0.6402706338529716,
            "count": 0
           },
           {
            "bin_start": 0.6402706338529716,
            "bin_end": 0.7402706338529714,
            "count": 0
           },
           {
            "bin_start": 0.7402706338529714,
            "bin_end": 0.8402706338529715,
            "count": 0
           }
          ]
         }
        },
        {
         "name": "precision",
         "dtype": "float64",
         "stats": {
          "unique_count": 1,
          "nan_count": 0,
          "min": "0.4377927102423132",
          "max": "0.4377927102423132",
          "histogram": [
           {
            "bin_start": -0.0622072897576868,
            "bin_end": 0.037792710242313204,
            "count": 0
           },
           {
            "bin_start": 0.037792710242313204,
            "bin_end": 0.1377927102423132,
            "count": 0
           },
           {
            "bin_start": 0.1377927102423132,
            "bin_end": 0.23779271024231324,
            "count": 0
           },
           {
            "bin_start": 0.23779271024231324,
            "bin_end": 0.3377927102423132,
            "count": 0
           },
           {
            "bin_start": 0.3377927102423132,
            "bin_end": 0.4377927102423132,
            "count": 0
           },
           {
            "bin_start": 0.4377927102423132,
            "bin_end": 0.5377927102423132,
            "count": 1
           },
           {
            "bin_start": 0.5377927102423132,
            "bin_end": 0.6377927102423133,
            "count": 0
           },
           {
            "bin_start": 0.6377927102423133,
            "bin_end": 0.7377927102423132,
            "count": 0
           },
           {
            "bin_start": 0.7377927102423132,
            "bin_end": 0.8377927102423133,
            "count": 0
           },
           {
            "bin_start": 0.8377927102423133,
            "bin_end": 0.9377927102423131,
            "count": 0
           }
          ]
         }
        },
        {
         "name": "recall",
         "dtype": "float64",
         "stats": {
          "unique_count": 1,
          "nan_count": 0,
          "min": "0.2782811286564846",
          "max": "0.2782811286564846",
          "histogram": [
           {
            "bin_start": -0.22171887134351542,
            "bin_end": -0.12171887134351542,
            "count": 0
           },
           {
            "bin_start": -0.12171887134351542,
            "bin_end": -0.02171887134351541,
            "count": 0
           },
           {
            "bin_start": -0.02171887134351541,
            "bin_end": 0.07828112865648462,
            "count": 0
           },
           {
            "bin_start": 0.07828112865648462,
            "bin_end": 0.1782811286564846,
            "count": 0
           },
           {
            "bin_start": 0.1782811286564846,
            "bin_end": 0.2782811286564846,
            "count": 0
           },
           {
            "bin_start": 0.2782811286564846,
            "bin_end": 0.37828112865648467,
            "count": 1
           },
           {
            "bin_start": 0.37828112865648467,
            "bin_end": 0.47828112865648464,
            "count": 0
           },
           {
            "bin_start": 0.47828112865648464,
            "bin_end": 0.5782811286564846,
            "count": 0
           },
           {
            "bin_start": 0.5782811286564846,
            "bin_end": 0.6782811286564846,
            "count": 0
           },
           {
            "bin_start": 0.6782811286564846,
            "bin_end": 0.7782811286564846,
            "count": 0
           }
          ]
         }
        },
        {
         "name": "roc_auc",
         "dtype": "float64",
         "stats": {
          "unique_count": 1,
          "nan_count": 0,
          "min": "0.7577152804421136",
          "max": "0.7577152804421136",
          "histogram": [
           {
            "bin_start": 0.25771528044211356,
            "bin_end": 0.35771528044211354,
            "count": 0
           },
           {
            "bin_start": 0.35771528044211354,
            "bin_end": 0.45771528044211357,
            "count": 0
           },
           {
            "bin_start": 0.45771528044211357,
            "bin_end": 0.5577152804421136,
            "count": 0
           },
           {
            "bin_start": 0.5577152804421136,
            "bin_end": 0.6577152804421136,
            "count": 0
           },
           {
            "bin_start": 0.6577152804421136,
            "bin_end": 0.7577152804421136,
            "count": 0
           },
           {
            "bin_start": 0.7577152804421136,
            "bin_end": 0.8577152804421136,
            "count": 1
           },
           {
            "bin_start": 0.8577152804421136,
            "bin_end": 0.9577152804421136,
            "count": 0
           },
           {
            "bin_start": 0.9577152804421136,
            "bin_end": 1.0577152804421135,
            "count": 0
           },
           {
            "bin_start": 1.0577152804421135,
            "bin_end": 1.1577152804421136,
            "count": 0
           },
           {
            "bin_start": 1.1577152804421136,
            "bin_end": 1.2577152804421137,
            "count": 0
           }
          ]
         }
        },
        {
         "name": "_deepnote_index_column",
         "dtype": "int64"
        }
       ],
       "rows": [
        {
         "accuracy": 0.8845402800282521,
         "balanced_accuracy": 0.6177311569059007,
         "f1": 0.34027063385297146,
         "precision": 0.4377927102423132,
         "recall": 0.2782811286564846,
         "roc_auc": 0.7577152804421136,
         "_deepnote_index_column": 0
        }
       ]
      },
      "text/plain": "   accuracy  balanced_accuracy        f1  precision    recall   roc_auc\n0   0.88454           0.617731  0.340271   0.437793  0.278281  0.757715",
      "text/html": "<div>\n<style scoped>\n    .dataframe tbody tr th:only-of-type {\n        vertical-align: middle;\n    }\n\n    .dataframe tbody tr th {\n        vertical-align: top;\n    }\n\n    .dataframe thead th {\n        text-align: right;\n    }\n</style>\n<table border=\"1\" class=\"dataframe\">\n  <thead>\n    <tr style=\"text-align: right;\">\n      <th></th>\n      <th>accuracy</th>\n      <th>balanced_accuracy</th>\n      <th>f1</th>\n      <th>precision</th>\n      <th>recall</th>\n      <th>roc_auc</th>\n    </tr>\n  </thead>\n  <tbody>\n    <tr>\n      <th>0</th>\n      <td>0.88454</td>\n      <td>0.617731</td>\n      <td>0.340271</td>\n      <td>0.437793</td>\n      <td>0.278281</td>\n      <td>0.757715</td>\n    </tr>\n  </tbody>\n</table>\n</div>"
     },
     "metadata": {}
    }
   ],
   "execution_count": null
  },
  {
   "cell_type": "code",
   "source": "",
   "metadata": {
    "cell_id": "043712b7ce204fef99eb755932b7393e",
    "tags": [],
    "deepnote_cell_type": "code",
    "deepnote_cell_height": 61
   },
   "outputs": [],
   "execution_count": null
  },
  {
   "cell_type": "markdown",
   "source": "<a style='text-decoration:none;line-height:16px;display:flex;color:#5B5B62;padding:10px;justify-content:end;' href='https://deepnote.com?utm_source=created-in-deepnote-cell&projectId=3965177e-3b24-40f1-9445-2feb56564f30' target=\"_blank\">\n<img alt='Created in deepnote.com' style='display:inline;max-height:16px;margin:0px;margin-right:7.5px;' src='data:image/svg+xml;base64,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' > </img>\nCreated in <span style='font-weight:600;margin-left:4px;'>Deepnote</span></a>",
   "metadata": {
    "tags": [],
    "created_in_deepnote_cell": true,
    "deepnote_cell_type": "markdown"
   }
  }
 ],
 "nbformat": 4,
 "nbformat_minor": 2,
 "metadata": {
  "orig_nbformat": 2,
  "deepnote": {},
  "deepnote_notebook_id": "f120d140-6527-4a55-8f9b-e95a11030fbe",
  "deepnote_execution_queue": []
 }
}