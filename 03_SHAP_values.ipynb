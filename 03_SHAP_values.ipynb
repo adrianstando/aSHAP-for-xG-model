{
 "cells": [
  {
   "cell_type": "markdown",
   "source": "# Calculating SHAP values",
   "metadata": {
    "cell_id": "fa6cfc6d18d44c30b3c12a8a09688194",
    "tags": [],
    "deepnote_cell_type": "markdown",
    "deepnote_cell_height": 82
   }
  },
  {
   "cell_type": "markdown",
   "source": "## Loading libraries, data and model",
   "metadata": {
    "cell_id": "261fe4a429154b259e60bd74618d092c",
    "tags": [],
    "deepnote_cell_type": "markdown",
    "deepnote_cell_height": 70
   }
  },
  {
   "cell_type": "code",
   "metadata": {
    "cell_id": "9243d84208234abdbd0ae03825158c50",
    "tags": [],
    "deepnote_to_be_reexecuted": false,
    "source_hash": "92ecade3",
    "execution_start": 1659685993419,
    "execution_millis": 29,
    "deepnote_cell_type": "code",
    "deepnote_cell_height": 94
   },
   "source": "#library(devtools)\n#devtools::install_github(\"ModelOriented/treeshap\")",
   "execution_count": null,
   "outputs": []
  },
  {
   "cell_type": "code",
   "metadata": {
    "tags": [],
    "cell_id": "06213276-5bdc-4b02-87f9-1bd0ae82ced8",
    "deepnote_to_be_reexecuted": false,
    "source_hash": "bba44749",
    "execution_start": 1659773829598,
    "execution_millis": 15,
    "deepnote_cell_type": "code",
    "deepnote_cell_height": 112
   },
   "source": "library(ranger)\nlibrary(treeshap)\nlibrary(dplyr)",
   "execution_count": null,
   "outputs": []
  },
  {
   "cell_type": "code",
   "metadata": {
    "cell_id": "6f9de3155daf413c96b002b843a95803",
    "tags": [],
    "deepnote_to_be_reexecuted": false,
    "source_hash": "811718f2",
    "execution_start": 1659686808475,
    "execution_millis": 17876,
    "deepnote_cell_type": "code",
    "deepnote_cell_height": 112
   },
   "source": "model <- readRDS('./model/model.rds')\ndf <- read.csv('./data/raw_data.csv')[,-1]\ndf_preprocessed <- read.csv('./data/preprocessed_data.csv')",
   "execution_count": null,
   "outputs": []
  },
  {
   "cell_type": "code",
   "metadata": {
    "cell_id": "6ef6f8512838431d80617c0fd5a2fe20",
    "tags": [],
    "deepnote_to_be_reexecuted": false,
    "source_hash": "40ee3553",
    "execution_start": 1659686033153,
    "execution_millis": 150052,
    "deepnote_cell_type": "code",
    "deepnote_cell_height": 112
   },
   "source": "model_uni <- ranger.unify(model, df_preprocessed)\nrm(model)\nmodel <- model_uni",
   "execution_count": null,
   "outputs": []
  },
  {
   "cell_type": "code",
   "metadata": {
    "cell_id": "70a841c647a8466a92cfa59c6ba457f3",
    "tags": [],
    "deepnote_to_be_reexecuted": false,
    "source_hash": "ee3f300c",
    "execution_start": 1659773898545,
    "execution_millis": 39,
    "deepnote_cell_type": "code",
    "deepnote_cell_height": 76
   },
   "source": "subset_base <- df %>% filter(result != \"OwnGoal\") # first step from preprocessing, different row numbers",
   "execution_count": null,
   "outputs": []
  },
  {
   "cell_type": "code",
   "metadata": {
    "cell_id": "0dd43d53c3a543678a10ee519981c4fe",
    "tags": [],
    "deepnote_to_be_reexecuted": false,
    "source_hash": "dfe50111",
    "execution_start": 1659686189069,
    "execution_millis": 7878,
    "deepnote_cell_type": "code",
    "deepnote_cell_height": 76
   },
   "source": "saveRDS(model, './model/unfied_model_treeshap.RDS')",
   "execution_count": null,
   "outputs": []
  },
  {
   "cell_type": "code",
   "metadata": {
    "cell_id": "33cd13e3c85f48958c611a177dca0a2a",
    "tags": [],
    "deepnote_to_be_reexecuted": false,
    "source_hash": "361baa6",
    "execution_start": 1659687409598,
    "execution_millis": 0,
    "deepnote_cell_type": "code",
    "deepnote_cell_height": 184
   },
   "source": "dir_name <- './results'\n\nif (file.exists(dir_name)) {\n cat(\"The folder already exists\")\n} else {\n dir.create(dir_name)\n}",
   "execution_count": null,
   "outputs": []
  },
  {
   "cell_type": "code",
   "metadata": {
    "cell_id": "1cfb66f10d694ea4ba5e0c96ea63d517",
    "tags": [],
    "deepnote_to_be_reexecuted": false,
    "source_hash": "33cb2062",
    "execution_start": 1659773839737,
    "execution_millis": 9,
    "deepnote_cell_type": "code",
    "deepnote_cell_height": 76
   },
   "source": "#model <- readRDS('./model/unfied_model_treeshap.RDS')",
   "execution_count": null,
   "outputs": []
  },
  {
   "cell_type": "markdown",
   "source": "## Robert Lewandowski",
   "metadata": {
    "cell_id": "fbc9345c0baf4db89ecdf49fa1201a60",
    "tags": [],
    "deepnote_cell_type": "markdown",
    "deepnote_cell_height": 70
   }
  },
  {
   "cell_type": "markdown",
   "source": "### Lewandowski's shots in 2021",
   "metadata": {
    "cell_id": "b3f0ba9271ff420490914dfa9fa92b3e",
    "tags": [],
    "deepnote_cell_type": "markdown",
    "deepnote_cell_height": 62
   }
  },
  {
   "cell_type": "code",
   "metadata": {
    "cell_id": "8996ba25bcc24da5a8c8c0db913dd9e4",
    "tags": [],
    "deepnote_to_be_reexecuted": false,
    "source_hash": "651cb1ff",
    "execution_start": 1659687412697,
    "execution_millis": 12,
    "deepnote_cell_type": "code",
    "deepnote_cell_height": 184
   },
   "source": "dir_name <- './results/lewandowski2021'\n\nif (file.exists(dir_name)) {\n cat(\"The folder already exists\")\n} else {\n dir.create(dir_name)\n}",
   "execution_count": null,
   "outputs": []
  },
  {
   "cell_type": "markdown",
   "source": "#### Extracting data",
   "metadata": {
    "cell_id": "54a88899b18f4fe6aec183bb634ab9b7",
    "tags": [],
    "deepnote_cell_type": "markdown",
    "deepnote_cell_height": 54
   }
  },
  {
   "cell_type": "code",
   "metadata": {
    "cell_id": "06102c18a7894c198b2998a62a57a607",
    "tags": [],
    "deepnote_to_be_reexecuted": false,
    "source_hash": "df7fbc76",
    "execution_start": 1659688804263,
    "execution_millis": 7,
    "deepnote_cell_type": "code",
    "deepnote_cell_height": 76
   },
   "source": "subset <- subset_base",
   "execution_count": null,
   "outputs": []
  },
  {
   "cell_type": "code",
   "metadata": {
    "cell_id": "b449932dc5ce4673ace16b51117d1752",
    "tags": [],
    "deepnote_to_be_reexecuted": false,
    "source_hash": "3aaf58b3",
    "execution_start": 1659686870355,
    "execution_millis": 803,
    "deepnote_cell_type": "code",
    "deepnote_cell_height": 387,
    "deepnote_output_heights": [
     277
    ]
   },
   "source": "subset <- subset[subset$player == 'Robert Lewandowski' & subset$season == 2021,]\nhead(subset)",
   "execution_count": null,
   "outputs": [
    {
     "data": {
      "text/html": "<table class=\"dataframe\">\n<caption>A data.frame: 6 × 20</caption>\n<thead>\n\t<tr><th></th><th scope=col>league</th><th scope=col>id</th><th scope=col>minute</th><th scope=col>result</th><th scope=col>X</th><th scope=col>Y</th><th scope=col>player</th><th scope=col>h_a</th><th scope=col>player_id</th><th scope=col>situation</th><th scope=col>season</th><th scope=col>shotType</th><th scope=col>match_id</th><th scope=col>home_team</th><th scope=col>away_team</th><th scope=col>home_goals</th><th scope=col>away_goals</th><th scope=col>date</th><th scope=col>player_assisted</th><th scope=col>lastAction</th></tr>\n\t<tr><th></th><th scope=col>&lt;chr&gt;</th><th scope=col>&lt;int&gt;</th><th scope=col>&lt;int&gt;</th><th scope=col>&lt;chr&gt;</th><th scope=col>&lt;dbl&gt;</th><th scope=col>&lt;dbl&gt;</th><th scope=col>&lt;chr&gt;</th><th scope=col>&lt;chr&gt;</th><th scope=col>&lt;int&gt;</th><th scope=col>&lt;chr&gt;</th><th scope=col>&lt;int&gt;</th><th scope=col>&lt;chr&gt;</th><th scope=col>&lt;int&gt;</th><th scope=col>&lt;chr&gt;</th><th scope=col>&lt;chr&gt;</th><th scope=col>&lt;int&gt;</th><th scope=col>&lt;int&gt;</th><th scope=col>&lt;chr&gt;</th><th scope=col>&lt;chr&gt;</th><th scope=col>&lt;chr&gt;</th></tr>\n</thead>\n<tbody>\n\t<tr><th scope=row>217489</th><td>Bundesliga</td><td>425533</td><td>11</td><td>BlockedShot</td><td>0.874</td><td>0.543</td><td>Robert Lewandowski</td><td>a</td><td>227</td><td>OpenPlay  </td><td>2021</td><td>Head     </td><td>17516</td><td>Borussia M.Gladbach</td><td>Bayern Munich</td><td>1</td><td>1</td><td>2021-08-13 18:30:00</td><td>Josip Stanisic </td><td>Aerial     </td></tr>\n\t<tr><th scope=row>217490</th><td>Bundesliga</td><td>425534</td><td>13</td><td>SavedShot  </td><td>0.850</td><td>0.443</td><td>Robert Lewandowski</td><td>a</td><td>227</td><td>OpenPlay  </td><td>2021</td><td>RightFoot</td><td>17516</td><td>Borussia M.Gladbach</td><td>Bayern Munich</td><td>1</td><td>1</td><td>2021-08-13 18:30:00</td><td>Leon Goretzka  </td><td>HeadPass   </td></tr>\n\t<tr><th scope=row>217491</th><td>Bundesliga</td><td>425536</td><td>25</td><td>SavedShot  </td><td>0.947</td><td>0.472</td><td>Robert Lewandowski</td><td>a</td><td>227</td><td>OpenPlay  </td><td>2021</td><td>RightFoot</td><td>17516</td><td>Borussia M.Gladbach</td><td>Bayern Munich</td><td>1</td><td>1</td><td>2021-08-13 18:30:00</td><td>Alphonso Davies</td><td>Throughball</td></tr>\n\t<tr><th scope=row>217497</th><td>Bundesliga</td><td>425543</td><td>41</td><td>Goal       </td><td>0.917</td><td>0.429</td><td>Robert Lewandowski</td><td>a</td><td>227</td><td>FromCorner</td><td>2021</td><td>RightFoot</td><td>17516</td><td>Borussia M.Gladbach</td><td>Bayern Munich</td><td>1</td><td>1</td><td>2021-08-13 18:30:00</td><td>Joshua Kimmich </td><td>Cross      </td></tr>\n\t<tr><th scope=row>217499</th><td>Bundesliga</td><td>425545</td><td>51</td><td>SavedShot  </td><td>0.916</td><td>0.542</td><td>Robert Lewandowski</td><td>a</td><td>227</td><td>OpenPlay  </td><td>2021</td><td>Head     </td><td>17516</td><td>Borussia M.Gladbach</td><td>Bayern Munich</td><td>1</td><td>1</td><td>2021-08-13 18:30:00</td><td>Leroy Sané     </td><td>Cross      </td></tr>\n\t<tr><th scope=row>217502</th><td>Bundesliga</td><td>425550</td><td>59</td><td>SavedShot  </td><td>0.906</td><td>0.493</td><td>Robert Lewandowski</td><td>a</td><td>227</td><td>OpenPlay  </td><td>2021</td><td>RightFoot</td><td>17516</td><td>Borussia M.Gladbach</td><td>Bayern Munich</td><td>1</td><td>1</td><td>2021-08-13 18:30:00</td><td>NA             </td><td>None       </td></tr>\n</tbody>\n</table>\n",
      "text/markdown": "\nA data.frame: 6 × 20\n\n| <!--/--> | league &lt;chr&gt; | id &lt;int&gt; | minute &lt;int&gt; | result &lt;chr&gt; | X &lt;dbl&gt; | Y &lt;dbl&gt; | player &lt;chr&gt; | h_a &lt;chr&gt; | player_id &lt;int&gt; | situation &lt;chr&gt; | season &lt;int&gt; | shotType &lt;chr&gt; | match_id &lt;int&gt; | home_team &lt;chr&gt; | away_team &lt;chr&gt; | home_goals &lt;int&gt; | away_goals &lt;int&gt; | date &lt;chr&gt; | player_assisted &lt;chr&gt; | lastAction &lt;chr&gt; |\n|---|---|---|---|---|---|---|---|---|---|---|---|---|---|---|---|---|---|---|---|---|\n| 217489 | Bundesliga | 425533 | 11 | BlockedShot | 0.874 | 0.543 | Robert Lewandowski | a | 227 | OpenPlay   | 2021 | Head      | 17516 | Borussia M.Gladbach | Bayern Munich | 1 | 1 | 2021-08-13 18:30:00 | Josip Stanisic  | Aerial      |\n| 217490 | Bundesliga | 425534 | 13 | SavedShot   | 0.850 | 0.443 | Robert Lewandowski | a | 227 | OpenPlay   | 2021 | RightFoot | 17516 | Borussia M.Gladbach | Bayern Munich | 1 | 1 | 2021-08-13 18:30:00 | Leon Goretzka   | HeadPass    |\n| 217491 | Bundesliga | 425536 | 25 | SavedShot   | 0.947 | 0.472 | Robert Lewandowski | a | 227 | OpenPlay   | 2021 | RightFoot | 17516 | Borussia M.Gladbach | Bayern Munich | 1 | 1 | 2021-08-13 18:30:00 | Alphonso Davies | Throughball |\n| 217497 | Bundesliga | 425543 | 41 | Goal        | 0.917 | 0.429 | Robert Lewandowski | a | 227 | FromCorner | 2021 | RightFoot | 17516 | Borussia M.Gladbach | Bayern Munich | 1 | 1 | 2021-08-13 18:30:00 | Joshua Kimmich  | Cross       |\n| 217499 | Bundesliga | 425545 | 51 | SavedShot   | 0.916 | 0.542 | Robert Lewandowski | a | 227 | OpenPlay   | 2021 | Head      | 17516 | Borussia M.Gladbach | Bayern Munich | 1 | 1 | 2021-08-13 18:30:00 | Leroy Sané      | Cross       |\n| 217502 | Bundesliga | 425550 | 59 | SavedShot   | 0.906 | 0.493 | Robert Lewandowski | a | 227 | OpenPlay   | 2021 | RightFoot | 17516 | Borussia M.Gladbach | Bayern Munich | 1 | 1 | 2021-08-13 18:30:00 | NA              | None        |\n\n",
      "text/latex": "A data.frame: 6 × 20\n\\begin{tabular}{r|llllllllllllllllllll}\n  & league & id & minute & result & X & Y & player & h\\_a & player\\_id & situation & season & shotType & match\\_id & home\\_team & away\\_team & home\\_goals & away\\_goals & date & player\\_assisted & lastAction\\\\\n  & <chr> & <int> & <int> & <chr> & <dbl> & <dbl> & <chr> & <chr> & <int> & <chr> & <int> & <chr> & <int> & <chr> & <chr> & <int> & <int> & <chr> & <chr> & <chr>\\\\\n\\hline\n\t217489 & Bundesliga & 425533 & 11 & BlockedShot & 0.874 & 0.543 & Robert Lewandowski & a & 227 & OpenPlay   & 2021 & Head      & 17516 & Borussia M.Gladbach & Bayern Munich & 1 & 1 & 2021-08-13 18:30:00 & Josip Stanisic  & Aerial     \\\\\n\t217490 & Bundesliga & 425534 & 13 & SavedShot   & 0.850 & 0.443 & Robert Lewandowski & a & 227 & OpenPlay   & 2021 & RightFoot & 17516 & Borussia M.Gladbach & Bayern Munich & 1 & 1 & 2021-08-13 18:30:00 & Leon Goretzka   & HeadPass   \\\\\n\t217491 & Bundesliga & 425536 & 25 & SavedShot   & 0.947 & 0.472 & Robert Lewandowski & a & 227 & OpenPlay   & 2021 & RightFoot & 17516 & Borussia M.Gladbach & Bayern Munich & 1 & 1 & 2021-08-13 18:30:00 & Alphonso Davies & Throughball\\\\\n\t217497 & Bundesliga & 425543 & 41 & Goal        & 0.917 & 0.429 & Robert Lewandowski & a & 227 & FromCorner & 2021 & RightFoot & 17516 & Borussia M.Gladbach & Bayern Munich & 1 & 1 & 2021-08-13 18:30:00 & Joshua Kimmich  & Cross      \\\\\n\t217499 & Bundesliga & 425545 & 51 & SavedShot   & 0.916 & 0.542 & Robert Lewandowski & a & 227 & OpenPlay   & 2021 & Head      & 17516 & Borussia M.Gladbach & Bayern Munich & 1 & 1 & 2021-08-13 18:30:00 & Leroy Sané      & Cross      \\\\\n\t217502 & Bundesliga & 425550 & 59 & SavedShot   & 0.906 & 0.493 & Robert Lewandowski & a & 227 & OpenPlay   & 2021 & RightFoot & 17516 & Borussia M.Gladbach & Bayern Munich & 1 & 1 & 2021-08-13 18:30:00 & NA              & None       \\\\\n\\end{tabular}\n",
      "text/plain": "       league     id     minute result      X     Y     player             h_a\n217489 Bundesliga 425533 11     BlockedShot 0.874 0.543 Robert Lewandowski a  \n217490 Bundesliga 425534 13     SavedShot   0.850 0.443 Robert Lewandowski a  \n217491 Bundesliga 425536 25     SavedShot   0.947 0.472 Robert Lewandowski a  \n217497 Bundesliga 425543 41     Goal        0.917 0.429 Robert Lewandowski a  \n217499 Bundesliga 425545 51     SavedShot   0.916 0.542 Robert Lewandowski a  \n217502 Bundesliga 425550 59     SavedShot   0.906 0.493 Robert Lewandowski a  \n       player_id situation  season shotType  match_id home_team          \n217489 227       OpenPlay   2021   Head      17516    Borussia M.Gladbach\n217490 227       OpenPlay   2021   RightFoot 17516    Borussia M.Gladbach\n217491 227       OpenPlay   2021   RightFoot 17516    Borussia M.Gladbach\n217497 227       FromCorner 2021   RightFoot 17516    Borussia M.Gladbach\n217499 227       OpenPlay   2021   Head      17516    Borussia M.Gladbach\n217502 227       OpenPlay   2021   RightFoot 17516    Borussia M.Gladbach\n       away_team     home_goals away_goals date                player_assisted\n217489 Bayern Munich 1          1          2021-08-13 18:30:00 Josip Stanisic \n217490 Bayern Munich 1          1          2021-08-13 18:30:00 Leon Goretzka  \n217491 Bayern Munich 1          1          2021-08-13 18:30:00 Alphonso Davies\n217497 Bayern Munich 1          1          2021-08-13 18:30:00 Joshua Kimmich \n217499 Bayern Munich 1          1          2021-08-13 18:30:00 Leroy Sané     \n217502 Bayern Munich 1          1          2021-08-13 18:30:00 NA             \n       lastAction \n217489 Aerial     \n217490 HeadPass   \n217491 Throughball\n217497 Cross      \n217499 Cross      \n217502 None       "
     },
     "metadata": {},
     "output_type": "display_data"
    }
   ]
  },
  {
   "cell_type": "code",
   "metadata": {
    "cell_id": "cdfb08efe98f45ff998212b6f3653a8d",
    "tags": [],
    "deepnote_to_be_reexecuted": false,
    "source_hash": "bdd9fda3",
    "execution_start": 1659686876023,
    "execution_millis": 8,
    "deepnote_cell_type": "code",
    "deepnote_cell_height": 76
   },
   "source": "rows <- rownames(subset)",
   "execution_count": null,
   "outputs": []
  },
  {
   "cell_type": "code",
   "metadata": {
    "cell_id": "32c6459dfa514ae59a3b60e136056b88",
    "tags": [],
    "deepnote_to_be_reexecuted": false,
    "source_hash": "b0ed19f6",
    "execution_start": 1659686881099,
    "execution_millis": 490,
    "deepnote_cell_type": "code",
    "deepnote_cell_height": 76
   },
   "source": "subset <- df_preprocessed[rows,]",
   "execution_count": null,
   "outputs": []
  },
  {
   "cell_type": "code",
   "metadata": {
    "cell_id": "bce7a5499d7a4e60bbdc571774b46ca0",
    "tags": [],
    "deepnote_to_be_reexecuted": false,
    "source_hash": "8124eef2",
    "execution_start": 1659686888569,
    "execution_millis": 27,
    "deepnote_cell_type": "code",
    "deepnote_cell_height": 369,
    "deepnote_output_heights": [
     277
    ]
   },
   "source": "head(subset)",
   "execution_count": null,
   "outputs": [
    {
     "data": {
      "text/html": "<table class=\"dataframe\">\n<caption>A data.frame: 6 × 54</caption>\n<thead>\n\t<tr><th></th><th scope=col>status</th><th scope=col>minute</th><th scope=col>h_a_a</th><th scope=col>h_a_h</th><th scope=col>situation_DirectFreekick</th><th scope=col>situation_FromCorner</th><th scope=col>situation_OpenPlay</th><th scope=col>situation_Penalty</th><th scope=col>situation_SetPiece</th><th scope=col>shotType_Head</th><th scope=col>⋯</th><th scope=col>lastAction_Smother</th><th scope=col>lastAction_Standard</th><th scope=col>lastAction_Start</th><th scope=col>lastAction_SubstitutionOff</th><th scope=col>lastAction_SubstitutionOn</th><th scope=col>lastAction_Tackle</th><th scope=col>lastAction_TakeOn</th><th scope=col>lastAction_Throughball</th><th scope=col>distanceToGoal</th><th scope=col>angleToGoal</th></tr>\n\t<tr><th></th><th scope=col>&lt;int&gt;</th><th scope=col>&lt;int&gt;</th><th scope=col>&lt;int&gt;</th><th scope=col>&lt;int&gt;</th><th scope=col>&lt;int&gt;</th><th scope=col>&lt;int&gt;</th><th scope=col>&lt;int&gt;</th><th scope=col>&lt;int&gt;</th><th scope=col>&lt;int&gt;</th><th scope=col>&lt;int&gt;</th><th scope=col>⋯</th><th scope=col>&lt;int&gt;</th><th scope=col>&lt;int&gt;</th><th scope=col>&lt;int&gt;</th><th scope=col>&lt;int&gt;</th><th scope=col>&lt;int&gt;</th><th scope=col>&lt;int&gt;</th><th scope=col>&lt;int&gt;</th><th scope=col>&lt;int&gt;</th><th scope=col>&lt;dbl&gt;</th><th scope=col>&lt;dbl&gt;</th></tr>\n</thead>\n<tbody>\n\t<tr><th scope=row>217489</th><td>0</td><td>11</td><td>1</td><td>0</td><td>0</td><td>0</td><td>1</td><td>0</td><td>0</td><td>1</td><td>⋯</td><td>0</td><td>0</td><td>0</td><td>0</td><td>0</td><td>0</td><td>0</td><td>0</td><td>13.950076</td><td>28.12140</td></tr>\n\t<tr><th scope=row>217490</th><td>0</td><td>13</td><td>1</td><td>0</td><td>0</td><td>0</td><td>1</td><td>0</td><td>0</td><td>0</td><td>⋯</td><td>0</td><td>0</td><td>0</td><td>0</td><td>0</td><td>0</td><td>0</td><td>0</td><td>15.928210</td><td>25.62940</td></tr>\n\t<tr><th scope=row>217491</th><td>0</td><td>25</td><td>1</td><td>0</td><td>0</td><td>0</td><td>1</td><td>0</td><td>0</td><td>0</td><td>⋯</td><td>0</td><td>0</td><td>0</td><td>0</td><td>0</td><td>0</td><td>0</td><td>1</td><td> 5.579648</td><td>66.47110</td></tr>\n\t<tr><th scope=row>217497</th><td>1</td><td>41</td><td>1</td><td>0</td><td>0</td><td>1</td><td>0</td><td>0</td><td>0</td><td>0</td><td>⋯</td><td>0</td><td>0</td><td>0</td><td>0</td><td>0</td><td>0</td><td>0</td><td>0</td><td> 9.328819</td><td>40.90552</td></tr>\n\t<tr><th scope=row>217499</th><td>0</td><td>51</td><td>1</td><td>0</td><td>0</td><td>0</td><td>1</td><td>0</td><td>0</td><td>1</td><td>⋯</td><td>0</td><td>0</td><td>0</td><td>0</td><td>0</td><td>0</td><td>0</td><td>0</td><td> 9.837030</td><td>37.75397</td></tr>\n\t<tr><th scope=row>217502</th><td>0</td><td>59</td><td>1</td><td>0</td><td>0</td><td>0</td><td>1</td><td>0</td><td>0</td><td>0</td><td>⋯</td><td>0</td><td>0</td><td>0</td><td>0</td><td>0</td><td>0</td><td>0</td><td>0</td><td> 9.922979</td><td>40.34067</td></tr>\n</tbody>\n</table>\n",
      "text/markdown": "\nA data.frame: 6 × 54\n\n| <!--/--> | status &lt;int&gt; | minute &lt;int&gt; | h_a_a &lt;int&gt; | h_a_h &lt;int&gt; | situation_DirectFreekick &lt;int&gt; | situation_FromCorner &lt;int&gt; | situation_OpenPlay &lt;int&gt; | situation_Penalty &lt;int&gt; | situation_SetPiece &lt;int&gt; | shotType_Head &lt;int&gt; | ⋯ ⋯ | lastAction_Smother &lt;int&gt; | lastAction_Standard &lt;int&gt; | lastAction_Start &lt;int&gt; | lastAction_SubstitutionOff &lt;int&gt; | lastAction_SubstitutionOn &lt;int&gt; | lastAction_Tackle &lt;int&gt; | lastAction_TakeOn &lt;int&gt; | lastAction_Throughball &lt;int&gt; | distanceToGoal &lt;dbl&gt; | angleToGoal &lt;dbl&gt; |\n|---|---|---|---|---|---|---|---|---|---|---|---|---|---|---|---|---|---|---|---|---|---|\n| 217489 | 0 | 11 | 1 | 0 | 0 | 0 | 1 | 0 | 0 | 1 | ⋯ | 0 | 0 | 0 | 0 | 0 | 0 | 0 | 0 | 13.950076 | 28.12140 |\n| 217490 | 0 | 13 | 1 | 0 | 0 | 0 | 1 | 0 | 0 | 0 | ⋯ | 0 | 0 | 0 | 0 | 0 | 0 | 0 | 0 | 15.928210 | 25.62940 |\n| 217491 | 0 | 25 | 1 | 0 | 0 | 0 | 1 | 0 | 0 | 0 | ⋯ | 0 | 0 | 0 | 0 | 0 | 0 | 0 | 1 |  5.579648 | 66.47110 |\n| 217497 | 1 | 41 | 1 | 0 | 0 | 1 | 0 | 0 | 0 | 0 | ⋯ | 0 | 0 | 0 | 0 | 0 | 0 | 0 | 0 |  9.328819 | 40.90552 |\n| 217499 | 0 | 51 | 1 | 0 | 0 | 0 | 1 | 0 | 0 | 1 | ⋯ | 0 | 0 | 0 | 0 | 0 | 0 | 0 | 0 |  9.837030 | 37.75397 |\n| 217502 | 0 | 59 | 1 | 0 | 0 | 0 | 1 | 0 | 0 | 0 | ⋯ | 0 | 0 | 0 | 0 | 0 | 0 | 0 | 0 |  9.922979 | 40.34067 |\n\n",
      "text/latex": "A data.frame: 6 × 54\n\\begin{tabular}{r|lllllllllllllllllllll}\n  & status & minute & h\\_a\\_a & h\\_a\\_h & situation\\_DirectFreekick & situation\\_FromCorner & situation\\_OpenPlay & situation\\_Penalty & situation\\_SetPiece & shotType\\_Head & ⋯ & lastAction\\_Smother & lastAction\\_Standard & lastAction\\_Start & lastAction\\_SubstitutionOff & lastAction\\_SubstitutionOn & lastAction\\_Tackle & lastAction\\_TakeOn & lastAction\\_Throughball & distanceToGoal & angleToGoal\\\\\n  & <int> & <int> & <int> & <int> & <int> & <int> & <int> & <int> & <int> & <int> & ⋯ & <int> & <int> & <int> & <int> & <int> & <int> & <int> & <int> & <dbl> & <dbl>\\\\\n\\hline\n\t217489 & 0 & 11 & 1 & 0 & 0 & 0 & 1 & 0 & 0 & 1 & ⋯ & 0 & 0 & 0 & 0 & 0 & 0 & 0 & 0 & 13.950076 & 28.12140\\\\\n\t217490 & 0 & 13 & 1 & 0 & 0 & 0 & 1 & 0 & 0 & 0 & ⋯ & 0 & 0 & 0 & 0 & 0 & 0 & 0 & 0 & 15.928210 & 25.62940\\\\\n\t217491 & 0 & 25 & 1 & 0 & 0 & 0 & 1 & 0 & 0 & 0 & ⋯ & 0 & 0 & 0 & 0 & 0 & 0 & 0 & 1 &  5.579648 & 66.47110\\\\\n\t217497 & 1 & 41 & 1 & 0 & 0 & 1 & 0 & 0 & 0 & 0 & ⋯ & 0 & 0 & 0 & 0 & 0 & 0 & 0 & 0 &  9.328819 & 40.90552\\\\\n\t217499 & 0 & 51 & 1 & 0 & 0 & 0 & 1 & 0 & 0 & 1 & ⋯ & 0 & 0 & 0 & 0 & 0 & 0 & 0 & 0 &  9.837030 & 37.75397\\\\\n\t217502 & 0 & 59 & 1 & 0 & 0 & 0 & 1 & 0 & 0 & 0 & ⋯ & 0 & 0 & 0 & 0 & 0 & 0 & 0 & 0 &  9.922979 & 40.34067\\\\\n\\end{tabular}\n",
      "text/plain": "       status minute h_a_a h_a_h situation_DirectFreekick situation_FromCorner\n217489 0      11     1     0     0                        0                   \n217490 0      13     1     0     0                        0                   \n217491 0      25     1     0     0                        0                   \n217497 1      41     1     0     0                        1                   \n217499 0      51     1     0     0                        0                   \n217502 0      59     1     0     0                        0                   \n       situation_OpenPlay situation_Penalty situation_SetPiece shotType_Head ⋯\n217489 1                  0                 0                  1             ⋯\n217490 1                  0                 0                  0             ⋯\n217491 1                  0                 0                  0             ⋯\n217497 0                  0                 0                  0             ⋯\n217499 1                  0                 0                  1             ⋯\n217502 1                  0                 0                  0             ⋯\n       lastAction_Smother lastAction_Standard lastAction_Start\n217489 0                  0                   0               \n217490 0                  0                   0               \n217491 0                  0                   0               \n217497 0                  0                   0               \n217499 0                  0                   0               \n217502 0                  0                   0               \n       lastAction_SubstitutionOff lastAction_SubstitutionOn lastAction_Tackle\n217489 0                          0                         0                \n217490 0                          0                         0                \n217491 0                          0                         0                \n217497 0                          0                         0                \n217499 0                          0                         0                \n217502 0                          0                         0                \n       lastAction_TakeOn lastAction_Throughball distanceToGoal angleToGoal\n217489 0                 0                      13.950076      28.12140   \n217490 0                 0                      15.928210      25.62940   \n217491 0                 1                       5.579648      66.47110   \n217497 0                 0                       9.328819      40.90552   \n217499 0                 0                       9.837030      37.75397   \n217502 0                 0                       9.922979      40.34067   "
     },
     "metadata": {},
     "output_type": "display_data"
    }
   ]
  },
  {
   "cell_type": "code",
   "metadata": {
    "cell_id": "3c567e30156e45378c0ca873902824a1",
    "tags": [],
    "deepnote_to_be_reexecuted": false,
    "source_hash": "f0cec7f",
    "execution_start": 1659687168752,
    "execution_millis": 48,
    "deepnote_cell_type": "code",
    "deepnote_cell_height": 113,
    "deepnote_output_heights": [
     21
    ]
   },
   "source": "nrow(subset)",
   "execution_count": null,
   "outputs": [
    {
     "data": {
      "text/html": "160",
      "text/markdown": "160",
      "text/latex": "160",
      "text/plain": "[1] 160"
     },
     "metadata": {},
     "output_type": "display_data"
    }
   ]
  },
  {
   "cell_type": "code",
   "metadata": {
    "cell_id": "803834fc85a74c7085a3d8e5562355ff",
    "tags": [],
    "deepnote_to_be_reexecuted": false,
    "source_hash": "f608f2a8",
    "execution_start": 1659687556846,
    "execution_millis": 15,
    "deepnote_cell_type": "code",
    "deepnote_cell_height": 76
   },
   "source": "write.csv(subset, paste0(dir_name, '/subset.csv'))",
   "execution_count": null,
   "outputs": []
  },
  {
   "cell_type": "markdown",
   "source": "#### Calculating SHAP values",
   "metadata": {
    "cell_id": "4bf51e81b929462fbd4bc18fe78d12c1",
    "tags": [],
    "deepnote_cell_type": "markdown",
    "deepnote_cell_height": 54
   }
  },
  {
   "cell_type": "code",
   "metadata": {
    "cell_id": "682be5f3551c49aca0256ea1cb0ae457",
    "tags": [],
    "deepnote_to_be_reexecuted": false,
    "source_hash": "d20b6c5d",
    "execution_start": 1659687820217,
    "execution_millis": 355030,
    "deepnote_cell_type": "code",
    "deepnote_cell_height": 76
   },
   "source": "lewandowski2021_shap <- treeshap(model, subset[,-1], verbose = 0)",
   "execution_count": null,
   "outputs": []
  },
  {
   "cell_type": "code",
   "metadata": {
    "cell_id": "29a10611f9f64938b22d450308c9c9fd",
    "tags": [],
    "deepnote_to_be_reexecuted": false,
    "source_hash": "713ba731",
    "execution_start": 1659688886347,
    "execution_millis": 344,
    "deepnote_cell_type": "code",
    "deepnote_cell_height": 369,
    "deepnote_output_heights": [
     277
    ]
   },
   "source": "head(lewandowski2021_shap$shaps)",
   "execution_count": null,
   "outputs": [
    {
     "data": {
      "text/html": "<table class=\"dataframe\">\n<caption>A data.frame: 6 × 53</caption>\n<thead>\n\t<tr><th></th><th scope=col>minute</th><th scope=col>h_a_a</th><th scope=col>h_a_h</th><th scope=col>situation_DirectFreekick</th><th scope=col>situation_FromCorner</th><th scope=col>situation_OpenPlay</th><th scope=col>situation_Penalty</th><th scope=col>situation_SetPiece</th><th scope=col>shotType_Head</th><th scope=col>shotType_LeftFoot</th><th scope=col>⋯</th><th scope=col>lastAction_Smother</th><th scope=col>lastAction_Standard</th><th scope=col>lastAction_Start</th><th scope=col>lastAction_SubstitutionOff</th><th scope=col>lastAction_SubstitutionOn</th><th scope=col>lastAction_Tackle</th><th scope=col>lastAction_TakeOn</th><th scope=col>lastAction_Throughball</th><th scope=col>distanceToGoal</th><th scope=col>angleToGoal</th></tr>\n\t<tr><th></th><th scope=col>&lt;dbl&gt;</th><th scope=col>&lt;dbl&gt;</th><th scope=col>&lt;dbl&gt;</th><th scope=col>&lt;dbl&gt;</th><th scope=col>&lt;dbl&gt;</th><th scope=col>&lt;dbl&gt;</th><th scope=col>&lt;dbl&gt;</th><th scope=col>&lt;dbl&gt;</th><th scope=col>&lt;dbl&gt;</th><th scope=col>&lt;dbl&gt;</th><th scope=col>⋯</th><th scope=col>&lt;dbl&gt;</th><th scope=col>&lt;dbl&gt;</th><th scope=col>&lt;dbl&gt;</th><th scope=col>&lt;dbl&gt;</th><th scope=col>&lt;dbl&gt;</th><th scope=col>&lt;dbl&gt;</th><th scope=col>&lt;dbl&gt;</th><th scope=col>&lt;dbl&gt;</th><th scope=col>&lt;dbl&gt;</th><th scope=col>&lt;dbl&gt;</th></tr>\n</thead>\n<tbody>\n\t<tr><th scope=row>217489</th><td> 0.001035728</td><td> 0.0004386425</td><td> 0.0005820200</td><td>0.001168599</td><td> 0.01088093</td><td> 0.01217071</td><td>-0.004038320</td><td> 0.0019870725</td><td>-0.07454676</td><td>-0.019814626</td><td>⋯</td><td>7.528327e-09</td><td>-0.0045171318</td><td>-1.039691e-06</td><td>-1.864357e-06</td><td>6.984829e-06</td><td>-4.426245e-05</td><td>-0.007987182</td><td>-0.010268416</td><td>0.022979145</td><td>0.04255906</td></tr>\n\t<tr><th scope=row>217490</th><td>-0.005038426</td><td> 0.0047786315</td><td> 0.0067074175</td><td>0.002602411</td><td> 0.01965690</td><td> 0.02641175</td><td>-0.003311923</td><td> 0.0058518312</td><td> 0.03204962</td><td> 0.006790312</td><td>⋯</td><td>1.012671e-08</td><td>-0.0009141661</td><td>-2.739376e-06</td><td>-4.511070e-07</td><td>1.425498e-05</td><td> 1.006455e-04</td><td>-0.014268776</td><td>-0.014358049</td><td>0.007860345</td><td>0.16169140</td></tr>\n\t<tr><th scope=row>217491</th><td> 0.003243939</td><td> 0.0011892264</td><td> 0.0013496792</td><td>0.003977921</td><td> 0.01138241</td><td> 0.01124802</td><td>-0.001829396</td><td> 0.0014118751</td><td> 0.01245018</td><td>-0.003648802</td><td>⋯</td><td>9.249413e-09</td><td> 0.0030394864</td><td>-1.157782e-06</td><td>-9.009708e-07</td><td>7.423778e-05</td><td> 6.290986e-05</td><td>-0.002066578</td><td> 0.205402072</td><td>0.178358763</td><td>0.18236773</td></tr>\n\t<tr><th scope=row>217497</th><td> 0.003036836</td><td> 0.0096602815</td><td> 0.0094989944</td><td>0.002413834</td><td>-0.12750911</td><td>-0.08153980</td><td>-0.004922878</td><td>-0.0061104994</td><td> 0.03006627</td><td>-0.008358721</td><td>⋯</td><td>6.925549e-09</td><td>-0.0042974596</td><td>-5.190989e-07</td><td>-2.524528e-07</td><td>2.361020e-05</td><td>-2.266016e-05</td><td>-0.003086384</td><td>-0.006421726</td><td>0.156157479</td><td>0.19677638</td></tr>\n\t<tr><th scope=row>217499</th><td> 0.001241315</td><td> 0.0021854134</td><td>-0.0019083355</td><td>0.002350423</td><td> 0.04554099</td><td> 0.02930637</td><td>-0.003119534</td><td>-0.0005733064</td><td>-0.06040176</td><td>-0.019014947</td><td>⋯</td><td>7.446855e-09</td><td>-0.0013642777</td><td>-6.789950e-07</td><td>-2.092006e-06</td><td>3.650588e-05</td><td> 4.389292e-05</td><td>-0.003677940</td><td>-0.006943638</td><td>0.190228053</td><td>0.18511915</td></tr>\n\t<tr><th scope=row>217502</th><td> 0.006207708</td><td>-0.0003837765</td><td>-0.0006929247</td><td>0.002661293</td><td> 0.02169630</td><td> 0.02424647</td><td>-0.002696922</td><td> 0.0022867348</td><td> 0.04885776</td><td>-0.006207005</td><td>⋯</td><td>1.052285e-08</td><td>-0.0008258102</td><td>-6.221731e-07</td><td>-6.537083e-07</td><td>1.042109e-04</td><td> 2.658383e-05</td><td>-0.004834232</td><td>-0.007125568</td><td>0.222738165</td><td>0.25540710</td></tr>\n</tbody>\n</table>\n",
      "text/markdown": "\nA data.frame: 6 × 53\n\n| <!--/--> | minute &lt;dbl&gt; | h_a_a &lt;dbl&gt; | h_a_h &lt;dbl&gt; | situation_DirectFreekick &lt;dbl&gt; | situation_FromCorner &lt;dbl&gt; | situation_OpenPlay &lt;dbl&gt; | situation_Penalty &lt;dbl&gt; | situation_SetPiece &lt;dbl&gt; | shotType_Head &lt;dbl&gt; | shotType_LeftFoot &lt;dbl&gt; | ⋯ ⋯ | lastAction_Smother &lt;dbl&gt; | lastAction_Standard &lt;dbl&gt; | lastAction_Start &lt;dbl&gt; | lastAction_SubstitutionOff &lt;dbl&gt; | lastAction_SubstitutionOn &lt;dbl&gt; | lastAction_Tackle &lt;dbl&gt; | lastAction_TakeOn &lt;dbl&gt; | lastAction_Throughball &lt;dbl&gt; | distanceToGoal &lt;dbl&gt; | angleToGoal &lt;dbl&gt; |\n|---|---|---|---|---|---|---|---|---|---|---|---|---|---|---|---|---|---|---|---|---|---|\n| 217489 |  0.001035728 |  0.0004386425 |  0.0005820200 | 0.001168599 |  0.01088093 |  0.01217071 | -0.004038320 |  0.0019870725 | -0.07454676 | -0.019814626 | ⋯ | 7.528327e-09 | -0.0045171318 | -1.039691e-06 | -1.864357e-06 | 6.984829e-06 | -4.426245e-05 | -0.007987182 | -0.010268416 | 0.022979145 | 0.04255906 |\n| 217490 | -0.005038426 |  0.0047786315 |  0.0067074175 | 0.002602411 |  0.01965690 |  0.02641175 | -0.003311923 |  0.0058518312 |  0.03204962 |  0.006790312 | ⋯ | 1.012671e-08 | -0.0009141661 | -2.739376e-06 | -4.511070e-07 | 1.425498e-05 |  1.006455e-04 | -0.014268776 | -0.014358049 | 0.007860345 | 0.16169140 |\n| 217491 |  0.003243939 |  0.0011892264 |  0.0013496792 | 0.003977921 |  0.01138241 |  0.01124802 | -0.001829396 |  0.0014118751 |  0.01245018 | -0.003648802 | ⋯ | 9.249413e-09 |  0.0030394864 | -1.157782e-06 | -9.009708e-07 | 7.423778e-05 |  6.290986e-05 | -0.002066578 |  0.205402072 | 0.178358763 | 0.18236773 |\n| 217497 |  0.003036836 |  0.0096602815 |  0.0094989944 | 0.002413834 | -0.12750911 | -0.08153980 | -0.004922878 | -0.0061104994 |  0.03006627 | -0.008358721 | ⋯ | 6.925549e-09 | -0.0042974596 | -5.190989e-07 | -2.524528e-07 | 2.361020e-05 | -2.266016e-05 | -0.003086384 | -0.006421726 | 0.156157479 | 0.19677638 |\n| 217499 |  0.001241315 |  0.0021854134 | -0.0019083355 | 0.002350423 |  0.04554099 |  0.02930637 | -0.003119534 | -0.0005733064 | -0.06040176 | -0.019014947 | ⋯ | 7.446855e-09 | -0.0013642777 | -6.789950e-07 | -2.092006e-06 | 3.650588e-05 |  4.389292e-05 | -0.003677940 | -0.006943638 | 0.190228053 | 0.18511915 |\n| 217502 |  0.006207708 | -0.0003837765 | -0.0006929247 | 0.002661293 |  0.02169630 |  0.02424647 | -0.002696922 |  0.0022867348 |  0.04885776 | -0.006207005 | ⋯ | 1.052285e-08 | -0.0008258102 | -6.221731e-07 | -6.537083e-07 | 1.042109e-04 |  2.658383e-05 | -0.004834232 | -0.007125568 | 0.222738165 | 0.25540710 |\n\n",
      "text/latex": "A data.frame: 6 × 53\n\\begin{tabular}{r|lllllllllllllllllllll}\n  & minute & h\\_a\\_a & h\\_a\\_h & situation\\_DirectFreekick & situation\\_FromCorner & situation\\_OpenPlay & situation\\_Penalty & situation\\_SetPiece & shotType\\_Head & shotType\\_LeftFoot & ⋯ & lastAction\\_Smother & lastAction\\_Standard & lastAction\\_Start & lastAction\\_SubstitutionOff & lastAction\\_SubstitutionOn & lastAction\\_Tackle & lastAction\\_TakeOn & lastAction\\_Throughball & distanceToGoal & angleToGoal\\\\\n  & <dbl> & <dbl> & <dbl> & <dbl> & <dbl> & <dbl> & <dbl> & <dbl> & <dbl> & <dbl> & ⋯ & <dbl> & <dbl> & <dbl> & <dbl> & <dbl> & <dbl> & <dbl> & <dbl> & <dbl> & <dbl>\\\\\n\\hline\n\t217489 &  0.001035728 &  0.0004386425 &  0.0005820200 & 0.001168599 &  0.01088093 &  0.01217071 & -0.004038320 &  0.0019870725 & -0.07454676 & -0.019814626 & ⋯ & 7.528327e-09 & -0.0045171318 & -1.039691e-06 & -1.864357e-06 & 6.984829e-06 & -4.426245e-05 & -0.007987182 & -0.010268416 & 0.022979145 & 0.04255906\\\\\n\t217490 & -0.005038426 &  0.0047786315 &  0.0067074175 & 0.002602411 &  0.01965690 &  0.02641175 & -0.003311923 &  0.0058518312 &  0.03204962 &  0.006790312 & ⋯ & 1.012671e-08 & -0.0009141661 & -2.739376e-06 & -4.511070e-07 & 1.425498e-05 &  1.006455e-04 & -0.014268776 & -0.014358049 & 0.007860345 & 0.16169140\\\\\n\t217491 &  0.003243939 &  0.0011892264 &  0.0013496792 & 0.003977921 &  0.01138241 &  0.01124802 & -0.001829396 &  0.0014118751 &  0.01245018 & -0.003648802 & ⋯ & 9.249413e-09 &  0.0030394864 & -1.157782e-06 & -9.009708e-07 & 7.423778e-05 &  6.290986e-05 & -0.002066578 &  0.205402072 & 0.178358763 & 0.18236773\\\\\n\t217497 &  0.003036836 &  0.0096602815 &  0.0094989944 & 0.002413834 & -0.12750911 & -0.08153980 & -0.004922878 & -0.0061104994 &  0.03006627 & -0.008358721 & ⋯ & 6.925549e-09 & -0.0042974596 & -5.190989e-07 & -2.524528e-07 & 2.361020e-05 & -2.266016e-05 & -0.003086384 & -0.006421726 & 0.156157479 & 0.19677638\\\\\n\t217499 &  0.001241315 &  0.0021854134 & -0.0019083355 & 0.002350423 &  0.04554099 &  0.02930637 & -0.003119534 & -0.0005733064 & -0.06040176 & -0.019014947 & ⋯ & 7.446855e-09 & -0.0013642777 & -6.789950e-07 & -2.092006e-06 & 3.650588e-05 &  4.389292e-05 & -0.003677940 & -0.006943638 & 0.190228053 & 0.18511915\\\\\n\t217502 &  0.006207708 & -0.0003837765 & -0.0006929247 & 0.002661293 &  0.02169630 &  0.02424647 & -0.002696922 &  0.0022867348 &  0.04885776 & -0.006207005 & ⋯ & 1.052285e-08 & -0.0008258102 & -6.221731e-07 & -6.537083e-07 & 1.042109e-04 &  2.658383e-05 & -0.004834232 & -0.007125568 & 0.222738165 & 0.25540710\\\\\n\\end{tabular}\n",
      "text/plain": "       minute       h_a_a         h_a_h         situation_DirectFreekick\n217489  0.001035728  0.0004386425  0.0005820200 0.001168599             \n217490 -0.005038426  0.0047786315  0.0067074175 0.002602411             \n217491  0.003243939  0.0011892264  0.0013496792 0.003977921             \n217497  0.003036836  0.0096602815  0.0094989944 0.002413834             \n217499  0.001241315  0.0021854134 -0.0019083355 0.002350423             \n217502  0.006207708 -0.0003837765 -0.0006929247 0.002661293             \n       situation_FromCorner situation_OpenPlay situation_Penalty\n217489  0.01088093           0.01217071        -0.004038320     \n217490  0.01965690           0.02641175        -0.003311923     \n217491  0.01138241           0.01124802        -0.001829396     \n217497 -0.12750911          -0.08153980        -0.004922878     \n217499  0.04554099           0.02930637        -0.003119534     \n217502  0.02169630           0.02424647        -0.002696922     \n       situation_SetPiece shotType_Head shotType_LeftFoot ⋯ lastAction_Smother\n217489  0.0019870725      -0.07454676   -0.019814626      ⋯ 7.528327e-09      \n217490  0.0058518312       0.03204962    0.006790312      ⋯ 1.012671e-08      \n217491  0.0014118751       0.01245018   -0.003648802      ⋯ 9.249413e-09      \n217497 -0.0061104994       0.03006627   -0.008358721      ⋯ 6.925549e-09      \n217499 -0.0005733064      -0.06040176   -0.019014947      ⋯ 7.446855e-09      \n217502  0.0022867348       0.04885776   -0.006207005      ⋯ 1.052285e-08      \n       lastAction_Standard lastAction_Start lastAction_SubstitutionOff\n217489 -0.0045171318       -1.039691e-06    -1.864357e-06             \n217490 -0.0009141661       -2.739376e-06    -4.511070e-07             \n217491  0.0030394864       -1.157782e-06    -9.009708e-07             \n217497 -0.0042974596       -5.190989e-07    -2.524528e-07             \n217499 -0.0013642777       -6.789950e-07    -2.092006e-06             \n217502 -0.0008258102       -6.221731e-07    -6.537083e-07             \n       lastAction_SubstitutionOn lastAction_Tackle lastAction_TakeOn\n217489 6.984829e-06              -4.426245e-05     -0.007987182     \n217490 1.425498e-05               1.006455e-04     -0.014268776     \n217491 7.423778e-05               6.290986e-05     -0.002066578     \n217497 2.361020e-05              -2.266016e-05     -0.003086384     \n217499 3.650588e-05               4.389292e-05     -0.003677940     \n217502 1.042109e-04               2.658383e-05     -0.004834232     \n       lastAction_Throughball distanceToGoal angleToGoal\n217489 -0.010268416           0.022979145    0.04255906 \n217490 -0.014358049           0.007860345    0.16169140 \n217491  0.205402072           0.178358763    0.18236773 \n217497 -0.006421726           0.156157479    0.19677638 \n217499 -0.006943638           0.190228053    0.18511915 \n217502 -0.007125568           0.222738165    0.25540710 "
     },
     "metadata": {},
     "output_type": "display_data"
    }
   ]
  },
  {
   "cell_type": "code",
   "metadata": {
    "cell_id": "05f13e27108a4d6a8a519d1a67c1dbf0",
    "tags": [],
    "deepnote_to_be_reexecuted": false,
    "source_hash": "16c698b1",
    "execution_start": 1659688175289,
    "execution_millis": 7757,
    "deepnote_cell_type": "code",
    "deepnote_cell_height": 94
   },
   "source": "saveRDS(lewandowski2021_shap, paste0(dir_name, '/treeshap_output.RDS'))\nwrite.csv(lewandowski2021_shap$shaps, paste0(dir_name, '/treeshap_shaps.csv'))",
   "execution_count": null,
   "outputs": []
  },
  {
   "cell_type": "markdown",
   "source": "### Lewandowski's shots in 2020",
   "metadata": {
    "cell_id": "7015e62a2a2942ed981913f8b60eafa6",
    "tags": [],
    "deepnote_cell_type": "markdown",
    "deepnote_cell_height": 62
   }
  },
  {
   "cell_type": "code",
   "metadata": {
    "cell_id": "58c97dc8b2c44b6f8637277024453f10",
    "tags": [],
    "deepnote_to_be_reexecuted": false,
    "source_hash": "9f373132",
    "execution_start": 1659688706663,
    "execution_millis": 16,
    "deepnote_cell_type": "code",
    "deepnote_cell_height": 184
   },
   "source": "dir_name <- './results/lewandowski2020'\n\nif (file.exists(dir_name)) {\n cat(\"The folder already exists\")\n} else {\n dir.create(dir_name)\n}",
   "execution_count": null,
   "outputs": []
  },
  {
   "cell_type": "markdown",
   "source": "#### Extracting data",
   "metadata": {
    "cell_id": "beb4236b43f14c3594038b458ca4aed3",
    "tags": [],
    "deepnote_cell_type": "markdown",
    "deepnote_cell_height": 54
   }
  },
  {
   "cell_type": "code",
   "metadata": {
    "cell_id": "d678dbf8473949b78ee18afb8c95367c",
    "tags": [],
    "deepnote_to_be_reexecuted": false,
    "source_hash": "df7fbc76",
    "execution_start": 1659773935279,
    "execution_millis": 10,
    "deepnote_cell_type": "code",
    "deepnote_cell_height": 76
   },
   "source": "subset <- subset_base",
   "execution_count": null,
   "outputs": []
  },
  {
   "cell_type": "code",
   "metadata": {
    "cell_id": "7bbd915f528c48b2a4e4d5241145cd52",
    "tags": [],
    "deepnote_to_be_reexecuted": false,
    "source_hash": "dabf55f6",
    "execution_start": 1659773935820,
    "execution_millis": 47,
    "deepnote_cell_type": "code",
    "deepnote_cell_height": 387,
    "deepnote_output_heights": [
     277
    ]
   },
   "source": "subset <- subset[subset$player == 'Robert Lewandowski' & subset$season == 2020,]\nhead(subset)",
   "execution_count": null,
   "outputs": [
    {
     "data": {
      "text/html": "<table class=\"dataframe\">\n<caption>A data.frame: 6 × 20</caption>\n<thead>\n\t<tr><th></th><th scope=col>league</th><th scope=col>id</th><th scope=col>minute</th><th scope=col>result</th><th scope=col>X</th><th scope=col>Y</th><th scope=col>player</th><th scope=col>h_a</th><th scope=col>player_id</th><th scope=col>situation</th><th scope=col>season</th><th scope=col>shotType</th><th scope=col>match_id</th><th scope=col>home_team</th><th scope=col>away_team</th><th scope=col>home_goals</th><th scope=col>away_goals</th><th scope=col>date</th><th scope=col>player_assisted</th><th scope=col>lastAction</th></tr>\n\t<tr><th></th><th scope=col>&lt;chr&gt;</th><th scope=col>&lt;int&gt;</th><th scope=col>&lt;int&gt;</th><th scope=col>&lt;chr&gt;</th><th scope=col>&lt;dbl&gt;</th><th scope=col>&lt;dbl&gt;</th><th scope=col>&lt;chr&gt;</th><th scope=col>&lt;chr&gt;</th><th scope=col>&lt;int&gt;</th><th scope=col>&lt;chr&gt;</th><th scope=col>&lt;int&gt;</th><th scope=col>&lt;chr&gt;</th><th scope=col>&lt;int&gt;</th><th scope=col>&lt;chr&gt;</th><th scope=col>&lt;chr&gt;</th><th scope=col>&lt;int&gt;</th><th scope=col>&lt;int&gt;</th><th scope=col>&lt;chr&gt;</th><th scope=col>&lt;chr&gt;</th><th scope=col>&lt;chr&gt;</th></tr>\n</thead>\n<tbody>\n\t<tr><th scope=row>225397</th><td>Bundesliga</td><td>378394</td><td> 4</td><td>BlockedShot</td><td>0.914</td><td>0.566</td><td>Robert Lewandowski</td><td>h</td><td>227</td><td>OpenPlay</td><td>2020</td><td>RightFoot</td><td>14173</td><td>Bayern Munich</td><td>Schalke 04   </td><td>8</td><td>0</td><td>2020-09-18 18:30:00</td><td>Leroy Sané   </td><td>Pass     </td></tr>\n\t<tr><th scope=row>225399</th><td>Bundesliga</td><td>378396</td><td>12</td><td>BlockedShot</td><td>0.852</td><td>0.396</td><td>Robert Lewandowski</td><td>h</td><td>227</td><td>OpenPlay</td><td>2020</td><td>RightFoot</td><td>14173</td><td>Bayern Munich</td><td>Schalke 04   </td><td>8</td><td>0</td><td>2020-09-18 18:30:00</td><td>Leroy Sané   </td><td>Pass     </td></tr>\n\t<tr><th scope=row>225401</th><td>Bundesliga</td><td>378399</td><td>20</td><td>MissedShots</td><td>0.861</td><td>0.418</td><td>Robert Lewandowski</td><td>h</td><td>227</td><td>OpenPlay</td><td>2020</td><td>LeftFoot </td><td>14173</td><td>Bayern Munich</td><td>Schalke 04   </td><td>8</td><td>0</td><td>2020-09-18 18:30:00</td><td>Leroy Sané   </td><td>Pass     </td></tr>\n\t<tr><th scope=row>225403</th><td>Bundesliga</td><td>378401</td><td>30</td><td>Goal       </td><td>0.885</td><td>0.500</td><td>Robert Lewandowski</td><td>h</td><td>227</td><td>Penalty </td><td>2020</td><td>RightFoot</td><td>14173</td><td>Bayern Munich</td><td>Schalke 04   </td><td>8</td><td>0</td><td>2020-09-18 18:30:00</td><td>NA           </td><td>Standard </td></tr>\n\t<tr><th scope=row>225832</th><td>Bundesliga</td><td>379517</td><td>69</td><td>MissedShots</td><td>0.888</td><td>0.684</td><td>Robert Lewandowski</td><td>a</td><td>227</td><td>OpenPlay</td><td>2020</td><td>RightFoot</td><td>14189</td><td>Hoffenheim   </td><td>Bayern Munich</td><td>4</td><td>1</td><td>2020-09-27 13:30:00</td><td>Leroy Sané   </td><td>BallTouch</td></tr>\n\t<tr><th scope=row>226050</th><td>Bundesliga</td><td>381402</td><td> 8</td><td>BlockedShot</td><td>0.850</td><td>0.642</td><td>Robert Lewandowski</td><td>h</td><td>227</td><td>OpenPlay</td><td>2020</td><td>RightFoot</td><td>15166</td><td>Bayern Munich</td><td>Hertha Berlin</td><td>4</td><td>3</td><td>2020-10-04 16:00:00</td><td>Leon Goretzka</td><td>BallTouch</td></tr>\n</tbody>\n</table>\n",
      "text/markdown": "\nA data.frame: 6 × 20\n\n| <!--/--> | league &lt;chr&gt; | id &lt;int&gt; | minute &lt;int&gt; | result &lt;chr&gt; | X &lt;dbl&gt; | Y &lt;dbl&gt; | player &lt;chr&gt; | h_a &lt;chr&gt; | player_id &lt;int&gt; | situation &lt;chr&gt; | season &lt;int&gt; | shotType &lt;chr&gt; | match_id &lt;int&gt; | home_team &lt;chr&gt; | away_team &lt;chr&gt; | home_goals &lt;int&gt; | away_goals &lt;int&gt; | date &lt;chr&gt; | player_assisted &lt;chr&gt; | lastAction &lt;chr&gt; |\n|---|---|---|---|---|---|---|---|---|---|---|---|---|---|---|---|---|---|---|---|---|\n| 225397 | Bundesliga | 378394 |  4 | BlockedShot | 0.914 | 0.566 | Robert Lewandowski | h | 227 | OpenPlay | 2020 | RightFoot | 14173 | Bayern Munich | Schalke 04    | 8 | 0 | 2020-09-18 18:30:00 | Leroy Sané    | Pass      |\n| 225399 | Bundesliga | 378396 | 12 | BlockedShot | 0.852 | 0.396 | Robert Lewandowski | h | 227 | OpenPlay | 2020 | RightFoot | 14173 | Bayern Munich | Schalke 04    | 8 | 0 | 2020-09-18 18:30:00 | Leroy Sané    | Pass      |\n| 225401 | Bundesliga | 378399 | 20 | MissedShots | 0.861 | 0.418 | Robert Lewandowski | h | 227 | OpenPlay | 2020 | LeftFoot  | 14173 | Bayern Munich | Schalke 04    | 8 | 0 | 2020-09-18 18:30:00 | Leroy Sané    | Pass      |\n| 225403 | Bundesliga | 378401 | 30 | Goal        | 0.885 | 0.500 | Robert Lewandowski | h | 227 | Penalty  | 2020 | RightFoot | 14173 | Bayern Munich | Schalke 04    | 8 | 0 | 2020-09-18 18:30:00 | NA            | Standard  |\n| 225832 | Bundesliga | 379517 | 69 | MissedShots | 0.888 | 0.684 | Robert Lewandowski | a | 227 | OpenPlay | 2020 | RightFoot | 14189 | Hoffenheim    | Bayern Munich | 4 | 1 | 2020-09-27 13:30:00 | Leroy Sané    | BallTouch |\n| 226050 | Bundesliga | 381402 |  8 | BlockedShot | 0.850 | 0.642 | Robert Lewandowski | h | 227 | OpenPlay | 2020 | RightFoot | 15166 | Bayern Munich | Hertha Berlin | 4 | 3 | 2020-10-04 16:00:00 | Leon Goretzka | BallTouch |\n\n",
      "text/latex": "A data.frame: 6 × 20\n\\begin{tabular}{r|llllllllllllllllllll}\n  & league & id & minute & result & X & Y & player & h\\_a & player\\_id & situation & season & shotType & match\\_id & home\\_team & away\\_team & home\\_goals & away\\_goals & date & player\\_assisted & lastAction\\\\\n  & <chr> & <int> & <int> & <chr> & <dbl> & <dbl> & <chr> & <chr> & <int> & <chr> & <int> & <chr> & <int> & <chr> & <chr> & <int> & <int> & <chr> & <chr> & <chr>\\\\\n\\hline\n\t225397 & Bundesliga & 378394 &  4 & BlockedShot & 0.914 & 0.566 & Robert Lewandowski & h & 227 & OpenPlay & 2020 & RightFoot & 14173 & Bayern Munich & Schalke 04    & 8 & 0 & 2020-09-18 18:30:00 & Leroy Sané    & Pass     \\\\\n\t225399 & Bundesliga & 378396 & 12 & BlockedShot & 0.852 & 0.396 & Robert Lewandowski & h & 227 & OpenPlay & 2020 & RightFoot & 14173 & Bayern Munich & Schalke 04    & 8 & 0 & 2020-09-18 18:30:00 & Leroy Sané    & Pass     \\\\\n\t225401 & Bundesliga & 378399 & 20 & MissedShots & 0.861 & 0.418 & Robert Lewandowski & h & 227 & OpenPlay & 2020 & LeftFoot  & 14173 & Bayern Munich & Schalke 04    & 8 & 0 & 2020-09-18 18:30:00 & Leroy Sané    & Pass     \\\\\n\t225403 & Bundesliga & 378401 & 30 & Goal        & 0.885 & 0.500 & Robert Lewandowski & h & 227 & Penalty  & 2020 & RightFoot & 14173 & Bayern Munich & Schalke 04    & 8 & 0 & 2020-09-18 18:30:00 & NA            & Standard \\\\\n\t225832 & Bundesliga & 379517 & 69 & MissedShots & 0.888 & 0.684 & Robert Lewandowski & a & 227 & OpenPlay & 2020 & RightFoot & 14189 & Hoffenheim    & Bayern Munich & 4 & 1 & 2020-09-27 13:30:00 & Leroy Sané    & BallTouch\\\\\n\t226050 & Bundesliga & 381402 &  8 & BlockedShot & 0.850 & 0.642 & Robert Lewandowski & h & 227 & OpenPlay & 2020 & RightFoot & 15166 & Bayern Munich & Hertha Berlin & 4 & 3 & 2020-10-04 16:00:00 & Leon Goretzka & BallTouch\\\\\n\\end{tabular}\n",
      "text/plain": "       league     id     minute result      X     Y     player             h_a\n225397 Bundesliga 378394  4     BlockedShot 0.914 0.566 Robert Lewandowski h  \n225399 Bundesliga 378396 12     BlockedShot 0.852 0.396 Robert Lewandowski h  \n225401 Bundesliga 378399 20     MissedShots 0.861 0.418 Robert Lewandowski h  \n225403 Bundesliga 378401 30     Goal        0.885 0.500 Robert Lewandowski h  \n225832 Bundesliga 379517 69     MissedShots 0.888 0.684 Robert Lewandowski a  \n226050 Bundesliga 381402  8     BlockedShot 0.850 0.642 Robert Lewandowski h  \n       player_id situation season shotType  match_id home_team    \n225397 227       OpenPlay  2020   RightFoot 14173    Bayern Munich\n225399 227       OpenPlay  2020   RightFoot 14173    Bayern Munich\n225401 227       OpenPlay  2020   LeftFoot  14173    Bayern Munich\n225403 227       Penalty   2020   RightFoot 14173    Bayern Munich\n225832 227       OpenPlay  2020   RightFoot 14189    Hoffenheim   \n226050 227       OpenPlay  2020   RightFoot 15166    Bayern Munich\n       away_team     home_goals away_goals date                player_assisted\n225397 Schalke 04    8          0          2020-09-18 18:30:00 Leroy Sané     \n225399 Schalke 04    8          0          2020-09-18 18:30:00 Leroy Sané     \n225401 Schalke 04    8          0          2020-09-18 18:30:00 Leroy Sané     \n225403 Schalke 04    8          0          2020-09-18 18:30:00 NA             \n225832 Bayern Munich 4          1          2020-09-27 13:30:00 Leroy Sané     \n226050 Hertha Berlin 4          3          2020-10-04 16:00:00 Leon Goretzka  \n       lastAction\n225397 Pass      \n225399 Pass      \n225401 Pass      \n225403 Standard  \n225832 BallTouch \n226050 BallTouch "
     },
     "metadata": {},
     "output_type": "display_data"
    }
   ]
  },
  {
   "cell_type": "code",
   "metadata": {
    "cell_id": "dcdca56dbe9c41fabe65fb8f48dbdd52",
    "tags": [],
    "deepnote_to_be_reexecuted": false,
    "source_hash": "be3afeb7",
    "execution_start": 1659773937086,
    "execution_millis": 277,
    "deepnote_cell_type": "code",
    "deepnote_cell_height": 112
   },
   "source": "rows <- rownames(subset)\nsubset <- df_preprocessed[rows,]\nwrite.csv(subset, paste0(dir_name, '/subset.csv'))",
   "execution_count": null,
   "outputs": []
  },
  {
   "cell_type": "markdown",
   "source": "#### Calculating SHAP values",
   "metadata": {
    "cell_id": "1559fdd0e6284ab29dd3a84208bfb60b",
    "tags": [],
    "deepnote_cell_type": "markdown",
    "deepnote_cell_height": 54
   }
  },
  {
   "cell_type": "code",
   "metadata": {
    "cell_id": "5b8f4a80c3d942bfb49398064b426667",
    "tags": [],
    "deepnote_to_be_reexecuted": false,
    "source_hash": "fce200fc",
    "execution_start": 1659773945462,
    "execution_millis": 336451,
    "deepnote_cell_type": "code",
    "deepnote_cell_height": 76
   },
   "source": "lewandowski2020_shap <- treeshap(model, subset[,-1], verbose = 0)",
   "execution_count": null,
   "outputs": []
  },
  {
   "cell_type": "code",
   "metadata": {
    "cell_id": "67bc6f0e82a04ca6a41fba08f1eb4765",
    "tags": [],
    "deepnote_to_be_reexecuted": false,
    "source_hash": "1cf6e157",
    "execution_start": 1659774281957,
    "execution_millis": 8763,
    "deepnote_cell_type": "code",
    "deepnote_cell_height": 94
   },
   "source": "saveRDS(lewandowski2020_shap, paste0(dir_name, '/treeshap_output.RDS'))\nwrite.csv(lewandowski2020_shap$shaps, paste0(dir_name, '/treeshap_shaps.csv'))",
   "execution_count": null,
   "outputs": []
  },
  {
   "cell_type": "markdown",
   "source": "### Creating a function to do tasks above at once",
   "metadata": {
    "cell_id": "8f4aeac003914f8f94a6017a6ca0025b",
    "tags": [],
    "deepnote_cell_type": "markdown",
    "deepnote_cell_height": 62
   }
  },
  {
   "cell_type": "markdown",
   "source": "It is available in `./scripts/calculate_treeshap.R`.",
   "metadata": {
    "cell_id": "1150be2b10854033a82c1a94328d45ad",
    "tags": [],
    "deepnote_cell_type": "markdown",
    "deepnote_cell_height": 52.399993896484375
   }
  },
  {
   "cell_type": "code",
   "metadata": {
    "cell_id": "c34a70d42d85405aa6e05aa83b4f5495",
    "tags": [],
    "deepnote_to_be_reexecuted": false,
    "source_hash": "9b857eb7",
    "execution_start": 1659689501807,
    "execution_millis": 1,
    "deepnote_cell_type": "code",
    "deepnote_cell_height": 76
   },
   "source": "source('./scripts/calculate_treeshap.R')",
   "execution_count": null,
   "outputs": []
  },
  {
   "cell_type": "markdown",
   "source": "### Lewandowski's shots in 2019",
   "metadata": {
    "cell_id": "62f8b022d42e416298893831a0c9e36e",
    "tags": [],
    "deepnote_cell_type": "markdown",
    "deepnote_cell_height": 62
   }
  },
  {
   "cell_type": "code",
   "metadata": {
    "cell_id": "035d6ad4b392468a869042ae37d54fdd",
    "tags": [],
    "deepnote_to_be_reexecuted": false,
    "source_hash": "2ba2adc3",
    "execution_start": 1659689567119,
    "execution_millis": 139,
    "deepnote_cell_type": "code",
    "deepnote_cell_height": 130
   },
   "source": "subset <- subset_base\nsubset <- subset[subset$player == 'Robert Lewandowski' & subset$season == 2019,]\nrows <- rownames(subset)\nsubset <- df_preprocessed[rows,]",
   "execution_count": null,
   "outputs": []
  },
  {
   "cell_type": "code",
   "metadata": {
    "cell_id": "cfbf2215e5a945f7b69438387144ca04",
    "tags": [],
    "deepnote_to_be_reexecuted": false,
    "source_hash": "e017fd77",
    "execution_start": 1659689635797,
    "execution_millis": 319017,
    "deepnote_cell_type": "code",
    "deepnote_cell_height": 76
   },
   "source": "calculate_treeshap(model, subset, './results/lewandowski2019', 'status')",
   "execution_count": null,
   "outputs": []
  },
  {
   "cell_type": "markdown",
   "source": "## New task",
   "metadata": {
    "cell_id": "d42d13c56363487cb78a0d6e926c7939",
    "tags": [],
    "deepnote_cell_type": "markdown",
    "deepnote_cell_height": 70
   }
  },
  {
   "cell_type": "code",
   "metadata": {
    "cell_id": "43b015259bee449b8a969abe1b2973b4",
    "tags": [],
    "deepnote_cell_type": "code",
    "deepnote_cell_height": 61
   },
   "source": "",
   "execution_count": null,
   "outputs": []
  },
  {
   "cell_type": "markdown",
   "source": "<a style='text-decoration:none;line-height:16px;display:flex;color:#5B5B62;padding:10px;justify-content:end;' href='https://deepnote.com?utm_source=created-in-deepnote-cell&projectId=638a36e2-efff-486f-858d-cbca546da2c6' target=\"_blank\">\n<img alt='Created in deepnote.com' style='display:inline;max-height:16px;margin:0px;margin-right:7.5px;' src='data:image/svg+xml;base64,PD94bWwgdmVyc2lvbj0iMS4wIiBlbmNvZGluZz0iVVRGLTgiPz4KPHN2ZyB3aWR0aD0iODBweCIgaGVpZ2h0PSI4MHB4IiB2aWV3Qm94PSIwIDAgODAgODAiIHZlcnNpb249IjEuMSIgeG1sbnM9Imh0dHA6Ly93d3cudzMub3JnLzIwMDAvc3ZnIiB4bWxuczp4bGluaz0iaHR0cDovL3d3dy53My5vcmcvMTk5OS94bGluayI+CiAgICA8IS0tIEdlbmVyYXRvcjogU2tldGNoIDU0LjEgKDc2NDkwKSAtIGh0dHBzOi8vc2tldGNoYXBwLmNvbSAtLT4KICAgIDx0aXRsZT5Hcm91cCAzPC90aXRsZT4KICAgIDxkZXNjPkNyZWF0ZWQgd2l0aCBTa2V0Y2guPC9kZXNjPgogICAgPGcgaWQ9IkxhbmRpbmciIHN0cm9rZT0ibm9uZSIgc3Ryb2tlLXdpZHRoPSIxIiBmaWxsPSJub25lIiBmaWxsLXJ1bGU9ImV2ZW5vZGQiPgogICAgICAgIDxnIGlkPSJBcnRib2FyZCIgdHJhbnNmb3JtPSJ0cmFuc2xhdGUoLTEyMzUuMDAwMDAwLCAtNzkuMDAwMDAwKSI+CiAgICAgICAgICAgIDxnIGlkPSJHcm91cC0zIiB0cmFuc2Zvcm09InRyYW5zbGF0ZSgxMjM1LjAwMDAwMCwgNzkuMDAwMDAwKSI+CiAgICAgICAgICAgICAgICA8cG9seWdvbiBpZD0iUGF0aC0yMCIgZmlsbD0iIzAyNjVCNCIgcG9pbnRzPSIyLjM3NjIzNzYyIDgwIDM4LjA0NzY2NjcgODAgNTcuODIxNzgyMiA3My44MDU3NTkyIDU3LjgyMTc4MjIgMzIuNzU5MjczOSAzOS4xNDAyMjc4IDMxLjY4MzE2ODMiPjwvcG9seWdvbj4KICAgICAgICAgICAgICAgIDxwYXRoIGQ9Ik0zNS4wMDc3MTgsODAgQzQyLjkwNjIwMDcsNzYuNDU0OTM1OCA0Ny41NjQ5MTY3LDcxLjU0MjI2NzEgNDguOTgzODY2LDY1LjI2MTk5MzkgQzUxLjExMjI4OTksNTUuODQxNTg0MiA0MS42NzcxNzk1LDQ5LjIxMjIyODQgMjUuNjIzOTg0Niw0OS4yMTIyMjg0IEMyNS40ODQ5Mjg5LDQ5LjEyNjg0NDggMjkuODI2MTI5Niw0My4yODM4MjQ4IDM4LjY0NzU4NjksMzEuNjgzMTY4MyBMNzIuODcxMjg3MSwzMi41NTQ0MjUgTDY1LjI4MDk3Myw2Ny42NzYzNDIxIEw1MS4xMTIyODk5LDc3LjM3NjE0NCBMMzUuMDA3NzE4LDgwIFoiIGlkPSJQYXRoLTIyIiBmaWxsPSIjMDAyODY4Ij48L3BhdGg+CiAgICAgICAgICAgICAgICA8cGF0aCBkPSJNMCwzNy43MzA0NDA1IEwyNy4xMTQ1MzcsMC4yNTcxMTE0MzYgQzYyLjM3MTUxMjMsLTEuOTkwNzE3MDEgODAsMTAuNTAwMzkyNyA4MCwzNy43MzA0NDA1IEM4MCw2NC45NjA0ODgyIDY0Ljc3NjUwMzgsNzkuMDUwMzQxNCAzNC4zMjk1MTEzLDgwIEM0Ny4wNTUzNDg5LDc3LjU2NzA4MDggNTMuNDE4MjY3Nyw3MC4zMTM2MTAzIDUzLjQxODI2NzcsNTguMjM5NTg4NSBDNTMuNDE4MjY3Nyw0MC4xMjg1NTU3IDM2LjMwMzk1NDQsMzcuNzMwNDQwNSAyNS4yMjc0MTcsMzcuNzMwNDQwNSBDMTcuODQzMDU4NiwzNy43MzA0NDA1IDkuNDMzOTE5NjYsMzcuNzMwNDQwNSAwLDM3LjczMDQ0MDUgWiIgaWQ9IlBhdGgtMTkiIGZpbGw9IiMzNzkzRUYiPjwvcGF0aD4KICAgICAgICAgICAgPC9nPgogICAgICAgIDwvZz4KICAgIDwvZz4KPC9zdmc+' > </img>\nCreated in <span style='font-weight:600;margin-left:4px;'>Deepnote</span></a>",
   "metadata": {
    "tags": [],
    "created_in_deepnote_cell": true,
    "deepnote_cell_type": "markdown"
   }
  }
 ],
 "nbformat": 4,
 "nbformat_minor": 2,
 "metadata": {
  "orig_nbformat": 2,
  "deepnote": {},
  "deepnote_notebook_id": "b2b258d4-5647-48c7-bf58-2f62b99164a7",
  "deepnote_execution_queue": []
 }
}