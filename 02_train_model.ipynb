{
 "cells": [
  {
   "cell_type": "markdown",
   "source": "# Training new xG model",
   "metadata": {
    "cell_id": "d4c34d8f98b6441182ade432d9dd6024",
    "tags": [],
    "deepnote_cell_type": "markdown",
    "deepnote_cell_height": 82
   }
  },
  {
   "cell_type": "markdown",
   "source": "## Loading libraries",
   "metadata": {
    "cell_id": "a0e295b5bb6c4425947fb230363aa609",
    "tags": [],
    "deepnote_cell_type": "markdown",
    "deepnote_cell_height": 70
   }
  },
  {
   "cell_type": "code",
   "metadata": {
    "cell_id": "6b4dedd0446c48e0be02b5acc0963021",
    "tags": [],
    "deepnote_to_be_reexecuted": false,
    "source_hash": "8f8c6c95",
    "execution_start": 1659623383307,
    "execution_millis": 8,
    "deepnote_cell_type": "code",
    "deepnote_cell_height": 76
   },
   "source": "#install.packages(\"https://cran.r-project.org/src/contrib/rlang_1.0.4.tar.gz\", repo=NULL, type=\"source\")",
   "execution_count": null,
   "outputs": []
  },
  {
   "cell_type": "code",
   "metadata": {
    "cell_id": "4d09e7ccd6ea49f7bef336f64769d85c",
    "tags": [],
    "deepnote_to_be_reexecuted": false,
    "source_hash": "f8c4ac66",
    "execution_start": 1659620693308,
    "execution_millis": 10,
    "deepnote_cell_type": "code",
    "deepnote_cell_height": 166
   },
   "source": "#install.packages('ranger')\n#install.packages('mltools')\n#install.packages('dplyr')\n#install.packages('ROSE')\n#install.packages('data.table')\n#install.packages('DALEX')",
   "execution_count": null,
   "outputs": []
  },
  {
   "cell_type": "code",
   "metadata": {
    "cell_id": "530855312f3446928b6da734d74a923b",
    "tags": [],
    "deepnote_cell_type": "code",
    "deepnote_cell_height": 151
   },
   "source": "# sudo apt-get update\n# sudo apt-get -y install libssl-dev\n# sudo apt-get -y install libcurl4-gnutls-dev libxml2-dev\n# sudo apt-get -y install libfontconfig1-dev libcurl4-openssl-dev\n# sudo apt-get -y install libgit2-dev\n# sudo apt-get -y install r-cran-ragg",
   "execution_count": null,
   "outputs": []
  },
  {
   "cell_type": "code",
   "source": "#install.packages('devtools')",
   "metadata": {
    "cell_id": "4f9031159e9a4efeace7e3fdec974512",
    "tags": [],
    "deepnote_cell_type": "code",
    "deepnote_cell_height": 61
   },
   "outputs": [],
   "execution_count": null
  },
  {
   "cell_type": "code",
   "metadata": {
    "cell_id": "163b17152c6c4daf94bda09785d3aa28",
    "tags": [],
    "deepnote_to_be_reexecuted": false,
    "source_hash": "833ab381",
    "execution_start": 1659623379735,
    "execution_millis": 22,
    "deepnote_cell_type": "code",
    "deepnote_cell_height": 76
   },
   "source": "#library(devtools)",
   "execution_count": null,
   "outputs": []
  },
  {
   "cell_type": "code",
   "metadata": {
    "cell_id": "bf354acc1a474d6b935d35ba499ce99b",
    "tags": [],
    "deepnote_to_be_reexecuted": false,
    "source_hash": "95b55458",
    "execution_start": 1659623380281,
    "execution_millis": 8,
    "deepnote_cell_type": "code",
    "deepnote_cell_height": 76
   },
   "source": "#devtools::install_github(\"ModelOriented/forester\")",
   "execution_count": null,
   "outputs": []
  },
  {
   "cell_type": "code",
   "metadata": {
    "cell_id": "af785c6a1e9844caa4d545e7f8c51d8d",
    "tags": [],
    "deepnote_to_be_reexecuted": false,
    "source_hash": "e68b2de1",
    "execution_start": 1659963362117,
    "execution_millis": 18,
    "deepnote_cell_type": "code",
    "deepnote_cell_height": 184
   },
   "source": "library(ranger)\nlibrary(forester)\nlibrary(mltools)\nlibrary(dplyr)\nlibrary(ROSE)\nlibrary(data.table)\nlibrary(DALEX)",
   "outputs": [],
   "execution_count": null
  },
  {
   "cell_type": "markdown",
   "source": "## Loading data",
   "metadata": {
    "cell_id": "8680a84ec42d4933b8765fd1d4818f0c",
    "tags": [],
    "deepnote_cell_type": "markdown",
    "deepnote_cell_height": 70
   }
  },
  {
   "cell_type": "code",
   "metadata": {
    "cell_id": "8a30b40a2b8f40de995b80a479858cb4",
    "tags": [],
    "deepnote_to_be_reexecuted": false,
    "source_hash": "489e23ba",
    "execution_start": 1659963346202,
    "execution_millis": 5184,
    "deepnote_cell_type": "code",
    "deepnote_cell_height": 94
   },
   "source": "raw_data <- read.csv('./data/raw_data.csv')\nraw_data <- raw_data[,-1]",
   "outputs": [],
   "execution_count": null
  },
  {
   "cell_type": "markdown",
   "source": "## Preprocessing",
   "metadata": {
    "cell_id": "3bf871477e684209acbb8073b9bccaf6",
    "tags": [],
    "deepnote_cell_type": "markdown",
    "deepnote_cell_height": 70
   }
  },
  {
   "cell_type": "code",
   "metadata": {
    "cell_id": "6ddd0941957a41f7b554bca27a472883",
    "tags": [],
    "deepnote_to_be_reexecuted": false,
    "source_hash": "383c8f7e",
    "execution_start": 1659963351421,
    "execution_millis": 19,
    "deepnote_cell_type": "code",
    "deepnote_cell_height": 76
   },
   "source": "source(\"./scripts/preprocess.R\")",
   "outputs": [],
   "execution_count": null
  },
  {
   "cell_type": "code",
   "metadata": {
    "cell_id": "e2dd624860824b66b431eb02436a800b",
    "tags": [],
    "deepnote_to_be_reexecuted": false,
    "source_hash": "21d7af0f",
    "execution_start": 1659963366086,
    "execution_millis": 6227,
    "deepnote_cell_type": "code",
    "deepnote_cell_height": 387,
    "deepnote_output_heights": [
     277
    ]
   },
   "source": "df <- preprocess(raw_data)\nhead(df)",
   "outputs": [
    {
     "data": {
      "text/html": "<table class=\"dataframe\">\n<caption>A data.frame: 6 × 54</caption>\n<thead>\n\t<tr><th></th><th scope=col>status</th><th scope=col>minute</th><th scope=col>h_a_a</th><th scope=col>h_a_h</th><th scope=col>situation_DirectFreekick</th><th scope=col>situation_FromCorner</th><th scope=col>situation_OpenPlay</th><th scope=col>situation_Penalty</th><th scope=col>situation_SetPiece</th><th scope=col>shotType_Head</th><th scope=col>⋯</th><th scope=col>lastAction_Smother</th><th scope=col>lastAction_Standard</th><th scope=col>lastAction_Start</th><th scope=col>lastAction_SubstitutionOff</th><th scope=col>lastAction_SubstitutionOn</th><th scope=col>lastAction_Tackle</th><th scope=col>lastAction_TakeOn</th><th scope=col>lastAction_Throughball</th><th scope=col>distanceToGoal</th><th scope=col>angleToGoal</th></tr>\n\t<tr><th></th><th scope=col>&lt;dbl&gt;</th><th scope=col>&lt;dbl&gt;</th><th scope=col>&lt;int&gt;</th><th scope=col>&lt;int&gt;</th><th scope=col>&lt;int&gt;</th><th scope=col>&lt;int&gt;</th><th scope=col>&lt;int&gt;</th><th scope=col>&lt;int&gt;</th><th scope=col>&lt;int&gt;</th><th scope=col>&lt;int&gt;</th><th scope=col>⋯</th><th scope=col>&lt;int&gt;</th><th scope=col>&lt;int&gt;</th><th scope=col>&lt;int&gt;</th><th scope=col>&lt;int&gt;</th><th scope=col>&lt;int&gt;</th><th scope=col>&lt;int&gt;</th><th scope=col>&lt;int&gt;</th><th scope=col>&lt;int&gt;</th><th scope=col>&lt;dbl&gt;</th><th scope=col>&lt;dbl&gt;</th></tr>\n</thead>\n<tbody>\n\t<tr><th scope=row>1</th><td>0</td><td> 7</td><td>0</td><td>1</td><td>0</td><td>0</td><td>1</td><td>0</td><td>0</td><td>0</td><td>⋯</td><td>0</td><td>0</td><td>0</td><td>0</td><td>0</td><td>0</td><td>0</td><td>0</td><td>12.554569</td><td>10.86049</td></tr>\n\t<tr><th scope=row>2</th><td>1</td><td>13</td><td>0</td><td>1</td><td>0</td><td>0</td><td>1</td><td>0</td><td>0</td><td>0</td><td>⋯</td><td>0</td><td>0</td><td>0</td><td>0</td><td>0</td><td>0</td><td>0</td><td>1</td><td> 8.497323</td><td>44.42738</td></tr>\n\t<tr><th scope=row>3</th><td>0</td><td>24</td><td>0</td><td>1</td><td>0</td><td>0</td><td>1</td><td>0</td><td>0</td><td>0</td><td>⋯</td><td>0</td><td>0</td><td>0</td><td>0</td><td>0</td><td>0</td><td>0</td><td>0</td><td>23.388803</td><td>17.20585</td></tr>\n\t<tr><th scope=row>4</th><td>0</td><td>24</td><td>0</td><td>1</td><td>0</td><td>0</td><td>1</td><td>0</td><td>0</td><td>0</td><td>⋯</td><td>0</td><td>0</td><td>0</td><td>0</td><td>0</td><td>0</td><td>0</td><td>0</td><td>25.298204</td><td>16.33905</td></tr>\n\t<tr><th scope=row>5</th><td>0</td><td>30</td><td>0</td><td>1</td><td>0</td><td>1</td><td>0</td><td>0</td><td>0</td><td>1</td><td>⋯</td><td>0</td><td>0</td><td>0</td><td>0</td><td>0</td><td>0</td><td>0</td><td>0</td><td> 7.967234</td><td>44.48587</td></tr>\n\t<tr><th scope=row>6</th><td>0</td><td>42</td><td>0</td><td>1</td><td>0</td><td>0</td><td>1</td><td>0</td><td>0</td><td>0</td><td>⋯</td><td>0</td><td>0</td><td>0</td><td>0</td><td>0</td><td>0</td><td>0</td><td>0</td><td>26.241467</td><td>15.82464</td></tr>\n</tbody>\n</table>\n",
      "text/markdown": "\nA data.frame: 6 × 54\n\n| <!--/--> | status &lt;dbl&gt; | minute &lt;dbl&gt; | h_a_a &lt;int&gt; | h_a_h &lt;int&gt; | situation_DirectFreekick &lt;int&gt; | situation_FromCorner &lt;int&gt; | situation_OpenPlay &lt;int&gt; | situation_Penalty &lt;int&gt; | situation_SetPiece &lt;int&gt; | shotType_Head &lt;int&gt; | ⋯ ⋯ | lastAction_Smother &lt;int&gt; | lastAction_Standard &lt;int&gt; | lastAction_Start &lt;int&gt; | lastAction_SubstitutionOff &lt;int&gt; | lastAction_SubstitutionOn &lt;int&gt; | lastAction_Tackle &lt;int&gt; | lastAction_TakeOn &lt;int&gt; | lastAction_Throughball &lt;int&gt; | distanceToGoal &lt;dbl&gt; | angleToGoal &lt;dbl&gt; |\n|---|---|---|---|---|---|---|---|---|---|---|---|---|---|---|---|---|---|---|---|---|---|\n| 1 | 0 |  7 | 0 | 1 | 0 | 0 | 1 | 0 | 0 | 0 | ⋯ | 0 | 0 | 0 | 0 | 0 | 0 | 0 | 0 | 12.554569 | 10.86049 |\n| 2 | 1 | 13 | 0 | 1 | 0 | 0 | 1 | 0 | 0 | 0 | ⋯ | 0 | 0 | 0 | 0 | 0 | 0 | 0 | 1 |  8.497323 | 44.42738 |\n| 3 | 0 | 24 | 0 | 1 | 0 | 0 | 1 | 0 | 0 | 0 | ⋯ | 0 | 0 | 0 | 0 | 0 | 0 | 0 | 0 | 23.388803 | 17.20585 |\n| 4 | 0 | 24 | 0 | 1 | 0 | 0 | 1 | 0 | 0 | 0 | ⋯ | 0 | 0 | 0 | 0 | 0 | 0 | 0 | 0 | 25.298204 | 16.33905 |\n| 5 | 0 | 30 | 0 | 1 | 0 | 1 | 0 | 0 | 0 | 1 | ⋯ | 0 | 0 | 0 | 0 | 0 | 0 | 0 | 0 |  7.967234 | 44.48587 |\n| 6 | 0 | 42 | 0 | 1 | 0 | 0 | 1 | 0 | 0 | 0 | ⋯ | 0 | 0 | 0 | 0 | 0 | 0 | 0 | 0 | 26.241467 | 15.82464 |\n\n",
      "text/latex": "A data.frame: 6 × 54\n\\begin{tabular}{r|lllllllllllllllllllll}\n  & status & minute & h\\_a\\_a & h\\_a\\_h & situation\\_DirectFreekick & situation\\_FromCorner & situation\\_OpenPlay & situation\\_Penalty & situation\\_SetPiece & shotType\\_Head & ⋯ & lastAction\\_Smother & lastAction\\_Standard & lastAction\\_Start & lastAction\\_SubstitutionOff & lastAction\\_SubstitutionOn & lastAction\\_Tackle & lastAction\\_TakeOn & lastAction\\_Throughball & distanceToGoal & angleToGoal\\\\\n  & <dbl> & <dbl> & <int> & <int> & <int> & <int> & <int> & <int> & <int> & <int> & ⋯ & <int> & <int> & <int> & <int> & <int> & <int> & <int> & <int> & <dbl> & <dbl>\\\\\n\\hline\n\t1 & 0 &  7 & 0 & 1 & 0 & 0 & 1 & 0 & 0 & 0 & ⋯ & 0 & 0 & 0 & 0 & 0 & 0 & 0 & 0 & 12.554569 & 10.86049\\\\\n\t2 & 1 & 13 & 0 & 1 & 0 & 0 & 1 & 0 & 0 & 0 & ⋯ & 0 & 0 & 0 & 0 & 0 & 0 & 0 & 1 &  8.497323 & 44.42738\\\\\n\t3 & 0 & 24 & 0 & 1 & 0 & 0 & 1 & 0 & 0 & 0 & ⋯ & 0 & 0 & 0 & 0 & 0 & 0 & 0 & 0 & 23.388803 & 17.20585\\\\\n\t4 & 0 & 24 & 0 & 1 & 0 & 0 & 1 & 0 & 0 & 0 & ⋯ & 0 & 0 & 0 & 0 & 0 & 0 & 0 & 0 & 25.298204 & 16.33905\\\\\n\t5 & 0 & 30 & 0 & 1 & 0 & 1 & 0 & 0 & 0 & 1 & ⋯ & 0 & 0 & 0 & 0 & 0 & 0 & 0 & 0 &  7.967234 & 44.48587\\\\\n\t6 & 0 & 42 & 0 & 1 & 0 & 0 & 1 & 0 & 0 & 0 & ⋯ & 0 & 0 & 0 & 0 & 0 & 0 & 0 & 0 & 26.241467 & 15.82464\\\\\n\\end{tabular}\n",
      "text/plain": "  status minute h_a_a h_a_h situation_DirectFreekick situation_FromCorner\n1 0       7     0     1     0                        0                   \n2 1      13     0     1     0                        0                   \n3 0      24     0     1     0                        0                   \n4 0      24     0     1     0                        0                   \n5 0      30     0     1     0                        1                   \n6 0      42     0     1     0                        0                   \n  situation_OpenPlay situation_Penalty situation_SetPiece shotType_Head ⋯\n1 1                  0                 0                  0             ⋯\n2 1                  0                 0                  0             ⋯\n3 1                  0                 0                  0             ⋯\n4 1                  0                 0                  0             ⋯\n5 0                  0                 0                  1             ⋯\n6 1                  0                 0                  0             ⋯\n  lastAction_Smother lastAction_Standard lastAction_Start\n1 0                  0                   0               \n2 0                  0                   0               \n3 0                  0                   0               \n4 0                  0                   0               \n5 0                  0                   0               \n6 0                  0                   0               \n  lastAction_SubstitutionOff lastAction_SubstitutionOn lastAction_Tackle\n1 0                          0                         0                \n2 0                          0                         0                \n3 0                          0                         0                \n4 0                          0                         0                \n5 0                          0                         0                \n6 0                          0                         0                \n  lastAction_TakeOn lastAction_Throughball distanceToGoal angleToGoal\n1 0                 0                      12.554569      10.86049   \n2 0                 1                       8.497323      44.42738   \n3 0                 0                      23.388803      17.20585   \n4 0                 0                      25.298204      16.33905   \n5 0                 0                       7.967234      44.48587   \n6 0                 0                      26.241467      15.82464   "
     },
     "metadata": {},
     "output_type": "display_data"
    }
   ],
   "execution_count": null
  },
  {
   "cell_type": "code",
   "metadata": {
    "cell_id": "0df1e7e456b04652bc6e4718b9268587",
    "tags": [],
    "deepnote_to_be_reexecuted": false,
    "source_hash": "e653ca9e",
    "execution_start": 1659963372314,
    "execution_millis": 19,
    "deepnote_cell_type": "code",
    "deepnote_cell_height": 305,
    "deepnote_output_heights": [
     213
    ]
   },
   "source": "colnames(df)",
   "outputs": [
    {
     "data": {
      "text/html": "<style>\n.list-inline {list-style: none; margin:0; padding: 0}\n.list-inline>li {display: inline-block}\n.list-inline>li:not(:last-child)::after {content: \"\\00b7\"; padding: 0 .5ex}\n</style>\n<ol class=list-inline><li>'status'</li><li>'minute'</li><li>'h_a_a'</li><li>'h_a_h'</li><li>'situation_DirectFreekick'</li><li>'situation_FromCorner'</li><li>'situation_OpenPlay'</li><li>'situation_Penalty'</li><li>'situation_SetPiece'</li><li>'shotType_Head'</li><li>'shotType_LeftFoot'</li><li>'shotType_OtherBodyPart'</li><li>'shotType_RightFoot'</li><li>'lastAction_Aerial'</li><li>'lastAction_BallRecovery'</li><li>'lastAction_BallTouch'</li><li>'lastAction_BlockedPass'</li><li>'lastAction_Card'</li><li>'lastAction_Challenge'</li><li>'lastAction_ChanceMissed'</li><li>'lastAction_Chipped'</li><li>'lastAction_Clearance'</li><li>'lastAction_CornerAwarded'</li><li>'lastAction_Cross'</li><li>'lastAction_Dispossessed'</li><li>'lastAction_End'</li><li>'lastAction_Error'</li><li>'lastAction_FormationChange'</li><li>'lastAction_Foul'</li><li>'lastAction_Goal'</li><li>'lastAction_GoodSkill'</li><li>'lastAction_HeadPass'</li><li>'lastAction_Interception'</li><li>'lastAction_KeeperPickup'</li><li>'lastAction_KeeperSweeper'</li><li>'lastAction_LayOff'</li><li>'lastAction_None'</li><li>'lastAction_OffsidePass'</li><li>'lastAction_OffsideProvoked'</li><li>'lastAction_Pass'</li><li>'lastAction_Punch'</li><li>'lastAction_Rebound'</li><li>'lastAction_Save'</li><li>'lastAction_ShieldBallOpp'</li><li>'lastAction_Smother'</li><li>'lastAction_Standard'</li><li>'lastAction_Start'</li><li>'lastAction_SubstitutionOff'</li><li>'lastAction_SubstitutionOn'</li><li>'lastAction_Tackle'</li><li>'lastAction_TakeOn'</li><li>'lastAction_Throughball'</li><li>'distanceToGoal'</li><li>'angleToGoal'</li></ol>\n",
      "text/markdown": "1. 'status'\n2. 'minute'\n3. 'h_a_a'\n4. 'h_a_h'\n5. 'situation_DirectFreekick'\n6. 'situation_FromCorner'\n7. 'situation_OpenPlay'\n8. 'situation_Penalty'\n9. 'situation_SetPiece'\n10. 'shotType_Head'\n11. 'shotType_LeftFoot'\n12. 'shotType_OtherBodyPart'\n13. 'shotType_RightFoot'\n14. 'lastAction_Aerial'\n15. 'lastAction_BallRecovery'\n16. 'lastAction_BallTouch'\n17. 'lastAction_BlockedPass'\n18. 'lastAction_Card'\n19. 'lastAction_Challenge'\n20. 'lastAction_ChanceMissed'\n21. 'lastAction_Chipped'\n22. 'lastAction_Clearance'\n23. 'lastAction_CornerAwarded'\n24. 'lastAction_Cross'\n25. 'lastAction_Dispossessed'\n26. 'lastAction_End'\n27. 'lastAction_Error'\n28. 'lastAction_FormationChange'\n29. 'lastAction_Foul'\n30. 'lastAction_Goal'\n31. 'lastAction_GoodSkill'\n32. 'lastAction_HeadPass'\n33. 'lastAction_Interception'\n34. 'lastAction_KeeperPickup'\n35. 'lastAction_KeeperSweeper'\n36. 'lastAction_LayOff'\n37. 'lastAction_None'\n38. 'lastAction_OffsidePass'\n39. 'lastAction_OffsideProvoked'\n40. 'lastAction_Pass'\n41. 'lastAction_Punch'\n42. 'lastAction_Rebound'\n43. 'lastAction_Save'\n44. 'lastAction_ShieldBallOpp'\n45. 'lastAction_Smother'\n46. 'lastAction_Standard'\n47. 'lastAction_Start'\n48. 'lastAction_SubstitutionOff'\n49. 'lastAction_SubstitutionOn'\n50. 'lastAction_Tackle'\n51. 'lastAction_TakeOn'\n52. 'lastAction_Throughball'\n53. 'distanceToGoal'\n54. 'angleToGoal'\n\n\n",
      "text/latex": "\\begin{enumerate*}\n\\item 'status'\n\\item 'minute'\n\\item 'h\\_a\\_a'\n\\item 'h\\_a\\_h'\n\\item 'situation\\_DirectFreekick'\n\\item 'situation\\_FromCorner'\n\\item 'situation\\_OpenPlay'\n\\item 'situation\\_Penalty'\n\\item 'situation\\_SetPiece'\n\\item 'shotType\\_Head'\n\\item 'shotType\\_LeftFoot'\n\\item 'shotType\\_OtherBodyPart'\n\\item 'shotType\\_RightFoot'\n\\item 'lastAction\\_Aerial'\n\\item 'lastAction\\_BallRecovery'\n\\item 'lastAction\\_BallTouch'\n\\item 'lastAction\\_BlockedPass'\n\\item 'lastAction\\_Card'\n\\item 'lastAction\\_Challenge'\n\\item 'lastAction\\_ChanceMissed'\n\\item 'lastAction\\_Chipped'\n\\item 'lastAction\\_Clearance'\n\\item 'lastAction\\_CornerAwarded'\n\\item 'lastAction\\_Cross'\n\\item 'lastAction\\_Dispossessed'\n\\item 'lastAction\\_End'\n\\item 'lastAction\\_Error'\n\\item 'lastAction\\_FormationChange'\n\\item 'lastAction\\_Foul'\n\\item 'lastAction\\_Goal'\n\\item 'lastAction\\_GoodSkill'\n\\item 'lastAction\\_HeadPass'\n\\item 'lastAction\\_Interception'\n\\item 'lastAction\\_KeeperPickup'\n\\item 'lastAction\\_KeeperSweeper'\n\\item 'lastAction\\_LayOff'\n\\item 'lastAction\\_None'\n\\item 'lastAction\\_OffsidePass'\n\\item 'lastAction\\_OffsideProvoked'\n\\item 'lastAction\\_Pass'\n\\item 'lastAction\\_Punch'\n\\item 'lastAction\\_Rebound'\n\\item 'lastAction\\_Save'\n\\item 'lastAction\\_ShieldBallOpp'\n\\item 'lastAction\\_Smother'\n\\item 'lastAction\\_Standard'\n\\item 'lastAction\\_Start'\n\\item 'lastAction\\_SubstitutionOff'\n\\item 'lastAction\\_SubstitutionOn'\n\\item 'lastAction\\_Tackle'\n\\item 'lastAction\\_TakeOn'\n\\item 'lastAction\\_Throughball'\n\\item 'distanceToGoal'\n\\item 'angleToGoal'\n\\end{enumerate*}\n",
      "text/plain": " [1] \"status\"                     \"minute\"                    \n [3] \"h_a_a\"                      \"h_a_h\"                     \n [5] \"situation_DirectFreekick\"   \"situation_FromCorner\"      \n [7] \"situation_OpenPlay\"         \"situation_Penalty\"         \n [9] \"situation_SetPiece\"         \"shotType_Head\"             \n[11] \"shotType_LeftFoot\"          \"shotType_OtherBodyPart\"    \n[13] \"shotType_RightFoot\"         \"lastAction_Aerial\"         \n[15] \"lastAction_BallRecovery\"    \"lastAction_BallTouch\"      \n[17] \"lastAction_BlockedPass\"     \"lastAction_Card\"           \n[19] \"lastAction_Challenge\"       \"lastAction_ChanceMissed\"   \n[21] \"lastAction_Chipped\"         \"lastAction_Clearance\"      \n[23] \"lastAction_CornerAwarded\"   \"lastAction_Cross\"          \n[25] \"lastAction_Dispossessed\"    \"lastAction_End\"            \n[27] \"lastAction_Error\"           \"lastAction_FormationChange\"\n[29] \"lastAction_Foul\"            \"lastAction_Goal\"           \n[31] \"lastAction_GoodSkill\"       \"lastAction_HeadPass\"       \n[33] \"lastAction_Interception\"    \"lastAction_KeeperPickup\"   \n[35] \"lastAction_KeeperSweeper\"   \"lastAction_LayOff\"         \n[37] \"lastAction_None\"            \"lastAction_OffsidePass\"    \n[39] \"lastAction_OffsideProvoked\" \"lastAction_Pass\"           \n[41] \"lastAction_Punch\"           \"lastAction_Rebound\"        \n[43] \"lastAction_Save\"            \"lastAction_ShieldBallOpp\"  \n[45] \"lastAction_Smother\"         \"lastAction_Standard\"       \n[47] \"lastAction_Start\"           \"lastAction_SubstitutionOff\"\n[49] \"lastAction_SubstitutionOn\"  \"lastAction_Tackle\"         \n[51] \"lastAction_TakeOn\"          \"lastAction_Throughball\"    \n[53] \"distanceToGoal\"             \"angleToGoal\"               "
     },
     "metadata": {},
     "output_type": "display_data"
    }
   ],
   "execution_count": null
  },
  {
   "cell_type": "code",
   "metadata": {
    "cell_id": "0cc07d503fe4431d99afec8bb2570c8d",
    "tags": [],
    "deepnote_to_be_reexecuted": false,
    "source_hash": "349d1f03",
    "execution_start": 1659627530369,
    "execution_millis": 10716,
    "deepnote_cell_type": "code",
    "deepnote_cell_height": 76
   },
   "source": "write.csv(df, './data/preprocessed_data.csv', row.names=FALSE)",
   "execution_count": null,
   "outputs": []
  },
  {
   "cell_type": "markdown",
   "source": "## Oversampling",
   "metadata": {
    "cell_id": "2f6962e6ffe14696900b014a32c0e7e9",
    "tags": [],
    "deepnote_cell_type": "markdown",
    "deepnote_cell_height": 70
   }
  },
  {
   "cell_type": "markdown",
   "source": "In previous research, it turned out it was the best method to improve model performance.",
   "metadata": {
    "cell_id": "99000df49f4d4f0b9569730583248277",
    "tags": [],
    "deepnote_cell_type": "markdown",
    "deepnote_cell_height": 52.399993896484375
   }
  },
  {
   "cell_type": "code",
   "metadata": {
    "cell_id": "b14fe0342ad0414c9678c58dbb257868",
    "tags": [],
    "deepnote_to_be_reexecuted": false,
    "source_hash": "571b6373",
    "execution_start": 1659963375384,
    "execution_millis": 2251,
    "deepnote_cell_type": "code",
    "deepnote_cell_height": 94
   },
   "source": "set.seed(123)\nover_train_data <- ovun.sample(status ~ ., data = df, method = \"over\")",
   "outputs": [],
   "execution_count": null
  },
  {
   "cell_type": "code",
   "source": "write.csv(over_train_data$data, './data/oversampled_preprocessed_data.csv', row.names=FALSE)",
   "metadata": {
    "cell_id": "dae5a5e510bc46bd9a475b908f90b772",
    "tags": [],
    "deepnote_to_be_reexecuted": false,
    "source_hash": "67f963a5",
    "execution_start": 1659963412533,
    "execution_millis": 15658,
    "deepnote_cell_type": "code",
    "deepnote_cell_height": 76
   },
   "outputs": [],
   "execution_count": null
  },
  {
   "cell_type": "code",
   "source": "",
   "metadata": {
    "cell_id": "396014e545e443a1bf7f4a3cd1b6b299",
    "tags": [],
    "deepnote_cell_type": "code",
    "deepnote_cell_height": 61
   },
   "outputs": [],
   "execution_count": null
  },
  {
   "cell_type": "code",
   "source": "",
   "metadata": {
    "cell_id": "2408d9923bcb4266945a6d425b56ff15",
    "tags": [],
    "deepnote_cell_type": "code",
    "deepnote_cell_height": 61
   },
   "outputs": [],
   "execution_count": null
  },
  {
   "cell_type": "code",
   "source": "",
   "metadata": {
    "cell_id": "31518dd052de4205a914a280b755de94",
    "tags": [],
    "deepnote_cell_type": "code",
    "deepnote_cell_height": 61
   },
   "outputs": [],
   "execution_count": null
  },
  {
   "cell_type": "markdown",
   "source": "## Training",
   "metadata": {
    "cell_id": "2adfaa38b0c94972a866ae585eab4114",
    "tags": [],
    "deepnote_cell_type": "markdown",
    "deepnote_cell_height": 70
   }
  },
  {
   "cell_type": "markdown",
   "source": "I have only `ranger` installed, that's why it is the only one trained.\n\nOriginal model was trained in the same way, using `forester`, with the same seed. The best was was created by `ranger` library.\n\nNow, new model (with the same default hyperparameters) with one-hot-encoded features is trained so as to use efficient `treeshap` library.",
   "metadata": {
    "cell_id": "52f710067e89433b881194d57c872ad3",
    "tags": [],
    "deepnote_cell_type": "markdown",
    "deepnote_cell_height": 147.60000610351562
   }
  },
  {
   "cell_type": "code",
   "metadata": {
    "cell_id": "fb6c5ffc838249878e56ac6911b42b1f",
    "tags": [],
    "deepnote_to_be_reexecuted": false,
    "source_hash": "a0ae1fd4",
    "execution_start": 1659623565766,
    "execution_millis": 1474524,
    "deepnote_cell_type": "code",
    "deepnote_cell_height": 750
   },
   "source": "set.seed(123)\nover_model <- forester(data   = over_train_data$data,\n                       target = \"status\",\n                       type   = \"classification\")",
   "execution_count": null,
   "outputs": [
    {
     "name": "stderr",
     "text": "__________________________\n\nFORESTER\n\nOriginal shape of train data frame: 515553 rows, 54 columns\n\n_____________\n\nNA values\n\nThere is no NA values in your data.\n\n__________________________\n\nCREATING MODELS\n\nGrowing trees.. Progress: 3%. Estimated remaining time: 21 minutes, 13 seconds.\nGrowing trees.. Progress: 5%. Estimated remaining time: 20 minutes, 8 seconds.\nGrowing trees.. Progress: 8%. Estimated remaining time: 19 minutes, 10 seconds.\nGrowing trees.. Progress: 11%. Estimated remaining time: 18 minutes, 18 seconds.\nGrowing trees.. Progress: 13%. Estimated remaining time: 18 minutes, 5 seconds.\nGrowing trees.. Progress: 16%. Estimated remaining time: 17 minutes, 14 seconds.\nGrowing trees.. Progress: 19%. Estimated remaining time: 16 minutes, 29 seconds.\nGrowing trees.. Progress: 22%. Estimated remaining time: 15 minutes, 36 seconds.\nGrowing trees.. Progress: 25%. Estimated remaining time: 14 minutes, 51 seconds.\nGrowing trees.. Progress: 28%. Estimated remaining time: 14 minutes, 9 seconds.\nGrowing trees.. Progress: 30%. Estimated remaining time: 13 minutes, 44 seconds.\nGrowing trees.. Progress: 33%. Estimated remaining time: 13 minutes, 17 seconds.\nGrowing trees.. Progress: 36%. Estimated remaining time: 12 minutes, 42 seconds.\nGrowing trees.. Progress: 39%. Estimated remaining time: 12 minutes, 2 seconds.\nGrowing trees.. Progress: 42%. Estimated remaining time: 11 minutes, 23 seconds.\nGrowing trees.. Progress: 45%. Estimated remaining time: 10 minutes, 43 seconds.\nGrowing trees.. Progress: 48%. Estimated remaining time: 10 minutes, 10 seconds.\nGrowing trees.. Progress: 51%. Estimated remaining time: 9 minutes, 31 seconds.\nGrowing trees.. Progress: 54%. Estimated remaining time: 8 minutes, 53 seconds.\nGrowing trees.. Progress: 57%. Estimated remaining time: 8 minutes, 21 seconds.\nGrowing trees.. Progress: 60%. Estimated remaining time: 7 minutes, 45 seconds.\nGrowing trees.. Progress: 63%. Estimated remaining time: 7 minutes, 9 seconds.\nGrowing trees.. Progress: 65%. Estimated remaining time: 6 minutes, 36 seconds.\nGrowing trees.. Progress: 69%. Estimated remaining time: 5 minutes, 59 seconds.\nGrowing trees.. Progress: 72%. Estimated remaining time: 5 minutes, 20 seconds.\nGrowing trees.. Progress: 75%. Estimated remaining time: 4 minutes, 49 seconds.\nGrowing trees.. Progress: 77%. Estimated remaining time: 4 minutes, 17 seconds.\nGrowing trees.. Progress: 80%. Estimated remaining time: 3 minutes, 45 seconds.\nGrowing trees.. Progress: 83%. Estimated remaining time: 3 minutes, 13 seconds.\nGrowing trees.. Progress: 86%. Estimated remaining time: 2 minutes, 39 seconds.\nGrowing trees.. Progress: 89%. Estimated remaining time: 2 minutes, 4 seconds.\nGrowing trees.. Progress: 92%. Estimated remaining time: 1 minute, 33 seconds.\nGrowing trees.. Progress: 95%. Estimated remaining time: 58 seconds.\nGrowing trees.. Progress: 98%. Estimated remaining time: 27 seconds.\nComputing prediction error.. Progress: 79%. Estimated remaining time: 8 seconds.\nPredicting.. Progress: 40%. Estimated remaining time: 46 seconds.\nPredicting.. Progress: 80%. Estimated remaining time: 15 seconds.\nPredicting.. Progress: 40%. Estimated remaining time: 47 seconds.\nPredicting.. Progress: 79%. Estimated remaining time: 16 seconds.\nWarning message in if (class(is_available_ranger) == \"try-error\") {:\n“the condition has length > 1 and only the first element will be used”\n--- Ranger model has been created ---\n\n--- Omitting `make_catboost()` because the `catboost` package is not available ---\n\n--- Omitting `make_xgboost()` because the `xgboost` package is not available ---\n\n--- Omitting `make_lightgbm()` because the `lightgbm` package is not available ---\n\n__________________________\n\nCOMPARISON\n\nResults of compared models:\n\n\n\nmodel           auc      recall   precision          f1    accuracy\n-------  ----------  ----------  ----------  ----------  ----------\nRanger    0.7421546   0.7192585   0.7535624   0.7360109   0.7421677\nThe best model based on auc metric is Ranger.\n\n",
     "output_type": "stream"
    }
   ]
  },
  {
   "cell_type": "code",
   "metadata": {
    "cell_id": "c1e10fdf15894f36b08ac9449671f199",
    "tags": [],
    "deepnote_cell_type": "code",
    "deepnote_cell_height": 61
   },
   "source": "",
   "execution_count": null,
   "outputs": []
  },
  {
   "cell_type": "markdown",
   "source": "Output from training with forester:\n\n\n| model   | auc        | recall     | precision  | f1         | accuracy   |\n| ------- | ---------- | ---------- | ---------- | ---------- | ---------- |\n| Ranger  | 0.7421546  | 0.7192585  | 0.7535624  | 0.7360109  | 0.7421677  |",
   "metadata": {
    "cell_id": "2d1f97c030f54eb0af9778f51c3c87b8",
    "tags": [],
    "deepnote_cell_type": "markdown",
    "deepnote_cell_height": 115.19999694824219
   }
  },
  {
   "cell_type": "code",
   "metadata": {
    "cell_id": "d6398dc884364c138159f8e1554f67ac",
    "tags": [],
    "deepnote_cell_type": "code",
    "deepnote_cell_height": 61
   },
   "source": "",
   "execution_count": null,
   "outputs": []
  },
  {
   "cell_type": "markdown",
   "source": "## Save trained model",
   "metadata": {
    "cell_id": "71806fbc38ad45f79db04d498b565d66",
    "tags": [],
    "deepnote_cell_type": "markdown",
    "deepnote_cell_height": 70
   }
  },
  {
   "cell_type": "code",
   "metadata": {
    "cell_id": "2ba3664b14c54aa29328b96df952a480",
    "tags": [],
    "deepnote_cell_type": "code",
    "deepnote_cell_height": 169
   },
   "source": "dir_name <- './model'\n\nif (file.exists(dir_name)) {\n cat(\"The folder already exists\")\n} else {\n dir.create(dir_name)\n}",
   "execution_count": null,
   "outputs": []
  },
  {
   "cell_type": "code",
   "metadata": {
    "cell_id": "4119a1970985427898651173a1a77f8d",
    "tags": [],
    "deepnote_to_be_reexecuted": false,
    "source_hash": "2ff8f1aa",
    "execution_start": 1659625766821,
    "execution_millis": 36468,
    "deepnote_cell_type": "code",
    "deepnote_cell_height": 94
   },
   "source": "saveRDS(over_model$model, './model/model.rds')\nsaveRDS(over_model$test_data, './model/test_data.rds')",
   "execution_count": null,
   "outputs": []
  },
  {
   "cell_type": "code",
   "metadata": {
    "cell_id": "e8699f16b8c642fcbfd04b519742c489",
    "tags": [],
    "deepnote_to_be_reexecuted": false,
    "source_hash": "570e4bf6",
    "execution_start": 1659625040347,
    "execution_millis": 176277,
    "deepnote_cell_type": "code",
    "deepnote_cell_height": 76
   },
   "source": "saveRDS(over_model, './model/over_model.rds')",
   "execution_count": null,
   "outputs": []
  },
  {
   "cell_type": "code",
   "metadata": {
    "cell_id": "9361ad5aa06a44149a4fbda7b93a65ac",
    "tags": [],
    "deepnote_cell_type": "code",
    "deepnote_cell_height": 61
   },
   "source": "",
   "execution_count": null,
   "outputs": []
  },
  {
   "cell_type": "markdown",
   "source": "<a style='text-decoration:none;line-height:16px;display:flex;color:#5B5B62;padding:10px;justify-content:end;' href='https://deepnote.com?utm_source=created-in-deepnote-cell&projectId=638a36e2-efff-486f-858d-cbca546da2c6' target=\"_blank\">\n<img alt='Created in deepnote.com' style='display:inline;max-height:16px;margin:0px;margin-right:7.5px;' src='data:image/svg+xml;base64,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' > </img>\nCreated in <span style='font-weight:600;margin-left:4px;'>Deepnote</span></a>",
   "metadata": {
    "tags": [],
    "created_in_deepnote_cell": true,
    "deepnote_cell_type": "markdown"
   }
  }
 ],
 "nbformat": 4,
 "nbformat_minor": 2,
 "metadata": {
  "orig_nbformat": 2,
  "deepnote": {},
  "deepnote_notebook_id": "f705a2dc-0818-4475-ba6a-7856bae5878d",
  "deepnote_execution_queue": []
 }
}