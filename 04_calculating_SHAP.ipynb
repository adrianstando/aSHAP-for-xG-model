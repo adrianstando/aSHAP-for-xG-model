{
 "cells": [
  {
   "cell_type": "markdown",
   "source": "# Calculating SHAP values",
   "metadata": {
    "cell_id": "59804cbd-c739-4ff5-8ff1-7ed1b3bcf5d6",
    "deepnote_cell_type": "markdown",
    "deepnote_cell_height": 134
   }
  },
  {
   "cell_type": "markdown",
   "source": "**ATTENTION:**\n\nNotebook language: **Python**",
   "metadata": {
    "cell_id": "00001-a559b2ea-fe73-49ef-9ca0-a39edc364eca",
    "deepnote_cell_type": "markdown",
    "deepnote_cell_height": 88
   }
  },
  {
   "cell_type": "markdown",
   "source": "## Loading model and data",
   "metadata": {
    "cell_id": "00002-d97f994d-db98-4666-908a-0ab8447ed5e6",
    "deepnote_cell_type": "markdown",
    "deepnote_cell_height": 70
   }
  },
  {
   "cell_type": "code",
   "metadata": {
    "cell_id": "00003-4f0a02f1-8d88-401d-8769-cdd482e63516",
    "deepnote_cell_type": "code",
    "deepnote_cell_height": 61
   },
   "source": "import pickle5 as pickle",
   "execution_count": 1,
   "outputs": []
  },
  {
   "cell_type": "code",
   "metadata": {
    "cell_id": "00004-d79378fb-6853-4a9c-b09a-f7dd178e5745",
    "deepnote_cell_type": "code",
    "deepnote_cell_height": 84
   },
   "source": "with open('./model/model.pickle', 'rb') as fp:\n    model = pickle.load(fp) ",
   "execution_count": 2,
   "outputs": []
  },
  {
   "cell_type": "code",
   "metadata": {
    "cell_id": "00005-a3d537e4-2623-4f74-9e30-d00cb9f4ac3e",
    "deepnote_cell_type": "code",
    "deepnote_cell_height": 79
   },
   "source": "import pandas as pd\nimport numpy as np",
   "execution_count": 3,
   "outputs": []
  },
  {
   "cell_type": "code",
   "metadata": {
    "cell_id": "00006-112d868e-1aa8-4866-a56a-7db2cde64629",
    "deepnote_cell_type": "code",
    "deepnote_cell_height": 84
   },
   "source": "df_preprocessed = pd.read_csv('./data/data_preprocessed.csv', index_col=0)\ndf_raw = pd.read_csv('./data/raw_data.csv', index_col=0)",
   "execution_count": 4,
   "outputs": []
  },
  {
   "cell_type": "code",
   "metadata": {
    "cell_id": "00007-7d03b358-e46e-4e39-9ea3-18310c781878",
    "deepnote_cell_type": "code",
    "deepnote_cell_height": 66
   },
   "source": "X_preprocessed = df_preprocessed.drop('status', axis=1)",
   "execution_count": 5,
   "outputs": []
  },
  {
   "cell_type": "code",
   "metadata": {
    "cell_id": "00008-11cb4435-45f7-4cfc-b110-5cc580e7ca32",
    "deepnote_cell_type": "code",
    "deepnote_cell_height": 61
   },
   "source": "y_preprocessed = df_preprocessed.status",
   "execution_count": 6,
   "outputs": []
  },
  {
   "cell_type": "markdown",
   "source": "## Calculating predictions (background prediction)",
   "metadata": {
    "cell_id": "00009-8480017f-4412-4cd5-9b80-299816f9bb3a",
    "deepnote_cell_type": "markdown",
    "deepnote_cell_height": 110
   }
  },
  {
   "cell_type": "code",
   "metadata": {
    "cell_id": "00010-93161264-297b-4719-bfbf-23fead01af02",
    "deepnote_cell_type": "code",
    "deepnote_cell_height": 84
   },
   "source": "y_hat = pd.DataFrame(model.predict_proba(X_preprocessed)[:, 1])\ny_hat.to_csv('./data/y_hat.csv')",
   "execution_count": 6,
   "outputs": []
  },
  {
   "cell_type": "markdown",
   "source": "## Creating explainer",
   "metadata": {
    "cell_id": "00011-0b7b3c04-c857-4144-9ec4-dd0f59bd5dd4",
    "deepnote_cell_type": "markdown",
    "deepnote_cell_height": 70
   }
  },
  {
   "cell_type": "code",
   "metadata": {
    "cell_id": "00012-5321391b-df47-4e6e-ad5d-ec364525b491",
    "deepnote_cell_type": "code",
    "deepnote_cell_height": 61
   },
   "source": "import dalex as dx",
   "execution_count": 7,
   "outputs": []
  },
  {
   "cell_type": "code",
   "metadata": {
    "cell_id": "00013-4d96c7fc-e5d3-4a6c-bb4c-1156170381d3",
    "deepnote_cell_type": "code",
    "deepnote_cell_height": 396
   },
   "source": "explainer = dx.Explainer(model, X_preprocessed, y_preprocessed)",
   "execution_count": 8,
   "outputs": [
    {
     "name": "stdout",
     "output_type": "stream",
     "text": "Preparation of a new explainer is initiated\n\n  -> data              : 361035 rows 7 cols\n  -> target variable   : Parameter 'y' was a pandas.Series. Converted to a numpy.ndarray.\n  -> target variable   : 361035 values\n  -> model_class       : scripts.RandomForestModified.RangerForestClassifierModified (default)\n  -> label             : Not specified, model's class short name will be used. (default)\n  -> predict function  : <function yhat_proba_default at 0x7fdfd5656d30> will be used (default)\n  -> predict function  : Accepts pandas.DataFrame and numpy.ndarray.\n  -> predicted values  : min = 0.00584, mean = 0.295, max = 0.995\n  -> model type        : classification will be used (default)\n  -> residual function : difference between y and yhat (default)\n  -> residuals         : min = -0.973, mean = -0.188, max = 0.95\n  -> model_info        : package scripts\n\nA new explainer has been created!\n"
    }
   ]
  },
  {
   "cell_type": "code",
   "metadata": {
    "cell_id": "00014-1a468759-2fa4-47cc-baca-15d0e6d25aa1",
    "deepnote_cell_type": "code",
    "deepnote_cell_height": 61
   },
   "source": "",
   "execution_count": null,
   "outputs": []
  },
  {
   "cell_type": "markdown",
   "source": "## Functions to calculate explanations",
   "metadata": {
    "cell_id": "00015-c8bd7f09-9ad1-4159-9d94-7e9994b43dff",
    "deepnote_cell_type": "markdown",
    "deepnote_cell_height": 110
   }
  },
  {
   "cell_type": "code",
   "metadata": {
    "cell_id": "00016-6504239b-ac99-47ae-88cf-5c89ac338caa",
    "deepnote_cell_type": "code",
    "deepnote_cell_height": 187
   },
   "source": "import os\n\npath = './results'\n\nif not os.path.exists(path):\n    os.makedirs(path)\nelse:\n    print(\"The folder already exists\")",
   "execution_count": 12,
   "outputs": []
  },
  {
   "cell_type": "code",
   "metadata": {
    "cell_id": "00017-94a62aa8-c653-41db-9ca9-2e8a4b0bd7bb",
    "deepnote_cell_type": "code",
    "deepnote_cell_height": 66
   },
   "source": "from scripts.calculate_SHAP import extract_preprocessed__calculate__save",
   "execution_count": 11,
   "outputs": []
  },
  {
   "cell_type": "code",
   "metadata": {
    "cell_id": "00018-03bbdd94-3eaa-48c2-9b5e-c8ceed8a73c6",
    "deepnote_cell_type": "code",
    "deepnote_cell_height": 61
   },
   "source": "",
   "execution_count": null,
   "outputs": []
  },
  {
   "cell_type": "markdown",
   "source": "## Calculations",
   "metadata": {
    "cell_id": "00019-a239c2ab-b0a6-4ff3-8545-76bcf5a8e287",
    "deepnote_cell_type": "markdown",
    "deepnote_cell_height": 70
   }
  },
  {
   "cell_type": "markdown",
   "source": "### Robert Lewandowski",
   "metadata": {
    "cell_id": "00020-243ce39b-b92d-4927-ad6a-36835c59d1f6",
    "deepnote_cell_type": "markdown",
    "deepnote_cell_height": 62
   }
  },
  {
   "cell_type": "markdown",
   "source": "#### Season 2021",
   "metadata": {
    "cell_id": "00021-e41cba1f-a500-4282-b119-f4948aeff6d7",
    "deepnote_cell_type": "markdown",
    "deepnote_cell_height": 54
   }
  },
  {
   "cell_type": "code",
   "metadata": {
    "cell_id": "00022-aa0d1dfe-a729-45f3-a877-264248119fed",
    "deepnote_cell_type": "code",
    "deepnote_cell_height": 66
   },
   "source": "subset = df_raw[np.logical_and(df_raw['player'] == 'Robert Lewandowski', df_raw['season'] == 2021)]",
   "execution_count": 12,
   "outputs": []
  },
  {
   "cell_type": "code",
   "metadata": {
    "cell_id": "00023-26c1c8b5-93c7-49f6-b336-5a8b84bd58fb",
    "deepnote_cell_type": "code",
    "deepnote_cell_height": 237
   },
   "source": "extract_preprocessed__calculate__save(\n    main_dir = './results', \n    task_hierarchy = ['lewandowski', 'season2021'],\n    explainer = explainer, \n    subset = subset, \n    df_preprocessed = df_preprocessed,\n    target = 'status'\n)",
   "execution_count": 15,
   "outputs": [
    {
     "name": "stdout",
     "output_type": "stream",
     "text": "The folder already exists\n"
    }
   ]
  },
  {
   "cell_type": "markdown",
   "source": "#### Season 2020",
   "metadata": {
    "cell_id": "00024-4cb99acf-9089-485e-bd7c-af7931bd4b51",
    "deepnote_cell_type": "markdown",
    "deepnote_cell_height": 54
   }
  },
  {
   "cell_type": "code",
   "metadata": {
    "cell_id": "00025-0a140ed0-0d00-44db-a54a-bcf3b4dd2ad2",
    "deepnote_cell_type": "code",
    "deepnote_cell_height": 66
   },
   "source": "subset = df_raw[np.logical_and(df_raw['player'] == 'Robert Lewandowski', df_raw['season'] == 2020)]",
   "execution_count": 16,
   "outputs": []
  },
  {
   "cell_type": "code",
   "metadata": {
    "cell_id": "00026-5022ab8b-1365-40d5-9f53-6b075cc9ad12",
    "deepnote_cell_type": "code",
    "deepnote_cell_height": 237
   },
   "source": "extract_preprocessed__calculate__save(\n    main_dir = './results', \n    task_hierarchy = ['lewandowski', 'season2020'],\n    explainer = explainer, \n    subset = subset, \n    df_preprocessed = df_preprocessed,\n    target = 'status'\n)",
   "execution_count": 17,
   "outputs": [
    {
     "name": "stdout",
     "output_type": "stream",
     "text": "The folder already exists\n"
    }
   ]
  },
  {
   "cell_type": "markdown",
   "source": "#### Season 2019",
   "metadata": {
    "cell_id": "00027-4c1785ed-c208-4d71-b346-e46e8cab48c0",
    "deepnote_cell_type": "markdown",
    "deepnote_cell_height": 54
   }
  },
  {
   "cell_type": "code",
   "metadata": {
    "cell_id": "00028-01b80204-c73b-4f3c-8365-544385b2296d",
    "deepnote_cell_type": "code",
    "deepnote_cell_height": 66
   },
   "source": "subset = df_raw[np.logical_and(df_raw['player'] == 'Robert Lewandowski', df_raw['season'] == 2019)]",
   "execution_count": 18,
   "outputs": []
  },
  {
   "cell_type": "code",
   "metadata": {
    "cell_id": "00029-1ca66075-1eb1-45f9-8113-4671f8e5c189",
    "deepnote_cell_type": "code",
    "deepnote_cell_height": 237
   },
   "source": "extract_preprocessed__calculate__save(\n    main_dir = './results', \n    task_hierarchy = ['lewandowski', 'season2019'],\n    explainer = explainer, \n    subset = subset, \n    df_preprocessed = df_preprocessed,\n    target = 'status'\n)",
   "execution_count": 19,
   "outputs": [
    {
     "name": "stdout",
     "output_type": "stream",
     "text": "The folder already exists\n"
    }
   ]
  },
  {
   "cell_type": "code",
   "metadata": {
    "cell_id": "00030-d45a59a4-2fb4-4854-a782-7e245c7726a0",
    "deepnote_cell_type": "code",
    "deepnote_cell_height": 61
   },
   "source": "",
   "execution_count": null,
   "outputs": []
  },
  {
   "cell_type": "markdown",
   "source": "<a style='text-decoration:none;line-height:16px;display:flex;color:#5B5B62;padding:10px;justify-content:end;' href='https://deepnote.com?utm_source=created-in-deepnote-cell&projectId=638a36e2-efff-486f-858d-cbca546da2c6' target=\"_blank\">\n<img alt='Created in deepnote.com' style='display:inline;max-height:16px;margin:0px;margin-right:7.5px;' src='data:image/svg+xml;base64,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' > </img>\nCreated in <span style='font-weight:600;margin-left:4px;'>Deepnote</span></a>",
   "metadata": {
    "tags": [],
    "created_in_deepnote_cell": true,
    "deepnote_cell_type": "markdown"
   }
  }
 ],
 "nbformat": 4,
 "nbformat_minor": 5,
 "metadata": {
  "kernelspec": {
   "display_name": "Python 3",
   "language": "python",
   "name": "python3"
  },
  "language_info": {
   "codemirror_mode": {
    "name": "ipython",
    "version": 3
   },
   "file_extension": ".py",
   "mimetype": "text/x-python",
   "name": "python",
   "nbconvert_exporter": "python",
   "pygments_lexer": "ipython3",
   "version": "3.8.13"
  },
  "deepnote_notebook_id": "c274d731-f785-4fa4-b35c-4a73910fb4db",
  "deepnote": {},
  "deepnote_execution_queue": []
 }
}