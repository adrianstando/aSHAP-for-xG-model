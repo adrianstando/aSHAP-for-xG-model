{
 "cells": [
  {
   "cell_type": "markdown",
   "id": "0180607d-392e-4549-b16f-0c6d9db7524f",
   "metadata": {},
   "source": [
    "# Calculating SHAP values"
   ]
  },
  {
   "cell_type": "markdown",
   "id": "088f604d-21a7-4e5e-871a-19cbdcdc6055",
   "metadata": {},
   "source": [
    "**ATTENTION:**\n",
    "\n",
    "Notebook language: **Python**"
   ]
  },
  {
   "cell_type": "markdown",
   "id": "4afe87de-1dd9-41f5-bedb-05374005e230",
   "metadata": {},
   "source": [
    "## Loading model and data"
   ]
  },
  {
   "cell_type": "code",
   "execution_count": 1,
   "id": "39206c8f-bb9e-4af0-ad34-974b756724c4",
   "metadata": {},
   "outputs": [],
   "source": [
    "import pickle5 as pickle"
   ]
  },
  {
   "cell_type": "code",
   "execution_count": 2,
   "id": "584ad626-dbb7-444f-92ff-401f2826243c",
   "metadata": {},
   "outputs": [],
   "source": [
    "with open('./model/model.pickle', 'rb') as fp:\n",
    "    model = pickle.load(fp) "
   ]
  },
  {
   "cell_type": "code",
   "execution_count": 3,
   "id": "9ed08451-897e-4f85-8a4a-8fdac62fda22",
   "metadata": {},
   "outputs": [],
   "source": [
    "import pandas as pd\n",
    "import numpy as np"
   ]
  },
  {
   "cell_type": "code",
   "execution_count": 4,
   "id": "f461a6ed-428f-4f16-a880-e3578ae08bf8",
   "metadata": {},
   "outputs": [],
   "source": [
    "df_preprocessed = pd.read_csv('./data/data_preprocessed.csv', index_col=0)\n",
    "df_raw = pd.read_csv('./data/raw_data.csv', index_col=0)"
   ]
  },
  {
   "cell_type": "code",
   "execution_count": 5,
   "id": "c65c7028-d725-4e78-a3bd-022f5816b72b",
   "metadata": {},
   "outputs": [],
   "source": [
    "X_preprocessed = df_preprocessed.drop('status', axis=1)"
   ]
  },
  {
   "cell_type": "markdown",
   "id": "fcb492b6-ab95-4c33-bef4-0e231b562146",
   "metadata": {},
   "source": [
    "## Calculating predictions (background prediction)"
   ]
  },
  {
   "cell_type": "code",
   "execution_count": 6,
   "id": "1a45ca62-a7a5-4289-b0fb-f278531af54c",
   "metadata": {},
   "outputs": [],
   "source": [
    "y_hat = pd.DataFrame(model.predict_proba(X_preprocessed)[:, 1])\n",
    "y_hat.to_csv('./data/y_hat.csv')"
   ]
  },
  {
   "cell_type": "markdown",
   "id": "2b01e0db-c575-4b2a-8d98-3e5897c0b1a4",
   "metadata": {},
   "source": [
    "## Creating explainer"
   ]
  },
  {
   "cell_type": "code",
   "execution_count": 11,
   "id": "8ffddfdb-3c35-4fc9-a880-7259b3963bef",
   "metadata": {},
   "outputs": [],
   "source": [
    "import shap\n",
    "from skranger.utils.shap import shap_patch"
   ]
  },
  {
   "cell_type": "code",
   "execution_count": 8,
   "id": "f73b0e6d-398c-462a-b9ba-f12b90b00007",
   "metadata": {},
   "outputs": [],
   "source": [
    "with shap_patch():\n",
    "    explainer = shap.TreeExplainer(model)"
   ]
  },
  {
   "cell_type": "markdown",
   "id": "8471ff12-8b07-410f-8444-a8a4e41f0838",
   "metadata": {},
   "source": [
    "## Functions to calculate explanations"
   ]
  },
  {
   "cell_type": "code",
   "execution_count": 12,
   "id": "4a237026-5029-482f-85b9-7078b34cbe18",
   "metadata": {},
   "outputs": [],
   "source": [
    "import os\n",
    "\n",
    "path = './results'\n",
    "\n",
    "if not os.path.exists(path):\n",
    "    os.makedirs(path)\n",
    "else:\n",
    "    print(\"The folder already exists\")"
   ]
  },
  {
   "cell_type": "code",
   "execution_count": 13,
   "id": "88d513a5-24ba-4174-8674-1b25ab7c5523",
   "metadata": {},
   "outputs": [],
   "source": [
    "from scripts.calculate_SHAP import extract_preprocessed__calculate__save"
   ]
  },
  {
   "cell_type": "code",
   "execution_count": null,
   "id": "856e47a6-116f-4b46-973b-97eab33f0714",
   "metadata": {},
   "outputs": [],
   "source": []
  },
  {
   "cell_type": "markdown",
   "id": "8bda2e33-d4d6-480b-b16e-f04206310fd1",
   "metadata": {},
   "source": [
    "## Calculations"
   ]
  },
  {
   "cell_type": "markdown",
   "id": "ec89d368-cae4-46a9-a29b-e06fce8147fa",
   "metadata": {},
   "source": [
    "### Robert Lewandowski"
   ]
  },
  {
   "cell_type": "markdown",
   "id": "77b80281-95ec-4006-9366-5908b2a7a034",
   "metadata": {},
   "source": [
    "#### Season 2021"
   ]
  },
  {
   "cell_type": "code",
   "execution_count": 14,
   "id": "6702e7e5-d2c3-4edc-a3cb-3f4baddf553b",
   "metadata": {},
   "outputs": [],
   "source": [
    "subset = df_raw[np.logical_and(df_raw['player'] == 'Robert Lewandowski', df_raw['season'] == 2021)]"
   ]
  },
  {
   "cell_type": "code",
   "execution_count": 15,
   "id": "7f52aa22-78ed-46b3-965b-c28bade20b7e",
   "metadata": {},
   "outputs": [
    {
     "name": "stdout",
     "output_type": "stream",
     "text": [
      "The folder already exists\n"
     ]
    }
   ],
   "source": [
    "extract_preprocessed__calculate__save(\n",
    "    main_dir = './results', \n",
    "    task_hierarchy = ['lewandowski', 'season2021'],\n",
    "    explainer = explainer, \n",
    "    subset = subset, \n",
    "    df_preprocessed = df_preprocessed,\n",
    "    target = 'status'\n",
    ")"
   ]
  },
  {
   "cell_type": "markdown",
   "id": "4c714823-22b2-48ed-9c83-aaf7f7a05191",
   "metadata": {},
   "source": [
    "#### Season 2020"
   ]
  },
  {
   "cell_type": "code",
   "execution_count": 16,
   "id": "0c240e62-bca0-45e7-9bdb-455c1c485c05",
   "metadata": {},
   "outputs": [],
   "source": [
    "subset = df_raw[np.logical_and(df_raw['player'] == 'Robert Lewandowski', df_raw['season'] == 2020)]"
   ]
  },
  {
   "cell_type": "code",
   "execution_count": 17,
   "id": "940b8824-e628-478c-8aa2-6f4d3aa210da",
   "metadata": {},
   "outputs": [
    {
     "name": "stdout",
     "output_type": "stream",
     "text": [
      "The folder already exists\n"
     ]
    }
   ],
   "source": [
    "extract_preprocessed__calculate__save(\n",
    "    main_dir = './results', \n",
    "    task_hierarchy = ['lewandowski', 'season2020'],\n",
    "    explainer = explainer, \n",
    "    subset = subset, \n",
    "    df_preprocessed = df_preprocessed,\n",
    "    target = 'status'\n",
    ")"
   ]
  },
  {
   "cell_type": "markdown",
   "id": "3446f610-7114-48de-9cf9-232226b64663",
   "metadata": {},
   "source": [
    "#### Season 2019"
   ]
  },
  {
   "cell_type": "code",
   "execution_count": 18,
   "id": "db0a845e-cfcb-4f0e-aa9e-ae80928abae1",
   "metadata": {},
   "outputs": [],
   "source": [
    "subset = df_raw[np.logical_and(df_raw['player'] == 'Robert Lewandowski', df_raw['season'] == 2019)]"
   ]
  },
  {
   "cell_type": "code",
   "execution_count": 19,
   "id": "abaab1e4-42a5-4ace-8bcf-a6a24053f208",
   "metadata": {},
   "outputs": [
    {
     "name": "stdout",
     "output_type": "stream",
     "text": [
      "The folder already exists\n"
     ]
    }
   ],
   "source": [
    "extract_preprocessed__calculate__save(\n",
    "    main_dir = './results', \n",
    "    task_hierarchy = ['lewandowski', 'season2019'],\n",
    "    explainer = explainer, \n",
    "    subset = subset, \n",
    "    df_preprocessed = df_preprocessed,\n",
    "    target = 'status'\n",
    ")"
   ]
  },
  {
   "cell_type": "code",
   "execution_count": null,
   "id": "a90b844c-496a-4f64-bf95-7116c6db583f",
   "metadata": {},
   "outputs": [],
   "source": []
  },
  {
   "cell_type": "markdown",
   "id": "ffa09bb9-5724-49da-a110-590ea379018e",
   "metadata": {},
   "source": [
    "### EPL 2021"
   ]
  },
  {
   "cell_type": "markdown",
   "id": "e1c5e728-e8ec-4b3c-9acc-ed1aaa1468a7",
   "metadata": {},
   "source": [
    "#### All teams"
   ]
  },
  {
   "cell_type": "code",
   "execution_count": 20,
   "id": "7cf0b52a-5b47-4a1e-873a-5853d818e871",
   "metadata": {},
   "outputs": [],
   "source": [
    "subset = df_raw[np.logical_and(df_raw.league == 'EPL', df_raw.season == 2021)]"
   ]
  },
  {
   "cell_type": "code",
   "execution_count": null,
   "id": "b3cdfbd9-94e8-49e5-b22d-48ba1a0d56aa",
   "metadata": {},
   "outputs": [],
   "source": [
    "extract_preprocessed__calculate__save(\n",
    "    main_dir = './results', \n",
    "    task_hierarchy = ['epl', 'season2021', 'all_teams'],\n",
    "    explainer = explainer, \n",
    "    subset = subset, \n",
    "    df_preprocessed = df_preprocessed,\n",
    "    target = 'status'\n",
    ")"
   ]
  },
  {
   "cell_type": "markdown",
   "id": "36a9f6ec-cde6-42d0-aa6e-84f5a11a77f4",
   "metadata": {},
   "source": [
    "#### Manchaster United"
   ]
  },
  {
   "cell_type": "markdown",
   "id": "74356151-1630-4487-8c31-5321cd02babb",
   "metadata": {},
   "source": [
    "I'll extract values for chosen teams from calculations above since SHAP values are calculated for all teams from EPL there."
   ]
  },
  {
   "cell_type": "code",
   "execution_count": null,
   "id": "9988f61a-f722-4c65-84a9-eefadc53eb75",
   "metadata": {},
   "outputs": [],
   "source": [
    "import os"
   ]
  },
  {
   "cell_type": "code",
   "execution_count": null,
   "id": "b27832f0-ca07-41b2-8a64-65cee347bdd0",
   "metadata": {},
   "outputs": [],
   "source": [
    "main_dir = './results'\n",
    "task_hierarchy = ['epl', 'season2021', 'Manchester_United']\n",
    "\n",
    "path = os.path.join(main_dir, os.path.join(*task_hierarchy))\n",
    "\n",
    "if not os.path.exists(path):\n",
    "        os.makedirs(path)\n",
    "    else:\n",
    "        print(\"The folder already exists\")"
   ]
  },
  {
   "cell_type": "code",
   "execution_count": null,
   "id": "3b443f6f-e01e-4716-9dc6-b89c67afe755",
   "metadata": {},
   "outputs": [],
   "source": [
    "subset_mu = subset[(subset.home_team == 'Manchester United' & subset.h_a == 'h') |\n",
    "                    (subset.away_team == 'Manchester United' & subset.h_a == 'a')]"
   ]
  },
  {
   "cell_type": "code",
   "execution_count": null,
   "id": "69aa9345-38fb-49e2-b586-5a475344f25d",
   "metadata": {},
   "outputs": [],
   "source": [
    "indexes = subset_mu.index\n",
    "X = df_preprocessed.loc[list(indexes)]"
   ]
  },
  {
   "cell_type": "code",
   "execution_count": null,
   "id": "701b34ad-d14e-4a6f-9aec-adf994713eb3",
   "metadata": {},
   "outputs": [],
   "source": [
    "X.to_csv(os.path.join(path, 'X_subset_preprocessed.csv'))\n",
    "subset_mu.to_csv(os.path.join(path, 'X_subset_original.csv'))"
   ]
  },
  {
   "cell_type": "code",
   "execution_count": null,
   "id": "c5ab995c-eed5-4b23-93db-ba0f6cc2afd0",
   "metadata": {},
   "outputs": [],
   "source": [
    "indexes_resetted = subset.reset_index(drop=True)\\\n",
    "                   [(subset.home_team == 'Manchester United' & subset.h_a == 'h') |\n",
    "                    (subset.away_team == 'Manchester United' & subset.h_a == 'a')]\\\n",
    "                   .index"
   ]
  },
  {
   "cell_type": "code",
   "execution_count": null,
   "id": "c419f3e2-3044-410f-a282-39b783313b08",
   "metadata": {},
   "outputs": [],
   "source": [
    "shaps = pd.read_csv(os.path.join(*[main_dir, \n",
    "                                   os.path.join(*['epl', 'season2021', 'all_teams']), \n",
    "                                   'shaps.csv']\n",
    "                                ), index_col=0)\n",
    "shaps = shaps[list(indexes_resetted)]\n",
    "shaps.to_csv(os.path.join(path, 'shaps.csv'))"
   ]
  },
  {
   "cell_type": "code",
   "execution_count": null,
   "id": "6808399f-63c8-49b3-8ca2-af37bf5469f5",
   "metadata": {},
   "outputs": [],
   "source": [
    "y_hat = pd.read_csv(os.path.join(*[main_dir, \n",
    "                                   os.path.join(*['epl', 'season2021', 'all_teams']), \n",
    "                                   'y_hat.csv']\n",
    "                                ), index_col=0)\n",
    "y_hat = y_hat[list(indexes_resetted)]\n",
    "y_hat.to_csv(os.path.join(path, 'y_hat.csv'))"
   ]
  },
  {
   "cell_type": "markdown",
   "id": "db32528e-1e0c-434d-8a6f-54aadab59d7f",
   "metadata": {},
   "source": [
    "#### Manchester City - champion"
   ]
  },
  {
   "cell_type": "code",
   "execution_count": null,
   "id": "0ac37aa3-dfb5-4dd2-9a4a-288741d8ce98",
   "metadata": {},
   "outputs": [],
   "source": [
    "main_dir = './results'\n",
    "task_hierarchy = ['epl', 'season2021', 'Manchester_City']\n",
    "\n",
    "path = os.path.join(main_dir, os.path.join(*task_hierarchy))\n",
    "\n",
    "if not os.path.exists(path):\n",
    "        os.makedirs(path)\n",
    "    else:\n",
    "        print(\"The folder already exists\")"
   ]
  },
  {
   "cell_type": "code",
   "execution_count": null,
   "id": "170b870b-e174-4646-8bf0-b38d355787a3",
   "metadata": {},
   "outputs": [],
   "source": [
    "subset_mu = subset[(subset.home_team == 'Manchester City' & subset.h_a == 'h') |\n",
    "                    (subset.away_team == 'Manchester City' & subset.h_a == 'a')]"
   ]
  },
  {
   "cell_type": "code",
   "execution_count": null,
   "id": "06a21bef-8780-4d68-b391-26f3f4c7def6",
   "metadata": {},
   "outputs": [],
   "source": [
    "indexes = subset_mu.index\n",
    "X = df_preprocessed.loc[list(indexes)]"
   ]
  },
  {
   "cell_type": "code",
   "execution_count": null,
   "id": "e56672fe-a3be-4c99-881e-63a771b935d4",
   "metadata": {},
   "outputs": [],
   "source": [
    "X.to_csv(os.path.join(path, 'X_subset_preprocessed.csv'))\n",
    "subset_mu.to_csv(os.path.join(path, 'X_subset_original.csv'))"
   ]
  },
  {
   "cell_type": "code",
   "execution_count": null,
   "id": "0195ef6d-ff0c-4016-a040-306bce74b616",
   "metadata": {},
   "outputs": [],
   "source": [
    "indexes_resetted = subset.reset_index(drop=True)\\\n",
    "                   [(subset.home_team == 'Manchester City' & subset.h_a == 'h') |\n",
    "                    (subset.away_team == 'Manchester City' & subset.h_a == 'a')]\\\n",
    "                   .index"
   ]
  },
  {
   "cell_type": "code",
   "execution_count": null,
   "id": "3e2b123d-d926-41d7-b7b1-fa651db04bbf",
   "metadata": {},
   "outputs": [],
   "source": [
    "shaps = pd.read_csv(os.path.join(*[main_dir, \n",
    "                                   os.path.join(*['epl', 'season2021', 'all_teams']), \n",
    "                                   'shaps.csv']\n",
    "                                ), index_col=0)\n",
    "shaps = shaps[list(indexes_resetted)]\n",
    "shaps.to_csv(os.path.join(path, 'shaps.csv'))"
   ]
  },
  {
   "cell_type": "code",
   "execution_count": null,
   "id": "82476e0d-a0be-49b3-b6ec-a803c6df4a7c",
   "metadata": {},
   "outputs": [],
   "source": [
    "y_hat = pd.read_csv(os.path.join(*[main_dir, \n",
    "                                   os.path.join(*['epl', 'season2021', 'all_teams']), \n",
    "                                   'y_hat.csv']\n",
    "                                ), index_col=0)\n",
    "y_hat = y_hat[list(indexes_resetted)]\n",
    "y_hat.to_csv(os.path.join(path, 'y_hat.csv'))"
   ]
  },
  {
   "cell_type": "code",
   "execution_count": null,
   "id": "8c7f1ba6-396d-4e8c-bddd-033a5e3ffe86",
   "metadata": {},
   "outputs": [],
   "source": []
  }
 ],
 "metadata": {
  "kernelspec": {
   "display_name": "Python 3",
   "language": "python",
   "name": "python3"
  },
  "language_info": {
   "codemirror_mode": {
    "name": "ipython",
    "version": 3
   },
   "file_extension": ".py",
   "mimetype": "text/x-python",
   "name": "python",
   "nbconvert_exporter": "python",
   "pygments_lexer": "ipython3",
   "version": "3.8.13"
  }
 },
 "nbformat": 4,
 "nbformat_minor": 5
}
