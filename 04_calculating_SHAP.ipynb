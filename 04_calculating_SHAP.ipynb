{
 "cells": [
  {
   "cell_type": "markdown",
   "id": "0180607d-392e-4549-b16f-0c6d9db7524f",
   "metadata": {},
   "source": [
    "# Calculating SHAP values"
   ]
  },
  {
   "cell_type": "markdown",
   "id": "088f604d-21a7-4e5e-871a-19cbdcdc6055",
   "metadata": {},
   "source": [
    "**ATTENTION:**\n",
    "\n",
    "Notebook language: **Python**"
   ]
  },
  {
   "cell_type": "code",
   "execution_count": null,
   "id": "b5b9394b-30a5-4c89-b216-f71a3b1d4ce1",
   "metadata": {},
   "outputs": [],
   "source": [
    "#!pip install numba --upgrade\n",
    "#!pip install shap"
   ]
  },
  {
   "cell_type": "markdown",
   "id": "4afe87de-1dd9-41f5-bedb-05374005e230",
   "metadata": {},
   "source": [
    "## Loading model and data"
   ]
  },
  {
   "cell_type": "code",
   "execution_count": null,
   "id": "39206c8f-bb9e-4af0-ad34-974b756724c4",
   "metadata": {},
   "outputs": [],
   "source": [
    "import pickle5 as pickle"
   ]
  },
  {
   "cell_type": "code",
   "execution_count": null,
   "id": "584ad626-dbb7-444f-92ff-401f2826243c",
   "metadata": {},
   "outputs": [],
   "source": [
    "with open('./model/model.pickle', 'rb') as fp:\n",
    "    model = pickle.load(fp) "
   ]
  },
  {
   "cell_type": "code",
   "execution_count": null,
   "id": "9ed08451-897e-4f85-8a4a-8fdac62fda22",
   "metadata": {},
   "outputs": [],
   "source": [
    "import pandas as pd\n",
    "import numpy as np"
   ]
  },
  {
   "cell_type": "code",
   "execution_count": null,
   "id": "f461a6ed-428f-4f16-a880-e3578ae08bf8",
   "metadata": {},
   "outputs": [],
   "source": [
    "df_preprocessed = pd.read_csv('./data/data_preprocessed.csv', index_col=0)\n",
    "df_raw = pd.read_csv('./data/raw_data.csv', index_col=0)"
   ]
  },
  {
   "cell_type": "code",
   "execution_count": null,
   "id": "c65c7028-d725-4e78-a3bd-022f5816b72b",
   "metadata": {},
   "outputs": [],
   "source": [
    "X_preprocessed = df_preprocessed.drop('status', axis=1)\n",
    "X_raw = df_raw.drop('status', axis=1)"
   ]
  },
  {
   "cell_type": "markdown",
   "id": "fcb492b6-ab95-4c33-bef4-0e231b562146",
   "metadata": {},
   "source": [
    "## Calculating predictions (background prediction)"
   ]
  },
  {
   "cell_type": "code",
   "execution_count": null,
   "id": "1a45ca62-a7a5-4289-b0fb-f278531af54c",
   "metadata": {},
   "outputs": [],
   "source": [
    "y_hat = pd.DataFrame(model.predict_proba(X_preprocessed)[:, 1])\n",
    "y_hat.to_csv('./data/y_hat_full.csv')"
   ]
  },
  {
   "cell_type": "markdown",
   "id": "2b01e0db-c575-4b2a-8d98-3e5897c0b1a4",
   "metadata": {},
   "source": [
    "## Creating explainer"
   ]
  },
  {
   "cell_type": "code",
   "execution_count": null,
   "id": "8ffddfdb-3c35-4fc9-a880-7259b3963bef",
   "metadata": {},
   "outputs": [],
   "source": [
    "import shap\n",
    "from skranger.utils.shap import shap_patch"
   ]
  },
  {
   "cell_type": "code",
   "execution_count": null,
   "id": "f73b0e6d-398c-462a-b9ba-f12b90b00007",
   "metadata": {},
   "outputs": [],
   "source": [
    "with shap_patch():\n",
    "    explainer = shap.TreeExplainer(model)"
   ]
  },
  {
   "cell_type": "markdown",
   "id": "8471ff12-8b07-410f-8444-a8a4e41f0838",
   "metadata": {},
   "source": [
    "## Functions to calculate explanations"
   ]
  },
  {
   "cell_type": "code",
   "execution_count": null,
   "id": "4a237026-5029-482f-85b9-7078b34cbe18",
   "metadata": {},
   "outputs": [],
   "source": [
    "import os\n",
    "\n",
    "path = './results'\n",
    "\n",
    "if not os.path.exists(path):\n",
    "    os.makedirs(path)\n",
    "else:\n",
    "    print(\"The folder already exists\")"
   ]
  },
  {
   "cell_type": "code",
   "execution_count": null,
   "id": "88d513a5-24ba-4174-8674-1b25ab7c5523",
   "metadata": {},
   "outputs": [],
   "source": [
    "from scripts.calculate_SHAP import extract_preprocessed__calculate__save"
   ]
  },
  {
   "cell_type": "code",
   "execution_count": null,
   "id": "e7767858-9d0b-4b79-995d-c264a314a484",
   "metadata": {},
   "outputs": [],
   "source": []
  },
  {
   "cell_type": "markdown",
   "id": "8bda2e33-d4d6-480b-b16e-f04206310fd1",
   "metadata": {},
   "source": [
    "## Calculations"
   ]
  },
  {
   "cell_type": "markdown",
   "id": "ec89d368-cae4-46a9-a29b-e06fce8147fa",
   "metadata": {},
   "source": [
    "### Robert Lewandowski"
   ]
  },
  {
   "cell_type": "markdown",
   "id": "77b80281-95ec-4006-9366-5908b2a7a034",
   "metadata": {},
   "source": [
    "#### Season 2021"
   ]
  },
  {
   "cell_type": "code",
   "execution_count": null,
   "id": "6702e7e5-d2c3-4edc-a3cb-3f4baddf553b",
   "metadata": {},
   "outputs": [],
   "source": [
    "subset = X_raw[X_raw['player'] == 'Robert Lewandowski' & X_raw['season'] == 2021]"
   ]
  },
  {
   "cell_type": "code",
   "execution_count": null,
   "id": "7f52aa22-78ed-46b3-965b-c28bade20b7e",
   "metadata": {},
   "outputs": [],
   "source": [
    "extract_preprocessed__calculate__save(\n",
    "    main_dir = './results', \n",
    "    task_hierarchy = ['lewandowski', 'season2021'],\n",
    "    explainer = explainer, \n",
    "    subset = subset, \n",
    "    df_preprocessed = X_preprocessed\n",
    ")"
   ]
  },
  {
   "cell_type": "code",
   "execution_count": null,
   "id": "45304ded-69d1-4489-a808-d8a6955a9e3c",
   "metadata": {},
   "outputs": [],
   "source": []
  }
 ],
 "metadata": {
  "kernelspec": {
   "display_name": "Python 3 (ipykernel)",
   "language": "python",
   "name": "python3"
  },
  "language_info": {
   "codemirror_mode": {
    "name": "ipython",
    "version": 3
   },
   "file_extension": ".py",
   "mimetype": "text/x-python",
   "name": "python",
   "nbconvert_exporter": "python",
   "pygments_lexer": "ipython3",
   "version": "3.7.11"
  }
 },
 "nbformat": 4,
 "nbformat_minor": 5
}
