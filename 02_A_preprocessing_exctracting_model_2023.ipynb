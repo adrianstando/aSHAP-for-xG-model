{
 "cells": [
  {
   "cell_type": "markdown",
   "metadata": {
    "cell_id": "eb63ff91747848b9a4c1057c76f1cf5e",
    "deepnote_cell_height": 134,
    "deepnote_cell_type": "markdown",
    "tags": []
   },
   "source": [
    "# Exctracting model and dataset preprocessing"
   ]
  },
  {
   "cell_type": "markdown",
   "metadata": {
    "cell_id": "89de4e0a01104c47944aaf08fb04a82e",
    "deepnote_cell_height": 88.80000305175781,
    "deepnote_cell_type": "markdown",
    "tags": []
   },
   "source": [
    "**ATTENTION:**\n",
    "\n",
    "Notebook language: **R**"
   ]
  },
  {
   "cell_type": "markdown",
   "metadata": {
    "cell_id": "181cb9b2720447f19f0adada93f36064",
    "deepnote_cell_height": 74.80000305175781,
    "deepnote_cell_type": "markdown",
    "tags": []
   },
   "source": [
    "A model from a paper [EXPLAINABLE EXPECTED GOAL MODELS FOR PERFORMANCE\n",
    "ANALYSIS IN FOOTBALL ANALYTICS](https://arxiv.org/pdf/2206.07212.pdf) will be used for further research. It is a `ranger` model trained on oversampled dataset."
   ]
  },
  {
   "cell_type": "markdown",
   "metadata": {
    "cell_id": "c9bdc8fed0f746c6a290f23526e26e13",
    "deepnote_cell_height": 70,
    "deepnote_cell_type": "markdown",
    "tags": []
   },
   "source": [
    "## Preparing preprocessed dataset"
   ]
  },
  {
   "cell_type": "code",
   "execution_count": 1,
   "metadata": {
    "cell_id": "59d5fdc9-7c64-4e09-b149-d772164fdf66",
    "deepnote_cell_height": 405,
    "deepnote_cell_type": "code",
    "deepnote_output_heights": [
     277
    ],
    "deepnote_to_be_reexecuted": false,
    "execution_millis": 4153,
    "execution_start": 1660055278052,
    "source_hash": "b51a43f9",
    "tags": []
   },
   "outputs": [
    {
     "data": {
      "text/html": [
       "<table class=\"dataframe\">\n",
       "<caption>A data.frame: 6 × 21</caption>\n",
       "<thead>\n",
       "\t<tr><th></th><th scope=col>league</th><th scope=col>id</th><th scope=col>minute</th><th scope=col>result</th><th scope=col>X</th><th scope=col>Y</th><th scope=col>xG</th><th scope=col>player</th><th scope=col>h_a</th><th scope=col>player_id</th><th scope=col>⋯</th><th scope=col>season</th><th scope=col>shotType</th><th scope=col>match_id</th><th scope=col>home_team</th><th scope=col>away_team</th><th scope=col>home_goals</th><th scope=col>away_goals</th><th scope=col>date</th><th scope=col>player_assisted</th><th scope=col>lastAction</th></tr>\n",
       "\t<tr><th></th><th scope=col>&lt;chr&gt;</th><th scope=col>&lt;int&gt;</th><th scope=col>&lt;int&gt;</th><th scope=col>&lt;chr&gt;</th><th scope=col>&lt;dbl&gt;</th><th scope=col>&lt;dbl&gt;</th><th scope=col>&lt;dbl&gt;</th><th scope=col>&lt;chr&gt;</th><th scope=col>&lt;chr&gt;</th><th scope=col>&lt;int&gt;</th><th scope=col>⋯</th><th scope=col>&lt;int&gt;</th><th scope=col>&lt;chr&gt;</th><th scope=col>&lt;int&gt;</th><th scope=col>&lt;chr&gt;</th><th scope=col>&lt;chr&gt;</th><th scope=col>&lt;int&gt;</th><th scope=col>&lt;int&gt;</th><th scope=col>&lt;chr&gt;</th><th scope=col>&lt;chr&gt;</th><th scope=col>&lt;chr&gt;</th></tr>\n",
       "</thead>\n",
       "<tbody>\n",
       "\t<tr><th scope=row>1</th><td>La_liga</td><td>480067</td><td> 0</td><td>BlockedShot</td><td>0.878</td><td>0.415</td><td>0.0914239</td><td>Ezequiel Ávila</td><td>h</td><td>6955</td><td>⋯</td><td>2022</td><td>RightFoot</td><td>18962</td><td>Osasuna</td><td>Sevilla</td><td>2</td><td>1</td><td>2022-08-12 19:00:00</td><td>Kike Barja</td><td>Pass </td></tr>\n",
       "\t<tr><th scope=row>2</th><td>La_liga</td><td>480068</td><td> 8</td><td>Goal       </td><td>0.958</td><td>0.583</td><td>0.2987810</td><td>Ezequiel Ávila</td><td>h</td><td>6955</td><td>⋯</td><td>2022</td><td>Head     </td><td>18962</td><td>Osasuna</td><td>Sevilla</td><td>2</td><td>1</td><td>2022-08-12 19:00:00</td><td>Rubén Peña</td><td>Cross</td></tr>\n",
       "\t<tr><th scope=row>3</th><td>La_liga</td><td>480070</td><td>20</td><td>SavedShot  </td><td>0.747</td><td>0.445</td><td>0.0173666</td><td>Lucas Torró   </td><td>h</td><td>7050</td><td>⋯</td><td>2022</td><td>RightFoot</td><td>18962</td><td>Osasuna</td><td>Sevilla</td><td>2</td><td>1</td><td>2022-08-12 19:00:00</td><td>NA        </td><td>None </td></tr>\n",
       "\t<tr><th scope=row>4</th><td>La_liga</td><td>480071</td><td>21</td><td>BlockedShot</td><td>0.790</td><td>0.599</td><td>0.0338025</td><td>Jon Moncayola </td><td>h</td><td>7857</td><td>⋯</td><td>2022</td><td>RightFoot</td><td>18962</td><td>Osasuna</td><td>Sevilla</td><td>2</td><td>1</td><td>2022-08-12 19:00:00</td><td>Moi Gómez </td><td>Pass </td></tr>\n",
       "\t<tr><th scope=row>5</th><td>La_liga</td><td>480073</td><td>26</td><td>ShotOnPost </td><td>0.757</td><td>0.594</td><td>0.0232618</td><td>Moi Gómez     </td><td>h</td><td>2198</td><td>⋯</td><td>2022</td><td>LeftFoot </td><td>18962</td><td>Osasuna</td><td>Sevilla</td><td>2</td><td>1</td><td>2022-08-12 19:00:00</td><td>Aimar Oroz</td><td>Pass </td></tr>\n",
       "\t<tr><th scope=row>6</th><td>La_liga</td><td>480077</td><td>45</td><td>BlockedShot</td><td>0.709</td><td>0.479</td><td>0.0175576</td><td>Ezequiel Ávila</td><td>h</td><td>6955</td><td>⋯</td><td>2022</td><td>RightFoot</td><td>18962</td><td>Osasuna</td><td>Sevilla</td><td>2</td><td>1</td><td>2022-08-12 19:00:00</td><td>Moi Gómez </td><td>Pass </td></tr>\n",
       "</tbody>\n",
       "</table>\n"
      ],
      "text/latex": [
       "A data.frame: 6 × 21\n",
       "\\begin{tabular}{r|lllllllllllllllllllll}\n",
       "  & league & id & minute & result & X & Y & xG & player & h\\_a & player\\_id & ⋯ & season & shotType & match\\_id & home\\_team & away\\_team & home\\_goals & away\\_goals & date & player\\_assisted & lastAction\\\\\n",
       "  & <chr> & <int> & <int> & <chr> & <dbl> & <dbl> & <dbl> & <chr> & <chr> & <int> & ⋯ & <int> & <chr> & <int> & <chr> & <chr> & <int> & <int> & <chr> & <chr> & <chr>\\\\\n",
       "\\hline\n",
       "\t1 & La\\_liga & 480067 &  0 & BlockedShot & 0.878 & 0.415 & 0.0914239 & Ezequiel Ávila & h & 6955 & ⋯ & 2022 & RightFoot & 18962 & Osasuna & Sevilla & 2 & 1 & 2022-08-12 19:00:00 & Kike Barja & Pass \\\\\n",
       "\t2 & La\\_liga & 480068 &  8 & Goal        & 0.958 & 0.583 & 0.2987810 & Ezequiel Ávila & h & 6955 & ⋯ & 2022 & Head      & 18962 & Osasuna & Sevilla & 2 & 1 & 2022-08-12 19:00:00 & Rubén Peña & Cross\\\\\n",
       "\t3 & La\\_liga & 480070 & 20 & SavedShot   & 0.747 & 0.445 & 0.0173666 & Lucas Torró    & h & 7050 & ⋯ & 2022 & RightFoot & 18962 & Osasuna & Sevilla & 2 & 1 & 2022-08-12 19:00:00 & NA         & None \\\\\n",
       "\t4 & La\\_liga & 480071 & 21 & BlockedShot & 0.790 & 0.599 & 0.0338025 & Jon Moncayola  & h & 7857 & ⋯ & 2022 & RightFoot & 18962 & Osasuna & Sevilla & 2 & 1 & 2022-08-12 19:00:00 & Moi Gómez  & Pass \\\\\n",
       "\t5 & La\\_liga & 480073 & 26 & ShotOnPost  & 0.757 & 0.594 & 0.0232618 & Moi Gómez      & h & 2198 & ⋯ & 2022 & LeftFoot  & 18962 & Osasuna & Sevilla & 2 & 1 & 2022-08-12 19:00:00 & Aimar Oroz & Pass \\\\\n",
       "\t6 & La\\_liga & 480077 & 45 & BlockedShot & 0.709 & 0.479 & 0.0175576 & Ezequiel Ávila & h & 6955 & ⋯ & 2022 & RightFoot & 18962 & Osasuna & Sevilla & 2 & 1 & 2022-08-12 19:00:00 & Moi Gómez  & Pass \\\\\n",
       "\\end{tabular}\n"
      ],
      "text/markdown": [
       "\n",
       "A data.frame: 6 × 21\n",
       "\n",
       "| <!--/--> | league &lt;chr&gt; | id &lt;int&gt; | minute &lt;int&gt; | result &lt;chr&gt; | X &lt;dbl&gt; | Y &lt;dbl&gt; | xG &lt;dbl&gt; | player &lt;chr&gt; | h_a &lt;chr&gt; | player_id &lt;int&gt; | ⋯ ⋯ | season &lt;int&gt; | shotType &lt;chr&gt; | match_id &lt;int&gt; | home_team &lt;chr&gt; | away_team &lt;chr&gt; | home_goals &lt;int&gt; | away_goals &lt;int&gt; | date &lt;chr&gt; | player_assisted &lt;chr&gt; | lastAction &lt;chr&gt; |\n",
       "|---|---|---|---|---|---|---|---|---|---|---|---|---|---|---|---|---|---|---|---|---|---|\n",
       "| 1 | La_liga | 480067 |  0 | BlockedShot | 0.878 | 0.415 | 0.0914239 | Ezequiel Ávila | h | 6955 | ⋯ | 2022 | RightFoot | 18962 | Osasuna | Sevilla | 2 | 1 | 2022-08-12 19:00:00 | Kike Barja | Pass  |\n",
       "| 2 | La_liga | 480068 |  8 | Goal        | 0.958 | 0.583 | 0.2987810 | Ezequiel Ávila | h | 6955 | ⋯ | 2022 | Head      | 18962 | Osasuna | Sevilla | 2 | 1 | 2022-08-12 19:00:00 | Rubén Peña | Cross |\n",
       "| 3 | La_liga | 480070 | 20 | SavedShot   | 0.747 | 0.445 | 0.0173666 | Lucas Torró    | h | 7050 | ⋯ | 2022 | RightFoot | 18962 | Osasuna | Sevilla | 2 | 1 | 2022-08-12 19:00:00 | NA         | None  |\n",
       "| 4 | La_liga | 480071 | 21 | BlockedShot | 0.790 | 0.599 | 0.0338025 | Jon Moncayola  | h | 7857 | ⋯ | 2022 | RightFoot | 18962 | Osasuna | Sevilla | 2 | 1 | 2022-08-12 19:00:00 | Moi Gómez  | Pass  |\n",
       "| 5 | La_liga | 480073 | 26 | ShotOnPost  | 0.757 | 0.594 | 0.0232618 | Moi Gómez      | h | 2198 | ⋯ | 2022 | LeftFoot  | 18962 | Osasuna | Sevilla | 2 | 1 | 2022-08-12 19:00:00 | Aimar Oroz | Pass  |\n",
       "| 6 | La_liga | 480077 | 45 | BlockedShot | 0.709 | 0.479 | 0.0175576 | Ezequiel Ávila | h | 6955 | ⋯ | 2022 | RightFoot | 18962 | Osasuna | Sevilla | 2 | 1 | 2022-08-12 19:00:00 | Moi Gómez  | Pass  |\n",
       "\n"
      ],
      "text/plain": [
       "  league  id     minute result      X     Y     xG        player         h_a\n",
       "1 La_liga 480067  0     BlockedShot 0.878 0.415 0.0914239 Ezequiel Ávila h  \n",
       "2 La_liga 480068  8     Goal        0.958 0.583 0.2987810 Ezequiel Ávila h  \n",
       "3 La_liga 480070 20     SavedShot   0.747 0.445 0.0173666 Lucas Torró    h  \n",
       "4 La_liga 480071 21     BlockedShot 0.790 0.599 0.0338025 Jon Moncayola  h  \n",
       "5 La_liga 480073 26     ShotOnPost  0.757 0.594 0.0232618 Moi Gómez      h  \n",
       "6 La_liga 480077 45     BlockedShot 0.709 0.479 0.0175576 Ezequiel Ávila h  \n",
       "  player_id ⋯ season shotType  match_id home_team away_team home_goals\n",
       "1 6955      ⋯ 2022   RightFoot 18962    Osasuna   Sevilla   2         \n",
       "2 6955      ⋯ 2022   Head      18962    Osasuna   Sevilla   2         \n",
       "3 7050      ⋯ 2022   RightFoot 18962    Osasuna   Sevilla   2         \n",
       "4 7857      ⋯ 2022   RightFoot 18962    Osasuna   Sevilla   2         \n",
       "5 2198      ⋯ 2022   LeftFoot  18962    Osasuna   Sevilla   2         \n",
       "6 6955      ⋯ 2022   RightFoot 18962    Osasuna   Sevilla   2         \n",
       "  away_goals date                player_assisted lastAction\n",
       "1 1          2022-08-12 19:00:00 Kike Barja      Pass      \n",
       "2 1          2022-08-12 19:00:00 Rubén Peña      Cross     \n",
       "3 1          2022-08-12 19:00:00 NA              None      \n",
       "4 1          2022-08-12 19:00:00 Moi Gómez       Pass      \n",
       "5 1          2022-08-12 19:00:00 Aimar Oroz      Pass      \n",
       "6 1          2022-08-12 19:00:00 Moi Gómez       Pass      "
      ]
     },
     "metadata": {},
     "output_type": "display_data"
    }
   ],
   "source": [
    "df <- read.csv('./data/shotdata2023.csv')\n",
    "df <- df[,-1]\n",
    "head(df)"
   ]
  },
  {
   "cell_type": "markdown",
   "metadata": {
    "cell_id": "9f98194e6d4b4863a11ea204290fcb0f",
    "deepnote_cell_height": 52.399993896484375,
    "deepnote_cell_type": "markdown",
    "tags": []
   },
   "source": [
    "Remove `OwnGoal` - it is also a first preprocessing step "
   ]
  },
  {
   "cell_type": "code",
   "execution_count": 3,
   "metadata": {
    "cell_id": "d0bdcf03353940dcad91eb98634bfb24",
    "deepnote_cell_height": 61,
    "deepnote_cell_type": "code",
    "tags": []
   },
   "outputs": [],
   "source": [
    "library(dplyr)"
   ]
  },
  {
   "cell_type": "code",
   "execution_count": 4,
   "metadata": {
    "cell_id": "a132eb416edd4481b0e551e83ec7ade2",
    "deepnote_cell_height": 387,
    "deepnote_cell_type": "code",
    "deepnote_output_heights": [
     277
    ],
    "deepnote_to_be_reexecuted": false,
    "execution_millis": 312,
    "execution_start": 1660055489476,
    "source_hash": "7f343480",
    "tags": []
   },
   "outputs": [
    {
     "data": {
      "text/html": [
       "<table class=\"dataframe\">\n",
       "<caption>A data.frame: 6 × 21</caption>\n",
       "<thead>\n",
       "\t<tr><th></th><th scope=col>league</th><th scope=col>id</th><th scope=col>minute</th><th scope=col>result</th><th scope=col>X</th><th scope=col>Y</th><th scope=col>xG</th><th scope=col>player</th><th scope=col>h_a</th><th scope=col>player_id</th><th scope=col>⋯</th><th scope=col>season</th><th scope=col>shotType</th><th scope=col>match_id</th><th scope=col>home_team</th><th scope=col>away_team</th><th scope=col>home_goals</th><th scope=col>away_goals</th><th scope=col>date</th><th scope=col>player_assisted</th><th scope=col>lastAction</th></tr>\n",
       "\t<tr><th></th><th scope=col>&lt;chr&gt;</th><th scope=col>&lt;int&gt;</th><th scope=col>&lt;int&gt;</th><th scope=col>&lt;chr&gt;</th><th scope=col>&lt;dbl&gt;</th><th scope=col>&lt;dbl&gt;</th><th scope=col>&lt;dbl&gt;</th><th scope=col>&lt;chr&gt;</th><th scope=col>&lt;chr&gt;</th><th scope=col>&lt;int&gt;</th><th scope=col>⋯</th><th scope=col>&lt;int&gt;</th><th scope=col>&lt;chr&gt;</th><th scope=col>&lt;int&gt;</th><th scope=col>&lt;chr&gt;</th><th scope=col>&lt;chr&gt;</th><th scope=col>&lt;int&gt;</th><th scope=col>&lt;int&gt;</th><th scope=col>&lt;chr&gt;</th><th scope=col>&lt;chr&gt;</th><th scope=col>&lt;chr&gt;</th></tr>\n",
       "</thead>\n",
       "<tbody>\n",
       "\t<tr><th scope=row>1</th><td>La_liga</td><td>480067</td><td> 0</td><td>BlockedShot</td><td>0.878</td><td>0.415</td><td>0.0914239</td><td>Ezequiel Ávila</td><td>h</td><td>6955</td><td>⋯</td><td>2022</td><td>RightFoot</td><td>18962</td><td>Osasuna</td><td>Sevilla</td><td>2</td><td>1</td><td>2022-08-12 19:00:00</td><td>Kike Barja</td><td>Pass </td></tr>\n",
       "\t<tr><th scope=row>2</th><td>La_liga</td><td>480068</td><td> 8</td><td>Goal       </td><td>0.958</td><td>0.583</td><td>0.2987810</td><td>Ezequiel Ávila</td><td>h</td><td>6955</td><td>⋯</td><td>2022</td><td>Head     </td><td>18962</td><td>Osasuna</td><td>Sevilla</td><td>2</td><td>1</td><td>2022-08-12 19:00:00</td><td>Rubén Peña</td><td>Cross</td></tr>\n",
       "\t<tr><th scope=row>3</th><td>La_liga</td><td>480070</td><td>20</td><td>SavedShot  </td><td>0.747</td><td>0.445</td><td>0.0173666</td><td>Lucas Torró   </td><td>h</td><td>7050</td><td>⋯</td><td>2022</td><td>RightFoot</td><td>18962</td><td>Osasuna</td><td>Sevilla</td><td>2</td><td>1</td><td>2022-08-12 19:00:00</td><td>NA        </td><td>None </td></tr>\n",
       "\t<tr><th scope=row>4</th><td>La_liga</td><td>480071</td><td>21</td><td>BlockedShot</td><td>0.790</td><td>0.599</td><td>0.0338025</td><td>Jon Moncayola </td><td>h</td><td>7857</td><td>⋯</td><td>2022</td><td>RightFoot</td><td>18962</td><td>Osasuna</td><td>Sevilla</td><td>2</td><td>1</td><td>2022-08-12 19:00:00</td><td>Moi Gómez </td><td>Pass </td></tr>\n",
       "\t<tr><th scope=row>5</th><td>La_liga</td><td>480073</td><td>26</td><td>ShotOnPost </td><td>0.757</td><td>0.594</td><td>0.0232618</td><td>Moi Gómez     </td><td>h</td><td>2198</td><td>⋯</td><td>2022</td><td>LeftFoot </td><td>18962</td><td>Osasuna</td><td>Sevilla</td><td>2</td><td>1</td><td>2022-08-12 19:00:00</td><td>Aimar Oroz</td><td>Pass </td></tr>\n",
       "\t<tr><th scope=row>6</th><td>La_liga</td><td>480077</td><td>45</td><td>BlockedShot</td><td>0.709</td><td>0.479</td><td>0.0175576</td><td>Ezequiel Ávila</td><td>h</td><td>6955</td><td>⋯</td><td>2022</td><td>RightFoot</td><td>18962</td><td>Osasuna</td><td>Sevilla</td><td>2</td><td>1</td><td>2022-08-12 19:00:00</td><td>Moi Gómez </td><td>Pass </td></tr>\n",
       "</tbody>\n",
       "</table>\n"
      ],
      "text/latex": [
       "A data.frame: 6 × 21\n",
       "\\begin{tabular}{r|lllllllllllllllllllll}\n",
       "  & league & id & minute & result & X & Y & xG & player & h\\_a & player\\_id & ⋯ & season & shotType & match\\_id & home\\_team & away\\_team & home\\_goals & away\\_goals & date & player\\_assisted & lastAction\\\\\n",
       "  & <chr> & <int> & <int> & <chr> & <dbl> & <dbl> & <dbl> & <chr> & <chr> & <int> & ⋯ & <int> & <chr> & <int> & <chr> & <chr> & <int> & <int> & <chr> & <chr> & <chr>\\\\\n",
       "\\hline\n",
       "\t1 & La\\_liga & 480067 &  0 & BlockedShot & 0.878 & 0.415 & 0.0914239 & Ezequiel Ávila & h & 6955 & ⋯ & 2022 & RightFoot & 18962 & Osasuna & Sevilla & 2 & 1 & 2022-08-12 19:00:00 & Kike Barja & Pass \\\\\n",
       "\t2 & La\\_liga & 480068 &  8 & Goal        & 0.958 & 0.583 & 0.2987810 & Ezequiel Ávila & h & 6955 & ⋯ & 2022 & Head      & 18962 & Osasuna & Sevilla & 2 & 1 & 2022-08-12 19:00:00 & Rubén Peña & Cross\\\\\n",
       "\t3 & La\\_liga & 480070 & 20 & SavedShot   & 0.747 & 0.445 & 0.0173666 & Lucas Torró    & h & 7050 & ⋯ & 2022 & RightFoot & 18962 & Osasuna & Sevilla & 2 & 1 & 2022-08-12 19:00:00 & NA         & None \\\\\n",
       "\t4 & La\\_liga & 480071 & 21 & BlockedShot & 0.790 & 0.599 & 0.0338025 & Jon Moncayola  & h & 7857 & ⋯ & 2022 & RightFoot & 18962 & Osasuna & Sevilla & 2 & 1 & 2022-08-12 19:00:00 & Moi Gómez  & Pass \\\\\n",
       "\t5 & La\\_liga & 480073 & 26 & ShotOnPost  & 0.757 & 0.594 & 0.0232618 & Moi Gómez      & h & 2198 & ⋯ & 2022 & LeftFoot  & 18962 & Osasuna & Sevilla & 2 & 1 & 2022-08-12 19:00:00 & Aimar Oroz & Pass \\\\\n",
       "\t6 & La\\_liga & 480077 & 45 & BlockedShot & 0.709 & 0.479 & 0.0175576 & Ezequiel Ávila & h & 6955 & ⋯ & 2022 & RightFoot & 18962 & Osasuna & Sevilla & 2 & 1 & 2022-08-12 19:00:00 & Moi Gómez  & Pass \\\\\n",
       "\\end{tabular}\n"
      ],
      "text/markdown": [
       "\n",
       "A data.frame: 6 × 21\n",
       "\n",
       "| <!--/--> | league &lt;chr&gt; | id &lt;int&gt; | minute &lt;int&gt; | result &lt;chr&gt; | X &lt;dbl&gt; | Y &lt;dbl&gt; | xG &lt;dbl&gt; | player &lt;chr&gt; | h_a &lt;chr&gt; | player_id &lt;int&gt; | ⋯ ⋯ | season &lt;int&gt; | shotType &lt;chr&gt; | match_id &lt;int&gt; | home_team &lt;chr&gt; | away_team &lt;chr&gt; | home_goals &lt;int&gt; | away_goals &lt;int&gt; | date &lt;chr&gt; | player_assisted &lt;chr&gt; | lastAction &lt;chr&gt; |\n",
       "|---|---|---|---|---|---|---|---|---|---|---|---|---|---|---|---|---|---|---|---|---|---|\n",
       "| 1 | La_liga | 480067 |  0 | BlockedShot | 0.878 | 0.415 | 0.0914239 | Ezequiel Ávila | h | 6955 | ⋯ | 2022 | RightFoot | 18962 | Osasuna | Sevilla | 2 | 1 | 2022-08-12 19:00:00 | Kike Barja | Pass  |\n",
       "| 2 | La_liga | 480068 |  8 | Goal        | 0.958 | 0.583 | 0.2987810 | Ezequiel Ávila | h | 6955 | ⋯ | 2022 | Head      | 18962 | Osasuna | Sevilla | 2 | 1 | 2022-08-12 19:00:00 | Rubén Peña | Cross |\n",
       "| 3 | La_liga | 480070 | 20 | SavedShot   | 0.747 | 0.445 | 0.0173666 | Lucas Torró    | h | 7050 | ⋯ | 2022 | RightFoot | 18962 | Osasuna | Sevilla | 2 | 1 | 2022-08-12 19:00:00 | NA         | None  |\n",
       "| 4 | La_liga | 480071 | 21 | BlockedShot | 0.790 | 0.599 | 0.0338025 | Jon Moncayola  | h | 7857 | ⋯ | 2022 | RightFoot | 18962 | Osasuna | Sevilla | 2 | 1 | 2022-08-12 19:00:00 | Moi Gómez  | Pass  |\n",
       "| 5 | La_liga | 480073 | 26 | ShotOnPost  | 0.757 | 0.594 | 0.0232618 | Moi Gómez      | h | 2198 | ⋯ | 2022 | LeftFoot  | 18962 | Osasuna | Sevilla | 2 | 1 | 2022-08-12 19:00:00 | Aimar Oroz | Pass  |\n",
       "| 6 | La_liga | 480077 | 45 | BlockedShot | 0.709 | 0.479 | 0.0175576 | Ezequiel Ávila | h | 6955 | ⋯ | 2022 | RightFoot | 18962 | Osasuna | Sevilla | 2 | 1 | 2022-08-12 19:00:00 | Moi Gómez  | Pass  |\n",
       "\n"
      ],
      "text/plain": [
       "  league  id     minute result      X     Y     xG        player         h_a\n",
       "1 La_liga 480067  0     BlockedShot 0.878 0.415 0.0914239 Ezequiel Ávila h  \n",
       "2 La_liga 480068  8     Goal        0.958 0.583 0.2987810 Ezequiel Ávila h  \n",
       "3 La_liga 480070 20     SavedShot   0.747 0.445 0.0173666 Lucas Torró    h  \n",
       "4 La_liga 480071 21     BlockedShot 0.790 0.599 0.0338025 Jon Moncayola  h  \n",
       "5 La_liga 480073 26     ShotOnPost  0.757 0.594 0.0232618 Moi Gómez      h  \n",
       "6 La_liga 480077 45     BlockedShot 0.709 0.479 0.0175576 Ezequiel Ávila h  \n",
       "  player_id ⋯ season shotType  match_id home_team away_team home_goals\n",
       "1 6955      ⋯ 2022   RightFoot 18962    Osasuna   Sevilla   2         \n",
       "2 6955      ⋯ 2022   Head      18962    Osasuna   Sevilla   2         \n",
       "3 7050      ⋯ 2022   RightFoot 18962    Osasuna   Sevilla   2         \n",
       "4 7857      ⋯ 2022   RightFoot 18962    Osasuna   Sevilla   2         \n",
       "5 2198      ⋯ 2022   LeftFoot  18962    Osasuna   Sevilla   2         \n",
       "6 6955      ⋯ 2022   RightFoot 18962    Osasuna   Sevilla   2         \n",
       "  away_goals date                player_assisted lastAction\n",
       "1 1          2022-08-12 19:00:00 Kike Barja      Pass      \n",
       "2 1          2022-08-12 19:00:00 Rubén Peña      Cross     \n",
       "3 1          2022-08-12 19:00:00 NA              None      \n",
       "4 1          2022-08-12 19:00:00 Moi Gómez       Pass      \n",
       "5 1          2022-08-12 19:00:00 Aimar Oroz      Pass      \n",
       "6 1          2022-08-12 19:00:00 Moi Gómez       Pass      "
      ]
     },
     "metadata": {},
     "output_type": "display_data"
    }
   ],
   "source": [
    "df <- df %>% filter(result != \"OwnGoal\")\n",
    "head(df)"
   ]
  },
  {
   "cell_type": "markdown",
   "metadata": {
    "cell_id": "32c6771873a245038a912f5749689c70",
    "deepnote_cell_height": 52.399993896484375,
    "deepnote_cell_type": "markdown",
    "tags": []
   },
   "source": [
    "Update `raw_data.csv` to avoid conflicts in future"
   ]
  },
  {
   "cell_type": "code",
   "execution_count": 5,
   "metadata": {
    "cell_id": "2602a42d3d4146fc8c15a12067577b92",
    "deepnote_cell_height": 76,
    "deepnote_cell_type": "code",
    "deepnote_to_be_reexecuted": false,
    "execution_millis": 3757,
    "execution_start": 1660055567289,
    "source_hash": "9ce59142",
    "tags": []
   },
   "outputs": [],
   "source": [
    "write.csv(df, './data/shotdata2023.csv')"
   ]
  },
  {
   "cell_type": "markdown",
   "metadata": {
    "cell_id": "26c2e9b36a7246019c5edb10305592fa",
    "deepnote_cell_height": 62,
    "deepnote_cell_type": "markdown",
    "tags": []
   },
   "source": [
    "### Preprocessing"
   ]
  },
  {
   "cell_type": "code",
   "execution_count": 6,
   "metadata": {
    "cell_id": "fc2905a69d4a45e79e51c309e884bf46",
    "deepnote_cell_height": 76,
    "deepnote_cell_type": "code",
    "deepnote_to_be_reexecuted": false,
    "execution_millis": 12,
    "execution_start": 1660055382978,
    "source_hash": "fd3f1f31",
    "tags": []
   },
   "outputs": [],
   "source": [
    "source('./scripts/preprocess.R') # preprocessing steps from the paper"
   ]
  },
  {
   "cell_type": "code",
   "execution_count": 7,
   "metadata": {
    "cell_id": "bbfb3647fc794b7088f3c45bde26219e",
    "deepnote_cell_height": 387,
    "deepnote_cell_type": "code",
    "deepnote_output_heights": [
     277
    ],
    "deepnote_to_be_reexecuted": false,
    "execution_millis": 1024,
    "execution_start": 1660055383273,
    "source_hash": "ac414a71",
    "tags": []
   },
   "outputs": [
    {
     "data": {
      "text/html": [
       "<table class=\"dataframe\">\n",
       "<caption>A data.frame: 6 × 8</caption>\n",
       "<thead>\n",
       "\t<tr><th></th><th scope=col>status</th><th scope=col>minute</th><th scope=col>h_a</th><th scope=col>situation</th><th scope=col>shotType</th><th scope=col>lastAction</th><th scope=col>distanceToGoal</th><th scope=col>angleToGoal</th></tr>\n",
       "\t<tr><th></th><th scope=col>&lt;dbl&gt;</th><th scope=col>&lt;dbl&gt;</th><th scope=col>&lt;fct&gt;</th><th scope=col>&lt;fct&gt;</th><th scope=col>&lt;fct&gt;</th><th scope=col>&lt;fct&gt;</th><th scope=col>&lt;dbl&gt;</th><th scope=col>&lt;dbl&gt;</th></tr>\n",
       "</thead>\n",
       "<tbody>\n",
       "\t<tr><th scope=row>1</th><td>0</td><td> 0</td><td>h</td><td>OpenPlay</td><td>RightFoot</td><td>Pass </td><td>13.506088</td><td>29.02087</td></tr>\n",
       "\t<tr><th scope=row>2</th><td>1</td><td> 8</td><td>h</td><td>OpenPlay</td><td>Head     </td><td>Cross</td><td> 8.395523</td><td>29.48606</td></tr>\n",
       "\t<tr><th scope=row>3</th><td>0</td><td>20</td><td>h</td><td>OpenPlay</td><td>RightFoot</td><td>None </td><td>26.659276</td><td>15.58172</td></tr>\n",
       "\t<tr><th scope=row>4</th><td>0</td><td>21</td><td>h</td><td>OpenPlay</td><td>RightFoot</td><td>Pass </td><td>23.536532</td><td>16.62475</td></tr>\n",
       "\t<tr><th scope=row>5</th><td>0</td><td>26</td><td>h</td><td>OpenPlay</td><td>LeftFoot </td><td>Pass </td><td>26.707659</td><td>14.94127</td></tr>\n",
       "\t<tr><th scope=row>6</th><td>0</td><td>45</td><td>h</td><td>SetPiece</td><td>RightFoot</td><td>Pass </td><td>30.555083</td><td>13.66107</td></tr>\n",
       "</tbody>\n",
       "</table>\n"
      ],
      "text/latex": [
       "A data.frame: 6 × 8\n",
       "\\begin{tabular}{r|llllllll}\n",
       "  & status & minute & h\\_a & situation & shotType & lastAction & distanceToGoal & angleToGoal\\\\\n",
       "  & <dbl> & <dbl> & <fct> & <fct> & <fct> & <fct> & <dbl> & <dbl>\\\\\n",
       "\\hline\n",
       "\t1 & 0 &  0 & h & OpenPlay & RightFoot & Pass  & 13.506088 & 29.02087\\\\\n",
       "\t2 & 1 &  8 & h & OpenPlay & Head      & Cross &  8.395523 & 29.48606\\\\\n",
       "\t3 & 0 & 20 & h & OpenPlay & RightFoot & None  & 26.659276 & 15.58172\\\\\n",
       "\t4 & 0 & 21 & h & OpenPlay & RightFoot & Pass  & 23.536532 & 16.62475\\\\\n",
       "\t5 & 0 & 26 & h & OpenPlay & LeftFoot  & Pass  & 26.707659 & 14.94127\\\\\n",
       "\t6 & 0 & 45 & h & SetPiece & RightFoot & Pass  & 30.555083 & 13.66107\\\\\n",
       "\\end{tabular}\n"
      ],
      "text/markdown": [
       "\n",
       "A data.frame: 6 × 8\n",
       "\n",
       "| <!--/--> | status &lt;dbl&gt; | minute &lt;dbl&gt; | h_a &lt;fct&gt; | situation &lt;fct&gt; | shotType &lt;fct&gt; | lastAction &lt;fct&gt; | distanceToGoal &lt;dbl&gt; | angleToGoal &lt;dbl&gt; |\n",
       "|---|---|---|---|---|---|---|---|---|\n",
       "| 1 | 0 |  0 | h | OpenPlay | RightFoot | Pass  | 13.506088 | 29.02087 |\n",
       "| 2 | 1 |  8 | h | OpenPlay | Head      | Cross |  8.395523 | 29.48606 |\n",
       "| 3 | 0 | 20 | h | OpenPlay | RightFoot | None  | 26.659276 | 15.58172 |\n",
       "| 4 | 0 | 21 | h | OpenPlay | RightFoot | Pass  | 23.536532 | 16.62475 |\n",
       "| 5 | 0 | 26 | h | OpenPlay | LeftFoot  | Pass  | 26.707659 | 14.94127 |\n",
       "| 6 | 0 | 45 | h | SetPiece | RightFoot | Pass  | 30.555083 | 13.66107 |\n",
       "\n"
      ],
      "text/plain": [
       "  status minute h_a situation shotType  lastAction distanceToGoal angleToGoal\n",
       "1 0       0     h   OpenPlay  RightFoot Pass       13.506088      29.02087   \n",
       "2 1       8     h   OpenPlay  Head      Cross       8.395523      29.48606   \n",
       "3 0      20     h   OpenPlay  RightFoot None       26.659276      15.58172   \n",
       "4 0      21     h   OpenPlay  RightFoot Pass       23.536532      16.62475   \n",
       "5 0      26     h   OpenPlay  LeftFoot  Pass       26.707659      14.94127   \n",
       "6 0      45     h   SetPiece  RightFoot Pass       30.555083      13.66107   "
      ]
     },
     "metadata": {},
     "output_type": "display_data"
    }
   ],
   "source": [
    "df_preprocessed <- preprocess(df)\n",
    "head(df_preprocessed)"
   ]
  },
  {
   "cell_type": "code",
   "execution_count": 8,
   "metadata": {},
   "outputs": [],
   "source": [
    "df_preprocessed_1 <- df_preprocessed"
   ]
  },
  {
   "cell_type": "code",
   "execution_count": 9,
   "metadata": {},
   "outputs": [],
   "source": [
    "levels_vector <- readRDS(file = \"./data/level_vector.RDS\")"
   ]
  },
  {
   "cell_type": "code",
   "execution_count": 10,
   "metadata": {},
   "outputs": [
    {
     "data": {
      "text/html": [
       "<dl>\n",
       "\t<dt>$h_a</dt>\n",
       "\t\t<dd><style>\n",
       ".list-inline {list-style: none; margin:0; padding: 0}\n",
       ".list-inline>li {display: inline-block}\n",
       ".list-inline>li:not(:last-child)::after {content: \"\\00b7\"; padding: 0 .5ex}\n",
       "</style>\n",
       "<ol class=list-inline><li>'a'</li><li>'h'</li></ol>\n",
       "</dd>\n",
       "\t<dt>$situation</dt>\n",
       "\t\t<dd><style>\n",
       ".list-inline {list-style: none; margin:0; padding: 0}\n",
       ".list-inline>li {display: inline-block}\n",
       ".list-inline>li:not(:last-child)::after {content: \"\\00b7\"; padding: 0 .5ex}\n",
       "</style>\n",
       "<ol class=list-inline><li>'DirectFreekick'</li><li>'FromCorner'</li><li>'OpenPlay'</li><li>'Penalty'</li><li>'SetPiece'</li></ol>\n",
       "</dd>\n",
       "\t<dt>$shotType</dt>\n",
       "\t\t<dd><style>\n",
       ".list-inline {list-style: none; margin:0; padding: 0}\n",
       ".list-inline>li {display: inline-block}\n",
       ".list-inline>li:not(:last-child)::after {content: \"\\00b7\"; padding: 0 .5ex}\n",
       "</style>\n",
       "<ol class=list-inline><li>'Head'</li><li>'LeftFoot'</li><li>'OtherBodyPart'</li><li>'RightFoot'</li></ol>\n",
       "</dd>\n",
       "\t<dt>$lastAction</dt>\n",
       "\t\t<dd><style>\n",
       ".list-inline {list-style: none; margin:0; padding: 0}\n",
       ".list-inline>li {display: inline-block}\n",
       ".list-inline>li:not(:last-child)::after {content: \"\\00b7\"; padding: 0 .5ex}\n",
       "</style>\n",
       "<ol class=list-inline><li>'Aerial'</li><li>'BallRecovery'</li><li>'BallTouch'</li><li>'BlockedPass'</li><li>'Card'</li><li>'Challenge'</li><li>'ChanceMissed'</li><li>'Chipped'</li><li>'Clearance'</li><li>'CornerAwarded'</li><li>'Cross'</li><li>'Dispossessed'</li><li>'End'</li><li>'Error'</li><li>'FormationChange'</li><li>'Foul'</li><li>'Goal'</li><li>'GoodSkill'</li><li>'HeadPass'</li><li>'Interception'</li><li>'KeeperPickup'</li><li>'KeeperSweeper'</li><li>'LayOff'</li><li>'None'</li><li>'OffsidePass'</li><li>'OffsideProvoked'</li><li>'Pass'</li><li>'Punch'</li><li>'Rebound'</li><li>'Save'</li><li>'ShieldBallOpp'</li><li>'Smother'</li><li>'Standard'</li><li>'Start'</li><li>'SubstitutionOff'</li><li>'SubstitutionOn'</li><li>'Tackle'</li><li>'TakeOn'</li><li>'Throughball'</li></ol>\n",
       "</dd>\n",
       "</dl>\n"
      ],
      "text/latex": [
       "\\begin{description}\n",
       "\\item[\\$h\\_a] \\begin{enumerate*}\n",
       "\\item 'a'\n",
       "\\item 'h'\n",
       "\\end{enumerate*}\n",
       "\n",
       "\\item[\\$situation] \\begin{enumerate*}\n",
       "\\item 'DirectFreekick'\n",
       "\\item 'FromCorner'\n",
       "\\item 'OpenPlay'\n",
       "\\item 'Penalty'\n",
       "\\item 'SetPiece'\n",
       "\\end{enumerate*}\n",
       "\n",
       "\\item[\\$shotType] \\begin{enumerate*}\n",
       "\\item 'Head'\n",
       "\\item 'LeftFoot'\n",
       "\\item 'OtherBodyPart'\n",
       "\\item 'RightFoot'\n",
       "\\end{enumerate*}\n",
       "\n",
       "\\item[\\$lastAction] \\begin{enumerate*}\n",
       "\\item 'Aerial'\n",
       "\\item 'BallRecovery'\n",
       "\\item 'BallTouch'\n",
       "\\item 'BlockedPass'\n",
       "\\item 'Card'\n",
       "\\item 'Challenge'\n",
       "\\item 'ChanceMissed'\n",
       "\\item 'Chipped'\n",
       "\\item 'Clearance'\n",
       "\\item 'CornerAwarded'\n",
       "\\item 'Cross'\n",
       "\\item 'Dispossessed'\n",
       "\\item 'End'\n",
       "\\item 'Error'\n",
       "\\item 'FormationChange'\n",
       "\\item 'Foul'\n",
       "\\item 'Goal'\n",
       "\\item 'GoodSkill'\n",
       "\\item 'HeadPass'\n",
       "\\item 'Interception'\n",
       "\\item 'KeeperPickup'\n",
       "\\item 'KeeperSweeper'\n",
       "\\item 'LayOff'\n",
       "\\item 'None'\n",
       "\\item 'OffsidePass'\n",
       "\\item 'OffsideProvoked'\n",
       "\\item 'Pass'\n",
       "\\item 'Punch'\n",
       "\\item 'Rebound'\n",
       "\\item 'Save'\n",
       "\\item 'ShieldBallOpp'\n",
       "\\item 'Smother'\n",
       "\\item 'Standard'\n",
       "\\item 'Start'\n",
       "\\item 'SubstitutionOff'\n",
       "\\item 'SubstitutionOn'\n",
       "\\item 'Tackle'\n",
       "\\item 'TakeOn'\n",
       "\\item 'Throughball'\n",
       "\\end{enumerate*}\n",
       "\n",
       "\\end{description}\n"
      ],
      "text/markdown": [
       "$h_a\n",
       ":   1. 'a'\n",
       "2. 'h'\n",
       "\n",
       "\n",
       "\n",
       "$situation\n",
       ":   1. 'DirectFreekick'\n",
       "2. 'FromCorner'\n",
       "3. 'OpenPlay'\n",
       "4. 'Penalty'\n",
       "5. 'SetPiece'\n",
       "\n",
       "\n",
       "\n",
       "$shotType\n",
       ":   1. 'Head'\n",
       "2. 'LeftFoot'\n",
       "3. 'OtherBodyPart'\n",
       "4. 'RightFoot'\n",
       "\n",
       "\n",
       "\n",
       "$lastAction\n",
       ":   1. 'Aerial'\n",
       "2. 'BallRecovery'\n",
       "3. 'BallTouch'\n",
       "4. 'BlockedPass'\n",
       "5. 'Card'\n",
       "6. 'Challenge'\n",
       "7. 'ChanceMissed'\n",
       "8. 'Chipped'\n",
       "9. 'Clearance'\n",
       "10. 'CornerAwarded'\n",
       "11. 'Cross'\n",
       "12. 'Dispossessed'\n",
       "13. 'End'\n",
       "14. 'Error'\n",
       "15. 'FormationChange'\n",
       "16. 'Foul'\n",
       "17. 'Goal'\n",
       "18. 'GoodSkill'\n",
       "19. 'HeadPass'\n",
       "20. 'Interception'\n",
       "21. 'KeeperPickup'\n",
       "22. 'KeeperSweeper'\n",
       "23. 'LayOff'\n",
       "24. 'None'\n",
       "25. 'OffsidePass'\n",
       "26. 'OffsideProvoked'\n",
       "27. 'Pass'\n",
       "28. 'Punch'\n",
       "29. 'Rebound'\n",
       "30. 'Save'\n",
       "31. 'ShieldBallOpp'\n",
       "32. 'Smother'\n",
       "33. 'Standard'\n",
       "34. 'Start'\n",
       "35. 'SubstitutionOff'\n",
       "36. 'SubstitutionOn'\n",
       "37. 'Tackle'\n",
       "38. 'TakeOn'\n",
       "39. 'Throughball'\n",
       "\n",
       "\n",
       "\n",
       "\n",
       "\n"
      ],
      "text/plain": [
       "$h_a\n",
       "[1] \"a\" \"h\"\n",
       "\n",
       "$situation\n",
       "[1] \"DirectFreekick\" \"FromCorner\"     \"OpenPlay\"       \"Penalty\"       \n",
       "[5] \"SetPiece\"      \n",
       "\n",
       "$shotType\n",
       "[1] \"Head\"          \"LeftFoot\"      \"OtherBodyPart\" \"RightFoot\"    \n",
       "\n",
       "$lastAction\n",
       " [1] \"Aerial\"          \"BallRecovery\"    \"BallTouch\"       \"BlockedPass\"    \n",
       " [5] \"Card\"            \"Challenge\"       \"ChanceMissed\"    \"Chipped\"        \n",
       " [9] \"Clearance\"       \"CornerAwarded\"   \"Cross\"           \"Dispossessed\"   \n",
       "[13] \"End\"             \"Error\"           \"FormationChange\" \"Foul\"           \n",
       "[17] \"Goal\"            \"GoodSkill\"       \"HeadPass\"        \"Interception\"   \n",
       "[21] \"KeeperPickup\"    \"KeeperSweeper\"   \"LayOff\"          \"None\"           \n",
       "[25] \"OffsidePass\"     \"OffsideProvoked\" \"Pass\"            \"Punch\"          \n",
       "[29] \"Rebound\"         \"Save\"            \"ShieldBallOpp\"   \"Smother\"        \n",
       "[33] \"Standard\"        \"Start\"           \"SubstitutionOff\" \"SubstitutionOn\" \n",
       "[37] \"Tackle\"          \"TakeOn\"          \"Throughball\"    \n"
      ]
     },
     "metadata": {},
     "output_type": "display_data"
    }
   ],
   "source": [
    "levels_vector"
   ]
  },
  {
   "cell_type": "code",
   "execution_count": null,
   "metadata": {},
   "outputs": [],
   "source": []
  },
  {
   "cell_type": "code",
   "execution_count": 11,
   "metadata": {},
   "outputs": [],
   "source": [
    "factor_cols <- unlist(lapply(df_preprocessed_1, is.factor))\n",
    "factor_cols <- names(factor_cols[factor_cols == TRUE])"
   ]
  },
  {
   "cell_type": "code",
   "execution_count": 12,
   "metadata": {},
   "outputs": [],
   "source": [
    "for (col in factor_cols){\n",
    "    df_preprocessed_1[,col] <- factor(df_preprocessed_1[,col], unlist(levels_vector[col], use.names = FALSE))\n",
    "    df_preprocessed_1[,col] <- as.integer(df_preprocessed_1[,col])\n",
    "}"
   ]
  },
  {
   "cell_type": "code",
   "execution_count": 13,
   "metadata": {},
   "outputs": [
    {
     "data": {
      "text/html": [
       "<table class=\"dataframe\">\n",
       "<caption>A data.frame: 6 × 8</caption>\n",
       "<thead>\n",
       "\t<tr><th></th><th scope=col>status</th><th scope=col>minute</th><th scope=col>h_a</th><th scope=col>situation</th><th scope=col>shotType</th><th scope=col>lastAction</th><th scope=col>distanceToGoal</th><th scope=col>angleToGoal</th></tr>\n",
       "\t<tr><th></th><th scope=col>&lt;dbl&gt;</th><th scope=col>&lt;dbl&gt;</th><th scope=col>&lt;int&gt;</th><th scope=col>&lt;int&gt;</th><th scope=col>&lt;int&gt;</th><th scope=col>&lt;int&gt;</th><th scope=col>&lt;dbl&gt;</th><th scope=col>&lt;dbl&gt;</th></tr>\n",
       "</thead>\n",
       "<tbody>\n",
       "\t<tr><th scope=row>1</th><td>0</td><td> 0</td><td>2</td><td>3</td><td>4</td><td>27</td><td>13.506088</td><td>29.02087</td></tr>\n",
       "\t<tr><th scope=row>2</th><td>1</td><td> 8</td><td>2</td><td>3</td><td>1</td><td>11</td><td> 8.395523</td><td>29.48606</td></tr>\n",
       "\t<tr><th scope=row>3</th><td>0</td><td>20</td><td>2</td><td>3</td><td>4</td><td>24</td><td>26.659276</td><td>15.58172</td></tr>\n",
       "\t<tr><th scope=row>4</th><td>0</td><td>21</td><td>2</td><td>3</td><td>4</td><td>27</td><td>23.536532</td><td>16.62475</td></tr>\n",
       "\t<tr><th scope=row>5</th><td>0</td><td>26</td><td>2</td><td>3</td><td>2</td><td>27</td><td>26.707659</td><td>14.94127</td></tr>\n",
       "\t<tr><th scope=row>6</th><td>0</td><td>45</td><td>2</td><td>5</td><td>4</td><td>27</td><td>30.555083</td><td>13.66107</td></tr>\n",
       "</tbody>\n",
       "</table>\n"
      ],
      "text/latex": [
       "A data.frame: 6 × 8\n",
       "\\begin{tabular}{r|llllllll}\n",
       "  & status & minute & h\\_a & situation & shotType & lastAction & distanceToGoal & angleToGoal\\\\\n",
       "  & <dbl> & <dbl> & <int> & <int> & <int> & <int> & <dbl> & <dbl>\\\\\n",
       "\\hline\n",
       "\t1 & 0 &  0 & 2 & 3 & 4 & 27 & 13.506088 & 29.02087\\\\\n",
       "\t2 & 1 &  8 & 2 & 3 & 1 & 11 &  8.395523 & 29.48606\\\\\n",
       "\t3 & 0 & 20 & 2 & 3 & 4 & 24 & 26.659276 & 15.58172\\\\\n",
       "\t4 & 0 & 21 & 2 & 3 & 4 & 27 & 23.536532 & 16.62475\\\\\n",
       "\t5 & 0 & 26 & 2 & 3 & 2 & 27 & 26.707659 & 14.94127\\\\\n",
       "\t6 & 0 & 45 & 2 & 5 & 4 & 27 & 30.555083 & 13.66107\\\\\n",
       "\\end{tabular}\n"
      ],
      "text/markdown": [
       "\n",
       "A data.frame: 6 × 8\n",
       "\n",
       "| <!--/--> | status &lt;dbl&gt; | minute &lt;dbl&gt; | h_a &lt;int&gt; | situation &lt;int&gt; | shotType &lt;int&gt; | lastAction &lt;int&gt; | distanceToGoal &lt;dbl&gt; | angleToGoal &lt;dbl&gt; |\n",
       "|---|---|---|---|---|---|---|---|---|\n",
       "| 1 | 0 |  0 | 2 | 3 | 4 | 27 | 13.506088 | 29.02087 |\n",
       "| 2 | 1 |  8 | 2 | 3 | 1 | 11 |  8.395523 | 29.48606 |\n",
       "| 3 | 0 | 20 | 2 | 3 | 4 | 24 | 26.659276 | 15.58172 |\n",
       "| 4 | 0 | 21 | 2 | 3 | 4 | 27 | 23.536532 | 16.62475 |\n",
       "| 5 | 0 | 26 | 2 | 3 | 2 | 27 | 26.707659 | 14.94127 |\n",
       "| 6 | 0 | 45 | 2 | 5 | 4 | 27 | 30.555083 | 13.66107 |\n",
       "\n"
      ],
      "text/plain": [
       "  status minute h_a situation shotType lastAction distanceToGoal angleToGoal\n",
       "1 0       0     2   3         4        27         13.506088      29.02087   \n",
       "2 1       8     2   3         1        11          8.395523      29.48606   \n",
       "3 0      20     2   3         4        24         26.659276      15.58172   \n",
       "4 0      21     2   3         4        27         23.536532      16.62475   \n",
       "5 0      26     2   3         2        27         26.707659      14.94127   \n",
       "6 0      45     2   5         4        27         30.555083      13.66107   "
      ]
     },
     "metadata": {},
     "output_type": "display_data"
    }
   ],
   "source": [
    "head(df_preprocessed_1)"
   ]
  },
  {
   "cell_type": "code",
   "execution_count": 14,
   "metadata": {
    "cell_id": "af4ba3236e574e939d0f24170af45496",
    "deepnote_cell_height": 76,
    "deepnote_cell_type": "code",
    "deepnote_to_be_reexecuted": false,
    "execution_millis": 2688,
    "execution_start": 1660055599277,
    "source_hash": "a7dbb1c9",
    "tags": []
   },
   "outputs": [],
   "source": [
    "write.csv(df_preprocessed_1, './data/shotdata2023_preprocessed.csv')"
   ]
  },
  {
   "cell_type": "code",
   "execution_count": null,
   "metadata": {
    "cell_id": "ad74f5a38e95463bb341526ce79f9c80",
    "deepnote_cell_height": 61,
    "deepnote_cell_type": "code",
    "tags": []
   },
   "outputs": [],
   "source": []
  }
 ],
 "metadata": {
  "deepnote": {},
  "deepnote_execution_queue": [],
  "deepnote_notebook_id": "ea0e18f1-f455-4ff8-9b27-22c0ebe19dc1",
  "kernelspec": {
   "display_name": "R",
   "language": "R",
   "name": "ir"
  },
  "language_info": {
   "codemirror_mode": "r",
   "file_extension": ".r",
   "mimetype": "text/x-r-source",
   "name": "R",
   "pygments_lexer": "r",
   "version": "4.2.0"
  }
 },
 "nbformat": 4,
 "nbformat_minor": 4
}
